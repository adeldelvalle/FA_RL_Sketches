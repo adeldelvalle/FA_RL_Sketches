{
 "cells": [
  {
   "cell_type": "code",
   "execution_count": null,
   "id": "initial_id",
   "metadata": {
    "collapsed": true
   },
   "outputs": [],
   "source": []
  },
  {
   "cell_type": "code",
   "execution_count": null,
   "outputs": [],
   "source": [
    "from table import Table\n",
    "from sketches import Synopsis\n",
    "import correlation\n",
    "from RL_Agent import Autofeature_agent\n",
    "from RL_Environment import ISOFAEnvironment\n",
    "import pandas as pd\n",
    "import numpy as np\n",
    "import sketches\n",
    "import os\n",
    "from tqdm import tqdm\n",
    "\n",
    "\n",
    "\"\"\"\n",
    "data_preprocessing.py & playground.ipynb :: data input → data cleaning → \n",
    "(tbd) table_ingest.py :: table join-plan creation → table cost estimation → add join cost as feature → \n",
    "table.py :: → choose features \n",
    "results.py & playground.ipynb → analysis & visuals\n",
    "\n",
    "\"\"\"\n",
    "\n",
    "\n",
    "gcdata = \"data/gc-data/\"  # data directory\n",
    "joinable = \"Day\"  # feature that is joinable between tables\n",
    "target = \"o3_AQI\"\n",
    "\n",
    "# define core table\n",
    "print(\"Sketching Core Table...\")\n",
    "core_path = gcdata+\"o3_daily_summary.csv\"\n",
    "t_core = Table(joinable, core_path)\n",
    "\n",
    "y_feat = t_core.table[[joinable, target]]\n",
    "t_core.table.drop([target], axis=1, inplace=True)\n",
    "print(t_core.table.shape)\n",
    "\n",
    "t_core.get_sketch()\n",
    "core_syn = sketches.Synopsis(y_feat, attributes=[target], key=joinable) \n",
    "t_core.calc_corr_gain(core_syn)\n",
    "    "
   ],
   "metadata": {
    "collapsed": false,
    "ExecuteTime": {
     "end_time": "2024-05-08T21:26:15.942771Z",
     "start_time": "2024-05-08T21:26:15.942598Z"
    }
   },
   "id": "da95040d80009579"
  },
  {
   "cell_type": "code",
   "execution_count": null,
   "outputs": [],
   "source": [
    "# define candidate tables\n",
    "candidate_paths = [file for file in os.listdir(gcdata) if \"o3_daily\" not in file]\n",
    "t_candidates = []\n",
    "for path in tqdm(candidate_paths):\n",
    "    df = pd.read_csv(path)\n",
    "    print(df.head())"
   ],
   "metadata": {
    "collapsed": false,
    "ExecuteTime": {
     "end_time": "2024-05-08T21:26:15.935475Z",
     "start_time": "2024-05-08T21:26:15.933861Z"
    }
   },
   "id": "d76b470db3234e27"
  },
  {
   "cell_type": "code",
   "execution_count": null,
   "outputs": [],
   "source": [],
   "metadata": {
    "collapsed": false
   },
   "id": "daff20e962210a91"
  }
 ],
 "metadata": {
  "kernelspec": {
   "display_name": "Python 3",
   "language": "python",
   "name": "python3"
  },
  "language_info": {
   "codemirror_mode": {
    "name": "ipython",
    "version": 2
   },
   "file_extension": ".py",
   "mimetype": "text/x-python",
   "name": "python",
   "nbconvert_exporter": "python",
   "pygments_lexer": "ipython2",
   "version": "2.7.6"
  }
 },
 "nbformat": 4,
 "nbformat_minor": 5
}
