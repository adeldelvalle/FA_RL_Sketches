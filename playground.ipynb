{
 "cells": [
  {
   "cell_type": "code",
   "execution_count": 2,
   "metadata": {},
   "outputs": [
    {
     "data": {
      "text/plain": [
       "' Questions:\\nwhy drop month and year from flight activity?\\n'"
      ]
     },
     "execution_count": 2,
     "metadata": {},
     "output_type": "execute_result"
    }
   ],
   "source": [
    "# tester env to better understand the dataflow of main.py\n",
    "import pandas as pd\n",
    "import numpy as np\n",
    "\n",
    "from datetime import datetime\n",
    "from tqdm import tqdm\n",
    "import os\n",
    "\n",
    "# from data_prep import Table\n",
    "# from sketches import Synopsis, Correlation\n",
    "# from RL_Agent import Autofeature_agent\n",
    "# from RL_Environment import ISOFAEnvironment\n",
    "\n",
    "\"\"\" Questions:\n",
    "why drop month and year from flight activity?\n",
    "\"\"\""
   ]
  },
  {
   "cell_type": "markdown",
   "metadata": {},
   "source": [
    "## Basic Attempt at Data Analysis & Cleaning"
   ]
  },
  {
   "cell_type": "code",
   "execution_count": 86,
   "metadata": {},
   "outputs": [
    {
     "data": {
      "text/html": [
       "<div>\n",
       "<style scoped>\n",
       "    .dataframe tbody tr th:only-of-type {\n",
       "        vertical-align: middle;\n",
       "    }\n",
       "\n",
       "    .dataframe tbody tr th {\n",
       "        vertical-align: top;\n",
       "    }\n",
       "\n",
       "    .dataframe thead th {\n",
       "        text-align: right;\n",
       "    }\n",
       "</style>\n",
       "<table border=\"1\" class=\"dataframe\">\n",
       "  <thead>\n",
       "    <tr style=\"text-align: right;\">\n",
       "      <th></th>\n",
       "      <th>Loyalty Number</th>\n",
       "      <th>Year</th>\n",
       "      <th>Month</th>\n",
       "      <th>Total Flights</th>\n",
       "      <th>Distance</th>\n",
       "      <th>Points Accumulated</th>\n",
       "      <th>Points Redeemed</th>\n",
       "      <th>Dollar Cost Points Redeemed</th>\n",
       "    </tr>\n",
       "  </thead>\n",
       "  <tbody>\n",
       "    <tr>\n",
       "      <th>0</th>\n",
       "      <td>100590</td>\n",
       "      <td>2018</td>\n",
       "      <td>6</td>\n",
       "      <td>12</td>\n",
       "      <td>15276</td>\n",
       "      <td>22914.0</td>\n",
       "      <td>0</td>\n",
       "      <td>0</td>\n",
       "    </tr>\n",
       "    <tr>\n",
       "      <th>1</th>\n",
       "      <td>100590</td>\n",
       "      <td>2018</td>\n",
       "      <td>7</td>\n",
       "      <td>12</td>\n",
       "      <td>9168</td>\n",
       "      <td>13752.0</td>\n",
       "      <td>0</td>\n",
       "      <td>0</td>\n",
       "    </tr>\n",
       "    <tr>\n",
       "      <th>2</th>\n",
       "      <td>100590</td>\n",
       "      <td>2018</td>\n",
       "      <td>5</td>\n",
       "      <td>4</td>\n",
       "      <td>6504</td>\n",
       "      <td>9756.0</td>\n",
       "      <td>0</td>\n",
       "      <td>0</td>\n",
       "    </tr>\n",
       "    <tr>\n",
       "      <th>3</th>\n",
       "      <td>100590</td>\n",
       "      <td>2018</td>\n",
       "      <td>10</td>\n",
       "      <td>0</td>\n",
       "      <td>0</td>\n",
       "      <td>0.0</td>\n",
       "      <td>512</td>\n",
       "      <td>92</td>\n",
       "    </tr>\n",
       "    <tr>\n",
       "      <th>4</th>\n",
       "      <td>100590</td>\n",
       "      <td>2018</td>\n",
       "      <td>2</td>\n",
       "      <td>0</td>\n",
       "      <td>0</td>\n",
       "      <td>0.0</td>\n",
       "      <td>0</td>\n",
       "      <td>0</td>\n",
       "    </tr>\n",
       "    <tr>\n",
       "      <th>...</th>\n",
       "      <td>...</td>\n",
       "      <td>...</td>\n",
       "      <td>...</td>\n",
       "      <td>...</td>\n",
       "      <td>...</td>\n",
       "      <td>...</td>\n",
       "      <td>...</td>\n",
       "      <td>...</td>\n",
       "    </tr>\n",
       "    <tr>\n",
       "      <th>392931</th>\n",
       "      <td>999986</td>\n",
       "      <td>2018</td>\n",
       "      <td>4</td>\n",
       "      <td>0</td>\n",
       "      <td>0</td>\n",
       "      <td>0.0</td>\n",
       "      <td>0</td>\n",
       "      <td>0</td>\n",
       "    </tr>\n",
       "    <tr>\n",
       "      <th>392932</th>\n",
       "      <td>999986</td>\n",
       "      <td>2018</td>\n",
       "      <td>5</td>\n",
       "      <td>0</td>\n",
       "      <td>0</td>\n",
       "      <td>0.0</td>\n",
       "      <td>0</td>\n",
       "      <td>0</td>\n",
       "    </tr>\n",
       "    <tr>\n",
       "      <th>392933</th>\n",
       "      <td>999986</td>\n",
       "      <td>2018</td>\n",
       "      <td>6</td>\n",
       "      <td>0</td>\n",
       "      <td>0</td>\n",
       "      <td>0.0</td>\n",
       "      <td>0</td>\n",
       "      <td>0</td>\n",
       "    </tr>\n",
       "    <tr>\n",
       "      <th>392934</th>\n",
       "      <td>999986</td>\n",
       "      <td>2018</td>\n",
       "      <td>9</td>\n",
       "      <td>0</td>\n",
       "      <td>0</td>\n",
       "      <td>0.0</td>\n",
       "      <td>0</td>\n",
       "      <td>0</td>\n",
       "    </tr>\n",
       "    <tr>\n",
       "      <th>392935</th>\n",
       "      <td>999986</td>\n",
       "      <td>2018</td>\n",
       "      <td>12</td>\n",
       "      <td>0</td>\n",
       "      <td>0</td>\n",
       "      <td>0.0</td>\n",
       "      <td>0</td>\n",
       "      <td>0</td>\n",
       "    </tr>\n",
       "  </tbody>\n",
       "</table>\n",
       "<p>392936 rows × 8 columns</p>\n",
       "</div>"
      ],
      "text/plain": [
       "        Loyalty Number  Year  Month  Total Flights  Distance  \\\n",
       "0               100590  2018      6             12     15276   \n",
       "1               100590  2018      7             12      9168   \n",
       "2               100590  2018      5              4      6504   \n",
       "3               100590  2018     10              0         0   \n",
       "4               100590  2018      2              0         0   \n",
       "...                ...   ...    ...            ...       ...   \n",
       "392931          999986  2018      4              0         0   \n",
       "392932          999986  2018      5              0         0   \n",
       "392933          999986  2018      6              0         0   \n",
       "392934          999986  2018      9              0         0   \n",
       "392935          999986  2018     12              0         0   \n",
       "\n",
       "        Points Accumulated  Points Redeemed  Dollar Cost Points Redeemed  \n",
       "0                  22914.0                0                            0  \n",
       "1                  13752.0                0                            0  \n",
       "2                   9756.0                0                            0  \n",
       "3                      0.0              512                           92  \n",
       "4                      0.0                0                            0  \n",
       "...                    ...              ...                          ...  \n",
       "392931                 0.0                0                            0  \n",
       "392932                 0.0                0                            0  \n",
       "392933                 0.0                0                            0  \n",
       "392934                 0.0                0                            0  \n",
       "392935                 0.0                0                            0  \n",
       "\n",
       "[392936 rows x 8 columns]"
      ]
     },
     "execution_count": 86,
     "metadata": {},
     "output_type": "execute_result"
    }
   ],
   "source": [
    "paths = [\"data/Customer Flight Activity.csv\", \"data/Customer Loyalty History.csv\"]\n",
    "df = pd.read_csv(paths[0])\n",
    "df"
   ]
  },
  {
   "cell_type": "code",
   "execution_count": 87,
   "metadata": {},
   "outputs": [
    {
     "data": {
      "text/html": [
       "<div>\n",
       "<style scoped>\n",
       "    .dataframe tbody tr th:only-of-type {\n",
       "        vertical-align: middle;\n",
       "    }\n",
       "\n",
       "    .dataframe tbody tr th {\n",
       "        vertical-align: top;\n",
       "    }\n",
       "\n",
       "    .dataframe thead th {\n",
       "        text-align: right;\n",
       "    }\n",
       "</style>\n",
       "<table border=\"1\" class=\"dataframe\">\n",
       "  <thead>\n",
       "    <tr style=\"text-align: right;\">\n",
       "      <th></th>\n",
       "      <th>Loyalty Number</th>\n",
       "      <th>Year</th>\n",
       "      <th>Month</th>\n",
       "      <th>Total Flights</th>\n",
       "      <th>Distance</th>\n",
       "      <th>Points Accumulated</th>\n",
       "      <th>Points Redeemed</th>\n",
       "      <th>Dollar Cost Points Redeemed</th>\n",
       "    </tr>\n",
       "  </thead>\n",
       "  <tbody>\n",
       "    <tr>\n",
       "      <th>count</th>\n",
       "      <td>392936.000000</td>\n",
       "      <td>392936.000000</td>\n",
       "      <td>392936.000000</td>\n",
       "      <td>392936.000000</td>\n",
       "      <td>392936.000000</td>\n",
       "      <td>392936.000000</td>\n",
       "      <td>392936.000000</td>\n",
       "      <td>392936.000000</td>\n",
       "    </tr>\n",
       "    <tr>\n",
       "      <th>mean</th>\n",
       "      <td>550527.519034</td>\n",
       "      <td>2017.513661</td>\n",
       "      <td>6.513661</td>\n",
       "      <td>1.294888</td>\n",
       "      <td>1941.440201</td>\n",
       "      <td>2027.172345</td>\n",
       "      <td>31.304263</td>\n",
       "      <td>5.635661</td>\n",
       "    </tr>\n",
       "    <tr>\n",
       "      <th>std</th>\n",
       "      <td>258604.580187</td>\n",
       "      <td>0.499814</td>\n",
       "      <td>3.445428</td>\n",
       "      <td>1.962675</td>\n",
       "      <td>3239.975889</td>\n",
       "      <td>3872.139841</td>\n",
       "      <td>126.653775</td>\n",
       "      <td>22.801167</td>\n",
       "    </tr>\n",
       "    <tr>\n",
       "      <th>min</th>\n",
       "      <td>100018.000000</td>\n",
       "      <td>2017.000000</td>\n",
       "      <td>1.000000</td>\n",
       "      <td>0.000000</td>\n",
       "      <td>0.000000</td>\n",
       "      <td>0.000000</td>\n",
       "      <td>0.000000</td>\n",
       "      <td>0.000000</td>\n",
       "    </tr>\n",
       "    <tr>\n",
       "      <th>25%</th>\n",
       "      <td>327688.000000</td>\n",
       "      <td>2017.000000</td>\n",
       "      <td>4.000000</td>\n",
       "      <td>0.000000</td>\n",
       "      <td>0.000000</td>\n",
       "      <td>0.000000</td>\n",
       "      <td>0.000000</td>\n",
       "      <td>0.000000</td>\n",
       "    </tr>\n",
       "    <tr>\n",
       "      <th>50%</th>\n",
       "      <td>551833.000000</td>\n",
       "      <td>2018.000000</td>\n",
       "      <td>7.000000</td>\n",
       "      <td>0.000000</td>\n",
       "      <td>0.000000</td>\n",
       "      <td>0.000000</td>\n",
       "      <td>0.000000</td>\n",
       "      <td>0.000000</td>\n",
       "    </tr>\n",
       "    <tr>\n",
       "      <th>75%</th>\n",
       "      <td>772194.000000</td>\n",
       "      <td>2018.000000</td>\n",
       "      <td>10.000000</td>\n",
       "      <td>2.000000</td>\n",
       "      <td>3018.000000</td>\n",
       "      <td>3039.000000</td>\n",
       "      <td>0.000000</td>\n",
       "      <td>0.000000</td>\n",
       "    </tr>\n",
       "    <tr>\n",
       "      <th>max</th>\n",
       "      <td>999986.000000</td>\n",
       "      <td>2018.000000</td>\n",
       "      <td>12.000000</td>\n",
       "      <td>28.000000</td>\n",
       "      <td>67284.000000</td>\n",
       "      <td>100926.000000</td>\n",
       "      <td>876.000000</td>\n",
       "      <td>158.000000</td>\n",
       "    </tr>\n",
       "  </tbody>\n",
       "</table>\n",
       "</div>"
      ],
      "text/plain": [
       "       Loyalty Number           Year          Month  Total Flights  \\\n",
       "count   392936.000000  392936.000000  392936.000000  392936.000000   \n",
       "mean    550527.519034    2017.513661       6.513661       1.294888   \n",
       "std     258604.580187       0.499814       3.445428       1.962675   \n",
       "min     100018.000000    2017.000000       1.000000       0.000000   \n",
       "25%     327688.000000    2017.000000       4.000000       0.000000   \n",
       "50%     551833.000000    2018.000000       7.000000       0.000000   \n",
       "75%     772194.000000    2018.000000      10.000000       2.000000   \n",
       "max     999986.000000    2018.000000      12.000000      28.000000   \n",
       "\n",
       "            Distance  Points Accumulated  Points Redeemed  \\\n",
       "count  392936.000000       392936.000000    392936.000000   \n",
       "mean     1941.440201         2027.172345        31.304263   \n",
       "std      3239.975889         3872.139841       126.653775   \n",
       "min         0.000000            0.000000         0.000000   \n",
       "25%         0.000000            0.000000         0.000000   \n",
       "50%         0.000000            0.000000         0.000000   \n",
       "75%      3018.000000         3039.000000         0.000000   \n",
       "max     67284.000000       100926.000000       876.000000   \n",
       "\n",
       "       Dollar Cost Points Redeemed  \n",
       "count                392936.000000  \n",
       "mean                      5.635661  \n",
       "std                      22.801167  \n",
       "min                       0.000000  \n",
       "25%                       0.000000  \n",
       "50%                       0.000000  \n",
       "75%                       0.000000  \n",
       "max                     158.000000  "
      ]
     },
     "execution_count": 87,
     "metadata": {},
     "output_type": "execute_result"
    }
   ],
   "source": [
    "df.describe()"
   ]
  },
  {
   "cell_type": "code",
   "execution_count": 88,
   "metadata": {},
   "outputs": [
    {
     "name": "stderr",
     "output_type": "stream",
     "text": [
      "21164it [00:01, 16384.22it/s]\n"
     ]
    },
    {
     "ename": "KeyboardInterrupt",
     "evalue": "",
     "output_type": "error",
     "traceback": [
      "\u001b[0;31m---------------------------------------------------------------------------\u001b[0m",
      "\u001b[0;31mKeyboardInterrupt\u001b[0m                         Traceback (most recent call last)",
      "Input \u001b[0;32mIn [88]\u001b[0m, in \u001b[0;36m<cell line: 3>\u001b[0;34m()\u001b[0m\n\u001b[1;32m      1\u001b[0m \u001b[38;5;66;03m# GENERATING TIME SCALE\u001b[39;00m\n\u001b[1;32m      2\u001b[0m mf2017 \u001b[38;5;241m=\u001b[39m []  \u001b[38;5;66;03m# number of months from 2017\u001b[39;00m\n\u001b[0;32m----> 3\u001b[0m \u001b[38;5;28;01mfor\u001b[39;00m i, row \u001b[38;5;129;01min\u001b[39;00m tqdm(df\u001b[38;5;241m.\u001b[39miterrows()):\n\u001b[1;32m      4\u001b[0m     diff \u001b[38;5;241m=\u001b[39m \u001b[38;5;28mint\u001b[39m(row[\u001b[38;5;124m\"\u001b[39m\u001b[38;5;124mYear\u001b[39m\u001b[38;5;124m\"\u001b[39m]) \u001b[38;5;241m-\u001b[39m \u001b[38;5;241m2017\u001b[39m\n\u001b[1;32m      5\u001b[0m     num \u001b[38;5;241m=\u001b[39m diff\u001b[38;5;241m*\u001b[39m\u001b[38;5;241m12\u001b[39m \u001b[38;5;241m+\u001b[39m \u001b[38;5;28mint\u001b[39m(row[\u001b[38;5;124m\"\u001b[39m\u001b[38;5;124mMonth\u001b[39m\u001b[38;5;124m\"\u001b[39m])\n",
      "File \u001b[0;32m~/opt/anaconda3/lib/python3.9/site-packages/tqdm/std.py:1195\u001b[0m, in \u001b[0;36mtqdm.__iter__\u001b[0;34m(self)\u001b[0m\n\u001b[1;32m   1192\u001b[0m time \u001b[38;5;241m=\u001b[39m \u001b[38;5;28mself\u001b[39m\u001b[38;5;241m.\u001b[39m_time\n\u001b[1;32m   1194\u001b[0m \u001b[38;5;28;01mtry\u001b[39;00m:\n\u001b[0;32m-> 1195\u001b[0m     \u001b[38;5;28;01mfor\u001b[39;00m obj \u001b[38;5;129;01min\u001b[39;00m iterable:\n\u001b[1;32m   1196\u001b[0m         \u001b[38;5;28;01myield\u001b[39;00m obj\n\u001b[1;32m   1197\u001b[0m         \u001b[38;5;66;03m# Update and possibly print the progressbar.\u001b[39;00m\n\u001b[1;32m   1198\u001b[0m         \u001b[38;5;66;03m# Note: does not call self.update(1) for speed optimisation.\u001b[39;00m\n",
      "File \u001b[0;32m~/opt/anaconda3/lib/python3.9/site-packages/pandas/core/frame.py:1324\u001b[0m, in \u001b[0;36mDataFrame.iterrows\u001b[0;34m(self)\u001b[0m\n\u001b[1;32m   1322\u001b[0m klass \u001b[38;5;241m=\u001b[39m \u001b[38;5;28mself\u001b[39m\u001b[38;5;241m.\u001b[39m_constructor_sliced\n\u001b[1;32m   1323\u001b[0m \u001b[38;5;28;01mfor\u001b[39;00m k, v \u001b[38;5;129;01min\u001b[39;00m \u001b[38;5;28mzip\u001b[39m(\u001b[38;5;28mself\u001b[39m\u001b[38;5;241m.\u001b[39mindex, \u001b[38;5;28mself\u001b[39m\u001b[38;5;241m.\u001b[39mvalues):\n\u001b[0;32m-> 1324\u001b[0m     s \u001b[38;5;241m=\u001b[39m \u001b[43mklass\u001b[49m\u001b[43m(\u001b[49m\u001b[43mv\u001b[49m\u001b[43m,\u001b[49m\u001b[43m \u001b[49m\u001b[43mindex\u001b[49m\u001b[38;5;241;43m=\u001b[39;49m\u001b[43mcolumns\u001b[49m\u001b[43m,\u001b[49m\u001b[43m \u001b[49m\u001b[43mname\u001b[49m\u001b[38;5;241;43m=\u001b[39;49m\u001b[43mk\u001b[49m\u001b[43m)\u001b[49m\n\u001b[1;32m   1325\u001b[0m     \u001b[38;5;28;01myield\u001b[39;00m k, s\n",
      "File \u001b[0;32m~/opt/anaconda3/lib/python3.9/site-packages/pandas/core/series.py:455\u001b[0m, in \u001b[0;36mSeries.__init__\u001b[0;34m(self, data, index, dtype, name, copy, fastpath)\u001b[0m\n\u001b[1;32m    453\u001b[0m manager \u001b[38;5;241m=\u001b[39m get_option(\u001b[38;5;124m\"\u001b[39m\u001b[38;5;124mmode.data_manager\u001b[39m\u001b[38;5;124m\"\u001b[39m)\n\u001b[1;32m    454\u001b[0m \u001b[38;5;28;01mif\u001b[39;00m manager \u001b[38;5;241m==\u001b[39m \u001b[38;5;124m\"\u001b[39m\u001b[38;5;124mblock\u001b[39m\u001b[38;5;124m\"\u001b[39m:\n\u001b[0;32m--> 455\u001b[0m     data \u001b[38;5;241m=\u001b[39m \u001b[43mSingleBlockManager\u001b[49m\u001b[38;5;241;43m.\u001b[39;49m\u001b[43mfrom_array\u001b[49m\u001b[43m(\u001b[49m\u001b[43mdata\u001b[49m\u001b[43m,\u001b[49m\u001b[43m \u001b[49m\u001b[43mindex\u001b[49m\u001b[43m)\u001b[49m\n\u001b[1;32m    456\u001b[0m \u001b[38;5;28;01melif\u001b[39;00m manager \u001b[38;5;241m==\u001b[39m \u001b[38;5;124m\"\u001b[39m\u001b[38;5;124marray\u001b[39m\u001b[38;5;124m\"\u001b[39m:\n\u001b[1;32m    457\u001b[0m     data \u001b[38;5;241m=\u001b[39m SingleArrayManager\u001b[38;5;241m.\u001b[39mfrom_array(data, index)\n",
      "File \u001b[0;32m~/opt/anaconda3/lib/python3.9/site-packages/pandas/core/internals/managers.py:1736\u001b[0m, in \u001b[0;36mSingleBlockManager.from_array\u001b[0;34m(cls, array, index)\u001b[0m\n\u001b[1;32m   1731\u001b[0m \u001b[38;5;129m@classmethod\u001b[39m\n\u001b[1;32m   1732\u001b[0m \u001b[38;5;28;01mdef\u001b[39;00m \u001b[38;5;21mfrom_array\u001b[39m(\u001b[38;5;28mcls\u001b[39m, array: ArrayLike, index: Index) \u001b[38;5;241m-\u001b[39m\u001b[38;5;241m>\u001b[39m SingleBlockManager:\n\u001b[1;32m   1733\u001b[0m     \u001b[38;5;124;03m\"\"\"\u001b[39;00m\n\u001b[1;32m   1734\u001b[0m \u001b[38;5;124;03m    Constructor for if we have an array that is not yet a Block.\u001b[39;00m\n\u001b[1;32m   1735\u001b[0m \u001b[38;5;124;03m    \"\"\"\u001b[39;00m\n\u001b[0;32m-> 1736\u001b[0m     block \u001b[38;5;241m=\u001b[39m \u001b[43mnew_block\u001b[49m\u001b[43m(\u001b[49m\u001b[43marray\u001b[49m\u001b[43m,\u001b[49m\u001b[43m \u001b[49m\u001b[43mplacement\u001b[49m\u001b[38;5;241;43m=\u001b[39;49m\u001b[38;5;28;43mslice\u001b[39;49m\u001b[43m(\u001b[49m\u001b[38;5;241;43m0\u001b[39;49m\u001b[43m,\u001b[49m\u001b[43m \u001b[49m\u001b[38;5;28;43mlen\u001b[39;49m\u001b[43m(\u001b[49m\u001b[43mindex\u001b[49m\u001b[43m)\u001b[49m\u001b[43m)\u001b[49m\u001b[43m,\u001b[49m\u001b[43m \u001b[49m\u001b[43mndim\u001b[49m\u001b[38;5;241;43m=\u001b[39;49m\u001b[38;5;241;43m1\u001b[39;49m\u001b[43m)\u001b[49m\n\u001b[1;32m   1737\u001b[0m     \u001b[38;5;28;01mreturn\u001b[39;00m \u001b[38;5;28mcls\u001b[39m(block, index)\n",
      "File \u001b[0;32m~/opt/anaconda3/lib/python3.9/site-packages/pandas/core/internals/blocks.py:2051\u001b[0m, in \u001b[0;36mnew_block\u001b[0;34m(values, placement, ndim)\u001b[0m\n\u001b[1;32m   2047\u001b[0m check_ndim(values, placement, ndim)\n\u001b[1;32m   2049\u001b[0m klass \u001b[38;5;241m=\u001b[39m get_block_type(values\u001b[38;5;241m.\u001b[39mdtype)\n\u001b[0;32m-> 2051\u001b[0m values \u001b[38;5;241m=\u001b[39m \u001b[43mmaybe_coerce_values\u001b[49m\u001b[43m(\u001b[49m\u001b[43mvalues\u001b[49m\u001b[43m)\u001b[49m\n\u001b[1;32m   2052\u001b[0m \u001b[38;5;28;01mreturn\u001b[39;00m klass(values, ndim\u001b[38;5;241m=\u001b[39mndim, placement\u001b[38;5;241m=\u001b[39mplacement)\n",
      "File \u001b[0;32m~/opt/anaconda3/lib/python3.9/site-packages/pandas/core/internals/blocks.py:1979\u001b[0m, in \u001b[0;36mmaybe_coerce_values\u001b[0;34m(values)\u001b[0m\n\u001b[1;32m   1976\u001b[0m \u001b[38;5;28;01mif\u001b[39;00m \u001b[38;5;28misinstance\u001b[39m(values, np\u001b[38;5;241m.\u001b[39mndarray):\n\u001b[1;32m   1977\u001b[0m     values \u001b[38;5;241m=\u001b[39m ensure_wrapped_if_datetimelike(values)\n\u001b[0;32m-> 1979\u001b[0m     \u001b[38;5;28;01mif\u001b[39;00m \u001b[38;5;28missubclass\u001b[39m(\u001b[43mvalues\u001b[49m\u001b[38;5;241;43m.\u001b[39;49m\u001b[43mdtype\u001b[49m\u001b[38;5;241m.\u001b[39mtype, \u001b[38;5;28mstr\u001b[39m):\n\u001b[1;32m   1980\u001b[0m         values \u001b[38;5;241m=\u001b[39m np\u001b[38;5;241m.\u001b[39marray(values, dtype\u001b[38;5;241m=\u001b[39m\u001b[38;5;28mobject\u001b[39m)\n\u001b[1;32m   1982\u001b[0m \u001b[38;5;28;01mif\u001b[39;00m \u001b[38;5;28misinstance\u001b[39m(values, (DatetimeArray, TimedeltaArray)) \u001b[38;5;129;01mand\u001b[39;00m values\u001b[38;5;241m.\u001b[39mfreq \u001b[38;5;129;01mis\u001b[39;00m \u001b[38;5;129;01mnot\u001b[39;00m \u001b[38;5;28;01mNone\u001b[39;00m:\n\u001b[1;32m   1983\u001b[0m     \u001b[38;5;66;03m# freq is only stored in DatetimeIndex/TimedeltaIndex, not in Series/DataFrame\u001b[39;00m\n",
      "\u001b[0;31mKeyboardInterrupt\u001b[0m: "
     ]
    }
   ],
   "source": [
    "# GENERATING TIME SCALE\n",
    "mf2017 = []  # number of months from 2017\n",
    "for i, row in tqdm(df.iterrows()):\n",
    "    diff = int(row[\"Year\"]) - 2017\n",
    "    num = diff*12 + int(row[\"Month\"])\n",
    "    mf2017.append(num)\n",
    "df[\"mf2017\"] = mf2017\n",
    "df"
   ]
  },
  {
   "cell_type": "code",
   "execution_count": null,
   "metadata": {},
   "outputs": [
    {
     "data": {
      "text/html": [
       "<div>\n",
       "<style scoped>\n",
       "    .dataframe tbody tr th:only-of-type {\n",
       "        vertical-align: middle;\n",
       "    }\n",
       "\n",
       "    .dataframe tbody tr th {\n",
       "        vertical-align: top;\n",
       "    }\n",
       "\n",
       "    .dataframe thead th {\n",
       "        text-align: right;\n",
       "    }\n",
       "</style>\n",
       "<table border=\"1\" class=\"dataframe\">\n",
       "  <thead>\n",
       "    <tr style=\"text-align: right;\">\n",
       "      <th></th>\n",
       "      <th>Loyalty Number</th>\n",
       "      <th>Year</th>\n",
       "      <th>Month</th>\n",
       "      <th>Total Flights</th>\n",
       "      <th>Distance</th>\n",
       "      <th>Points Accumulated</th>\n",
       "      <th>Points Redeemed</th>\n",
       "      <th>Dollar Cost Points Redeemed</th>\n",
       "      <th>mf2017</th>\n",
       "    </tr>\n",
       "  </thead>\n",
       "  <tbody>\n",
       "    <tr>\n",
       "      <th>392935</th>\n",
       "      <td>999986</td>\n",
       "      <td>2018</td>\n",
       "      <td>12</td>\n",
       "      <td>0</td>\n",
       "      <td>0</td>\n",
       "      <td>0.0</td>\n",
       "      <td>0</td>\n",
       "      <td>0</td>\n",
       "      <td>24</td>\n",
       "    </tr>\n",
       "    <tr>\n",
       "      <th>392927</th>\n",
       "      <td>999986</td>\n",
       "      <td>2018</td>\n",
       "      <td>11</td>\n",
       "      <td>6</td>\n",
       "      <td>4338</td>\n",
       "      <td>6507.0</td>\n",
       "      <td>0</td>\n",
       "      <td>0</td>\n",
       "      <td>23</td>\n",
       "    </tr>\n",
       "    <tr>\n",
       "      <th>392928</th>\n",
       "      <td>999986</td>\n",
       "      <td>2018</td>\n",
       "      <td>10</td>\n",
       "      <td>4</td>\n",
       "      <td>4588</td>\n",
       "      <td>6882.0</td>\n",
       "      <td>0</td>\n",
       "      <td>0</td>\n",
       "      <td>22</td>\n",
       "    </tr>\n",
       "    <tr>\n",
       "      <th>392934</th>\n",
       "      <td>999986</td>\n",
       "      <td>2018</td>\n",
       "      <td>9</td>\n",
       "      <td>0</td>\n",
       "      <td>0</td>\n",
       "      <td>0.0</td>\n",
       "      <td>0</td>\n",
       "      <td>0</td>\n",
       "      <td>21</td>\n",
       "    </tr>\n",
       "    <tr>\n",
       "      <th>392926</th>\n",
       "      <td>999986</td>\n",
       "      <td>2018</td>\n",
       "      <td>8</td>\n",
       "      <td>8</td>\n",
       "      <td>14680</td>\n",
       "      <td>22020.0</td>\n",
       "      <td>655</td>\n",
       "      <td>118</td>\n",
       "      <td>20</td>\n",
       "    </tr>\n",
       "    <tr>\n",
       "      <th>392925</th>\n",
       "      <td>999986</td>\n",
       "      <td>2018</td>\n",
       "      <td>7</td>\n",
       "      <td>20</td>\n",
       "      <td>32340</td>\n",
       "      <td>48510.0</td>\n",
       "      <td>0</td>\n",
       "      <td>0</td>\n",
       "      <td>19</td>\n",
       "    </tr>\n",
       "    <tr>\n",
       "      <th>392933</th>\n",
       "      <td>999986</td>\n",
       "      <td>2018</td>\n",
       "      <td>6</td>\n",
       "      <td>0</td>\n",
       "      <td>0</td>\n",
       "      <td>0.0</td>\n",
       "      <td>0</td>\n",
       "      <td>0</td>\n",
       "      <td>18</td>\n",
       "    </tr>\n",
       "    <tr>\n",
       "      <th>392932</th>\n",
       "      <td>999986</td>\n",
       "      <td>2018</td>\n",
       "      <td>5</td>\n",
       "      <td>0</td>\n",
       "      <td>0</td>\n",
       "      <td>0.0</td>\n",
       "      <td>0</td>\n",
       "      <td>0</td>\n",
       "      <td>17</td>\n",
       "    </tr>\n",
       "    <tr>\n",
       "      <th>392931</th>\n",
       "      <td>999986</td>\n",
       "      <td>2018</td>\n",
       "      <td>4</td>\n",
       "      <td>0</td>\n",
       "      <td>0</td>\n",
       "      <td>0.0</td>\n",
       "      <td>0</td>\n",
       "      <td>0</td>\n",
       "      <td>16</td>\n",
       "    </tr>\n",
       "    <tr>\n",
       "      <th>392930</th>\n",
       "      <td>999986</td>\n",
       "      <td>2018</td>\n",
       "      <td>3</td>\n",
       "      <td>1</td>\n",
       "      <td>1069</td>\n",
       "      <td>1603.5</td>\n",
       "      <td>0</td>\n",
       "      <td>0</td>\n",
       "      <td>15</td>\n",
       "    </tr>\n",
       "    <tr>\n",
       "      <th>392929</th>\n",
       "      <td>999986</td>\n",
       "      <td>2018</td>\n",
       "      <td>2</td>\n",
       "      <td>1</td>\n",
       "      <td>1786</td>\n",
       "      <td>2679.0</td>\n",
       "      <td>544</td>\n",
       "      <td>98</td>\n",
       "      <td>14</td>\n",
       "    </tr>\n",
       "  </tbody>\n",
       "</table>\n",
       "</div>"
      ],
      "text/plain": [
       "        Loyalty Number  Year  Month  Total Flights  Distance  \\\n",
       "392935          999986  2018     12              0         0   \n",
       "392927          999986  2018     11              6      4338   \n",
       "392928          999986  2018     10              4      4588   \n",
       "392934          999986  2018      9              0         0   \n",
       "392926          999986  2018      8              8     14680   \n",
       "392925          999986  2018      7             20     32340   \n",
       "392933          999986  2018      6              0         0   \n",
       "392932          999986  2018      5              0         0   \n",
       "392931          999986  2018      4              0         0   \n",
       "392930          999986  2018      3              1      1069   \n",
       "392929          999986  2018      2              1      1786   \n",
       "\n",
       "        Points Accumulated  Points Redeemed  Dollar Cost Points Redeemed  \\\n",
       "392935                 0.0                0                            0   \n",
       "392927              6507.0                0                            0   \n",
       "392928              6882.0                0                            0   \n",
       "392934                 0.0                0                            0   \n",
       "392926             22020.0              655                          118   \n",
       "392925             48510.0                0                            0   \n",
       "392933                 0.0                0                            0   \n",
       "392932                 0.0                0                            0   \n",
       "392931                 0.0                0                            0   \n",
       "392930              1603.5                0                            0   \n",
       "392929              2679.0              544                           98   \n",
       "\n",
       "        mf2017  \n",
       "392935      24  \n",
       "392927      23  \n",
       "392928      22  \n",
       "392934      21  \n",
       "392926      20  \n",
       "392925      19  \n",
       "392933      18  \n",
       "392932      17  \n",
       "392931      16  \n",
       "392930      15  \n",
       "392929      14  "
      ]
     },
     "execution_count": 42,
     "metadata": {},
     "output_type": "execute_result"
    }
   ],
   "source": [
    "df.sort_values(by=[\"mf2017\"], ascending=False, inplace=True)\n",
    "ln = df[\"Loyalty Number\"].unique()\n",
    "df[df[\"Loyalty Number\"]==ln[0]]"
   ]
  },
  {
   "cell_type": "markdown",
   "metadata": {},
   "source": [
    "## Trend Visualization"
   ]
  },
  {
   "cell_type": "code",
   "execution_count": null,
   "metadata": {},
   "outputs": [
    {
     "data": {
      "application/vnd.plotly.v1+json": {
       "config": {
        "plotlyServerURL": "https://plot.ly"
       },
       "data": [
        {
         "hovertemplate": "Loyalty Number=999986<br>mf2017=%{x}<br>Distance=%{y}<extra></extra>",
         "legendgroup": "999986",
         "line": {
          "color": "#636efa",
          "dash": "solid"
         },
         "marker": {
          "symbol": "circle"
         },
         "mode": "lines",
         "name": "999986",
         "orientation": "v",
         "showlegend": true,
         "type": "scatter",
         "x": [
          24,
          23,
          22,
          21,
          20,
          19,
          18,
          17,
          16,
          15,
          14
         ],
         "xaxis": "x",
         "y": [
          0,
          4338,
          4588,
          0,
          14680,
          32340,
          0,
          0,
          0,
          1069,
          1786
         ],
         "yaxis": "y"
        },
        {
         "hovertemplate": "Loyalty Number=981395<br>mf2017=%{x}<br>Distance=%{y}<extra></extra>",
         "legendgroup": "981395",
         "line": {
          "color": "#EF553B",
          "dash": "solid"
         },
         "marker": {
          "symbol": "circle"
         },
         "mode": "lines",
         "name": "981395",
         "orientation": "v",
         "showlegend": true,
         "type": "scatter",
         "x": [
          24,
          23,
          22,
          21,
          20,
          19,
          18,
          17,
          16,
          15,
          14,
          13,
          12,
          11,
          10,
          9,
          8,
          7,
          6,
          5,
          4,
          3,
          2,
          1
         ],
         "xaxis": "x",
         "y": [
          9160,
          0,
          3276,
          4020,
          9828,
          6198,
          0,
          0,
          2277,
          3328,
          7113,
          1534,
          0,
          0,
          8084,
          9176,
          9845,
          1465,
          1806,
          0,
          641,
          2145,
          2058,
          0
         ],
         "yaxis": "y"
        },
        {
         "hovertemplate": "Loyalty Number=989802<br>mf2017=%{x}<br>Distance=%{y}<extra></extra>",
         "legendgroup": "989802",
         "line": {
          "color": "#00cc96",
          "dash": "solid"
         },
         "marker": {
          "symbol": "circle"
         },
         "mode": "lines",
         "name": "989802",
         "orientation": "v",
         "showlegend": true,
         "type": "scatter",
         "x": [
          24,
          23,
          22,
          21,
          20,
          19,
          18,
          17,
          16,
          15,
          14,
          13,
          12,
          11,
          10,
          9,
          8,
          7,
          6,
          5,
          4,
          3,
          2,
          1
         ],
         "xaxis": "x",
         "y": [
          6500,
          1606,
          0,
          2756,
          3782,
          8610,
          0,
          0,
          1301,
          6276,
          4112,
          2916,
          6265,
          0,
          4526,
          5769,
          5710,
          8272,
          2100,
          1051,
          1664,
          0,
          0,
          6816
         ],
         "yaxis": "y"
        },
        {
         "hovertemplate": "Loyalty Number=988921<br>mf2017=%{x}<br>Distance=%{y}<extra></extra>",
         "legendgroup": "988921",
         "line": {
          "color": "#ab63fa",
          "dash": "solid"
         },
         "marker": {
          "symbol": "circle"
         },
         "mode": "lines",
         "name": "988921",
         "orientation": "v",
         "showlegend": true,
         "type": "scatter",
         "x": [
          24,
          23,
          22,
          21,
          20,
          19,
          18,
          17,
          16,
          15,
          14,
          13,
          12,
          11,
          10,
          9,
          8,
          7,
          6,
          5,
          4,
          3,
          2,
          1
         ],
         "xaxis": "x",
         "y": [
          11880,
          0,
          1117,
          3038,
          711,
          0,
          0,
          6117,
          3048,
          3878,
          745,
          1784,
          3783,
          2798,
          4150,
          2116,
          0,
          2146,
          3978,
          1569,
          1598,
          4442,
          3258,
          0
         ],
         "yaxis": "y"
        },
        {
         "hovertemplate": "Loyalty Number=988307<br>mf2017=%{x}<br>Distance=%{y}<extra></extra>",
         "legendgroup": "988307",
         "line": {
          "color": "#FFA15A",
          "dash": "solid"
         },
         "marker": {
          "symbol": "circle"
         },
         "mode": "lines",
         "name": "988307",
         "orientation": "v",
         "showlegend": true,
         "type": "scatter",
         "x": [
          24,
          23,
          22,
          21,
          20,
          19,
          18,
          17,
          16,
          15,
          14,
          13,
          12,
          11,
          10,
          9,
          8,
          7,
          6,
          5,
          4,
          3,
          2,
          1
         ],
         "xaxis": "x",
         "y": [
          2675,
          6765,
          4612,
          3514,
          4014,
          4435,
          11292,
          3320,
          0,
          0,
          4059,
          4224,
          3308,
          1835,
          0,
          0,
          6496,
          0,
          0,
          3445,
          0,
          0,
          5679,
          5060
         ],
         "yaxis": "y"
        }
       ],
       "layout": {
        "legend": {
         "title": {
          "text": "Loyalty Number"
         },
         "tracegroupgap": 0
        },
        "margin": {
         "t": 60
        },
        "template": {
         "data": {
          "bar": [
           {
            "error_x": {
             "color": "#2a3f5f"
            },
            "error_y": {
             "color": "#2a3f5f"
            },
            "marker": {
             "line": {
              "color": "#E5ECF6",
              "width": 0.5
             },
             "pattern": {
              "fillmode": "overlay",
              "size": 10,
              "solidity": 0.2
             }
            },
            "type": "bar"
           }
          ],
          "barpolar": [
           {
            "marker": {
             "line": {
              "color": "#E5ECF6",
              "width": 0.5
             },
             "pattern": {
              "fillmode": "overlay",
              "size": 10,
              "solidity": 0.2
             }
            },
            "type": "barpolar"
           }
          ],
          "carpet": [
           {
            "aaxis": {
             "endlinecolor": "#2a3f5f",
             "gridcolor": "white",
             "linecolor": "white",
             "minorgridcolor": "white",
             "startlinecolor": "#2a3f5f"
            },
            "baxis": {
             "endlinecolor": "#2a3f5f",
             "gridcolor": "white",
             "linecolor": "white",
             "minorgridcolor": "white",
             "startlinecolor": "#2a3f5f"
            },
            "type": "carpet"
           }
          ],
          "choropleth": [
           {
            "colorbar": {
             "outlinewidth": 0,
             "ticks": ""
            },
            "type": "choropleth"
           }
          ],
          "contour": [
           {
            "colorbar": {
             "outlinewidth": 0,
             "ticks": ""
            },
            "colorscale": [
             [
              0,
              "#0d0887"
             ],
             [
              0.1111111111111111,
              "#46039f"
             ],
             [
              0.2222222222222222,
              "#7201a8"
             ],
             [
              0.3333333333333333,
              "#9c179e"
             ],
             [
              0.4444444444444444,
              "#bd3786"
             ],
             [
              0.5555555555555556,
              "#d8576b"
             ],
             [
              0.6666666666666666,
              "#ed7953"
             ],
             [
              0.7777777777777778,
              "#fb9f3a"
             ],
             [
              0.8888888888888888,
              "#fdca26"
             ],
             [
              1,
              "#f0f921"
             ]
            ],
            "type": "contour"
           }
          ],
          "contourcarpet": [
           {
            "colorbar": {
             "outlinewidth": 0,
             "ticks": ""
            },
            "type": "contourcarpet"
           }
          ],
          "heatmap": [
           {
            "colorbar": {
             "outlinewidth": 0,
             "ticks": ""
            },
            "colorscale": [
             [
              0,
              "#0d0887"
             ],
             [
              0.1111111111111111,
              "#46039f"
             ],
             [
              0.2222222222222222,
              "#7201a8"
             ],
             [
              0.3333333333333333,
              "#9c179e"
             ],
             [
              0.4444444444444444,
              "#bd3786"
             ],
             [
              0.5555555555555556,
              "#d8576b"
             ],
             [
              0.6666666666666666,
              "#ed7953"
             ],
             [
              0.7777777777777778,
              "#fb9f3a"
             ],
             [
              0.8888888888888888,
              "#fdca26"
             ],
             [
              1,
              "#f0f921"
             ]
            ],
            "type": "heatmap"
           }
          ],
          "heatmapgl": [
           {
            "colorbar": {
             "outlinewidth": 0,
             "ticks": ""
            },
            "colorscale": [
             [
              0,
              "#0d0887"
             ],
             [
              0.1111111111111111,
              "#46039f"
             ],
             [
              0.2222222222222222,
              "#7201a8"
             ],
             [
              0.3333333333333333,
              "#9c179e"
             ],
             [
              0.4444444444444444,
              "#bd3786"
             ],
             [
              0.5555555555555556,
              "#d8576b"
             ],
             [
              0.6666666666666666,
              "#ed7953"
             ],
             [
              0.7777777777777778,
              "#fb9f3a"
             ],
             [
              0.8888888888888888,
              "#fdca26"
             ],
             [
              1,
              "#f0f921"
             ]
            ],
            "type": "heatmapgl"
           }
          ],
          "histogram": [
           {
            "marker": {
             "pattern": {
              "fillmode": "overlay",
              "size": 10,
              "solidity": 0.2
             }
            },
            "type": "histogram"
           }
          ],
          "histogram2d": [
           {
            "colorbar": {
             "outlinewidth": 0,
             "ticks": ""
            },
            "colorscale": [
             [
              0,
              "#0d0887"
             ],
             [
              0.1111111111111111,
              "#46039f"
             ],
             [
              0.2222222222222222,
              "#7201a8"
             ],
             [
              0.3333333333333333,
              "#9c179e"
             ],
             [
              0.4444444444444444,
              "#bd3786"
             ],
             [
              0.5555555555555556,
              "#d8576b"
             ],
             [
              0.6666666666666666,
              "#ed7953"
             ],
             [
              0.7777777777777778,
              "#fb9f3a"
             ],
             [
              0.8888888888888888,
              "#fdca26"
             ],
             [
              1,
              "#f0f921"
             ]
            ],
            "type": "histogram2d"
           }
          ],
          "histogram2dcontour": [
           {
            "colorbar": {
             "outlinewidth": 0,
             "ticks": ""
            },
            "colorscale": [
             [
              0,
              "#0d0887"
             ],
             [
              0.1111111111111111,
              "#46039f"
             ],
             [
              0.2222222222222222,
              "#7201a8"
             ],
             [
              0.3333333333333333,
              "#9c179e"
             ],
             [
              0.4444444444444444,
              "#bd3786"
             ],
             [
              0.5555555555555556,
              "#d8576b"
             ],
             [
              0.6666666666666666,
              "#ed7953"
             ],
             [
              0.7777777777777778,
              "#fb9f3a"
             ],
             [
              0.8888888888888888,
              "#fdca26"
             ],
             [
              1,
              "#f0f921"
             ]
            ],
            "type": "histogram2dcontour"
           }
          ],
          "mesh3d": [
           {
            "colorbar": {
             "outlinewidth": 0,
             "ticks": ""
            },
            "type": "mesh3d"
           }
          ],
          "parcoords": [
           {
            "line": {
             "colorbar": {
              "outlinewidth": 0,
              "ticks": ""
             }
            },
            "type": "parcoords"
           }
          ],
          "pie": [
           {
            "automargin": true,
            "type": "pie"
           }
          ],
          "scatter": [
           {
            "marker": {
             "colorbar": {
              "outlinewidth": 0,
              "ticks": ""
             }
            },
            "type": "scatter"
           }
          ],
          "scatter3d": [
           {
            "line": {
             "colorbar": {
              "outlinewidth": 0,
              "ticks": ""
             }
            },
            "marker": {
             "colorbar": {
              "outlinewidth": 0,
              "ticks": ""
             }
            },
            "type": "scatter3d"
           }
          ],
          "scattercarpet": [
           {
            "marker": {
             "colorbar": {
              "outlinewidth": 0,
              "ticks": ""
             }
            },
            "type": "scattercarpet"
           }
          ],
          "scattergeo": [
           {
            "marker": {
             "colorbar": {
              "outlinewidth": 0,
              "ticks": ""
             }
            },
            "type": "scattergeo"
           }
          ],
          "scattergl": [
           {
            "marker": {
             "colorbar": {
              "outlinewidth": 0,
              "ticks": ""
             }
            },
            "type": "scattergl"
           }
          ],
          "scattermapbox": [
           {
            "marker": {
             "colorbar": {
              "outlinewidth": 0,
              "ticks": ""
             }
            },
            "type": "scattermapbox"
           }
          ],
          "scatterpolar": [
           {
            "marker": {
             "colorbar": {
              "outlinewidth": 0,
              "ticks": ""
             }
            },
            "type": "scatterpolar"
           }
          ],
          "scatterpolargl": [
           {
            "marker": {
             "colorbar": {
              "outlinewidth": 0,
              "ticks": ""
             }
            },
            "type": "scatterpolargl"
           }
          ],
          "scatterternary": [
           {
            "marker": {
             "colorbar": {
              "outlinewidth": 0,
              "ticks": ""
             }
            },
            "type": "scatterternary"
           }
          ],
          "surface": [
           {
            "colorbar": {
             "outlinewidth": 0,
             "ticks": ""
            },
            "colorscale": [
             [
              0,
              "#0d0887"
             ],
             [
              0.1111111111111111,
              "#46039f"
             ],
             [
              0.2222222222222222,
              "#7201a8"
             ],
             [
              0.3333333333333333,
              "#9c179e"
             ],
             [
              0.4444444444444444,
              "#bd3786"
             ],
             [
              0.5555555555555556,
              "#d8576b"
             ],
             [
              0.6666666666666666,
              "#ed7953"
             ],
             [
              0.7777777777777778,
              "#fb9f3a"
             ],
             [
              0.8888888888888888,
              "#fdca26"
             ],
             [
              1,
              "#f0f921"
             ]
            ],
            "type": "surface"
           }
          ],
          "table": [
           {
            "cells": {
             "fill": {
              "color": "#EBF0F8"
             },
             "line": {
              "color": "white"
             }
            },
            "header": {
             "fill": {
              "color": "#C8D4E3"
             },
             "line": {
              "color": "white"
             }
            },
            "type": "table"
           }
          ]
         },
         "layout": {
          "annotationdefaults": {
           "arrowcolor": "#2a3f5f",
           "arrowhead": 0,
           "arrowwidth": 1
          },
          "autotypenumbers": "strict",
          "coloraxis": {
           "colorbar": {
            "outlinewidth": 0,
            "ticks": ""
           }
          },
          "colorscale": {
           "diverging": [
            [
             0,
             "#8e0152"
            ],
            [
             0.1,
             "#c51b7d"
            ],
            [
             0.2,
             "#de77ae"
            ],
            [
             0.3,
             "#f1b6da"
            ],
            [
             0.4,
             "#fde0ef"
            ],
            [
             0.5,
             "#f7f7f7"
            ],
            [
             0.6,
             "#e6f5d0"
            ],
            [
             0.7,
             "#b8e186"
            ],
            [
             0.8,
             "#7fbc41"
            ],
            [
             0.9,
             "#4d9221"
            ],
            [
             1,
             "#276419"
            ]
           ],
           "sequential": [
            [
             0,
             "#0d0887"
            ],
            [
             0.1111111111111111,
             "#46039f"
            ],
            [
             0.2222222222222222,
             "#7201a8"
            ],
            [
             0.3333333333333333,
             "#9c179e"
            ],
            [
             0.4444444444444444,
             "#bd3786"
            ],
            [
             0.5555555555555556,
             "#d8576b"
            ],
            [
             0.6666666666666666,
             "#ed7953"
            ],
            [
             0.7777777777777778,
             "#fb9f3a"
            ],
            [
             0.8888888888888888,
             "#fdca26"
            ],
            [
             1,
             "#f0f921"
            ]
           ],
           "sequentialminus": [
            [
             0,
             "#0d0887"
            ],
            [
             0.1111111111111111,
             "#46039f"
            ],
            [
             0.2222222222222222,
             "#7201a8"
            ],
            [
             0.3333333333333333,
             "#9c179e"
            ],
            [
             0.4444444444444444,
             "#bd3786"
            ],
            [
             0.5555555555555556,
             "#d8576b"
            ],
            [
             0.6666666666666666,
             "#ed7953"
            ],
            [
             0.7777777777777778,
             "#fb9f3a"
            ],
            [
             0.8888888888888888,
             "#fdca26"
            ],
            [
             1,
             "#f0f921"
            ]
           ]
          },
          "colorway": [
           "#636efa",
           "#EF553B",
           "#00cc96",
           "#ab63fa",
           "#FFA15A",
           "#19d3f3",
           "#FF6692",
           "#B6E880",
           "#FF97FF",
           "#FECB52"
          ],
          "font": {
           "color": "#2a3f5f"
          },
          "geo": {
           "bgcolor": "white",
           "lakecolor": "white",
           "landcolor": "#E5ECF6",
           "showlakes": true,
           "showland": true,
           "subunitcolor": "white"
          },
          "hoverlabel": {
           "align": "left"
          },
          "hovermode": "closest",
          "mapbox": {
           "style": "light"
          },
          "paper_bgcolor": "white",
          "plot_bgcolor": "#E5ECF6",
          "polar": {
           "angularaxis": {
            "gridcolor": "white",
            "linecolor": "white",
            "ticks": ""
           },
           "bgcolor": "#E5ECF6",
           "radialaxis": {
            "gridcolor": "white",
            "linecolor": "white",
            "ticks": ""
           }
          },
          "scene": {
           "xaxis": {
            "backgroundcolor": "#E5ECF6",
            "gridcolor": "white",
            "gridwidth": 2,
            "linecolor": "white",
            "showbackground": true,
            "ticks": "",
            "zerolinecolor": "white"
           },
           "yaxis": {
            "backgroundcolor": "#E5ECF6",
            "gridcolor": "white",
            "gridwidth": 2,
            "linecolor": "white",
            "showbackground": true,
            "ticks": "",
            "zerolinecolor": "white"
           },
           "zaxis": {
            "backgroundcolor": "#E5ECF6",
            "gridcolor": "white",
            "gridwidth": 2,
            "linecolor": "white",
            "showbackground": true,
            "ticks": "",
            "zerolinecolor": "white"
           }
          },
          "shapedefaults": {
           "line": {
            "color": "#2a3f5f"
           }
          },
          "ternary": {
           "aaxis": {
            "gridcolor": "white",
            "linecolor": "white",
            "ticks": ""
           },
           "baxis": {
            "gridcolor": "white",
            "linecolor": "white",
            "ticks": ""
           },
           "bgcolor": "#E5ECF6",
           "caxis": {
            "gridcolor": "white",
            "linecolor": "white",
            "ticks": ""
           }
          },
          "title": {
           "x": 0.05
          },
          "xaxis": {
           "automargin": true,
           "gridcolor": "white",
           "linecolor": "white",
           "ticks": "",
           "title": {
            "standoff": 15
           },
           "zerolinecolor": "white",
           "zerolinewidth": 2
          },
          "yaxis": {
           "automargin": true,
           "gridcolor": "white",
           "linecolor": "white",
           "ticks": "",
           "title": {
            "standoff": 15
           },
           "zerolinecolor": "white",
           "zerolinewidth": 2
          }
         }
        },
        "xaxis": {
         "anchor": "y",
         "domain": [
          0,
          1
         ],
         "title": {
          "text": "mf2017"
         }
        },
        "yaxis": {
         "anchor": "x",
         "domain": [
          0,
          1
         ],
         "title": {
          "text": "Distance"
         }
        }
       }
      }
     },
     "metadata": {},
     "output_type": "display_data"
    }
   ],
   "source": [
    "import plotly.express as px\n",
    "\n",
    "px.line(df[df[\"Loyalty Number\"].isin(ln[:5])], x=\"mf2017\", y=\"Distance\", color=\"Loyalty Number\")"
   ]
  },
  {
   "cell_type": "code",
   "execution_count": null,
   "metadata": {},
   "outputs": [
    {
     "data": {
      "application/vnd.plotly.v1+json": {
       "config": {
        "plotlyServerURL": "https://plot.ly"
       },
       "data": [
        {
         "hovertemplate": "mf2017=%{x}<br>Distance=%{y}<extra></extra>",
         "legendgroup": "",
         "marker": {
          "color": "#636efa",
          "symbol": "circle"
         },
         "mode": "markers",
         "name": "",
         "orientation": "v",
         "showlegend": false,
         "type": "scatter",
         "x": [
          24,
          23,
          22,
          21,
          20,
          19,
          18,
          17,
          16,
          15,
          14
         ],
         "xaxis": "x",
         "y": [
          0,
          4338,
          4588,
          0,
          14680,
          32340,
          0,
          0,
          0,
          1069,
          1786
         ],
         "yaxis": "y"
        },
        {
         "hovertemplate": "<b>OLS trendline</b><br>Distance = 296.273 * mf2017 + -283.636<br>R<sup>2</sup>=0.009741<br><br>mf2017=%{x}<br>Distance=%{y} <b>(trend)</b><extra></extra>",
         "legendgroup": "",
         "marker": {
          "color": "#636efa",
          "symbol": "circle"
         },
         "mode": "lines",
         "name": "",
         "showlegend": false,
         "type": "scatter",
         "x": [
          14,
          15,
          16,
          17,
          18,
          19,
          20,
          21,
          22,
          23,
          24
         ],
         "xaxis": "x",
         "y": [
          3864.181818181818,
          4160.454545454545,
          4456.727272727272,
          4752.999999999999,
          5049.272727272726,
          5345.545454545454,
          5641.818181818181,
          5938.090909090908,
          6234.363636363636,
          6530.636363636363,
          6826.90909090909
         ],
         "yaxis": "y"
        }
       ],
       "layout": {
        "legend": {
         "tracegroupgap": 0
        },
        "margin": {
         "t": 60
        },
        "template": {
         "data": {
          "bar": [
           {
            "error_x": {
             "color": "#2a3f5f"
            },
            "error_y": {
             "color": "#2a3f5f"
            },
            "marker": {
             "line": {
              "color": "#E5ECF6",
              "width": 0.5
             },
             "pattern": {
              "fillmode": "overlay",
              "size": 10,
              "solidity": 0.2
             }
            },
            "type": "bar"
           }
          ],
          "barpolar": [
           {
            "marker": {
             "line": {
              "color": "#E5ECF6",
              "width": 0.5
             },
             "pattern": {
              "fillmode": "overlay",
              "size": 10,
              "solidity": 0.2
             }
            },
            "type": "barpolar"
           }
          ],
          "carpet": [
           {
            "aaxis": {
             "endlinecolor": "#2a3f5f",
             "gridcolor": "white",
             "linecolor": "white",
             "minorgridcolor": "white",
             "startlinecolor": "#2a3f5f"
            },
            "baxis": {
             "endlinecolor": "#2a3f5f",
             "gridcolor": "white",
             "linecolor": "white",
             "minorgridcolor": "white",
             "startlinecolor": "#2a3f5f"
            },
            "type": "carpet"
           }
          ],
          "choropleth": [
           {
            "colorbar": {
             "outlinewidth": 0,
             "ticks": ""
            },
            "type": "choropleth"
           }
          ],
          "contour": [
           {
            "colorbar": {
             "outlinewidth": 0,
             "ticks": ""
            },
            "colorscale": [
             [
              0,
              "#0d0887"
             ],
             [
              0.1111111111111111,
              "#46039f"
             ],
             [
              0.2222222222222222,
              "#7201a8"
             ],
             [
              0.3333333333333333,
              "#9c179e"
             ],
             [
              0.4444444444444444,
              "#bd3786"
             ],
             [
              0.5555555555555556,
              "#d8576b"
             ],
             [
              0.6666666666666666,
              "#ed7953"
             ],
             [
              0.7777777777777778,
              "#fb9f3a"
             ],
             [
              0.8888888888888888,
              "#fdca26"
             ],
             [
              1,
              "#f0f921"
             ]
            ],
            "type": "contour"
           }
          ],
          "contourcarpet": [
           {
            "colorbar": {
             "outlinewidth": 0,
             "ticks": ""
            },
            "type": "contourcarpet"
           }
          ],
          "heatmap": [
           {
            "colorbar": {
             "outlinewidth": 0,
             "ticks": ""
            },
            "colorscale": [
             [
              0,
              "#0d0887"
             ],
             [
              0.1111111111111111,
              "#46039f"
             ],
             [
              0.2222222222222222,
              "#7201a8"
             ],
             [
              0.3333333333333333,
              "#9c179e"
             ],
             [
              0.4444444444444444,
              "#bd3786"
             ],
             [
              0.5555555555555556,
              "#d8576b"
             ],
             [
              0.6666666666666666,
              "#ed7953"
             ],
             [
              0.7777777777777778,
              "#fb9f3a"
             ],
             [
              0.8888888888888888,
              "#fdca26"
             ],
             [
              1,
              "#f0f921"
             ]
            ],
            "type": "heatmap"
           }
          ],
          "heatmapgl": [
           {
            "colorbar": {
             "outlinewidth": 0,
             "ticks": ""
            },
            "colorscale": [
             [
              0,
              "#0d0887"
             ],
             [
              0.1111111111111111,
              "#46039f"
             ],
             [
              0.2222222222222222,
              "#7201a8"
             ],
             [
              0.3333333333333333,
              "#9c179e"
             ],
             [
              0.4444444444444444,
              "#bd3786"
             ],
             [
              0.5555555555555556,
              "#d8576b"
             ],
             [
              0.6666666666666666,
              "#ed7953"
             ],
             [
              0.7777777777777778,
              "#fb9f3a"
             ],
             [
              0.8888888888888888,
              "#fdca26"
             ],
             [
              1,
              "#f0f921"
             ]
            ],
            "type": "heatmapgl"
           }
          ],
          "histogram": [
           {
            "marker": {
             "pattern": {
              "fillmode": "overlay",
              "size": 10,
              "solidity": 0.2
             }
            },
            "type": "histogram"
           }
          ],
          "histogram2d": [
           {
            "colorbar": {
             "outlinewidth": 0,
             "ticks": ""
            },
            "colorscale": [
             [
              0,
              "#0d0887"
             ],
             [
              0.1111111111111111,
              "#46039f"
             ],
             [
              0.2222222222222222,
              "#7201a8"
             ],
             [
              0.3333333333333333,
              "#9c179e"
             ],
             [
              0.4444444444444444,
              "#bd3786"
             ],
             [
              0.5555555555555556,
              "#d8576b"
             ],
             [
              0.6666666666666666,
              "#ed7953"
             ],
             [
              0.7777777777777778,
              "#fb9f3a"
             ],
             [
              0.8888888888888888,
              "#fdca26"
             ],
             [
              1,
              "#f0f921"
             ]
            ],
            "type": "histogram2d"
           }
          ],
          "histogram2dcontour": [
           {
            "colorbar": {
             "outlinewidth": 0,
             "ticks": ""
            },
            "colorscale": [
             [
              0,
              "#0d0887"
             ],
             [
              0.1111111111111111,
              "#46039f"
             ],
             [
              0.2222222222222222,
              "#7201a8"
             ],
             [
              0.3333333333333333,
              "#9c179e"
             ],
             [
              0.4444444444444444,
              "#bd3786"
             ],
             [
              0.5555555555555556,
              "#d8576b"
             ],
             [
              0.6666666666666666,
              "#ed7953"
             ],
             [
              0.7777777777777778,
              "#fb9f3a"
             ],
             [
              0.8888888888888888,
              "#fdca26"
             ],
             [
              1,
              "#f0f921"
             ]
            ],
            "type": "histogram2dcontour"
           }
          ],
          "mesh3d": [
           {
            "colorbar": {
             "outlinewidth": 0,
             "ticks": ""
            },
            "type": "mesh3d"
           }
          ],
          "parcoords": [
           {
            "line": {
             "colorbar": {
              "outlinewidth": 0,
              "ticks": ""
             }
            },
            "type": "parcoords"
           }
          ],
          "pie": [
           {
            "automargin": true,
            "type": "pie"
           }
          ],
          "scatter": [
           {
            "marker": {
             "colorbar": {
              "outlinewidth": 0,
              "ticks": ""
             }
            },
            "type": "scatter"
           }
          ],
          "scatter3d": [
           {
            "line": {
             "colorbar": {
              "outlinewidth": 0,
              "ticks": ""
             }
            },
            "marker": {
             "colorbar": {
              "outlinewidth": 0,
              "ticks": ""
             }
            },
            "type": "scatter3d"
           }
          ],
          "scattercarpet": [
           {
            "marker": {
             "colorbar": {
              "outlinewidth": 0,
              "ticks": ""
             }
            },
            "type": "scattercarpet"
           }
          ],
          "scattergeo": [
           {
            "marker": {
             "colorbar": {
              "outlinewidth": 0,
              "ticks": ""
             }
            },
            "type": "scattergeo"
           }
          ],
          "scattergl": [
           {
            "marker": {
             "colorbar": {
              "outlinewidth": 0,
              "ticks": ""
             }
            },
            "type": "scattergl"
           }
          ],
          "scattermapbox": [
           {
            "marker": {
             "colorbar": {
              "outlinewidth": 0,
              "ticks": ""
             }
            },
            "type": "scattermapbox"
           }
          ],
          "scatterpolar": [
           {
            "marker": {
             "colorbar": {
              "outlinewidth": 0,
              "ticks": ""
             }
            },
            "type": "scatterpolar"
           }
          ],
          "scatterpolargl": [
           {
            "marker": {
             "colorbar": {
              "outlinewidth": 0,
              "ticks": ""
             }
            },
            "type": "scatterpolargl"
           }
          ],
          "scatterternary": [
           {
            "marker": {
             "colorbar": {
              "outlinewidth": 0,
              "ticks": ""
             }
            },
            "type": "scatterternary"
           }
          ],
          "surface": [
           {
            "colorbar": {
             "outlinewidth": 0,
             "ticks": ""
            },
            "colorscale": [
             [
              0,
              "#0d0887"
             ],
             [
              0.1111111111111111,
              "#46039f"
             ],
             [
              0.2222222222222222,
              "#7201a8"
             ],
             [
              0.3333333333333333,
              "#9c179e"
             ],
             [
              0.4444444444444444,
              "#bd3786"
             ],
             [
              0.5555555555555556,
              "#d8576b"
             ],
             [
              0.6666666666666666,
              "#ed7953"
             ],
             [
              0.7777777777777778,
              "#fb9f3a"
             ],
             [
              0.8888888888888888,
              "#fdca26"
             ],
             [
              1,
              "#f0f921"
             ]
            ],
            "type": "surface"
           }
          ],
          "table": [
           {
            "cells": {
             "fill": {
              "color": "#EBF0F8"
             },
             "line": {
              "color": "white"
             }
            },
            "header": {
             "fill": {
              "color": "#C8D4E3"
             },
             "line": {
              "color": "white"
             }
            },
            "type": "table"
           }
          ]
         },
         "layout": {
          "annotationdefaults": {
           "arrowcolor": "#2a3f5f",
           "arrowhead": 0,
           "arrowwidth": 1
          },
          "autotypenumbers": "strict",
          "coloraxis": {
           "colorbar": {
            "outlinewidth": 0,
            "ticks": ""
           }
          },
          "colorscale": {
           "diverging": [
            [
             0,
             "#8e0152"
            ],
            [
             0.1,
             "#c51b7d"
            ],
            [
             0.2,
             "#de77ae"
            ],
            [
             0.3,
             "#f1b6da"
            ],
            [
             0.4,
             "#fde0ef"
            ],
            [
             0.5,
             "#f7f7f7"
            ],
            [
             0.6,
             "#e6f5d0"
            ],
            [
             0.7,
             "#b8e186"
            ],
            [
             0.8,
             "#7fbc41"
            ],
            [
             0.9,
             "#4d9221"
            ],
            [
             1,
             "#276419"
            ]
           ],
           "sequential": [
            [
             0,
             "#0d0887"
            ],
            [
             0.1111111111111111,
             "#46039f"
            ],
            [
             0.2222222222222222,
             "#7201a8"
            ],
            [
             0.3333333333333333,
             "#9c179e"
            ],
            [
             0.4444444444444444,
             "#bd3786"
            ],
            [
             0.5555555555555556,
             "#d8576b"
            ],
            [
             0.6666666666666666,
             "#ed7953"
            ],
            [
             0.7777777777777778,
             "#fb9f3a"
            ],
            [
             0.8888888888888888,
             "#fdca26"
            ],
            [
             1,
             "#f0f921"
            ]
           ],
           "sequentialminus": [
            [
             0,
             "#0d0887"
            ],
            [
             0.1111111111111111,
             "#46039f"
            ],
            [
             0.2222222222222222,
             "#7201a8"
            ],
            [
             0.3333333333333333,
             "#9c179e"
            ],
            [
             0.4444444444444444,
             "#bd3786"
            ],
            [
             0.5555555555555556,
             "#d8576b"
            ],
            [
             0.6666666666666666,
             "#ed7953"
            ],
            [
             0.7777777777777778,
             "#fb9f3a"
            ],
            [
             0.8888888888888888,
             "#fdca26"
            ],
            [
             1,
             "#f0f921"
            ]
           ]
          },
          "colorway": [
           "#636efa",
           "#EF553B",
           "#00cc96",
           "#ab63fa",
           "#FFA15A",
           "#19d3f3",
           "#FF6692",
           "#B6E880",
           "#FF97FF",
           "#FECB52"
          ],
          "font": {
           "color": "#2a3f5f"
          },
          "geo": {
           "bgcolor": "white",
           "lakecolor": "white",
           "landcolor": "#E5ECF6",
           "showlakes": true,
           "showland": true,
           "subunitcolor": "white"
          },
          "hoverlabel": {
           "align": "left"
          },
          "hovermode": "closest",
          "mapbox": {
           "style": "light"
          },
          "paper_bgcolor": "white",
          "plot_bgcolor": "#E5ECF6",
          "polar": {
           "angularaxis": {
            "gridcolor": "white",
            "linecolor": "white",
            "ticks": ""
           },
           "bgcolor": "#E5ECF6",
           "radialaxis": {
            "gridcolor": "white",
            "linecolor": "white",
            "ticks": ""
           }
          },
          "scene": {
           "xaxis": {
            "backgroundcolor": "#E5ECF6",
            "gridcolor": "white",
            "gridwidth": 2,
            "linecolor": "white",
            "showbackground": true,
            "ticks": "",
            "zerolinecolor": "white"
           },
           "yaxis": {
            "backgroundcolor": "#E5ECF6",
            "gridcolor": "white",
            "gridwidth": 2,
            "linecolor": "white",
            "showbackground": true,
            "ticks": "",
            "zerolinecolor": "white"
           },
           "zaxis": {
            "backgroundcolor": "#E5ECF6",
            "gridcolor": "white",
            "gridwidth": 2,
            "linecolor": "white",
            "showbackground": true,
            "ticks": "",
            "zerolinecolor": "white"
           }
          },
          "shapedefaults": {
           "line": {
            "color": "#2a3f5f"
           }
          },
          "ternary": {
           "aaxis": {
            "gridcolor": "white",
            "linecolor": "white",
            "ticks": ""
           },
           "baxis": {
            "gridcolor": "white",
            "linecolor": "white",
            "ticks": ""
           },
           "bgcolor": "#E5ECF6",
           "caxis": {
            "gridcolor": "white",
            "linecolor": "white",
            "ticks": ""
           }
          },
          "title": {
           "x": 0.05
          },
          "xaxis": {
           "automargin": true,
           "gridcolor": "white",
           "linecolor": "white",
           "ticks": "",
           "title": {
            "standoff": 15
           },
           "zerolinecolor": "white",
           "zerolinewidth": 2
          },
          "yaxis": {
           "automargin": true,
           "gridcolor": "white",
           "linecolor": "white",
           "ticks": "",
           "title": {
            "standoff": 15
           },
           "zerolinecolor": "white",
           "zerolinewidth": 2
          }
         }
        },
        "xaxis": {
         "anchor": "y",
         "domain": [
          0,
          1
         ],
         "title": {
          "text": "mf2017"
         }
        },
        "yaxis": {
         "anchor": "x",
         "domain": [
          0,
          1
         ],
         "title": {
          "text": "Distance"
         }
        }
       }
      }
     },
     "metadata": {},
     "output_type": "display_data"
    }
   ],
   "source": [
    "px.scatter(df[df[\"Loyalty Number\"]==ln[0]], x=\"mf2017\", y=\"Distance\", trendline=\"ols\")"
   ]
  },
  {
   "cell_type": "markdown",
   "metadata": {},
   "source": [
    "## Complex Feature Extraction"
   ]
  },
  {
   "cell_type": "code",
   "execution_count": null,
   "metadata": {},
   "outputs": [
    {
     "name": "stderr",
     "output_type": "stream",
     "text": [
      "100%|██████████| 16737/16737 [00:50<00:00, 331.13it/s]\n"
     ]
    },
    {
     "data": {
      "text/html": [
       "<div>\n",
       "<style scoped>\n",
       "    .dataframe tbody tr th:only-of-type {\n",
       "        vertical-align: middle;\n",
       "    }\n",
       "\n",
       "    .dataframe tbody tr th {\n",
       "        vertical-align: top;\n",
       "    }\n",
       "\n",
       "    .dataframe thead th {\n",
       "        text-align: right;\n",
       "    }\n",
       "</style>\n",
       "<table border=\"1\" class=\"dataframe\">\n",
       "  <thead>\n",
       "    <tr style=\"text-align: right;\">\n",
       "      <th></th>\n",
       "      <th>Loyalty Number</th>\n",
       "      <th>Points Accumulated D0</th>\n",
       "      <th>Points Accumulated D1</th>\n",
       "      <th>Points Accumulated D2</th>\n",
       "      <th>Points Redeemed D0</th>\n",
       "      <th>Points Redeemed D1</th>\n",
       "      <th>Points Redeemed D2</th>\n",
       "      <th>Distance D0</th>\n",
       "      <th>Distance D1</th>\n",
       "      <th>Distance D2</th>\n",
       "      <th>Total Flights D0</th>\n",
       "      <th>Total Flights D1</th>\n",
       "      <th>Total Flights D2</th>\n",
       "      <th>SUM Points Accumulated</th>\n",
       "      <th>SUM Points Redeemed</th>\n",
       "      <th>SUM Distance</th>\n",
       "      <th>SUM Total Flights</th>\n",
       "    </tr>\n",
       "  </thead>\n",
       "  <tbody>\n",
       "    <tr>\n",
       "      <th>0</th>\n",
       "      <td>999986</td>\n",
       "      <td>-700.832168</td>\n",
       "      <td>27076.031469</td>\n",
       "      <td>-246417.545455</td>\n",
       "      <td>2.639860</td>\n",
       "      <td>-119.087413</td>\n",
       "      <td>1392.272727</td>\n",
       "      <td>-467.221445</td>\n",
       "      <td>18050.687646</td>\n",
       "      <td>-164278.363636</td>\n",
       "      <td>-0.255245</td>\n",
       "      <td>10.017483</td>\n",
       "      <td>-92.000000</td>\n",
       "      <td>88201.5</td>\n",
       "      <td>1199.0</td>\n",
       "      <td>58801.0</td>\n",
       "      <td>40.0</td>\n",
       "    </tr>\n",
       "    <tr>\n",
       "      <th>1</th>\n",
       "      <td>981395</td>\n",
       "      <td>-6.840347</td>\n",
       "      <td>300.134752</td>\n",
       "      <td>1059.636364</td>\n",
       "      <td>0.683696</td>\n",
       "      <td>-21.484130</td>\n",
       "      <td>149.005435</td>\n",
       "      <td>-6.840347</td>\n",
       "      <td>300.134752</td>\n",
       "      <td>1059.636364</td>\n",
       "      <td>0.000555</td>\n",
       "      <td>0.043954</td>\n",
       "      <td>1.378953</td>\n",
       "      <td>81954.0</td>\n",
       "      <td>481.0</td>\n",
       "      <td>81954.0</td>\n",
       "      <td>49.0</td>\n",
       "    </tr>\n",
       "    <tr>\n",
       "      <th>2</th>\n",
       "      <td>989802</td>\n",
       "      <td>-7.332229</td>\n",
       "      <td>189.695281</td>\n",
       "      <td>2460.472332</td>\n",
       "      <td>-0.298518</td>\n",
       "      <td>11.006858</td>\n",
       "      <td>-45.763340</td>\n",
       "      <td>-7.332229</td>\n",
       "      <td>189.695281</td>\n",
       "      <td>2460.472332</td>\n",
       "      <td>-0.003002</td>\n",
       "      <td>0.131148</td>\n",
       "      <td>1.265316</td>\n",
       "      <td>80032.0</td>\n",
       "      <td>741.0</td>\n",
       "      <td>80032.0</td>\n",
       "      <td>55.0</td>\n",
       "    </tr>\n",
       "    <tr>\n",
       "      <th>3</th>\n",
       "      <td>988921</td>\n",
       "      <td>9.043113</td>\n",
       "      <td>-169.557835</td>\n",
       "      <td>2863.003953</td>\n",
       "      <td>-0.988750</td>\n",
       "      <td>25.857890</td>\n",
       "      <td>-69.103755</td>\n",
       "      <td>9.043113</td>\n",
       "      <td>-169.557835</td>\n",
       "      <td>2863.003953</td>\n",
       "      <td>0.002273</td>\n",
       "      <td>-0.066818</td>\n",
       "      <td>2.079545</td>\n",
       "      <td>62156.0</td>\n",
       "      <td>1254.0</td>\n",
       "      <td>62156.0</td>\n",
       "      <td>41.0</td>\n",
       "    </tr>\n",
       "    <tr>\n",
       "      <th>4</th>\n",
       "      <td>988307</td>\n",
       "      <td>14.742711</td>\n",
       "      <td>-244.775155</td>\n",
       "      <td>3163.594368</td>\n",
       "      <td>0.000000</td>\n",
       "      <td>0.000000</td>\n",
       "      <td>0.000000</td>\n",
       "      <td>14.742711</td>\n",
       "      <td>-244.775155</td>\n",
       "      <td>3163.594368</td>\n",
       "      <td>0.015704</td>\n",
       "      <td>-0.288249</td>\n",
       "      <td>2.730237</td>\n",
       "      <td>74733.0</td>\n",
       "      <td>0.0</td>\n",
       "      <td>74733.0</td>\n",
       "      <td>56.0</td>\n",
       "    </tr>\n",
       "    <tr>\n",
       "      <th>...</th>\n",
       "      <td>...</td>\n",
       "      <td>...</td>\n",
       "      <td>...</td>\n",
       "      <td>...</td>\n",
       "      <td>...</td>\n",
       "      <td>...</td>\n",
       "      <td>...</td>\n",
       "      <td>...</td>\n",
       "      <td>...</td>\n",
       "      <td>...</td>\n",
       "      <td>...</td>\n",
       "      <td>...</td>\n",
       "      <td>...</td>\n",
       "      <td>...</td>\n",
       "      <td>...</td>\n",
       "      <td>...</td>\n",
       "      <td>...</td>\n",
       "    </tr>\n",
       "    <tr>\n",
       "      <th>16732</th>\n",
       "      <td>749362</td>\n",
       "      <td>0.000000</td>\n",
       "      <td>0.000000</td>\n",
       "      <td>0.000000</td>\n",
       "      <td>0.000000</td>\n",
       "      <td>0.000000</td>\n",
       "      <td>0.000000</td>\n",
       "      <td>0.000000</td>\n",
       "      <td>0.000000</td>\n",
       "      <td>0.000000</td>\n",
       "      <td>0.000000</td>\n",
       "      <td>0.000000</td>\n",
       "      <td>0.000000</td>\n",
       "      <td>0.0</td>\n",
       "      <td>0.0</td>\n",
       "      <td>0.0</td>\n",
       "      <td>0.0</td>\n",
       "    </tr>\n",
       "    <tr>\n",
       "      <th>16733</th>\n",
       "      <td>750154</td>\n",
       "      <td>0.000000</td>\n",
       "      <td>0.000000</td>\n",
       "      <td>0.000000</td>\n",
       "      <td>0.000000</td>\n",
       "      <td>0.000000</td>\n",
       "      <td>0.000000</td>\n",
       "      <td>0.000000</td>\n",
       "      <td>0.000000</td>\n",
       "      <td>0.000000</td>\n",
       "      <td>0.000000</td>\n",
       "      <td>0.000000</td>\n",
       "      <td>0.000000</td>\n",
       "      <td>0.0</td>\n",
       "      <td>0.0</td>\n",
       "      <td>0.0</td>\n",
       "      <td>0.0</td>\n",
       "    </tr>\n",
       "    <tr>\n",
       "      <th>16734</th>\n",
       "      <td>750153</td>\n",
       "      <td>0.000000</td>\n",
       "      <td>0.000000</td>\n",
       "      <td>0.000000</td>\n",
       "      <td>0.000000</td>\n",
       "      <td>0.000000</td>\n",
       "      <td>0.000000</td>\n",
       "      <td>0.000000</td>\n",
       "      <td>0.000000</td>\n",
       "      <td>0.000000</td>\n",
       "      <td>0.000000</td>\n",
       "      <td>0.000000</td>\n",
       "      <td>0.000000</td>\n",
       "      <td>0.0</td>\n",
       "      <td>0.0</td>\n",
       "      <td>0.0</td>\n",
       "      <td>0.0</td>\n",
       "    </tr>\n",
       "    <tr>\n",
       "      <th>16735</th>\n",
       "      <td>748649</td>\n",
       "      <td>-9.369960</td>\n",
       "      <td>161.576838</td>\n",
       "      <td>2746.073123</td>\n",
       "      <td>-0.208513</td>\n",
       "      <td>8.168483</td>\n",
       "      <td>35.465415</td>\n",
       "      <td>-9.369960</td>\n",
       "      <td>161.576838</td>\n",
       "      <td>2746.073123</td>\n",
       "      <td>-0.006902</td>\n",
       "      <td>0.158632</td>\n",
       "      <td>1.592885</td>\n",
       "      <td>68466.0</td>\n",
       "      <td>2280.0</td>\n",
       "      <td>68466.0</td>\n",
       "      <td>52.0</td>\n",
       "    </tr>\n",
       "    <tr>\n",
       "      <th>16736</th>\n",
       "      <td>749430</td>\n",
       "      <td>-15.520318</td>\n",
       "      <td>371.975334</td>\n",
       "      <td>223.081522</td>\n",
       "      <td>-0.575030</td>\n",
       "      <td>15.605760</td>\n",
       "      <td>-22.044960</td>\n",
       "      <td>-15.520318</td>\n",
       "      <td>371.975334</td>\n",
       "      <td>223.081522</td>\n",
       "      <td>-0.006932</td>\n",
       "      <td>0.162870</td>\n",
       "      <td>0.629447</td>\n",
       "      <td>40897.0</td>\n",
       "      <td>1335.0</td>\n",
       "      <td>40897.0</td>\n",
       "      <td>30.0</td>\n",
       "    </tr>\n",
       "  </tbody>\n",
       "</table>\n",
       "<p>16737 rows × 17 columns</p>\n",
       "</div>"
      ],
      "text/plain": [
       "       Loyalty Number  Points Accumulated D0  Points Accumulated D1  \\\n",
       "0              999986            -700.832168           27076.031469   \n",
       "1              981395              -6.840347             300.134752   \n",
       "2              989802              -7.332229             189.695281   \n",
       "3              988921               9.043113            -169.557835   \n",
       "4              988307              14.742711            -244.775155   \n",
       "...               ...                    ...                    ...   \n",
       "16732          749362               0.000000               0.000000   \n",
       "16733          750154               0.000000               0.000000   \n",
       "16734          750153               0.000000               0.000000   \n",
       "16735          748649              -9.369960             161.576838   \n",
       "16736          749430             -15.520318             371.975334   \n",
       "\n",
       "       Points Accumulated D2  Points Redeemed D0  Points Redeemed D1  \\\n",
       "0             -246417.545455            2.639860         -119.087413   \n",
       "1                1059.636364            0.683696          -21.484130   \n",
       "2                2460.472332           -0.298518           11.006858   \n",
       "3                2863.003953           -0.988750           25.857890   \n",
       "4                3163.594368            0.000000            0.000000   \n",
       "...                      ...                 ...                 ...   \n",
       "16732               0.000000            0.000000            0.000000   \n",
       "16733               0.000000            0.000000            0.000000   \n",
       "16734               0.000000            0.000000            0.000000   \n",
       "16735            2746.073123           -0.208513            8.168483   \n",
       "16736             223.081522           -0.575030           15.605760   \n",
       "\n",
       "       Points Redeemed D2  Distance D0   Distance D1    Distance D2  \\\n",
       "0             1392.272727  -467.221445  18050.687646 -164278.363636   \n",
       "1              149.005435    -6.840347    300.134752    1059.636364   \n",
       "2              -45.763340    -7.332229    189.695281    2460.472332   \n",
       "3              -69.103755     9.043113   -169.557835    2863.003953   \n",
       "4                0.000000    14.742711   -244.775155    3163.594368   \n",
       "...                   ...          ...           ...            ...   \n",
       "16732            0.000000     0.000000      0.000000       0.000000   \n",
       "16733            0.000000     0.000000      0.000000       0.000000   \n",
       "16734            0.000000     0.000000      0.000000       0.000000   \n",
       "16735           35.465415    -9.369960    161.576838    2746.073123   \n",
       "16736          -22.044960   -15.520318    371.975334     223.081522   \n",
       "\n",
       "       Total Flights D0  Total Flights D1  Total Flights D2  \\\n",
       "0             -0.255245         10.017483        -92.000000   \n",
       "1              0.000555          0.043954          1.378953   \n",
       "2             -0.003002          0.131148          1.265316   \n",
       "3              0.002273         -0.066818          2.079545   \n",
       "4              0.015704         -0.288249          2.730237   \n",
       "...                 ...               ...               ...   \n",
       "16732          0.000000          0.000000          0.000000   \n",
       "16733          0.000000          0.000000          0.000000   \n",
       "16734          0.000000          0.000000          0.000000   \n",
       "16735         -0.006902          0.158632          1.592885   \n",
       "16736         -0.006932          0.162870          0.629447   \n",
       "\n",
       "       SUM Points Accumulated  SUM Points Redeemed  SUM Distance  \\\n",
       "0                     88201.5               1199.0       58801.0   \n",
       "1                     81954.0                481.0       81954.0   \n",
       "2                     80032.0                741.0       80032.0   \n",
       "3                     62156.0               1254.0       62156.0   \n",
       "4                     74733.0                  0.0       74733.0   \n",
       "...                       ...                  ...           ...   \n",
       "16732                     0.0                  0.0           0.0   \n",
       "16733                     0.0                  0.0           0.0   \n",
       "16734                     0.0                  0.0           0.0   \n",
       "16735                 68466.0               2280.0       68466.0   \n",
       "16736                 40897.0               1335.0       40897.0   \n",
       "\n",
       "       SUM Total Flights  \n",
       "0                   40.0  \n",
       "1                   49.0  \n",
       "2                   55.0  \n",
       "3                   41.0  \n",
       "4                   56.0  \n",
       "...                  ...  \n",
       "16732                0.0  \n",
       "16733                0.0  \n",
       "16734                0.0  \n",
       "16735               52.0  \n",
       "16736               30.0  \n",
       "\n",
       "[16737 rows x 17 columns]"
      ]
     },
     "execution_count": 45,
     "metadata": {},
     "output_type": "execute_result"
    }
   ],
   "source": [
    "extracted_cols = [\"Points Accumulated\", \"Points Redeemed\", \"Distance\", \"Total Flights\"]\n",
    "def derive_invariants(df, deg=2):\n",
    "    \"\"\" fancy function that extracts an analysis of each loyalty number via polynomial regression\n",
    "        and losely returns a dataframe containing its features\n",
    "        NOTE: this will apply a basic smoothing to the uniqueness of the data which may\n",
    "            help future analysis\n",
    "        RUNTIME NOTE: make sure that mf2017 is created first to make the regression smoother \"\"\"\n",
    "    new_cols = [\"Loyalty Number\"]  # making new column names\n",
    "    for c in extracted_cols:\n",
    "        for d in range(deg+1):\n",
    "            new_cols.append(c + \" D\" + str(d))\n",
    "    for c in extracted_cols:\n",
    "        new_cols.append(\"SUM \"+c)\n",
    "            \n",
    "    res = []\n",
    "    for ln in tqdm(df[\"Loyalty Number\"].unique()):\n",
    "        subdf = df[df[\"Loyalty Number\"]==ln]\n",
    "        # get polynomial regression based analysis of points & distance traveled\n",
    "        points_model = np.polyfit(subdf[\"mf2017\"], subdf[\"Points Accumulated\"], deg).tolist()\n",
    "        redeem_model = np.polyfit(subdf[\"mf2017\"], subdf[\"Points Redeemed\"], deg).tolist()\n",
    "        dist_model = np.polyfit(subdf[\"mf2017\"], subdf[\"Distance\"], deg).tolist()\n",
    "        flights_model = np.polyfit(subdf[\"mf2017\"], subdf[\"Total Flights\"], deg).tolist()\n",
    "        # get absolute statistics\n",
    "        stats = subdf[extracted_cols].sum().tolist()\n",
    "        res.append([ln]+points_model+redeem_model+dist_model+flights_model+stats)\n",
    "    return pd.DataFrame(res, columns=new_cols)\n",
    "\n",
    "df2 = derive_invariants(df)\n",
    "df2.to_csv(\"data/Customer Flight Complex.csv\")\n",
    "df2"
   ]
  },
  {
   "cell_type": "markdown",
   "metadata": {},
   "source": [
    "## Categorical Feature Extraction"
   ]
  },
  {
   "cell_type": "code",
   "execution_count": null,
   "metadata": {},
   "outputs": [
    {
     "data": {
      "text/html": [
       "<div>\n",
       "<style scoped>\n",
       "    .dataframe tbody tr th:only-of-type {\n",
       "        vertical-align: middle;\n",
       "    }\n",
       "\n",
       "    .dataframe tbody tr th {\n",
       "        vertical-align: top;\n",
       "    }\n",
       "\n",
       "    .dataframe thead th {\n",
       "        text-align: right;\n",
       "    }\n",
       "</style>\n",
       "<table border=\"1\" class=\"dataframe\">\n",
       "  <thead>\n",
       "    <tr style=\"text-align: right;\">\n",
       "      <th></th>\n",
       "      <th>Loyalty Number</th>\n",
       "      <th>Country</th>\n",
       "      <th>Province</th>\n",
       "      <th>City</th>\n",
       "      <th>Postal Code</th>\n",
       "      <th>Gender</th>\n",
       "      <th>Education</th>\n",
       "      <th>Salary</th>\n",
       "      <th>Marital Status</th>\n",
       "      <th>Loyalty Card</th>\n",
       "      <th>CLV</th>\n",
       "      <th>Enrollment Type</th>\n",
       "      <th>Enrollment Year</th>\n",
       "      <th>Enrollment Month</th>\n",
       "      <th>Cancellation Year</th>\n",
       "      <th>Cancellation Month</th>\n",
       "    </tr>\n",
       "  </thead>\n",
       "  <tbody>\n",
       "    <tr>\n",
       "      <th>0</th>\n",
       "      <td>480934</td>\n",
       "      <td>Canada</td>\n",
       "      <td>Ontario</td>\n",
       "      <td>Toronto</td>\n",
       "      <td>M2Z 4K1</td>\n",
       "      <td>Female</td>\n",
       "      <td>Bachelor</td>\n",
       "      <td>83236.0</td>\n",
       "      <td>Married</td>\n",
       "      <td>Star</td>\n",
       "      <td>3839.14</td>\n",
       "      <td>Standard</td>\n",
       "      <td>2016</td>\n",
       "      <td>2</td>\n",
       "      <td>NaN</td>\n",
       "      <td>NaN</td>\n",
       "    </tr>\n",
       "    <tr>\n",
       "      <th>1</th>\n",
       "      <td>549612</td>\n",
       "      <td>Canada</td>\n",
       "      <td>Alberta</td>\n",
       "      <td>Edmonton</td>\n",
       "      <td>T3G 6Y6</td>\n",
       "      <td>Male</td>\n",
       "      <td>College</td>\n",
       "      <td>NaN</td>\n",
       "      <td>Divorced</td>\n",
       "      <td>Star</td>\n",
       "      <td>3839.61</td>\n",
       "      <td>Standard</td>\n",
       "      <td>2016</td>\n",
       "      <td>3</td>\n",
       "      <td>NaN</td>\n",
       "      <td>NaN</td>\n",
       "    </tr>\n",
       "    <tr>\n",
       "      <th>2</th>\n",
       "      <td>429460</td>\n",
       "      <td>Canada</td>\n",
       "      <td>British Columbia</td>\n",
       "      <td>Vancouver</td>\n",
       "      <td>V6E 3D9</td>\n",
       "      <td>Male</td>\n",
       "      <td>College</td>\n",
       "      <td>NaN</td>\n",
       "      <td>Single</td>\n",
       "      <td>Star</td>\n",
       "      <td>3839.75</td>\n",
       "      <td>Standard</td>\n",
       "      <td>2014</td>\n",
       "      <td>7</td>\n",
       "      <td>2018.0</td>\n",
       "      <td>1.0</td>\n",
       "    </tr>\n",
       "    <tr>\n",
       "      <th>3</th>\n",
       "      <td>608370</td>\n",
       "      <td>Canada</td>\n",
       "      <td>Ontario</td>\n",
       "      <td>Toronto</td>\n",
       "      <td>P1W 1K4</td>\n",
       "      <td>Male</td>\n",
       "      <td>College</td>\n",
       "      <td>NaN</td>\n",
       "      <td>Single</td>\n",
       "      <td>Star</td>\n",
       "      <td>3839.75</td>\n",
       "      <td>Standard</td>\n",
       "      <td>2013</td>\n",
       "      <td>2</td>\n",
       "      <td>NaN</td>\n",
       "      <td>NaN</td>\n",
       "    </tr>\n",
       "    <tr>\n",
       "      <th>4</th>\n",
       "      <td>530508</td>\n",
       "      <td>Canada</td>\n",
       "      <td>Quebec</td>\n",
       "      <td>Hull</td>\n",
       "      <td>J8Y 3Z5</td>\n",
       "      <td>Male</td>\n",
       "      <td>Bachelor</td>\n",
       "      <td>103495.0</td>\n",
       "      <td>Married</td>\n",
       "      <td>Star</td>\n",
       "      <td>3842.79</td>\n",
       "      <td>Standard</td>\n",
       "      <td>2014</td>\n",
       "      <td>10</td>\n",
       "      <td>NaN</td>\n",
       "      <td>NaN</td>\n",
       "    </tr>\n",
       "    <tr>\n",
       "      <th>...</th>\n",
       "      <td>...</td>\n",
       "      <td>...</td>\n",
       "      <td>...</td>\n",
       "      <td>...</td>\n",
       "      <td>...</td>\n",
       "      <td>...</td>\n",
       "      <td>...</td>\n",
       "      <td>...</td>\n",
       "      <td>...</td>\n",
       "      <td>...</td>\n",
       "      <td>...</td>\n",
       "      <td>...</td>\n",
       "      <td>...</td>\n",
       "      <td>...</td>\n",
       "      <td>...</td>\n",
       "      <td>...</td>\n",
       "    </tr>\n",
       "    <tr>\n",
       "      <th>16732</th>\n",
       "      <td>823768</td>\n",
       "      <td>Canada</td>\n",
       "      <td>British Columbia</td>\n",
       "      <td>Vancouver</td>\n",
       "      <td>V6E 3Z3</td>\n",
       "      <td>Female</td>\n",
       "      <td>College</td>\n",
       "      <td>NaN</td>\n",
       "      <td>Married</td>\n",
       "      <td>Star</td>\n",
       "      <td>61850.19</td>\n",
       "      <td>Standard</td>\n",
       "      <td>2012</td>\n",
       "      <td>12</td>\n",
       "      <td>NaN</td>\n",
       "      <td>NaN</td>\n",
       "    </tr>\n",
       "    <tr>\n",
       "      <th>16733</th>\n",
       "      <td>680886</td>\n",
       "      <td>Canada</td>\n",
       "      <td>Saskatchewan</td>\n",
       "      <td>Regina</td>\n",
       "      <td>S1J 3C5</td>\n",
       "      <td>Female</td>\n",
       "      <td>Bachelor</td>\n",
       "      <td>89210.0</td>\n",
       "      <td>Married</td>\n",
       "      <td>Star</td>\n",
       "      <td>67907.27</td>\n",
       "      <td>Standard</td>\n",
       "      <td>2014</td>\n",
       "      <td>9</td>\n",
       "      <td>NaN</td>\n",
       "      <td>NaN</td>\n",
       "    </tr>\n",
       "    <tr>\n",
       "      <th>16734</th>\n",
       "      <td>776187</td>\n",
       "      <td>Canada</td>\n",
       "      <td>British Columbia</td>\n",
       "      <td>Vancouver</td>\n",
       "      <td>V5R 1W3</td>\n",
       "      <td>Male</td>\n",
       "      <td>College</td>\n",
       "      <td>NaN</td>\n",
       "      <td>Single</td>\n",
       "      <td>Star</td>\n",
       "      <td>74228.52</td>\n",
       "      <td>Standard</td>\n",
       "      <td>2014</td>\n",
       "      <td>3</td>\n",
       "      <td>NaN</td>\n",
       "      <td>NaN</td>\n",
       "    </tr>\n",
       "    <tr>\n",
       "      <th>16735</th>\n",
       "      <td>906428</td>\n",
       "      <td>Canada</td>\n",
       "      <td>Yukon</td>\n",
       "      <td>Whitehorse</td>\n",
       "      <td>Y2K 6R0</td>\n",
       "      <td>Male</td>\n",
       "      <td>Bachelor</td>\n",
       "      <td>-57297.0</td>\n",
       "      <td>Married</td>\n",
       "      <td>Star</td>\n",
       "      <td>10018.66</td>\n",
       "      <td>2018 Promotion</td>\n",
       "      <td>2018</td>\n",
       "      <td>4</td>\n",
       "      <td>NaN</td>\n",
       "      <td>NaN</td>\n",
       "    </tr>\n",
       "    <tr>\n",
       "      <th>16736</th>\n",
       "      <td>652627</td>\n",
       "      <td>Canada</td>\n",
       "      <td>Manitoba</td>\n",
       "      <td>Winnipeg</td>\n",
       "      <td>R2C 0M5</td>\n",
       "      <td>Female</td>\n",
       "      <td>Bachelor</td>\n",
       "      <td>75049.0</td>\n",
       "      <td>Married</td>\n",
       "      <td>Star</td>\n",
       "      <td>83325.38</td>\n",
       "      <td>Standard</td>\n",
       "      <td>2015</td>\n",
       "      <td>12</td>\n",
       "      <td>2016.0</td>\n",
       "      <td>8.0</td>\n",
       "    </tr>\n",
       "  </tbody>\n",
       "</table>\n",
       "<p>16737 rows × 16 columns</p>\n",
       "</div>"
      ],
      "text/plain": [
       "       Loyalty Number Country          Province        City Postal Code  \\\n",
       "0              480934  Canada           Ontario     Toronto     M2Z 4K1   \n",
       "1              549612  Canada           Alberta    Edmonton     T3G 6Y6   \n",
       "2              429460  Canada  British Columbia   Vancouver     V6E 3D9   \n",
       "3              608370  Canada           Ontario     Toronto     P1W 1K4   \n",
       "4              530508  Canada            Quebec        Hull     J8Y 3Z5   \n",
       "...               ...     ...               ...         ...         ...   \n",
       "16732          823768  Canada  British Columbia   Vancouver     V6E 3Z3   \n",
       "16733          680886  Canada      Saskatchewan      Regina     S1J 3C5   \n",
       "16734          776187  Canada  British Columbia   Vancouver     V5R 1W3   \n",
       "16735          906428  Canada             Yukon  Whitehorse     Y2K 6R0   \n",
       "16736          652627  Canada          Manitoba    Winnipeg     R2C 0M5   \n",
       "\n",
       "       Gender Education    Salary Marital Status Loyalty Card       CLV  \\\n",
       "0      Female  Bachelor   83236.0        Married         Star   3839.14   \n",
       "1        Male   College       NaN       Divorced         Star   3839.61   \n",
       "2        Male   College       NaN         Single         Star   3839.75   \n",
       "3        Male   College       NaN         Single         Star   3839.75   \n",
       "4        Male  Bachelor  103495.0        Married         Star   3842.79   \n",
       "...       ...       ...       ...            ...          ...       ...   \n",
       "16732  Female   College       NaN        Married         Star  61850.19   \n",
       "16733  Female  Bachelor   89210.0        Married         Star  67907.27   \n",
       "16734    Male   College       NaN         Single         Star  74228.52   \n",
       "16735    Male  Bachelor  -57297.0        Married         Star  10018.66   \n",
       "16736  Female  Bachelor   75049.0        Married         Star  83325.38   \n",
       "\n",
       "      Enrollment Type  Enrollment Year  Enrollment Month  Cancellation Year  \\\n",
       "0            Standard             2016                 2                NaN   \n",
       "1            Standard             2016                 3                NaN   \n",
       "2            Standard             2014                 7             2018.0   \n",
       "3            Standard             2013                 2                NaN   \n",
       "4            Standard             2014                10                NaN   \n",
       "...               ...              ...               ...                ...   \n",
       "16732        Standard             2012                12                NaN   \n",
       "16733        Standard             2014                 9                NaN   \n",
       "16734        Standard             2014                 3                NaN   \n",
       "16735  2018 Promotion             2018                 4                NaN   \n",
       "16736        Standard             2015                12             2016.0   \n",
       "\n",
       "       Cancellation Month  \n",
       "0                     NaN  \n",
       "1                     NaN  \n",
       "2                     1.0  \n",
       "3                     NaN  \n",
       "4                     NaN  \n",
       "...                   ...  \n",
       "16732                 NaN  \n",
       "16733                 NaN  \n",
       "16734                 NaN  \n",
       "16735                 NaN  \n",
       "16736                 8.0  \n",
       "\n",
       "[16737 rows x 16 columns]"
      ]
     },
     "execution_count": 73,
     "metadata": {},
     "output_type": "execute_result"
    }
   ],
   "source": [
    "df = pd.read_csv(paths[1])\n",
    "df"
   ]
  },
  {
   "cell_type": "code",
   "execution_count": null,
   "metadata": {},
   "outputs": [
    {
     "name": "stdout",
     "output_type": "stream",
     "text": [
      "\n",
      "column Country has only 1 value and therefore is giving no information so we drop it...\n",
      "\n",
      "column Province should be unique...\n",
      "['Ontario', 'Alberta', 'British Columbia', 'Quebec', 'Yukon', 'New Brunswick', 'Manitoba', 'Nova Scotia', 'Saskatchewan', 'Newfoundland', 'Prince Edward Island']\n",
      "\n",
      "column City should be unique...\n",
      "['Toronto', 'Edmonton', 'Vancouver', 'Hull', 'Whitehorse', 'Trenton', 'Montreal', 'Dawson Creek', 'Quebec City', 'Fredericton', 'Ottawa', 'Tremblant', 'Calgary', 'Thunder Bay', 'Whistler', 'Peace River', 'Winnipeg', 'Sudbury', 'West Vancouver', 'Halifax', 'London', 'Regina', 'Kelowna', \"St. John's\", 'Victoria', 'Kingston', 'Banff', 'Moncton', 'Charlottetown']\n",
      "\n",
      "Encoding for column Gender => {'Female': 0, 'Male': 1}\n",
      "\n",
      "column Education should be unique...\n",
      "['Bachelor', 'College', 'Master', 'High School or Below', 'Doctor']\n",
      "\n",
      "column Marital Status should be unique...\n",
      "['Married', 'Divorced', 'Single']\n",
      "\n",
      "column Loyalty Card should be unique...\n",
      "['Star', 'Aurora', 'Nova']\n",
      "\n",
      "Encoding for column Enrollment Type => {'Standard': 0, '2018 Promotion': 1}\n"
     ]
    },
    {
     "data": {
      "text/html": [
       "<div>\n",
       "<style scoped>\n",
       "    .dataframe tbody tr th:only-of-type {\n",
       "        vertical-align: middle;\n",
       "    }\n",
       "\n",
       "    .dataframe tbody tr th {\n",
       "        vertical-align: top;\n",
       "    }\n",
       "\n",
       "    .dataframe thead th {\n",
       "        text-align: right;\n",
       "    }\n",
       "</style>\n",
       "<table border=\"1\" class=\"dataframe\">\n",
       "  <thead>\n",
       "    <tr style=\"text-align: right;\">\n",
       "      <th></th>\n",
       "      <th>Loyalty Number</th>\n",
       "      <th>Postal Code</th>\n",
       "      <th>Gender</th>\n",
       "      <th>Salary</th>\n",
       "      <th>CLV</th>\n",
       "      <th>Enrollment Type</th>\n",
       "      <th>Enrollment Year</th>\n",
       "      <th>Enrollment Month</th>\n",
       "      <th>Cancellation Year</th>\n",
       "      <th>Cancellation Month</th>\n",
       "      <th>...</th>\n",
       "      <th>Education_College</th>\n",
       "      <th>Education_Doctor</th>\n",
       "      <th>Education_High School or Below</th>\n",
       "      <th>Education_Master</th>\n",
       "      <th>Marital Status_Divorced</th>\n",
       "      <th>Marital Status_Married</th>\n",
       "      <th>Marital Status_Single</th>\n",
       "      <th>Loyalty Card_Aurora</th>\n",
       "      <th>Loyalty Card_Nova</th>\n",
       "      <th>Loyalty Card_Star</th>\n",
       "    </tr>\n",
       "  </thead>\n",
       "  <tbody>\n",
       "    <tr>\n",
       "      <th>0</th>\n",
       "      <td>480934</td>\n",
       "      <td>M2Z 4K1</td>\n",
       "      <td>0</td>\n",
       "      <td>83236.0</td>\n",
       "      <td>3839.14</td>\n",
       "      <td>0</td>\n",
       "      <td>2016</td>\n",
       "      <td>2</td>\n",
       "      <td>NaN</td>\n",
       "      <td>NaN</td>\n",
       "      <td>...</td>\n",
       "      <td>0</td>\n",
       "      <td>0</td>\n",
       "      <td>0</td>\n",
       "      <td>0</td>\n",
       "      <td>0</td>\n",
       "      <td>1</td>\n",
       "      <td>0</td>\n",
       "      <td>0</td>\n",
       "      <td>0</td>\n",
       "      <td>1</td>\n",
       "    </tr>\n",
       "    <tr>\n",
       "      <th>1</th>\n",
       "      <td>549612</td>\n",
       "      <td>T3G 6Y6</td>\n",
       "      <td>1</td>\n",
       "      <td>NaN</td>\n",
       "      <td>3839.61</td>\n",
       "      <td>0</td>\n",
       "      <td>2016</td>\n",
       "      <td>3</td>\n",
       "      <td>NaN</td>\n",
       "      <td>NaN</td>\n",
       "      <td>...</td>\n",
       "      <td>1</td>\n",
       "      <td>0</td>\n",
       "      <td>0</td>\n",
       "      <td>0</td>\n",
       "      <td>1</td>\n",
       "      <td>0</td>\n",
       "      <td>0</td>\n",
       "      <td>0</td>\n",
       "      <td>0</td>\n",
       "      <td>1</td>\n",
       "    </tr>\n",
       "    <tr>\n",
       "      <th>2</th>\n",
       "      <td>429460</td>\n",
       "      <td>V6E 3D9</td>\n",
       "      <td>1</td>\n",
       "      <td>NaN</td>\n",
       "      <td>3839.75</td>\n",
       "      <td>0</td>\n",
       "      <td>2014</td>\n",
       "      <td>7</td>\n",
       "      <td>2018.0</td>\n",
       "      <td>1.0</td>\n",
       "      <td>...</td>\n",
       "      <td>1</td>\n",
       "      <td>0</td>\n",
       "      <td>0</td>\n",
       "      <td>0</td>\n",
       "      <td>0</td>\n",
       "      <td>0</td>\n",
       "      <td>1</td>\n",
       "      <td>0</td>\n",
       "      <td>0</td>\n",
       "      <td>1</td>\n",
       "    </tr>\n",
       "    <tr>\n",
       "      <th>3</th>\n",
       "      <td>608370</td>\n",
       "      <td>P1W 1K4</td>\n",
       "      <td>1</td>\n",
       "      <td>NaN</td>\n",
       "      <td>3839.75</td>\n",
       "      <td>0</td>\n",
       "      <td>2013</td>\n",
       "      <td>2</td>\n",
       "      <td>NaN</td>\n",
       "      <td>NaN</td>\n",
       "      <td>...</td>\n",
       "      <td>1</td>\n",
       "      <td>0</td>\n",
       "      <td>0</td>\n",
       "      <td>0</td>\n",
       "      <td>0</td>\n",
       "      <td>0</td>\n",
       "      <td>1</td>\n",
       "      <td>0</td>\n",
       "      <td>0</td>\n",
       "      <td>1</td>\n",
       "    </tr>\n",
       "    <tr>\n",
       "      <th>4</th>\n",
       "      <td>530508</td>\n",
       "      <td>J8Y 3Z5</td>\n",
       "      <td>1</td>\n",
       "      <td>103495.0</td>\n",
       "      <td>3842.79</td>\n",
       "      <td>0</td>\n",
       "      <td>2014</td>\n",
       "      <td>10</td>\n",
       "      <td>NaN</td>\n",
       "      <td>NaN</td>\n",
       "      <td>...</td>\n",
       "      <td>0</td>\n",
       "      <td>0</td>\n",
       "      <td>0</td>\n",
       "      <td>0</td>\n",
       "      <td>0</td>\n",
       "      <td>1</td>\n",
       "      <td>0</td>\n",
       "      <td>0</td>\n",
       "      <td>0</td>\n",
       "      <td>1</td>\n",
       "    </tr>\n",
       "    <tr>\n",
       "      <th>...</th>\n",
       "      <td>...</td>\n",
       "      <td>...</td>\n",
       "      <td>...</td>\n",
       "      <td>...</td>\n",
       "      <td>...</td>\n",
       "      <td>...</td>\n",
       "      <td>...</td>\n",
       "      <td>...</td>\n",
       "      <td>...</td>\n",
       "      <td>...</td>\n",
       "      <td>...</td>\n",
       "      <td>...</td>\n",
       "      <td>...</td>\n",
       "      <td>...</td>\n",
       "      <td>...</td>\n",
       "      <td>...</td>\n",
       "      <td>...</td>\n",
       "      <td>...</td>\n",
       "      <td>...</td>\n",
       "      <td>...</td>\n",
       "      <td>...</td>\n",
       "    </tr>\n",
       "    <tr>\n",
       "      <th>16732</th>\n",
       "      <td>823768</td>\n",
       "      <td>V6E 3Z3</td>\n",
       "      <td>0</td>\n",
       "      <td>NaN</td>\n",
       "      <td>61850.19</td>\n",
       "      <td>0</td>\n",
       "      <td>2012</td>\n",
       "      <td>12</td>\n",
       "      <td>NaN</td>\n",
       "      <td>NaN</td>\n",
       "      <td>...</td>\n",
       "      <td>1</td>\n",
       "      <td>0</td>\n",
       "      <td>0</td>\n",
       "      <td>0</td>\n",
       "      <td>0</td>\n",
       "      <td>1</td>\n",
       "      <td>0</td>\n",
       "      <td>0</td>\n",
       "      <td>0</td>\n",
       "      <td>1</td>\n",
       "    </tr>\n",
       "    <tr>\n",
       "      <th>16733</th>\n",
       "      <td>680886</td>\n",
       "      <td>S1J 3C5</td>\n",
       "      <td>0</td>\n",
       "      <td>89210.0</td>\n",
       "      <td>67907.27</td>\n",
       "      <td>0</td>\n",
       "      <td>2014</td>\n",
       "      <td>9</td>\n",
       "      <td>NaN</td>\n",
       "      <td>NaN</td>\n",
       "      <td>...</td>\n",
       "      <td>0</td>\n",
       "      <td>0</td>\n",
       "      <td>0</td>\n",
       "      <td>0</td>\n",
       "      <td>0</td>\n",
       "      <td>1</td>\n",
       "      <td>0</td>\n",
       "      <td>0</td>\n",
       "      <td>0</td>\n",
       "      <td>1</td>\n",
       "    </tr>\n",
       "    <tr>\n",
       "      <th>16734</th>\n",
       "      <td>776187</td>\n",
       "      <td>V5R 1W3</td>\n",
       "      <td>1</td>\n",
       "      <td>NaN</td>\n",
       "      <td>74228.52</td>\n",
       "      <td>0</td>\n",
       "      <td>2014</td>\n",
       "      <td>3</td>\n",
       "      <td>NaN</td>\n",
       "      <td>NaN</td>\n",
       "      <td>...</td>\n",
       "      <td>1</td>\n",
       "      <td>0</td>\n",
       "      <td>0</td>\n",
       "      <td>0</td>\n",
       "      <td>0</td>\n",
       "      <td>0</td>\n",
       "      <td>1</td>\n",
       "      <td>0</td>\n",
       "      <td>0</td>\n",
       "      <td>1</td>\n",
       "    </tr>\n",
       "    <tr>\n",
       "      <th>16735</th>\n",
       "      <td>906428</td>\n",
       "      <td>Y2K 6R0</td>\n",
       "      <td>1</td>\n",
       "      <td>-57297.0</td>\n",
       "      <td>10018.66</td>\n",
       "      <td>1</td>\n",
       "      <td>2018</td>\n",
       "      <td>4</td>\n",
       "      <td>NaN</td>\n",
       "      <td>NaN</td>\n",
       "      <td>...</td>\n",
       "      <td>0</td>\n",
       "      <td>0</td>\n",
       "      <td>0</td>\n",
       "      <td>0</td>\n",
       "      <td>0</td>\n",
       "      <td>1</td>\n",
       "      <td>0</td>\n",
       "      <td>0</td>\n",
       "      <td>0</td>\n",
       "      <td>1</td>\n",
       "    </tr>\n",
       "    <tr>\n",
       "      <th>16736</th>\n",
       "      <td>652627</td>\n",
       "      <td>R2C 0M5</td>\n",
       "      <td>0</td>\n",
       "      <td>75049.0</td>\n",
       "      <td>83325.38</td>\n",
       "      <td>0</td>\n",
       "      <td>2015</td>\n",
       "      <td>12</td>\n",
       "      <td>2016.0</td>\n",
       "      <td>8.0</td>\n",
       "      <td>...</td>\n",
       "      <td>0</td>\n",
       "      <td>0</td>\n",
       "      <td>0</td>\n",
       "      <td>0</td>\n",
       "      <td>0</td>\n",
       "      <td>1</td>\n",
       "      <td>0</td>\n",
       "      <td>0</td>\n",
       "      <td>0</td>\n",
       "      <td>1</td>\n",
       "    </tr>\n",
       "  </tbody>\n",
       "</table>\n",
       "<p>16737 rows × 61 columns</p>\n",
       "</div>"
      ],
      "text/plain": [
       "       Loyalty Number Postal Code  Gender    Salary       CLV  \\\n",
       "0              480934     M2Z 4K1       0   83236.0   3839.14   \n",
       "1              549612     T3G 6Y6       1       NaN   3839.61   \n",
       "2              429460     V6E 3D9       1       NaN   3839.75   \n",
       "3              608370     P1W 1K4       1       NaN   3839.75   \n",
       "4              530508     J8Y 3Z5       1  103495.0   3842.79   \n",
       "...               ...         ...     ...       ...       ...   \n",
       "16732          823768     V6E 3Z3       0       NaN  61850.19   \n",
       "16733          680886     S1J 3C5       0   89210.0  67907.27   \n",
       "16734          776187     V5R 1W3       1       NaN  74228.52   \n",
       "16735          906428     Y2K 6R0       1  -57297.0  10018.66   \n",
       "16736          652627     R2C 0M5       0   75049.0  83325.38   \n",
       "\n",
       "       Enrollment Type  Enrollment Year  Enrollment Month  Cancellation Year  \\\n",
       "0                    0             2016                 2                NaN   \n",
       "1                    0             2016                 3                NaN   \n",
       "2                    0             2014                 7             2018.0   \n",
       "3                    0             2013                 2                NaN   \n",
       "4                    0             2014                10                NaN   \n",
       "...                ...              ...               ...                ...   \n",
       "16732                0             2012                12                NaN   \n",
       "16733                0             2014                 9                NaN   \n",
       "16734                0             2014                 3                NaN   \n",
       "16735                1             2018                 4                NaN   \n",
       "16736                0             2015                12             2016.0   \n",
       "\n",
       "       Cancellation Month  ...  Education_College  Education_Doctor  \\\n",
       "0                     NaN  ...                  0                 0   \n",
       "1                     NaN  ...                  1                 0   \n",
       "2                     1.0  ...                  1                 0   \n",
       "3                     NaN  ...                  1                 0   \n",
       "4                     NaN  ...                  0                 0   \n",
       "...                   ...  ...                ...               ...   \n",
       "16732                 NaN  ...                  1                 0   \n",
       "16733                 NaN  ...                  0                 0   \n",
       "16734                 NaN  ...                  1                 0   \n",
       "16735                 NaN  ...                  0                 0   \n",
       "16736                 8.0  ...                  0                 0   \n",
       "\n",
       "       Education_High School or Below  Education_Master  \\\n",
       "0                                   0                 0   \n",
       "1                                   0                 0   \n",
       "2                                   0                 0   \n",
       "3                                   0                 0   \n",
       "4                                   0                 0   \n",
       "...                               ...               ...   \n",
       "16732                               0                 0   \n",
       "16733                               0                 0   \n",
       "16734                               0                 0   \n",
       "16735                               0                 0   \n",
       "16736                               0                 0   \n",
       "\n",
       "       Marital Status_Divorced  Marital Status_Married  Marital Status_Single  \\\n",
       "0                            0                       1                      0   \n",
       "1                            1                       0                      0   \n",
       "2                            0                       0                      1   \n",
       "3                            0                       0                      1   \n",
       "4                            0                       1                      0   \n",
       "...                        ...                     ...                    ...   \n",
       "16732                        0                       1                      0   \n",
       "16733                        0                       1                      0   \n",
       "16734                        0                       0                      1   \n",
       "16735                        0                       1                      0   \n",
       "16736                        0                       1                      0   \n",
       "\n",
       "       Loyalty Card_Aurora  Loyalty Card_Nova  Loyalty Card_Star  \n",
       "0                        0                  0                  1  \n",
       "1                        0                  0                  1  \n",
       "2                        0                  0                  1  \n",
       "3                        0                  0                  1  \n",
       "4                        0                  0                  1  \n",
       "...                    ...                ...                ...  \n",
       "16732                    0                  0                  1  \n",
       "16733                    0                  0                  1  \n",
       "16734                    0                  0                  1  \n",
       "16735                    0                  0                  1  \n",
       "16736                    0                  0                  1  \n",
       "\n",
       "[16737 rows x 61 columns]"
      ]
     },
     "execution_count": 74,
     "metadata": {},
     "output_type": "execute_result"
    }
   ],
   "source": [
    "# identify categorical columns automnatically and 1hot encode\n",
    "def derive_categorical(df, ordinal_keys=[\"month\", \"year\"], verbose=False):\n",
    "    categorical_cols = []\n",
    "    for col in df.columns:\n",
    "        types = list(df[col].unique())\n",
    "        if len(types) == 1:\n",
    "            if verbose:\n",
    "                print(\"\\ncolumn\", col, \"has only 1 value and therefore is giving no information so we drop it...\")\n",
    "            df.drop(col, axis=1, inplace=True)\n",
    "        elif len(types) == 2:\n",
    "            encoding = dict([[name, i] for i, name in enumerate(types)])\n",
    "            if verbose: print(\"\\nEncoding for column\", col, \"=>\", encoding)\n",
    "            df[col] = df[col].apply(lambda x: encoding[x])\n",
    "        elif len(types) < 50:\n",
    "            is_cat = True\n",
    "            for word in ordinal_keys:\n",
    "                if word.lower() in col.lower():\n",
    "                    is_cat = False\n",
    "                    break\n",
    "            if is_cat:\n",
    "                if verbose:\n",
    "                    print(\"\\ncolumn\", col, \"should be unique...\")\n",
    "                    print(types)\n",
    "                categorical_cols.append(col)\n",
    "    # one hot multi-category columns\n",
    "    oh = pd.get_dummies(df[categorical_cols])\n",
    "    for col in categorical_cols:\n",
    "        df.drop(col, axis=1, inplace=True)\n",
    "    return pd.merge(df, oh, left_index=True, right_index=True)\n",
    "df = derive_categorical(df, [\"month\", \"year\"], True)\n",
    "df.to_csv(\"data/Customer Loyalty CatEncoded.csv\")\n",
    "df"
   ]
  },
  {
   "cell_type": "markdown",
   "metadata": {},
   "source": [
    "## Looking at Additional Data from RL Paper\n",
    "### School Data"
   ]
  },
  {
   "cell_type": "code",
   "execution_count": null,
   "metadata": {},
   "outputs": [
    {
     "data": {
      "text/html": [
       "<div>\n",
       "<style scoped>\n",
       "    .dataframe tbody tr th:only-of-type {\n",
       "        vertical-align: middle;\n",
       "    }\n",
       "\n",
       "    .dataframe tbody tr th {\n",
       "        vertical-align: top;\n",
       "    }\n",
       "\n",
       "    .dataframe thead th {\n",
       "        text-align: right;\n",
       "    }\n",
       "</style>\n",
       "<table border=\"1\" class=\"dataframe\">\n",
       "  <thead>\n",
       "    <tr style=\"text-align: right;\">\n",
       "      <th></th>\n",
       "      <th>Campus Name</th>\n",
       "      <th>CCSF Entity</th>\n",
       "      <th>Lower Grade</th>\n",
       "      <th>Upper Grade</th>\n",
       "      <th>Grade Range</th>\n",
       "      <th>Category</th>\n",
       "      <th>Map Label</th>\n",
       "      <th>Lower Age</th>\n",
       "      <th>Upper Age</th>\n",
       "      <th>General Type</th>\n",
       "      <th>...</th>\n",
       "      <th>Campus Address</th>\n",
       "      <th>Supervisor District</th>\n",
       "      <th>County FIPS</th>\n",
       "      <th>County Name</th>\n",
       "      <th>Location 1</th>\n",
       "      <th>Neighborhoods (old)</th>\n",
       "      <th>Zip Codes</th>\n",
       "      <th>Fire Prevention Districts</th>\n",
       "      <th>Police Districts</th>\n",
       "      <th>Supervisor Districts</th>\n",
       "    </tr>\n",
       "  </thead>\n",
       "  <tbody>\n",
       "    <tr>\n",
       "      <th>0</th>\n",
       "      <td>Milk, Harvey Milk Childrens Center</td>\n",
       "      <td>SFUSD</td>\n",
       "      <td>-2</td>\n",
       "      <td>-1</td>\n",
       "      <td>PK</td>\n",
       "      <td>USD PreK</td>\n",
       "      <td>CDC095</td>\n",
       "      <td>3</td>\n",
       "      <td>4</td>\n",
       "      <td>CDC</td>\n",
       "      <td>...</td>\n",
       "      <td>841 ELLIS ST, SAN FRANCISCO CA 94117</td>\n",
       "      <td>6</td>\n",
       "      <td>6075</td>\n",
       "      <td>SAN FRANCISCO</td>\n",
       "      <td>CA\\n(37.783802, -122.420105)</td>\n",
       "      <td>36</td>\n",
       "      <td>28858</td>\n",
       "      <td>7.0</td>\n",
       "      <td>9.0</td>\n",
       "      <td>9</td>\n",
       "    </tr>\n",
       "    <tr>\n",
       "      <th>1</th>\n",
       "      <td>Mckinley Elementary School</td>\n",
       "      <td>SFUSD</td>\n",
       "      <td>0</td>\n",
       "      <td>5</td>\n",
       "      <td>K-5</td>\n",
       "      <td>USD Grades K-5</td>\n",
       "      <td>PS075</td>\n",
       "      <td>5</td>\n",
       "      <td>10</td>\n",
       "      <td>PS</td>\n",
       "      <td>...</td>\n",
       "      <td>1025 14TH ST, San Francisco, CA 94114</td>\n",
       "      <td>8</td>\n",
       "      <td>6075</td>\n",
       "      <td>SAN FRANCISCO</td>\n",
       "      <td>CA\\n(37.766884, -122.436279)</td>\n",
       "      <td>3</td>\n",
       "      <td>28862</td>\n",
       "      <td>15.0</td>\n",
       "      <td>5.0</td>\n",
       "      <td>5</td>\n",
       "    </tr>\n",
       "    <tr>\n",
       "      <th>2</th>\n",
       "      <td>Jewish Community Center San Francisco - Rosenb...</td>\n",
       "      <td>Private</td>\n",
       "      <td>-2</td>\n",
       "      <td>-1</td>\n",
       "      <td>PK</td>\n",
       "      <td>Independent / Private</td>\n",
       "      <td>CDC058</td>\n",
       "      <td>3</td>\n",
       "      <td>4</td>\n",
       "      <td>CDC</td>\n",
       "      <td>...</td>\n",
       "      <td>325 ARGUELLO BLVD, SAN FRANCISCO, CA 94118</td>\n",
       "      <td>1</td>\n",
       "      <td>6075</td>\n",
       "      <td>SAN FRANCISCO</td>\n",
       "      <td>CA\\n(37.784588, -122.459488)</td>\n",
       "      <td>11</td>\n",
       "      <td>54</td>\n",
       "      <td>11.0</td>\n",
       "      <td>6.0</td>\n",
       "      <td>2</td>\n",
       "    </tr>\n",
       "    <tr>\n",
       "      <th>3</th>\n",
       "      <td>Eureka Learning Center</td>\n",
       "      <td>Private</td>\n",
       "      <td>-2</td>\n",
       "      <td>-1</td>\n",
       "      <td>PK</td>\n",
       "      <td>Independent / Private</td>\n",
       "      <td>CDC035</td>\n",
       "      <td>3</td>\n",
       "      <td>4</td>\n",
       "      <td>CDC</td>\n",
       "      <td>...</td>\n",
       "      <td>464 DIAMOND ST, SAN FRANCISCO, CA 94114</td>\n",
       "      <td>8</td>\n",
       "      <td>6075</td>\n",
       "      <td>SAN FRANCISCO</td>\n",
       "      <td>CA\\n(37.754967, -122.437004)</td>\n",
       "      <td>22</td>\n",
       "      <td>28862</td>\n",
       "      <td>2.0</td>\n",
       "      <td>4.0</td>\n",
       "      <td>5</td>\n",
       "    </tr>\n",
       "    <tr>\n",
       "      <th>4</th>\n",
       "      <td>Noriega Early Education School</td>\n",
       "      <td>SFUSD</td>\n",
       "      <td>-2</td>\n",
       "      <td>5</td>\n",
       "      <td>PK-5</td>\n",
       "      <td>USD PreK/TK-5</td>\n",
       "      <td>PS085</td>\n",
       "      <td>3</td>\n",
       "      <td>10</td>\n",
       "      <td>PS</td>\n",
       "      <td>...</td>\n",
       "      <td>1775 44TH AVE, San Francisco, CA 94122</td>\n",
       "      <td>4</td>\n",
       "      <td>6075</td>\n",
       "      <td>SAN FRANCISCO</td>\n",
       "      <td>CA\\n(37.753834, -122.503654)</td>\n",
       "      <td>35</td>\n",
       "      <td>56</td>\n",
       "      <td>1.0</td>\n",
       "      <td>8.0</td>\n",
       "      <td>3</td>\n",
       "    </tr>\n",
       "    <tr>\n",
       "      <th>...</th>\n",
       "      <td>...</td>\n",
       "      <td>...</td>\n",
       "      <td>...</td>\n",
       "      <td>...</td>\n",
       "      <td>...</td>\n",
       "      <td>...</td>\n",
       "      <td>...</td>\n",
       "      <td>...</td>\n",
       "      <td>...</td>\n",
       "      <td>...</td>\n",
       "      <td>...</td>\n",
       "      <td>...</td>\n",
       "      <td>...</td>\n",
       "      <td>...</td>\n",
       "      <td>...</td>\n",
       "      <td>...</td>\n",
       "      <td>...</td>\n",
       "      <td>...</td>\n",
       "      <td>...</td>\n",
       "      <td>...</td>\n",
       "      <td>...</td>\n",
       "    </tr>\n",
       "    <tr>\n",
       "      <th>440</th>\n",
       "      <td>Golden Gate Guppies Preschool</td>\n",
       "      <td>Private</td>\n",
       "      <td>-2</td>\n",
       "      <td>-1</td>\n",
       "      <td>PK</td>\n",
       "      <td>Independent / Private</td>\n",
       "      <td>CDC046</td>\n",
       "      <td>3</td>\n",
       "      <td>4</td>\n",
       "      <td>CDC</td>\n",
       "      <td>...</td>\n",
       "      <td>2426 CALIFORNIA ST, SAN FRANCISCO, CA 94115</td>\n",
       "      <td>2</td>\n",
       "      <td>6075</td>\n",
       "      <td>SAN FRANCISCO</td>\n",
       "      <td>CA\\n(37.789124, -122.434509)</td>\n",
       "      <td>27</td>\n",
       "      <td>29490</td>\n",
       "      <td>13.0</td>\n",
       "      <td>9.0</td>\n",
       "      <td>1</td>\n",
       "    </tr>\n",
       "    <tr>\n",
       "      <th>441</th>\n",
       "      <td>Lands End School</td>\n",
       "      <td>Private</td>\n",
       "      <td>-2</td>\n",
       "      <td>-1</td>\n",
       "      <td>PK</td>\n",
       "      <td>Independent / Private</td>\n",
       "      <td>CDC071</td>\n",
       "      <td>3</td>\n",
       "      <td>4</td>\n",
       "      <td>CDC</td>\n",
       "      <td>...</td>\n",
       "      <td>4150 CLEMENT ST BLDG T35, SAN FRANCISCO, CA 94121</td>\n",
       "      <td>1</td>\n",
       "      <td>6075</td>\n",
       "      <td>SAN FRANCISCO</td>\n",
       "      <td>CA\\n(37.782593, -122.504578)</td>\n",
       "      <td>15</td>\n",
       "      <td>55</td>\n",
       "      <td>11.0</td>\n",
       "      <td>6.0</td>\n",
       "      <td>2</td>\n",
       "    </tr>\n",
       "    <tr>\n",
       "      <th>442</th>\n",
       "      <td>San Francisco Pacific Academy</td>\n",
       "      <td>Private</td>\n",
       "      <td>0</td>\n",
       "      <td>8</td>\n",
       "      <td>K-8</td>\n",
       "      <td>Independent / Private</td>\n",
       "      <td>IND317</td>\n",
       "      <td>5</td>\n",
       "      <td>13</td>\n",
       "      <td>IND</td>\n",
       "      <td>...</td>\n",
       "      <td>3301 BALBOA ST, SAN FRANCISCO, CA 94121</td>\n",
       "      <td>1</td>\n",
       "      <td>6075</td>\n",
       "      <td>SAN FRANCISCO</td>\n",
       "      <td>CA\\n(37.775639, -122.494286)</td>\n",
       "      <td>26</td>\n",
       "      <td>55</td>\n",
       "      <td>11.0</td>\n",
       "      <td>6.0</td>\n",
       "      <td>2</td>\n",
       "    </tr>\n",
       "    <tr>\n",
       "      <th>443</th>\n",
       "      <td>Wells, Ida B. Wells High School</td>\n",
       "      <td>SFUSD</td>\n",
       "      <td>9</td>\n",
       "      <td>12</td>\n",
       "      <td>9-12</td>\n",
       "      <td>USD Grades 9-12</td>\n",
       "      <td>PS124</td>\n",
       "      <td>14</td>\n",
       "      <td>17</td>\n",
       "      <td>PS</td>\n",
       "      <td>...</td>\n",
       "      <td>1099 HAYES ST, SAN FRANCISCO, CA 94117</td>\n",
       "      <td>5</td>\n",
       "      <td>6075</td>\n",
       "      <td>SAN FRANCISCO</td>\n",
       "      <td>CA\\n(37.775013, -122.433899)</td>\n",
       "      <td>10</td>\n",
       "      <td>29492</td>\n",
       "      <td>15.0</td>\n",
       "      <td>5.0</td>\n",
       "      <td>11</td>\n",
       "    </tr>\n",
       "    <tr>\n",
       "      <th>444</th>\n",
       "      <td>Munchkinland Preschool And Family Daycare</td>\n",
       "      <td>Private</td>\n",
       "      <td>-2</td>\n",
       "      <td>-1</td>\n",
       "      <td>PK</td>\n",
       "      <td>Independent / Private</td>\n",
       "      <td>CDC110</td>\n",
       "      <td>3</td>\n",
       "      <td>4</td>\n",
       "      <td>CDC</td>\n",
       "      <td>...</td>\n",
       "      <td>4710 CABRILLO ST, SAN FRANCISCO, CA 94121</td>\n",
       "      <td>1</td>\n",
       "      <td>6075</td>\n",
       "      <td>SAN FRANCISCO</td>\n",
       "      <td>CA\\n(37.773445, -122.509254)</td>\n",
       "      <td>26</td>\n",
       "      <td>55</td>\n",
       "      <td>11.0</td>\n",
       "      <td>6.0</td>\n",
       "      <td>2</td>\n",
       "    </tr>\n",
       "  </tbody>\n",
       "</table>\n",
       "<p>445 rows × 21 columns</p>\n",
       "</div>"
      ],
      "text/plain": [
       "                                           Campus Name CCSF Entity  \\\n",
       "0                   Milk, Harvey Milk Childrens Center       SFUSD   \n",
       "1                           Mckinley Elementary School       SFUSD   \n",
       "2    Jewish Community Center San Francisco - Rosenb...     Private   \n",
       "3                               Eureka Learning Center     Private   \n",
       "4                       Noriega Early Education School       SFUSD   \n",
       "..                                                 ...         ...   \n",
       "440                      Golden Gate Guppies Preschool     Private   \n",
       "441                                   Lands End School     Private   \n",
       "442                      San Francisco Pacific Academy     Private   \n",
       "443                    Wells, Ida B. Wells High School       SFUSD   \n",
       "444          Munchkinland Preschool And Family Daycare     Private   \n",
       "\n",
       "     Lower Grade  Upper Grade Grade Range               Category Map Label  \\\n",
       "0             -2           -1          PK               USD PreK    CDC095   \n",
       "1              0            5         K-5         USD Grades K-5     PS075   \n",
       "2             -2           -1          PK  Independent / Private    CDC058   \n",
       "3             -2           -1          PK  Independent / Private    CDC035   \n",
       "4             -2            5        PK-5          USD PreK/TK-5     PS085   \n",
       "..           ...          ...         ...                    ...       ...   \n",
       "440           -2           -1          PK  Independent / Private    CDC046   \n",
       "441           -2           -1          PK  Independent / Private    CDC071   \n",
       "442            0            8         K-8  Independent / Private    IND317   \n",
       "443            9           12        9-12        USD Grades 9-12     PS124   \n",
       "444           -2           -1          PK  Independent / Private    CDC110   \n",
       "\n",
       "     Lower Age  Upper Age General Type  ...  \\\n",
       "0            3          4          CDC  ...   \n",
       "1            5         10           PS  ...   \n",
       "2            3          4          CDC  ...   \n",
       "3            3          4          CDC  ...   \n",
       "4            3         10           PS  ...   \n",
       "..         ...        ...          ...  ...   \n",
       "440          3          4          CDC  ...   \n",
       "441          3          4          CDC  ...   \n",
       "442          5         13          IND  ...   \n",
       "443         14         17           PS  ...   \n",
       "444          3          4          CDC  ...   \n",
       "\n",
       "                                        Campus Address Supervisor District  \\\n",
       "0                 841 ELLIS ST, SAN FRANCISCO CA 94117                   6   \n",
       "1                1025 14TH ST, San Francisco, CA 94114                   8   \n",
       "2           325 ARGUELLO BLVD, SAN FRANCISCO, CA 94118                   1   \n",
       "3              464 DIAMOND ST, SAN FRANCISCO, CA 94114                   8   \n",
       "4               1775 44TH AVE, San Francisco, CA 94122                   4   \n",
       "..                                                 ...                 ...   \n",
       "440        2426 CALIFORNIA ST, SAN FRANCISCO, CA 94115                   2   \n",
       "441  4150 CLEMENT ST BLDG T35, SAN FRANCISCO, CA 94121                   1   \n",
       "442            3301 BALBOA ST, SAN FRANCISCO, CA 94121                   1   \n",
       "443             1099 HAYES ST, SAN FRANCISCO, CA 94117                   5   \n",
       "444          4710 CABRILLO ST, SAN FRANCISCO, CA 94121                   1   \n",
       "\n",
       "     County FIPS    County Name                    Location 1  \\\n",
       "0           6075  SAN FRANCISCO  CA\\n(37.783802, -122.420105)   \n",
       "1           6075  SAN FRANCISCO  CA\\n(37.766884, -122.436279)   \n",
       "2           6075  SAN FRANCISCO  CA\\n(37.784588, -122.459488)   \n",
       "3           6075  SAN FRANCISCO  CA\\n(37.754967, -122.437004)   \n",
       "4           6075  SAN FRANCISCO  CA\\n(37.753834, -122.503654)   \n",
       "..           ...            ...                           ...   \n",
       "440         6075  SAN FRANCISCO  CA\\n(37.789124, -122.434509)   \n",
       "441         6075  SAN FRANCISCO  CA\\n(37.782593, -122.504578)   \n",
       "442         6075  SAN FRANCISCO  CA\\n(37.775639, -122.494286)   \n",
       "443         6075  SAN FRANCISCO  CA\\n(37.775013, -122.433899)   \n",
       "444         6075  SAN FRANCISCO  CA\\n(37.773445, -122.509254)   \n",
       "\n",
       "    Neighborhoods (old)  Zip Codes  Fire Prevention Districts  \\\n",
       "0                    36      28858                        7.0   \n",
       "1                     3      28862                       15.0   \n",
       "2                    11         54                       11.0   \n",
       "3                    22      28862                        2.0   \n",
       "4                    35         56                        1.0   \n",
       "..                  ...        ...                        ...   \n",
       "440                  27      29490                       13.0   \n",
       "441                  15         55                       11.0   \n",
       "442                  26         55                       11.0   \n",
       "443                  10      29492                       15.0   \n",
       "444                  26         55                       11.0   \n",
       "\n",
       "     Police Districts  Supervisor Districts  \n",
       "0                 9.0                     9  \n",
       "1                 5.0                     5  \n",
       "2                 6.0                     2  \n",
       "3                 4.0                     5  \n",
       "4                 8.0                     3  \n",
       "..                ...                   ...  \n",
       "440               9.0                     1  \n",
       "441               6.0                     2  \n",
       "442               6.0                     2  \n",
       "443               5.0                    11  \n",
       "444               6.0                     2  \n",
       "\n",
       "[445 rows x 21 columns]"
      ]
     },
     "execution_count": 77,
     "metadata": {},
     "output_type": "execute_result"
    }
   ],
   "source": [
    "df = pd.read_csv(\"data/Schools.csv\")\n",
    "df"
   ]
  },
  {
   "cell_type": "code",
   "execution_count": null,
   "metadata": {},
   "outputs": [
    {
     "name": "stdout",
     "output_type": "stream",
     "text": [
      "\n",
      "column CCSF Entity should be unique...\n",
      "['SFUSD', 'Private', 'SFCCD']\n",
      "\n",
      "column Category should be unique...\n",
      "['USD PreK', 'USD Grades K-5', 'Independent / Private', 'USD PreK/TK-5', 'USD Grades 9-12', 'USD Grades 6-8', 'USD PreK/TK', 'Community College District', 'USD PreK, Grades K-5', 'USD PreK-5, Grades K-5', 'USD County School', 'USD PreK-5', 'USD Charter School', 'USD Grades K-8', 'USD Grades PK-8', 'USD PreK/TK-4', 'USD Grades 6-12', 'USD PreK-4, Grades K-5', 'USD PreK-4', 'USD Charter School; PreK-5', 'USD PreK-8', 'USD PreK-5                                   ', 'USD Grades K-5, PreK-5', 'USD Grades K-4']\n",
      "\n",
      "column General Type should be unique...\n",
      "['CDC', 'PS', 'IND', 'CC']\n",
      "\n",
      "column Supervisor District should be unique...\n",
      "[6, 8, 1, 4, 5, 7, 10, 3, 2, 9, 11]\n",
      "\n",
      "column County FIPS has only 1 value and therefore is giving no information so we drop it...\n",
      "\n",
      "column County Name has only 1 value and therefore is giving no information so we drop it...\n",
      "\n",
      "column Neighborhoods (old) should be unique...\n",
      "[36, 3, 11, 22, 35, 41, 40, 39, 4, 1, 23, 27, 26, 2, 19, 16, 30, 9, 18, 24, 29, 34, 6, 12, 17, 10, 38, 28, 31, 32, 7, 5, 20, 21, 14, 25, 37, 13, 33, 15]\n",
      "\n",
      "column Fire Prevention Districts should be unique...\n",
      "[7.0, 15.0, 11.0, 2.0, 1.0, 13.0, 9.0, 3.0, 10.0, 5.0, 6.0, 12.0, 8.0, 14.0, nan]\n",
      "\n",
      "column Police Districts should be unique...\n",
      "[9.0, 5.0, 6.0, 4.0, 8.0, 7.0, 1.0, 3.0, nan, 2.0, 10.0]\n",
      "\n",
      "column Supervisor Districts should be unique...\n",
      "[9, 5, 2, 3, 11, 4, 8, 10, 1, 7, 6]\n"
     ]
    },
    {
     "data": {
      "text/html": [
       "<div>\n",
       "<style scoped>\n",
       "    .dataframe tbody tr th:only-of-type {\n",
       "        vertical-align: middle;\n",
       "    }\n",
       "\n",
       "    .dataframe tbody tr th {\n",
       "        vertical-align: top;\n",
       "    }\n",
       "\n",
       "    .dataframe thead th {\n",
       "        text-align: right;\n",
       "    }\n",
       "</style>\n",
       "<table border=\"1\" class=\"dataframe\">\n",
       "  <thead>\n",
       "    <tr style=\"text-align: right;\">\n",
       "      <th></th>\n",
       "      <th>Campus Name</th>\n",
       "      <th>Lower Grade</th>\n",
       "      <th>Upper Grade</th>\n",
       "      <th>Grade Range</th>\n",
       "      <th>Map Label</th>\n",
       "      <th>Lower Age</th>\n",
       "      <th>Upper Age</th>\n",
       "      <th>CDS Code</th>\n",
       "      <th>Campus Address</th>\n",
       "      <th>Location 1</th>\n",
       "      <th>...</th>\n",
       "      <th>Category_USD PreK-5</th>\n",
       "      <th>Category_USD PreK-5, Grades K-5</th>\n",
       "      <th>Category_USD PreK-8</th>\n",
       "      <th>Category_USD PreK/TK</th>\n",
       "      <th>Category_USD PreK/TK-4</th>\n",
       "      <th>Category_USD PreK/TK-5</th>\n",
       "      <th>General Type_CC</th>\n",
       "      <th>General Type_CDC</th>\n",
       "      <th>General Type_IND</th>\n",
       "      <th>General Type_PS</th>\n",
       "    </tr>\n",
       "  </thead>\n",
       "  <tbody>\n",
       "    <tr>\n",
       "      <th>0</th>\n",
       "      <td>Milk, Harvey Milk Childrens Center</td>\n",
       "      <td>-2</td>\n",
       "      <td>-1</td>\n",
       "      <td>PK</td>\n",
       "      <td>CDC095</td>\n",
       "      <td>3</td>\n",
       "      <td>4</td>\n",
       "      <td>NaN</td>\n",
       "      <td>841 ELLIS ST, SAN FRANCISCO CA 94117</td>\n",
       "      <td>CA\\n(37.783802, -122.420105)</td>\n",
       "      <td>...</td>\n",
       "      <td>0</td>\n",
       "      <td>0</td>\n",
       "      <td>0</td>\n",
       "      <td>0</td>\n",
       "      <td>0</td>\n",
       "      <td>0</td>\n",
       "      <td>0</td>\n",
       "      <td>1</td>\n",
       "      <td>0</td>\n",
       "      <td>0</td>\n",
       "    </tr>\n",
       "    <tr>\n",
       "      <th>1</th>\n",
       "      <td>Mckinley Elementary School</td>\n",
       "      <td>0</td>\n",
       "      <td>5</td>\n",
       "      <td>K-5</td>\n",
       "      <td>PS075</td>\n",
       "      <td>5</td>\n",
       "      <td>10</td>\n",
       "      <td>3.868479e+13</td>\n",
       "      <td>1025 14TH ST, San Francisco, CA 94114</td>\n",
       "      <td>CA\\n(37.766884, -122.436279)</td>\n",
       "      <td>...</td>\n",
       "      <td>0</td>\n",
       "      <td>0</td>\n",
       "      <td>0</td>\n",
       "      <td>0</td>\n",
       "      <td>0</td>\n",
       "      <td>0</td>\n",
       "      <td>0</td>\n",
       "      <td>0</td>\n",
       "      <td>0</td>\n",
       "      <td>1</td>\n",
       "    </tr>\n",
       "    <tr>\n",
       "      <th>2</th>\n",
       "      <td>Jewish Community Center San Francisco - Rosenb...</td>\n",
       "      <td>-2</td>\n",
       "      <td>-1</td>\n",
       "      <td>PK</td>\n",
       "      <td>CDC058</td>\n",
       "      <td>3</td>\n",
       "      <td>4</td>\n",
       "      <td>3.805047e+08</td>\n",
       "      <td>325 ARGUELLO BLVD, SAN FRANCISCO, CA 94118</td>\n",
       "      <td>CA\\n(37.784588, -122.459488)</td>\n",
       "      <td>...</td>\n",
       "      <td>0</td>\n",
       "      <td>0</td>\n",
       "      <td>0</td>\n",
       "      <td>0</td>\n",
       "      <td>0</td>\n",
       "      <td>0</td>\n",
       "      <td>0</td>\n",
       "      <td>1</td>\n",
       "      <td>0</td>\n",
       "      <td>0</td>\n",
       "    </tr>\n",
       "    <tr>\n",
       "      <th>3</th>\n",
       "      <td>Eureka Learning Center</td>\n",
       "      <td>-2</td>\n",
       "      <td>-1</td>\n",
       "      <td>PK</td>\n",
       "      <td>CDC035</td>\n",
       "      <td>3</td>\n",
       "      <td>4</td>\n",
       "      <td>3.868479e+13</td>\n",
       "      <td>464 DIAMOND ST, SAN FRANCISCO, CA 94114</td>\n",
       "      <td>CA\\n(37.754967, -122.437004)</td>\n",
       "      <td>...</td>\n",
       "      <td>0</td>\n",
       "      <td>0</td>\n",
       "      <td>0</td>\n",
       "      <td>0</td>\n",
       "      <td>0</td>\n",
       "      <td>0</td>\n",
       "      <td>0</td>\n",
       "      <td>1</td>\n",
       "      <td>0</td>\n",
       "      <td>0</td>\n",
       "    </tr>\n",
       "    <tr>\n",
       "      <th>4</th>\n",
       "      <td>Noriega Early Education School</td>\n",
       "      <td>-2</td>\n",
       "      <td>5</td>\n",
       "      <td>PK-5</td>\n",
       "      <td>PS085</td>\n",
       "      <td>3</td>\n",
       "      <td>10</td>\n",
       "      <td>3.868478e+13</td>\n",
       "      <td>1775 44TH AVE, San Francisco, CA 94122</td>\n",
       "      <td>CA\\n(37.753834, -122.503654)</td>\n",
       "      <td>...</td>\n",
       "      <td>0</td>\n",
       "      <td>0</td>\n",
       "      <td>0</td>\n",
       "      <td>0</td>\n",
       "      <td>0</td>\n",
       "      <td>1</td>\n",
       "      <td>0</td>\n",
       "      <td>0</td>\n",
       "      <td>0</td>\n",
       "      <td>1</td>\n",
       "    </tr>\n",
       "    <tr>\n",
       "      <th>...</th>\n",
       "      <td>...</td>\n",
       "      <td>...</td>\n",
       "      <td>...</td>\n",
       "      <td>...</td>\n",
       "      <td>...</td>\n",
       "      <td>...</td>\n",
       "      <td>...</td>\n",
       "      <td>...</td>\n",
       "      <td>...</td>\n",
       "      <td>...</td>\n",
       "      <td>...</td>\n",
       "      <td>...</td>\n",
       "      <td>...</td>\n",
       "      <td>...</td>\n",
       "      <td>...</td>\n",
       "      <td>...</td>\n",
       "      <td>...</td>\n",
       "      <td>...</td>\n",
       "      <td>...</td>\n",
       "      <td>...</td>\n",
       "      <td>...</td>\n",
       "    </tr>\n",
       "    <tr>\n",
       "      <th>440</th>\n",
       "      <td>Golden Gate Guppies Preschool</td>\n",
       "      <td>-2</td>\n",
       "      <td>-1</td>\n",
       "      <td>PK</td>\n",
       "      <td>CDC046</td>\n",
       "      <td>3</td>\n",
       "      <td>4</td>\n",
       "      <td>3.840021e+08</td>\n",
       "      <td>2426 CALIFORNIA ST, SAN FRANCISCO, CA 94115</td>\n",
       "      <td>CA\\n(37.789124, -122.434509)</td>\n",
       "      <td>...</td>\n",
       "      <td>0</td>\n",
       "      <td>0</td>\n",
       "      <td>0</td>\n",
       "      <td>0</td>\n",
       "      <td>0</td>\n",
       "      <td>0</td>\n",
       "      <td>0</td>\n",
       "      <td>1</td>\n",
       "      <td>0</td>\n",
       "      <td>0</td>\n",
       "    </tr>\n",
       "    <tr>\n",
       "      <th>441</th>\n",
       "      <td>Lands End School</td>\n",
       "      <td>-2</td>\n",
       "      <td>-1</td>\n",
       "      <td>PK</td>\n",
       "      <td>CDC071</td>\n",
       "      <td>3</td>\n",
       "      <td>4</td>\n",
       "      <td>3.805063e+08</td>\n",
       "      <td>4150 CLEMENT ST BLDG T35, SAN FRANCISCO, CA 94121</td>\n",
       "      <td>CA\\n(37.782593, -122.504578)</td>\n",
       "      <td>...</td>\n",
       "      <td>0</td>\n",
       "      <td>0</td>\n",
       "      <td>0</td>\n",
       "      <td>0</td>\n",
       "      <td>0</td>\n",
       "      <td>0</td>\n",
       "      <td>0</td>\n",
       "      <td>1</td>\n",
       "      <td>0</td>\n",
       "      <td>0</td>\n",
       "    </tr>\n",
       "    <tr>\n",
       "      <th>442</th>\n",
       "      <td>San Francisco Pacific Academy</td>\n",
       "      <td>0</td>\n",
       "      <td>8</td>\n",
       "      <td>K-8</td>\n",
       "      <td>IND317</td>\n",
       "      <td>5</td>\n",
       "      <td>13</td>\n",
       "      <td>3.868479e+13</td>\n",
       "      <td>3301 BALBOA ST, SAN FRANCISCO, CA 94121</td>\n",
       "      <td>CA\\n(37.775639, -122.494286)</td>\n",
       "      <td>...</td>\n",
       "      <td>0</td>\n",
       "      <td>0</td>\n",
       "      <td>0</td>\n",
       "      <td>0</td>\n",
       "      <td>0</td>\n",
       "      <td>0</td>\n",
       "      <td>0</td>\n",
       "      <td>0</td>\n",
       "      <td>1</td>\n",
       "      <td>0</td>\n",
       "    </tr>\n",
       "    <tr>\n",
       "      <th>443</th>\n",
       "      <td>Wells, Ida B. Wells High School</td>\n",
       "      <td>9</td>\n",
       "      <td>12</td>\n",
       "      <td>9-12</td>\n",
       "      <td>PS124</td>\n",
       "      <td>14</td>\n",
       "      <td>17</td>\n",
       "      <td>3.868478e+13</td>\n",
       "      <td>1099 HAYES ST, SAN FRANCISCO, CA 94117</td>\n",
       "      <td>CA\\n(37.775013, -122.433899)</td>\n",
       "      <td>...</td>\n",
       "      <td>0</td>\n",
       "      <td>0</td>\n",
       "      <td>0</td>\n",
       "      <td>0</td>\n",
       "      <td>0</td>\n",
       "      <td>0</td>\n",
       "      <td>0</td>\n",
       "      <td>0</td>\n",
       "      <td>0</td>\n",
       "      <td>1</td>\n",
       "    </tr>\n",
       "    <tr>\n",
       "      <th>444</th>\n",
       "      <td>Munchkinland Preschool And Family Daycare</td>\n",
       "      <td>-2</td>\n",
       "      <td>-1</td>\n",
       "      <td>PK</td>\n",
       "      <td>CDC110</td>\n",
       "      <td>3</td>\n",
       "      <td>4</td>\n",
       "      <td>NaN</td>\n",
       "      <td>4710 CABRILLO ST, SAN FRANCISCO, CA 94121</td>\n",
       "      <td>CA\\n(37.773445, -122.509254)</td>\n",
       "      <td>...</td>\n",
       "      <td>0</td>\n",
       "      <td>0</td>\n",
       "      <td>0</td>\n",
       "      <td>0</td>\n",
       "      <td>0</td>\n",
       "      <td>0</td>\n",
       "      <td>0</td>\n",
       "      <td>1</td>\n",
       "      <td>0</td>\n",
       "      <td>0</td>\n",
       "    </tr>\n",
       "  </tbody>\n",
       "</table>\n",
       "<p>445 rows × 47 columns</p>\n",
       "</div>"
      ],
      "text/plain": [
       "                                           Campus Name  Lower Grade  \\\n",
       "0                   Milk, Harvey Milk Childrens Center           -2   \n",
       "1                           Mckinley Elementary School            0   \n",
       "2    Jewish Community Center San Francisco - Rosenb...           -2   \n",
       "3                               Eureka Learning Center           -2   \n",
       "4                       Noriega Early Education School           -2   \n",
       "..                                                 ...          ...   \n",
       "440                      Golden Gate Guppies Preschool           -2   \n",
       "441                                   Lands End School           -2   \n",
       "442                      San Francisco Pacific Academy            0   \n",
       "443                    Wells, Ida B. Wells High School            9   \n",
       "444          Munchkinland Preschool And Family Daycare           -2   \n",
       "\n",
       "     Upper Grade Grade Range Map Label  Lower Age  Upper Age      CDS Code  \\\n",
       "0             -1          PK    CDC095          3          4           NaN   \n",
       "1              5         K-5     PS075          5         10  3.868479e+13   \n",
       "2             -1          PK    CDC058          3          4  3.805047e+08   \n",
       "3             -1          PK    CDC035          3          4  3.868479e+13   \n",
       "4              5        PK-5     PS085          3         10  3.868478e+13   \n",
       "..           ...         ...       ...        ...        ...           ...   \n",
       "440           -1          PK    CDC046          3          4  3.840021e+08   \n",
       "441           -1          PK    CDC071          3          4  3.805063e+08   \n",
       "442            8         K-8    IND317          5         13  3.868479e+13   \n",
       "443           12        9-12     PS124         14         17  3.868478e+13   \n",
       "444           -1          PK    CDC110          3          4           NaN   \n",
       "\n",
       "                                        Campus Address  \\\n",
       "0                 841 ELLIS ST, SAN FRANCISCO CA 94117   \n",
       "1                1025 14TH ST, San Francisco, CA 94114   \n",
       "2           325 ARGUELLO BLVD, SAN FRANCISCO, CA 94118   \n",
       "3              464 DIAMOND ST, SAN FRANCISCO, CA 94114   \n",
       "4               1775 44TH AVE, San Francisco, CA 94122   \n",
       "..                                                 ...   \n",
       "440        2426 CALIFORNIA ST, SAN FRANCISCO, CA 94115   \n",
       "441  4150 CLEMENT ST BLDG T35, SAN FRANCISCO, CA 94121   \n",
       "442            3301 BALBOA ST, SAN FRANCISCO, CA 94121   \n",
       "443             1099 HAYES ST, SAN FRANCISCO, CA 94117   \n",
       "444          4710 CABRILLO ST, SAN FRANCISCO, CA 94121   \n",
       "\n",
       "                       Location 1  ...  \\\n",
       "0    CA\\n(37.783802, -122.420105)  ...   \n",
       "1    CA\\n(37.766884, -122.436279)  ...   \n",
       "2    CA\\n(37.784588, -122.459488)  ...   \n",
       "3    CA\\n(37.754967, -122.437004)  ...   \n",
       "4    CA\\n(37.753834, -122.503654)  ...   \n",
       "..                            ...  ...   \n",
       "440  CA\\n(37.789124, -122.434509)  ...   \n",
       "441  CA\\n(37.782593, -122.504578)  ...   \n",
       "442  CA\\n(37.775639, -122.494286)  ...   \n",
       "443  CA\\n(37.775013, -122.433899)  ...   \n",
       "444  CA\\n(37.773445, -122.509254)  ...   \n",
       "\n",
       "     Category_USD PreK-5                                     \\\n",
       "0                                                    0        \n",
       "1                                                    0        \n",
       "2                                                    0        \n",
       "3                                                    0        \n",
       "4                                                    0        \n",
       "..                                                 ...        \n",
       "440                                                  0        \n",
       "441                                                  0        \n",
       "442                                                  0        \n",
       "443                                                  0        \n",
       "444                                                  0        \n",
       "\n",
       "     Category_USD PreK-5, Grades K-5  Category_USD PreK-8  \\\n",
       "0                                  0                    0   \n",
       "1                                  0                    0   \n",
       "2                                  0                    0   \n",
       "3                                  0                    0   \n",
       "4                                  0                    0   \n",
       "..                               ...                  ...   \n",
       "440                                0                    0   \n",
       "441                                0                    0   \n",
       "442                                0                    0   \n",
       "443                                0                    0   \n",
       "444                                0                    0   \n",
       "\n",
       "     Category_USD PreK/TK  Category_USD PreK/TK-4  Category_USD PreK/TK-5  \\\n",
       "0                       0                       0                       0   \n",
       "1                       0                       0                       0   \n",
       "2                       0                       0                       0   \n",
       "3                       0                       0                       0   \n",
       "4                       0                       0                       1   \n",
       "..                    ...                     ...                     ...   \n",
       "440                     0                       0                       0   \n",
       "441                     0                       0                       0   \n",
       "442                     0                       0                       0   \n",
       "443                     0                       0                       0   \n",
       "444                     0                       0                       0   \n",
       "\n",
       "     General Type_CC  General Type_CDC  General Type_IND  General Type_PS  \n",
       "0                  0                 1                 0                0  \n",
       "1                  0                 0                 0                1  \n",
       "2                  0                 1                 0                0  \n",
       "3                  0                 1                 0                0  \n",
       "4                  0                 0                 0                1  \n",
       "..               ...               ...               ...              ...  \n",
       "440                0                 1                 0                0  \n",
       "441                0                 1                 0                0  \n",
       "442                0                 0                 1                0  \n",
       "443                0                 0                 0                1  \n",
       "444                0                 1                 0                0  \n",
       "\n",
       "[445 rows x 47 columns]"
      ]
     },
     "execution_count": 78,
     "metadata": {},
     "output_type": "execute_result"
    }
   ],
   "source": [
    "df = derive_categorical(df, [\"grade\", \"age\", \"zip\"], True)\n",
    "df.to_csv(\"data/Schools CatEncoded.csv\")\n",
    "df"
   ]
  },
  {
   "cell_type": "markdown",
   "metadata": {},
   "source": [
    "### Air Quality Data"
   ]
  },
  {
   "cell_type": "code",
   "execution_count": 89,
   "metadata": {},
   "outputs": [
    {
     "data": {
      "text/html": [
       "<div>\n",
       "<style scoped>\n",
       "    .dataframe tbody tr th:only-of-type {\n",
       "        vertical-align: middle;\n",
       "    }\n",
       "\n",
       "    .dataframe tbody tr th {\n",
       "        vertical-align: top;\n",
       "    }\n",
       "\n",
       "    .dataframe thead th {\n",
       "        text-align: right;\n",
       "    }\n",
       "</style>\n",
       "<table border=\"1\" class=\"dataframe\">\n",
       "  <thead>\n",
       "    <tr style=\"text-align: right;\">\n",
       "      <th></th>\n",
       "      <th>Unique ID</th>\n",
       "      <th>Indicator ID</th>\n",
       "      <th>Name</th>\n",
       "      <th>Measure</th>\n",
       "      <th>Measure Info</th>\n",
       "      <th>Geo Type Name</th>\n",
       "      <th>Geo Join ID</th>\n",
       "      <th>Geo Place Name</th>\n",
       "      <th>Time Period</th>\n",
       "      <th>Start_Date</th>\n",
       "      <th>Data Value</th>\n",
       "      <th>Message</th>\n",
       "    </tr>\n",
       "  </thead>\n",
       "  <tbody>\n",
       "    <tr>\n",
       "      <th>0</th>\n",
       "      <td>179772</td>\n",
       "      <td>640</td>\n",
       "      <td>Boiler Emissions- Total SO2 Emissions</td>\n",
       "      <td>Number per km2</td>\n",
       "      <td>number</td>\n",
       "      <td>UHF42</td>\n",
       "      <td>409.0</td>\n",
       "      <td>Southeast Queens</td>\n",
       "      <td>2015</td>\n",
       "      <td>01/01/2015</td>\n",
       "      <td>0.3</td>\n",
       "      <td>NaN</td>\n",
       "    </tr>\n",
       "    <tr>\n",
       "      <th>1</th>\n",
       "      <td>179785</td>\n",
       "      <td>640</td>\n",
       "      <td>Boiler Emissions- Total SO2 Emissions</td>\n",
       "      <td>Number per km2</td>\n",
       "      <td>number</td>\n",
       "      <td>UHF42</td>\n",
       "      <td>209.0</td>\n",
       "      <td>Bensonhurst - Bay Ridge</td>\n",
       "      <td>2015</td>\n",
       "      <td>01/01/2015</td>\n",
       "      <td>1.2</td>\n",
       "      <td>NaN</td>\n",
       "    </tr>\n",
       "    <tr>\n",
       "      <th>2</th>\n",
       "      <td>178540</td>\n",
       "      <td>365</td>\n",
       "      <td>Fine particles (PM 2.5)</td>\n",
       "      <td>Mean</td>\n",
       "      <td>mcg/m3</td>\n",
       "      <td>UHF42</td>\n",
       "      <td>209.0</td>\n",
       "      <td>Bensonhurst - Bay Ridge</td>\n",
       "      <td>Annual Average 2012</td>\n",
       "      <td>12/01/2011</td>\n",
       "      <td>8.6</td>\n",
       "      <td>NaN</td>\n",
       "    </tr>\n",
       "    <tr>\n",
       "      <th>3</th>\n",
       "      <td>178561</td>\n",
       "      <td>365</td>\n",
       "      <td>Fine particles (PM 2.5)</td>\n",
       "      <td>Mean</td>\n",
       "      <td>mcg/m3</td>\n",
       "      <td>UHF42</td>\n",
       "      <td>409.0</td>\n",
       "      <td>Southeast Queens</td>\n",
       "      <td>Annual Average 2012</td>\n",
       "      <td>12/01/2011</td>\n",
       "      <td>8.0</td>\n",
       "      <td>NaN</td>\n",
       "    </tr>\n",
       "    <tr>\n",
       "      <th>4</th>\n",
       "      <td>823217</td>\n",
       "      <td>365</td>\n",
       "      <td>Fine particles (PM 2.5)</td>\n",
       "      <td>Mean</td>\n",
       "      <td>mcg/m3</td>\n",
       "      <td>UHF42</td>\n",
       "      <td>409.0</td>\n",
       "      <td>Southeast Queens</td>\n",
       "      <td>Summer 2022</td>\n",
       "      <td>06/01/2022</td>\n",
       "      <td>6.1</td>\n",
       "      <td>NaN</td>\n",
       "    </tr>\n",
       "    <tr>\n",
       "      <th>...</th>\n",
       "      <td>...</td>\n",
       "      <td>...</td>\n",
       "      <td>...</td>\n",
       "      <td>...</td>\n",
       "      <td>...</td>\n",
       "      <td>...</td>\n",
       "      <td>...</td>\n",
       "      <td>...</td>\n",
       "      <td>...</td>\n",
       "      <td>...</td>\n",
       "      <td>...</td>\n",
       "      <td>...</td>\n",
       "    </tr>\n",
       "    <tr>\n",
       "      <th>18020</th>\n",
       "      <td>816914</td>\n",
       "      <td>643</td>\n",
       "      <td>Annual vehicle miles traveled</td>\n",
       "      <td>Million miles</td>\n",
       "      <td>per square mile</td>\n",
       "      <td>CD</td>\n",
       "      <td>503.0</td>\n",
       "      <td>Tottenville and Great Kills (CD3)</td>\n",
       "      <td>2019</td>\n",
       "      <td>01/01/2019</td>\n",
       "      <td>12.9</td>\n",
       "      <td>NaN</td>\n",
       "    </tr>\n",
       "    <tr>\n",
       "      <th>18021</th>\n",
       "      <td>816913</td>\n",
       "      <td>643</td>\n",
       "      <td>Annual vehicle miles traveled</td>\n",
       "      <td>Million miles</td>\n",
       "      <td>per square mile</td>\n",
       "      <td>CD</td>\n",
       "      <td>503.0</td>\n",
       "      <td>Tottenville and Great Kills (CD3)</td>\n",
       "      <td>2010</td>\n",
       "      <td>01/01/2010</td>\n",
       "      <td>14.7</td>\n",
       "      <td>NaN</td>\n",
       "    </tr>\n",
       "    <tr>\n",
       "      <th>18022</th>\n",
       "      <td>816872</td>\n",
       "      <td>643</td>\n",
       "      <td>Annual vehicle miles traveled</td>\n",
       "      <td>Million miles</td>\n",
       "      <td>per square mile</td>\n",
       "      <td>UHF42</td>\n",
       "      <td>208.0</td>\n",
       "      <td>Canarsie - Flatlands</td>\n",
       "      <td>2010</td>\n",
       "      <td>01/01/2010</td>\n",
       "      <td>43.4</td>\n",
       "      <td>NaN</td>\n",
       "    </tr>\n",
       "    <tr>\n",
       "      <th>18023</th>\n",
       "      <td>816832</td>\n",
       "      <td>643</td>\n",
       "      <td>Annual vehicle miles traveled</td>\n",
       "      <td>Million miles</td>\n",
       "      <td>per square mile</td>\n",
       "      <td>UHF42</td>\n",
       "      <td>407.0</td>\n",
       "      <td>Southwest Queens</td>\n",
       "      <td>2010</td>\n",
       "      <td>01/01/2010</td>\n",
       "      <td>65.8</td>\n",
       "      <td>NaN</td>\n",
       "    </tr>\n",
       "    <tr>\n",
       "      <th>18024</th>\n",
       "      <td>151658</td>\n",
       "      <td>643</td>\n",
       "      <td>Annual vehicle miles traveled</td>\n",
       "      <td>Million miles</td>\n",
       "      <td>per square mile</td>\n",
       "      <td>UHF42</td>\n",
       "      <td>408.0</td>\n",
       "      <td>Jamaica</td>\n",
       "      <td>2005</td>\n",
       "      <td>01/01/2005</td>\n",
       "      <td>41.0</td>\n",
       "      <td>NaN</td>\n",
       "    </tr>\n",
       "  </tbody>\n",
       "</table>\n",
       "<p>18025 rows × 12 columns</p>\n",
       "</div>"
      ],
      "text/plain": [
       "       Unique ID  Indicator ID                                   Name  \\\n",
       "0         179772           640  Boiler Emissions- Total SO2 Emissions   \n",
       "1         179785           640  Boiler Emissions- Total SO2 Emissions   \n",
       "2         178540           365                Fine particles (PM 2.5)   \n",
       "3         178561           365                Fine particles (PM 2.5)   \n",
       "4         823217           365                Fine particles (PM 2.5)   \n",
       "...          ...           ...                                    ...   \n",
       "18020     816914           643          Annual vehicle miles traveled   \n",
       "18021     816913           643          Annual vehicle miles traveled   \n",
       "18022     816872           643          Annual vehicle miles traveled   \n",
       "18023     816832           643          Annual vehicle miles traveled   \n",
       "18024     151658           643          Annual vehicle miles traveled   \n",
       "\n",
       "              Measure     Measure Info Geo Type Name  Geo Join ID  \\\n",
       "0      Number per km2           number         UHF42        409.0   \n",
       "1      Number per km2           number         UHF42        209.0   \n",
       "2                Mean           mcg/m3         UHF42        209.0   \n",
       "3                Mean           mcg/m3         UHF42        409.0   \n",
       "4                Mean           mcg/m3         UHF42        409.0   \n",
       "...               ...              ...           ...          ...   \n",
       "18020   Million miles  per square mile            CD        503.0   \n",
       "18021   Million miles  per square mile            CD        503.0   \n",
       "18022   Million miles  per square mile         UHF42        208.0   \n",
       "18023   Million miles  per square mile         UHF42        407.0   \n",
       "18024   Million miles  per square mile         UHF42        408.0   \n",
       "\n",
       "                          Geo Place Name          Time Period  Start_Date  \\\n",
       "0                       Southeast Queens                 2015  01/01/2015   \n",
       "1                Bensonhurst - Bay Ridge                 2015  01/01/2015   \n",
       "2                Bensonhurst - Bay Ridge  Annual Average 2012  12/01/2011   \n",
       "3                       Southeast Queens  Annual Average 2012  12/01/2011   \n",
       "4                       Southeast Queens          Summer 2022  06/01/2022   \n",
       "...                                  ...                  ...         ...   \n",
       "18020  Tottenville and Great Kills (CD3)                 2019  01/01/2019   \n",
       "18021  Tottenville and Great Kills (CD3)                 2010  01/01/2010   \n",
       "18022               Canarsie - Flatlands                 2010  01/01/2010   \n",
       "18023                   Southwest Queens                 2010  01/01/2010   \n",
       "18024                            Jamaica                 2005  01/01/2005   \n",
       "\n",
       "       Data Value  Message  \n",
       "0             0.3      NaN  \n",
       "1             1.2      NaN  \n",
       "2             8.6      NaN  \n",
       "3             8.0      NaN  \n",
       "4             6.1      NaN  \n",
       "...           ...      ...  \n",
       "18020        12.9      NaN  \n",
       "18021        14.7      NaN  \n",
       "18022        43.4      NaN  \n",
       "18023        65.8      NaN  \n",
       "18024        41.0      NaN  \n",
       "\n",
       "[18025 rows x 12 columns]"
      ]
     },
     "execution_count": 89,
     "metadata": {},
     "output_type": "execute_result"
    }
   ],
   "source": [
    "df = pd.read_csv(\"data/Air_Quality.csv\")\n",
    "df"
   ]
  },
  {
   "cell_type": "code",
   "execution_count": 90,
   "metadata": {},
   "outputs": [
    {
     "name": "stdout",
     "output_type": "stream",
     "text": [
      "\n",
      "column Name should be unique...\n",
      "['Boiler Emissions- Total SO2 Emissions', 'Fine particles (PM 2.5)', 'Nitrogen dioxide (NO2)', 'Asthma emergency department visits due to PM2.5', 'Annual vehicle miles traveled', 'Respiratory hospitalizations due to PM2.5 (age 20+)', 'Ozone (O3)', 'Asthma hospitalizations due to Ozone', 'Boiler Emissions- Total NOx Emissions', 'Boiler Emissions- Total PM2.5 Emissions', 'Outdoor Air Toxics - Formaldehyde', 'Asthma emergency departments visits due to Ozone', 'Cardiovascular hospitalizations due to PM2.5 (age 40+)', 'Cardiac and respiratory deaths due to Ozone', 'Deaths due to PM2.5', 'Outdoor Air Toxics - Benzene', 'Annual vehicle miles traveled (trucks)', 'Annual vehicle miles traveled (cars)']\n",
      "\n",
      "column Measure should be unique...\n",
      "['Number per km2', 'Mean', 'Estimated annual rate (under age 18)', 'Million miles', 'Estimated annual rate (age 18+)', 'Estimated annual rate', 'Annual average concentration', 'Estimated annual rate (age 30+)']\n",
      "\n",
      "column Measure Info should be unique...\n",
      "['number', 'mcg/m3', 'ppb', 'per 100,000 children', 'per square mile', 'per 100,000 adults', 'Âµg/m3', 'per 100,000']\n",
      "\n",
      "column Geo Type Name should be unique...\n",
      "['UHF42', 'UHF34', 'Borough', 'CD', 'Citywide']\n",
      "\n",
      "column Message has only 1 value and therefore is giving no information so we drop it...\n"
     ]
    },
    {
     "data": {
      "text/html": [
       "<div>\n",
       "<style scoped>\n",
       "    .dataframe tbody tr th:only-of-type {\n",
       "        vertical-align: middle;\n",
       "    }\n",
       "\n",
       "    .dataframe tbody tr th {\n",
       "        vertical-align: top;\n",
       "    }\n",
       "\n",
       "    .dataframe thead th {\n",
       "        text-align: right;\n",
       "    }\n",
       "</style>\n",
       "<table border=\"1\" class=\"dataframe\">\n",
       "  <thead>\n",
       "    <tr style=\"text-align: right;\">\n",
       "      <th></th>\n",
       "      <th>Unique ID</th>\n",
       "      <th>Indicator ID</th>\n",
       "      <th>Geo Join ID</th>\n",
       "      <th>Geo Place Name</th>\n",
       "      <th>Time Period</th>\n",
       "      <th>Start_Date</th>\n",
       "      <th>Data Value</th>\n",
       "      <th>Name_Annual vehicle miles traveled</th>\n",
       "      <th>Name_Annual vehicle miles traveled (cars)</th>\n",
       "      <th>Name_Annual vehicle miles traveled (trucks)</th>\n",
       "      <th>...</th>\n",
       "      <th>Measure Info_per 100,000 adults</th>\n",
       "      <th>Measure Info_per 100,000 children</th>\n",
       "      <th>Measure Info_per square mile</th>\n",
       "      <th>Measure Info_ppb</th>\n",
       "      <th>Measure Info_Âµg/m3</th>\n",
       "      <th>Geo Type Name_Borough</th>\n",
       "      <th>Geo Type Name_CD</th>\n",
       "      <th>Geo Type Name_Citywide</th>\n",
       "      <th>Geo Type Name_UHF34</th>\n",
       "      <th>Geo Type Name_UHF42</th>\n",
       "    </tr>\n",
       "  </thead>\n",
       "  <tbody>\n",
       "    <tr>\n",
       "      <th>0</th>\n",
       "      <td>179772</td>\n",
       "      <td>640</td>\n",
       "      <td>409.0</td>\n",
       "      <td>Southeast Queens</td>\n",
       "      <td>2015</td>\n",
       "      <td>01/01/2015</td>\n",
       "      <td>0.3</td>\n",
       "      <td>0</td>\n",
       "      <td>0</td>\n",
       "      <td>0</td>\n",
       "      <td>...</td>\n",
       "      <td>0</td>\n",
       "      <td>0</td>\n",
       "      <td>0</td>\n",
       "      <td>0</td>\n",
       "      <td>0</td>\n",
       "      <td>0</td>\n",
       "      <td>0</td>\n",
       "      <td>0</td>\n",
       "      <td>0</td>\n",
       "      <td>1</td>\n",
       "    </tr>\n",
       "    <tr>\n",
       "      <th>1</th>\n",
       "      <td>179785</td>\n",
       "      <td>640</td>\n",
       "      <td>209.0</td>\n",
       "      <td>Bensonhurst - Bay Ridge</td>\n",
       "      <td>2015</td>\n",
       "      <td>01/01/2015</td>\n",
       "      <td>1.2</td>\n",
       "      <td>0</td>\n",
       "      <td>0</td>\n",
       "      <td>0</td>\n",
       "      <td>...</td>\n",
       "      <td>0</td>\n",
       "      <td>0</td>\n",
       "      <td>0</td>\n",
       "      <td>0</td>\n",
       "      <td>0</td>\n",
       "      <td>0</td>\n",
       "      <td>0</td>\n",
       "      <td>0</td>\n",
       "      <td>0</td>\n",
       "      <td>1</td>\n",
       "    </tr>\n",
       "    <tr>\n",
       "      <th>2</th>\n",
       "      <td>178540</td>\n",
       "      <td>365</td>\n",
       "      <td>209.0</td>\n",
       "      <td>Bensonhurst - Bay Ridge</td>\n",
       "      <td>Annual Average 2012</td>\n",
       "      <td>12/01/2011</td>\n",
       "      <td>8.6</td>\n",
       "      <td>0</td>\n",
       "      <td>0</td>\n",
       "      <td>0</td>\n",
       "      <td>...</td>\n",
       "      <td>0</td>\n",
       "      <td>0</td>\n",
       "      <td>0</td>\n",
       "      <td>0</td>\n",
       "      <td>0</td>\n",
       "      <td>0</td>\n",
       "      <td>0</td>\n",
       "      <td>0</td>\n",
       "      <td>0</td>\n",
       "      <td>1</td>\n",
       "    </tr>\n",
       "    <tr>\n",
       "      <th>3</th>\n",
       "      <td>178561</td>\n",
       "      <td>365</td>\n",
       "      <td>409.0</td>\n",
       "      <td>Southeast Queens</td>\n",
       "      <td>Annual Average 2012</td>\n",
       "      <td>12/01/2011</td>\n",
       "      <td>8.0</td>\n",
       "      <td>0</td>\n",
       "      <td>0</td>\n",
       "      <td>0</td>\n",
       "      <td>...</td>\n",
       "      <td>0</td>\n",
       "      <td>0</td>\n",
       "      <td>0</td>\n",
       "      <td>0</td>\n",
       "      <td>0</td>\n",
       "      <td>0</td>\n",
       "      <td>0</td>\n",
       "      <td>0</td>\n",
       "      <td>0</td>\n",
       "      <td>1</td>\n",
       "    </tr>\n",
       "    <tr>\n",
       "      <th>4</th>\n",
       "      <td>823217</td>\n",
       "      <td>365</td>\n",
       "      <td>409.0</td>\n",
       "      <td>Southeast Queens</td>\n",
       "      <td>Summer 2022</td>\n",
       "      <td>06/01/2022</td>\n",
       "      <td>6.1</td>\n",
       "      <td>0</td>\n",
       "      <td>0</td>\n",
       "      <td>0</td>\n",
       "      <td>...</td>\n",
       "      <td>0</td>\n",
       "      <td>0</td>\n",
       "      <td>0</td>\n",
       "      <td>0</td>\n",
       "      <td>0</td>\n",
       "      <td>0</td>\n",
       "      <td>0</td>\n",
       "      <td>0</td>\n",
       "      <td>0</td>\n",
       "      <td>1</td>\n",
       "    </tr>\n",
       "    <tr>\n",
       "      <th>...</th>\n",
       "      <td>...</td>\n",
       "      <td>...</td>\n",
       "      <td>...</td>\n",
       "      <td>...</td>\n",
       "      <td>...</td>\n",
       "      <td>...</td>\n",
       "      <td>...</td>\n",
       "      <td>...</td>\n",
       "      <td>...</td>\n",
       "      <td>...</td>\n",
       "      <td>...</td>\n",
       "      <td>...</td>\n",
       "      <td>...</td>\n",
       "      <td>...</td>\n",
       "      <td>...</td>\n",
       "      <td>...</td>\n",
       "      <td>...</td>\n",
       "      <td>...</td>\n",
       "      <td>...</td>\n",
       "      <td>...</td>\n",
       "      <td>...</td>\n",
       "    </tr>\n",
       "    <tr>\n",
       "      <th>18020</th>\n",
       "      <td>816914</td>\n",
       "      <td>643</td>\n",
       "      <td>503.0</td>\n",
       "      <td>Tottenville and Great Kills (CD3)</td>\n",
       "      <td>2019</td>\n",
       "      <td>01/01/2019</td>\n",
       "      <td>12.9</td>\n",
       "      <td>1</td>\n",
       "      <td>0</td>\n",
       "      <td>0</td>\n",
       "      <td>...</td>\n",
       "      <td>0</td>\n",
       "      <td>0</td>\n",
       "      <td>1</td>\n",
       "      <td>0</td>\n",
       "      <td>0</td>\n",
       "      <td>0</td>\n",
       "      <td>1</td>\n",
       "      <td>0</td>\n",
       "      <td>0</td>\n",
       "      <td>0</td>\n",
       "    </tr>\n",
       "    <tr>\n",
       "      <th>18021</th>\n",
       "      <td>816913</td>\n",
       "      <td>643</td>\n",
       "      <td>503.0</td>\n",
       "      <td>Tottenville and Great Kills (CD3)</td>\n",
       "      <td>2010</td>\n",
       "      <td>01/01/2010</td>\n",
       "      <td>14.7</td>\n",
       "      <td>1</td>\n",
       "      <td>0</td>\n",
       "      <td>0</td>\n",
       "      <td>...</td>\n",
       "      <td>0</td>\n",
       "      <td>0</td>\n",
       "      <td>1</td>\n",
       "      <td>0</td>\n",
       "      <td>0</td>\n",
       "      <td>0</td>\n",
       "      <td>1</td>\n",
       "      <td>0</td>\n",
       "      <td>0</td>\n",
       "      <td>0</td>\n",
       "    </tr>\n",
       "    <tr>\n",
       "      <th>18022</th>\n",
       "      <td>816872</td>\n",
       "      <td>643</td>\n",
       "      <td>208.0</td>\n",
       "      <td>Canarsie - Flatlands</td>\n",
       "      <td>2010</td>\n",
       "      <td>01/01/2010</td>\n",
       "      <td>43.4</td>\n",
       "      <td>1</td>\n",
       "      <td>0</td>\n",
       "      <td>0</td>\n",
       "      <td>...</td>\n",
       "      <td>0</td>\n",
       "      <td>0</td>\n",
       "      <td>1</td>\n",
       "      <td>0</td>\n",
       "      <td>0</td>\n",
       "      <td>0</td>\n",
       "      <td>0</td>\n",
       "      <td>0</td>\n",
       "      <td>0</td>\n",
       "      <td>1</td>\n",
       "    </tr>\n",
       "    <tr>\n",
       "      <th>18023</th>\n",
       "      <td>816832</td>\n",
       "      <td>643</td>\n",
       "      <td>407.0</td>\n",
       "      <td>Southwest Queens</td>\n",
       "      <td>2010</td>\n",
       "      <td>01/01/2010</td>\n",
       "      <td>65.8</td>\n",
       "      <td>1</td>\n",
       "      <td>0</td>\n",
       "      <td>0</td>\n",
       "      <td>...</td>\n",
       "      <td>0</td>\n",
       "      <td>0</td>\n",
       "      <td>1</td>\n",
       "      <td>0</td>\n",
       "      <td>0</td>\n",
       "      <td>0</td>\n",
       "      <td>0</td>\n",
       "      <td>0</td>\n",
       "      <td>0</td>\n",
       "      <td>1</td>\n",
       "    </tr>\n",
       "    <tr>\n",
       "      <th>18024</th>\n",
       "      <td>151658</td>\n",
       "      <td>643</td>\n",
       "      <td>408.0</td>\n",
       "      <td>Jamaica</td>\n",
       "      <td>2005</td>\n",
       "      <td>01/01/2005</td>\n",
       "      <td>41.0</td>\n",
       "      <td>1</td>\n",
       "      <td>0</td>\n",
       "      <td>0</td>\n",
       "      <td>...</td>\n",
       "      <td>0</td>\n",
       "      <td>0</td>\n",
       "      <td>1</td>\n",
       "      <td>0</td>\n",
       "      <td>0</td>\n",
       "      <td>0</td>\n",
       "      <td>0</td>\n",
       "      <td>0</td>\n",
       "      <td>0</td>\n",
       "      <td>1</td>\n",
       "    </tr>\n",
       "  </tbody>\n",
       "</table>\n",
       "<p>18025 rows × 46 columns</p>\n",
       "</div>"
      ],
      "text/plain": [
       "       Unique ID  Indicator ID  Geo Join ID  \\\n",
       "0         179772           640        409.0   \n",
       "1         179785           640        209.0   \n",
       "2         178540           365        209.0   \n",
       "3         178561           365        409.0   \n",
       "4         823217           365        409.0   \n",
       "...          ...           ...          ...   \n",
       "18020     816914           643        503.0   \n",
       "18021     816913           643        503.0   \n",
       "18022     816872           643        208.0   \n",
       "18023     816832           643        407.0   \n",
       "18024     151658           643        408.0   \n",
       "\n",
       "                          Geo Place Name          Time Period  Start_Date  \\\n",
       "0                       Southeast Queens                 2015  01/01/2015   \n",
       "1                Bensonhurst - Bay Ridge                 2015  01/01/2015   \n",
       "2                Bensonhurst - Bay Ridge  Annual Average 2012  12/01/2011   \n",
       "3                       Southeast Queens  Annual Average 2012  12/01/2011   \n",
       "4                       Southeast Queens          Summer 2022  06/01/2022   \n",
       "...                                  ...                  ...         ...   \n",
       "18020  Tottenville and Great Kills (CD3)                 2019  01/01/2019   \n",
       "18021  Tottenville and Great Kills (CD3)                 2010  01/01/2010   \n",
       "18022               Canarsie - Flatlands                 2010  01/01/2010   \n",
       "18023                   Southwest Queens                 2010  01/01/2010   \n",
       "18024                            Jamaica                 2005  01/01/2005   \n",
       "\n",
       "       Data Value  Name_Annual vehicle miles traveled  \\\n",
       "0             0.3                                   0   \n",
       "1             1.2                                   0   \n",
       "2             8.6                                   0   \n",
       "3             8.0                                   0   \n",
       "4             6.1                                   0   \n",
       "...           ...                                 ...   \n",
       "18020        12.9                                   1   \n",
       "18021        14.7                                   1   \n",
       "18022        43.4                                   1   \n",
       "18023        65.8                                   1   \n",
       "18024        41.0                                   1   \n",
       "\n",
       "       Name_Annual vehicle miles traveled (cars)  \\\n",
       "0                                              0   \n",
       "1                                              0   \n",
       "2                                              0   \n",
       "3                                              0   \n",
       "4                                              0   \n",
       "...                                          ...   \n",
       "18020                                          0   \n",
       "18021                                          0   \n",
       "18022                                          0   \n",
       "18023                                          0   \n",
       "18024                                          0   \n",
       "\n",
       "       Name_Annual vehicle miles traveled (trucks)  ...  \\\n",
       "0                                                0  ...   \n",
       "1                                                0  ...   \n",
       "2                                                0  ...   \n",
       "3                                                0  ...   \n",
       "4                                                0  ...   \n",
       "...                                            ...  ...   \n",
       "18020                                            0  ...   \n",
       "18021                                            0  ...   \n",
       "18022                                            0  ...   \n",
       "18023                                            0  ...   \n",
       "18024                                            0  ...   \n",
       "\n",
       "       Measure Info_per 100,000 adults  Measure Info_per 100,000 children  \\\n",
       "0                                    0                                  0   \n",
       "1                                    0                                  0   \n",
       "2                                    0                                  0   \n",
       "3                                    0                                  0   \n",
       "4                                    0                                  0   \n",
       "...                                ...                                ...   \n",
       "18020                                0                                  0   \n",
       "18021                                0                                  0   \n",
       "18022                                0                                  0   \n",
       "18023                                0                                  0   \n",
       "18024                                0                                  0   \n",
       "\n",
       "       Measure Info_per square mile  Measure Info_ppb  Measure Info_Âµg/m3  \\\n",
       "0                                 0                 0                    0   \n",
       "1                                 0                 0                    0   \n",
       "2                                 0                 0                    0   \n",
       "3                                 0                 0                    0   \n",
       "4                                 0                 0                    0   \n",
       "...                             ...               ...                  ...   \n",
       "18020                             1                 0                    0   \n",
       "18021                             1                 0                    0   \n",
       "18022                             1                 0                    0   \n",
       "18023                             1                 0                    0   \n",
       "18024                             1                 0                    0   \n",
       "\n",
       "       Geo Type Name_Borough  Geo Type Name_CD  Geo Type Name_Citywide  \\\n",
       "0                          0                 0                       0   \n",
       "1                          0                 0                       0   \n",
       "2                          0                 0                       0   \n",
       "3                          0                 0                       0   \n",
       "4                          0                 0                       0   \n",
       "...                      ...               ...                     ...   \n",
       "18020                      0                 1                       0   \n",
       "18021                      0                 1                       0   \n",
       "18022                      0                 0                       0   \n",
       "18023                      0                 0                       0   \n",
       "18024                      0                 0                       0   \n",
       "\n",
       "       Geo Type Name_UHF34  Geo Type Name_UHF42  \n",
       "0                        0                    1  \n",
       "1                        0                    1  \n",
       "2                        0                    1  \n",
       "3                        0                    1  \n",
       "4                        0                    1  \n",
       "...                    ...                  ...  \n",
       "18020                    0                    0  \n",
       "18021                    0                    0  \n",
       "18022                    0                    1  \n",
       "18023                    0                    1  \n",
       "18024                    0                    1  \n",
       "\n",
       "[18025 rows x 46 columns]"
      ]
     },
     "execution_count": 90,
     "metadata": {},
     "output_type": "execute_result"
    }
   ],
   "source": [
    "df = derive_categorical(df, [\"indicator\", \"date\"], True)\n",
    "df.to_csv(\"data/Air Quality CatEncoded.csv\")\n",
    "df"
   ]
  },
  {
   "cell_type": "markdown",
   "metadata": {},
   "source": [
    "## Additional Data Preprocessing for Gcloud"
   ]
  },
  {
   "cell_type": "code",
   "execution_count": 12,
   "metadata": {},
   "outputs": [
    {
     "name": "stdout",
     "output_type": "stream",
     "text": [
      "temp.csv\n",
      "              Day  Temperature        f0_        f1_        f2_         f3_  \\\n",
      "0      1990-01-01    36.577706  43.704762   8.933333  23.852381   99.395238   \n",
      "1      1990-01-02    36.361572  43.485981  12.509346  23.490654   97.883178   \n",
      "2      1990-01-03    38.360233  45.018605  13.367442  23.572093   98.232558   \n",
      "3      1990-01-04    38.360426  45.662037  11.254630  23.648148   98.537037   \n",
      "4      1990-01-05    36.962411  43.568807  11.683486  23.857798   99.408257   \n",
      "...           ...          ...        ...        ...        ...         ...   \n",
      "11954  2023-04-26    47.702083  58.850000  14.250000  24.000000  100.000000   \n",
      "11955  2023-04-27    53.648098  67.300000  13.900000  23.950000   99.800000   \n",
      "11956  2023-04-28    55.716667  68.350000  12.950000  24.000000  100.000000   \n",
      "11957  2023-04-29    51.372917  61.200000  12.250000  24.000000  100.000000   \n",
      "11958  2023-04-30    47.856250  55.400000  15.800000  24.000000  100.000000   \n",
      "\n",
      "                f4_        f5_            f6_  \n",
      "0      North Dakota     Mercer  Not in a city  \n",
      "1      North Dakota     Mercer  Not in a city  \n",
      "2      North Dakota     Mercer  Not in a city  \n",
      "3      North Dakota     Mercer  Not in a city  \n",
      "4      North Dakota     Mercer  Not in a city  \n",
      "...             ...        ...            ...  \n",
      "11954      Colorado  Archuleta  Not in a city  \n",
      "11955      Colorado  Archuleta  Not in a city  \n",
      "11956      Colorado  Archuleta  Not in a city  \n",
      "11957      Colorado  Archuleta  Not in a city  \n",
      "11958      Colorado  Archuleta  Not in a city  \n",
      "\n",
      "[11959 rows x 9 columns]\n",
      "\n",
      "\n",
      "pm10_daily_summary.csv\n",
      "              Day     o3_AQI        f0_        f1_  f2_    f3_       f4_  \\\n",
      "0      1990-01-01  24.462687  27.201493   0.634328  1.0  100.0  Colorado   \n",
      "1      1990-01-02  24.658228  27.582278   1.797468  1.0  100.0  Colorado   \n",
      "2      1990-01-03  28.858974  32.326923   0.756410  1.0  100.0    Nevada   \n",
      "3      1990-01-04  32.808989  37.685393   1.584270  1.0  100.0  Colorado   \n",
      "4      1990-01-05  27.094620  30.614100   0.138219  1.0  100.0  Colorado   \n",
      "...           ...        ...        ...        ...  ...    ...       ...   \n",
      "11954  2023-04-26  28.833333  31.000000  23.000000  1.0  100.0      Iowa   \n",
      "11955  2023-04-27  43.000000  54.666667  23.000000  1.0  100.0      Iowa   \n",
      "11956  2023-04-28  38.000000  44.000000  23.000000  1.0  100.0      Iowa   \n",
      "11957  2023-04-29  23.000000  25.250000  23.000000  1.0  100.0     Maine   \n",
      "11958  2023-04-30  27.750000  30.250000  23.000000  1.0  100.0     Maine   \n",
      "\n",
      "           f5_            f6_  \n",
      "0       Denver         Denver  \n",
      "1       Denver         Denver  \n",
      "2       Washoe         Sparks  \n",
      "3       Denver         Denver  \n",
      "4       Denver         Denver  \n",
      "...        ...            ...  \n",
      "11954    Scott        Buffalo  \n",
      "11955    Scott        Buffalo  \n",
      "11956    Scott        Buffalo  \n",
      "11957  Hancock  Not in a city  \n",
      "11958  Hancock  Not in a city  \n",
      "\n",
      "[11959 rows x 9 columns]\n",
      "\n",
      "\n",
      "wind_daily_summary.csv\n",
      "              Day  o3_AQI         f0_        f1_        f2_         f3_  \\\n",
      "0      1990-01-01     NaN  168.929464  12.470238  23.297619   97.095238   \n",
      "1      1990-01-02     NaN  143.693333  10.994203  23.173913   96.594203   \n",
      "2      1990-01-03     NaN  151.618156  12.155620  23.348703   97.314121   \n",
      "3      1990-01-04     NaN  169.380980  12.642651  23.792507   99.135447   \n",
      "4      1990-01-05     NaN  169.387069   9.183908  23.528736   98.043103   \n",
      "...           ...     ...         ...        ...        ...         ...   \n",
      "11954  2023-04-26     NaN  116.722727  12.477273  24.000000  100.000000   \n",
      "11955  2023-04-27     NaN  125.993182  10.954545  23.954545   99.818182   \n",
      "11956  2023-04-28     NaN  173.940909  15.000000  24.000000  100.000000   \n",
      "11957  2023-04-29     NaN  163.736364  11.454545  24.000000  100.000000   \n",
      "11958  2023-04-30     NaN  157.684091  13.931818  23.227273   96.772727   \n",
      "\n",
      "            f4_     f5_        f6_  \n",
      "0      Illinois  DuPage      Lisle  \n",
      "1      Illinois  DuPage      Lisle  \n",
      "2      Illinois  DuPage      Lisle  \n",
      "3      Illinois  DuPage      Lisle  \n",
      "4      Illinois  DuPage      Lisle  \n",
      "...         ...     ...        ...  \n",
      "11954      Iowa    Polk  Polk City  \n",
      "11955      Iowa    Polk  Polk City  \n",
      "11956      Iowa    Polk  Polk City  \n",
      "11957      Iowa    Polk  Polk City  \n",
      "11958      Iowa    Polk  Polk City  \n",
      "\n",
      "[11959 rows x 9 columns]\n",
      "\n",
      "\n",
      "o3_daily_summary.csv\n",
      "              Day     o3_AQI       f0_        f1_        f2_         f3_  \\\n",
      "0      1990-01-01  25.150313  0.027121  10.835073  16.835073   99.031315   \n",
      "1      1990-01-02  21.726531  0.023435  10.553061  16.638776   97.875510   \n",
      "2      1990-01-03  19.855691  0.021449  10.835366  16.445122   96.741870   \n",
      "3      1990-01-04  19.184959  0.020701  11.376016  16.583333   97.554878   \n",
      "4      1990-01-05  18.892713  0.020399  10.419028  16.730769   98.423077   \n",
      "...           ...        ...       ...        ...        ...         ...   \n",
      "11954  2023-04-26  44.763636  0.047673  10.400000  16.927273   99.563636   \n",
      "11955  2023-04-27  48.309091  0.049964  11.727273  16.927273   99.563636   \n",
      "11956  2023-04-28  53.509091  0.051436  10.581818  17.000000  100.000000   \n",
      "11957  2023-04-29  44.527273  0.045800   9.981818  16.727273   98.400000   \n",
      "11958  2023-04-30  43.648148  0.044685  12.314815  11.962963   70.777778   \n",
      "\n",
      "          f4_         f5_            f6_  \n",
      "0      Alaska     Denali   Not in a city  \n",
      "1      Alaska     Denali   Not in a city  \n",
      "2      Alaska     Denali   Not in a city  \n",
      "3      Alaska     Denali   Not in a city  \n",
      "4      Alaska     Denali   Not in a city  \n",
      "...       ...         ...            ...  \n",
      "11954    Iowa  Montgomery  Not in a city  \n",
      "11955    Iowa  Montgomery  Not in a city  \n",
      "11956    Iowa  Montgomery  Not in a city  \n",
      "11957    Iowa  Montgomery  Not in a city  \n",
      "11958    Iowa  Montgomery  Not in a city  \n",
      "\n",
      "[11959 rows x 9 columns]\n",
      "\n",
      "\n",
      "voc_daily_summary.csv\n",
      "              Day  o3_AQI         f0_        f1_        f2_        f3_  \\\n",
      "0      1990-01-01     NaN  731.250000  12.000000  23.500000  98.000000   \n",
      "1      1990-01-02     NaN  128.334286  12.642857   7.571429  93.214286   \n",
      "2      1990-01-03     NaN   40.084526   4.336842   2.178947  98.957895   \n",
      "3      1990-01-04     NaN   75.393000   5.020000   3.060000  99.020000   \n",
      "4      1990-01-05     NaN   17.383862   2.628242   1.279539  99.034582   \n",
      "...           ...     ...         ...        ...        ...        ...   \n",
      "11919  2023-04-26     NaN    9.719366   6.394366  15.845070  66.408451   \n",
      "11920  2023-04-27     NaN    9.627042  14.591549  18.436620  77.098592   \n",
      "11921  2023-04-28     NaN   35.072958   7.767606  21.676056  90.704225   \n",
      "11922  2023-04-29     NaN   12.686620  18.443662  20.000000  83.000000   \n",
      "11923  2023-04-30     NaN   21.267817  10.753521  21.000000  88.000000   \n",
      "\n",
      "              f4_        f5_          f6_  \n",
      "0      California  San Diego    San Diego  \n",
      "1            Ohio   Pickaway  Circleville  \n",
      "2            Ohio   Pickaway  Circleville  \n",
      "3            Ohio   Pickaway  Circleville  \n",
      "4      California  San Diego  Chula Vista  \n",
      "...           ...        ...          ...  \n",
      "11919       Texas    El Paso      El Paso  \n",
      "11920       Texas    El Paso      El Paso  \n",
      "11921       Texas    El Paso      El Paso  \n",
      "11922       Texas    El Paso      El Paso  \n",
      "11923       Texas    El Paso      El Paso  \n",
      "\n",
      "[11924 rows x 9 columns]\n",
      "\n",
      "\n",
      "so2_daily_summary.csv\n",
      "              Day     o3_AQI        f0_        f1_        f2_        f3_  \\\n",
      "0      1990-01-01  27.064972  18.506290   9.243110  15.396466  95.489753   \n",
      "1      1990-01-02  36.330084  24.789686  12.417422  14.978397  92.443902   \n",
      "2      1990-01-03  41.923823  29.401108  11.169668  15.029086  92.824100   \n",
      "3      1990-01-04  39.681379  27.688138   9.165517  15.022069  92.776552   \n",
      "4      1990-01-05  36.532325  24.560385  11.513067  15.195323  93.984182   \n",
      "...           ...        ...        ...        ...        ...        ...   \n",
      "11954  2023-04-26   0.636364   0.763636  11.863636  15.227273  93.954545   \n",
      "11955  2023-04-27   1.000000   1.059091   9.954545  15.181818  93.409091   \n",
      "11956  2023-04-28   1.636364   1.377273  12.681818  15.363636  94.909091   \n",
      "11957  2023-04-29   0.272727   0.472727   6.090909  15.363636  94.909091   \n",
      "11958  2023-04-30   0.090909   0.240909   4.772727  15.181818  93.409091   \n",
      "\n",
      "           f4_        f5_            f6_  \n",
      "0      Alabama    Colbert  Not in a city  \n",
      "1      Alabama    Colbert  Not in a city  \n",
      "2      Alabama    Colbert  Not in a city  \n",
      "3      Alabama    Colbert  Not in a city  \n",
      "4      Alabama    Colbert  Not in a city  \n",
      "...        ...        ...            ...  \n",
      "11954     Iowa  Van Buren  Not in a city  \n",
      "11955     Iowa  Van Buren  Not in a city  \n",
      "11956     Iowa  Van Buren  Not in a city  \n",
      "11957     Iowa  Van Buren  Not in a city  \n",
      "11958     Iowa  Van Buren  Not in a city  \n",
      "\n",
      "[11959 rows x 9 columns]\n",
      "\n",
      "\n",
      "pressure_daily_summary.csv\n",
      "              Day  o3_AQI         f0_        f1_        f2_         f3_  \\\n",
      "0      1990-01-01     NaN  959.782353  14.294118  24.000000  100.000000   \n",
      "1      1990-01-02     NaN  957.488235   0.882353  24.000000  100.000000   \n",
      "2      1990-01-03     NaN  956.147059   6.294118  23.647059   98.529412   \n",
      "3      1990-01-04     NaN  957.405882  14.941176  24.000000  100.000000   \n",
      "4      1990-01-05     NaN  958.388235   9.470588  24.000000  100.000000   \n",
      "...           ...     ...         ...        ...        ...         ...   \n",
      "11923  2023-04-26     NaN  969.771429   9.357143  24.000000  100.000000   \n",
      "11924  2023-04-27     NaN  964.478571   1.000000  24.000000  100.000000   \n",
      "11925  2023-04-28     NaN  959.671429  12.500000  24.000000  100.000000   \n",
      "11926  2023-04-29     NaN  958.514286   1.000000  24.000000  100.000000   \n",
      "11927  2023-04-30     NaN  953.828571  13.500000  24.000000  100.000000   \n",
      "\n",
      "           f4_         f5_            f6_  \n",
      "0      Indiana        Vigo  Not in a city  \n",
      "1      Indiana        Vigo  Not in a city  \n",
      "2      Indiana        Vigo  Not in a city  \n",
      "3      Indiana        Vigo  Not in a city  \n",
      "4      Indiana        Vigo  Not in a city  \n",
      "...        ...         ...            ...  \n",
      "11923     Iowa  Black Hawk       Waterloo  \n",
      "11924     Iowa  Black Hawk       Waterloo  \n",
      "11925     Iowa  Black Hawk       Waterloo  \n",
      "11926     Iowa  Black Hawk       Waterloo  \n",
      "11927     Iowa  Black Hawk       Waterloo  \n",
      "\n",
      "[11928 rows x 9 columns]\n",
      "\n",
      "\n",
      "pm25_frm_daily_summary.csv\n",
      "             Day      o3_AQI        f0_       f1_        f2_         f3_  \\\n",
      "0     1997-04-04  114.000000  40.500000  0.000000   1.000000  100.000000   \n",
      "1     1997-04-10   75.000000  23.500000  0.000000   1.000000  100.000000   \n",
      "2     1997-04-16   52.500000  13.000000  0.000000   1.000000  100.000000   \n",
      "3     1997-04-22   27.000000   6.500000  0.000000   1.000000  100.000000   \n",
      "4     1997-04-28   90.666667  31.000000  0.000000   1.000000  100.000000   \n",
      "...          ...         ...        ...       ...        ...         ...   \n",
      "8977  2023-04-26   36.111111  11.916667  6.500000  12.333333   99.333333   \n",
      "8978  2023-04-27   35.888889  13.147222  7.083333  12.305556   99.222222   \n",
      "8979  2023-04-28   39.000000  15.422222  4.250000  12.472222   99.888889   \n",
      "8980  2023-04-29   20.111111   8.611111  3.805556  12.500000  100.000000   \n",
      "8981  2023-04-30   12.333333   4.758333  3.500000  12.277778   99.111111   \n",
      "\n",
      "            f4_        f5_        f6_  \n",
      "0     Wisconsin   Waukesha   Waukesha  \n",
      "1     Wisconsin   Waukesha   Waukesha  \n",
      "2     Wisconsin  Milwaukee  Milwaukee  \n",
      "3     Wisconsin   Waukesha   Waukesha  \n",
      "4     Wisconsin   Waukesha   Waukesha  \n",
      "...         ...        ...        ...  \n",
      "8977       Iowa    Clinton    Clinton  \n",
      "8978       Iowa    Clinton    Clinton  \n",
      "8979       Iowa    Clinton    Clinton  \n",
      "8980       Iowa    Clinton    Clinton  \n",
      "8981       Iowa    Clinton    Clinton  \n",
      "\n",
      "[8982 rows x 9 columns]\n",
      "\n",
      "\n",
      "rh_and_dp_daily_summary.csv\n",
      "              Day  o3_AQI        f0_        f1_        f2_         f3_  \\\n",
      "0      1990-01-01     NaN  34.850000   6.700000  23.825000   99.275000   \n",
      "1      1990-01-02     NaN  37.441860  14.534884  23.000000   95.837209   \n",
      "2      1990-01-03     NaN  50.986301   7.520548  14.123288   98.246575   \n",
      "3      1990-01-04     NaN  40.162791   9.255814  23.162791   96.511628   \n",
      "4      1990-01-05     NaN  36.095238  12.190476  23.738095   98.904762   \n",
      "...           ...     ...        ...        ...        ...         ...   \n",
      "11954  2023-04-26     NaN  79.673333   3.400000  24.000000  100.000000   \n",
      "11955  2023-04-27     NaN  72.133333   8.800000  23.933333   99.733333   \n",
      "11956  2023-04-28     NaN  76.013333  10.000000  24.000000  100.000000   \n",
      "11957  2023-04-29     NaN  80.493333   6.933333  24.000000  100.000000   \n",
      "11958  2023-04-30     NaN  77.780000   6.266667  24.000000  100.000000   \n",
      "\n",
      "           f4_    f5_                      f6_  \n",
      "0         Utah  Grand            Not in a city  \n",
      "1         Utah  Grand            Not in a city  \n",
      "2      Arizona   Gila  Tonto National Monument  \n",
      "3         Utah  Grand            Not in a city  \n",
      "4         Utah  Grand            Not in a city  \n",
      "...        ...    ...                      ...  \n",
      "11954     Iowa   Linn             Cedar Rapids  \n",
      "11955     Iowa   Linn             Cedar Rapids  \n",
      "11956     Iowa   Linn             Cedar Rapids  \n",
      "11957     Iowa   Linn             Cedar Rapids  \n",
      "11958     Iowa   Linn             Cedar Rapids  \n",
      "\n",
      "[11959 rows x 9 columns]\n",
      "\n",
      "\n",
      "no2_daily_summary.csv\n",
      "              Day     o3_AQI        f0_        f1_        f2_        f3_  \\\n",
      "0      1990-01-01  27.954545  29.577972   8.734266  23.391608  97.538462   \n",
      "1      1990-01-02  30.203448  32.124483  13.517241  22.468966  93.737931   \n",
      "2      1990-01-03  36.962457  39.129352  12.901024  22.597270  94.276451   \n",
      "3      1990-01-04  37.132890  39.024585  11.066445  22.425249  93.531561   \n",
      "4      1990-01-05  37.150502  39.197324  13.795987  23.003344  95.946488   \n",
      "...           ...        ...        ...        ...        ...        ...   \n",
      "11923  2023-04-26  15.705882  17.129412   8.529412  23.588235  98.352941   \n",
      "11924  2023-04-27  18.882353  20.388235   7.705882  23.235294  96.941176   \n",
      "11925  2023-04-28  12.647059  13.870588  15.117647  23.176471  96.588235   \n",
      "11926  2023-04-29  13.529412  14.764706   8.647059  23.411765  97.647059   \n",
      "11927  2023-04-30   8.764706   9.529412   9.764706  23.117647  96.411765   \n",
      "\n",
      "                f4_     f5_     f6_  \n",
      "0      North Dakota  Mercer  Beulah  \n",
      "1      North Dakota  Mercer  Beulah  \n",
      "2      North Dakota  Mercer  Beulah  \n",
      "3      North Dakota  Mercer  Beulah  \n",
      "4      North Dakota  Mercer  Beulah  \n",
      "...             ...     ...     ...  \n",
      "11923          Utah  Tooele    Erda  \n",
      "11924          Utah  Tooele    Erda  \n",
      "11925          Utah  Tooele    Erda  \n",
      "11926          Utah  Tooele    Erda  \n",
      "11927          Utah  Tooele    Erda  \n",
      "\n",
      "[11928 rows x 9 columns]\n",
      "\n",
      "\n"
     ]
    }
   ],
   "source": [
    "gcdata = \"data/gc-data/\"\n",
    "gcloud_files = [file for file in os.listdir(gcdata)]\n",
    "gcdf = [pd.read_csv(gcdata+data) for data in gcloud_files]\n",
    "for i, df in enumerate(gcdf):\n",
    "    print(gcloud_files[i])\n",
    "    print(df)\n",
    "    print('\\n')"
   ]
  }
 ],
 "metadata": {
  "kernelspec": {
   "display_name": "base",
   "language": "python",
   "name": "python3"
  },
  "language_info": {
   "codemirror_mode": {
    "name": "ipython",
    "version": 3
   },
   "file_extension": ".py",
   "mimetype": "text/x-python",
   "name": "python",
   "nbconvert_exporter": "python",
   "pygments_lexer": "ipython3",
   "version": "3.9.12"
  }
 },
 "nbformat": 4,
 "nbformat_minor": 2
}
