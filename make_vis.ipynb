{
 "cells": [
  {
   "cell_type": "markdown",
   "metadata": {},
   "source": [
    "# Main Visualization File\n",
    "> Most of the inital code is ported from main.py"
   ]
  },
  {
   "cell_type": "code",
   "execution_count": 4,
   "metadata": {},
   "outputs": [
    {
     "name": "stdout",
     "output_type": "stream",
     "text": [
      "Requirement already satisfied: mmh3 in /Users/korahughes/opt/anaconda3/lib/python3.9/site-packages (4.1.0)\n",
      "Collecting torch\n",
      "  Downloading torch-2.2.2-cp39-none-macosx_10_9_x86_64.whl (150.8 MB)\n",
      "\u001b[K     |████████████████████████████████| 150.8 MB 37.6 MB/s eta 0:00:01\n",
      "\u001b[?25hCollecting typing-extensions>=4.8.0\n",
      "  Downloading typing_extensions-4.11.0-py3-none-any.whl (34 kB)\n",
      "Requirement already satisfied: filelock in /Users/korahughes/opt/anaconda3/lib/python3.9/site-packages (from torch) (3.6.0)\n",
      "Requirement already satisfied: sympy in /Users/korahughes/opt/anaconda3/lib/python3.9/site-packages (from torch) (1.10.1)\n",
      "Requirement already satisfied: fsspec in /Users/korahughes/opt/anaconda3/lib/python3.9/site-packages (from torch) (2022.2.0)\n",
      "Requirement already satisfied: jinja2 in /Users/korahughes/opt/anaconda3/lib/python3.9/site-packages (from torch) (3.1.3)\n",
      "Requirement already satisfied: networkx in /Users/korahughes/opt/anaconda3/lib/python3.9/site-packages (from torch) (2.7.1)\n",
      "Requirement already satisfied: MarkupSafe>=2.0 in /Users/korahughes/opt/anaconda3/lib/python3.9/site-packages (from jinja2->torch) (2.0.1)\n",
      "Requirement already satisfied: mpmath>=0.19 in /Users/korahughes/opt/anaconda3/lib/python3.9/site-packages (from sympy->torch) (1.2.1)\n",
      "Installing collected packages: typing-extensions, torch\n",
      "  Attempting uninstall: typing-extensions\n",
      "    Found existing installation: typing-extensions 4.1.1\n",
      "    Uninstalling typing-extensions-4.1.1:\n",
      "      Successfully uninstalled typing-extensions-4.1.1\n",
      "Successfully installed torch-2.2.2 typing-extensions-4.11.0\n"
     ]
    }
   ],
   "source": [
    "!pip install mmh3\n",
    "!pip install torch"
   ]
  },
  {
   "cell_type": "code",
   "execution_count": 5,
   "metadata": {},
   "outputs": [],
   "source": [
    "from table import Table\n",
    "from sketches import Synopsis\n",
    "import correlation\n",
    "from RL_Agent import Autofeature_agent\n",
    "from RL_Environment import ISOFAEnvironment\n",
    "import pandas as pd\n",
    "import numpy as np\n",
    "import sketches\n",
    "import os\n",
    "from tqdm import tqdm"
   ]
  },
  {
   "cell_type": "markdown",
   "metadata": {},
   "source": [
    "## Model Training"
   ]
  },
  {
   "cell_type": "code",
   "execution_count": 6,
   "metadata": {},
   "outputs": [
    {
     "name": "stdout",
     "output_type": "stream",
     "text": [
      "Sketching Core Table...\n",
      "(11959, 5)\n",
      "Observed correlation: 0.9967236563887053\n",
      "f0_ Temperature\n",
      "Correlation bounds: 0.9914217299462094, 1.0023880394688534\n",
      "Bootstrap 95% confidence interval for correlation: (0.9966099209170419, 0.9969456324960341)\n"
     ]
    },
    {
     "name": "stderr",
     "output_type": "stream",
     "text": [
      "/Users/korahughes/opt/anaconda3/lib/python3.9/site-packages/sklearn/metrics/cluster/_supervised.py:65: UserWarning: Clustering metrics expects discrete values but received continuous values for label, and continuous values for target\n",
      "  warnings.warn(msg, UserWarning)\n"
     ]
    },
    {
     "name": "stdout",
     "output_type": "stream",
     "text": [
      "Observed mutual info: 1.3934741864764607e-05\n",
      "Observed correlation: 0.46844979302250733\n",
      "f1_ Temperature\n",
      "Correlation bounds: 0.35870779209686204, 0.6862245753802713\n",
      "Bootstrap 95% confidence interval for correlation: (0.4417608372611969, 0.48294171228194777)\n"
     ]
    },
    {
     "name": "stderr",
     "output_type": "stream",
     "text": [
      "/Users/korahughes/opt/anaconda3/lib/python3.9/site-packages/sklearn/metrics/cluster/_supervised.py:65: UserWarning: Clustering metrics expects discrete values but received continuous values for label, and continuous values for target\n",
      "  warnings.warn(msg, UserWarning)\n"
     ]
    },
    {
     "name": "stdout",
     "output_type": "stream",
     "text": [
      "Observed mutual info: 1.5329966930149245e-06\n",
      "Observed correlation: -0.04337375987667828\n",
      "f2_ Temperature\n",
      "Correlation bounds: -0.0560689785493934, 1\n",
      "Bootstrap 95% confidence interval for correlation: (-0.06703062313611156, -0.019530919278972436)\n"
     ]
    },
    {
     "name": "stderr",
     "output_type": "stream",
     "text": [
      "/Users/korahughes/opt/anaconda3/lib/python3.9/site-packages/sklearn/metrics/cluster/_supervised.py:65: UserWarning: Clustering metrics expects discrete values but received continuous values for label, and continuous values for target\n",
      "  warnings.warn(msg, UserWarning)\n"
     ]
    },
    {
     "name": "stdout",
     "output_type": "stream",
     "text": [
      "Observed mutual info: 1.5582162168576519e-07\n",
      "Observed correlation: -0.04306752506070069\n",
      "f3_ Temperature\n",
      "Correlation bounds: -0.06967795385932417, 1\n",
      "Bootstrap 95% confidence interval for correlation: (-0.0660572668140623, -0.011198263063210055)\n"
     ]
    },
    {
     "name": "stderr",
     "output_type": "stream",
     "text": [
      "/Users/korahughes/opt/anaconda3/lib/python3.9/site-packages/sklearn/metrics/cluster/_supervised.py:65: UserWarning: Clustering metrics expects discrete values but received continuous values for label, and continuous values for target\n",
      "  warnings.warn(msg, UserWarning)\n"
     ]
    },
    {
     "name": "stdout",
     "output_type": "stream",
     "text": [
      "Observed mutual info: 2.2326064657877914e-07\n"
     ]
    }
   ],
   "source": [
    "gcdata = \"data/gc-data/\"  # data directory\n",
    "joinable = \"DayLoc\"  # feature that is joinable between tables\n",
    "target = \"Temperature\"\n",
    "# TODO: drop Date and Location on on the csv's\n",
    "\n",
    "# define core table\n",
    "print(\"Sketching Core Table...\")\n",
    "core_path = gcdata+\"temp.csv\"\n",
    "t_core = Table(joinable, core_path)\n",
    "\n",
    "y_feat = t_core.table[[joinable, target]]\n",
    "t_core.table.drop([target], axis=1, inplace=True)\n",
    "print(t_core.table.shape)\n",
    "\n",
    "t_core.get_sketch()\n",
    "core_syn = sketches.Synopsis(y_feat, attributes=[target], key=joinable) \n",
    "t_core.calc_corr_gain(core_syn)"
   ]
  },
  {
   "cell_type": "markdown",
   "metadata": {},
   "source": [
    "### Instantiating Candidates"
   ]
  },
  {
   "cell_type": "code",
   "execution_count": 7,
   "metadata": {},
   "outputs": [
    {
     "name": "stderr",
     "output_type": "stream",
     "text": [
      "  0%|          | 0/9 [00:00<?, ?it/s]"
     ]
    },
    {
     "name": "stdout",
     "output_type": "stream",
     "text": [
      "\n",
      "\n",
      "Looking at table pm10_daily_summary.csv\n",
      "Observed correlation: -0.04052077184093939\n",
      "pm10_daily_summary.csv-o3_AQI Temperature\n",
      "Correlation bounds: -0.11545603160451891, 0.06186103707872515\n",
      "Bootstrap 95% confidence interval for correlation: (-0.06114979995508197, -0.026866817450155563)\n"
     ]
    },
    {
     "name": "stderr",
     "output_type": "stream",
     "text": [
      "/Users/korahughes/opt/anaconda3/lib/python3.9/site-packages/sklearn/metrics/cluster/_supervised.py:65: UserWarning: Clustering metrics expects discrete values but received continuous values for label, and continuous values for target\n",
      "  warnings.warn(msg, UserWarning)\n"
     ]
    },
    {
     "name": "stdout",
     "output_type": "stream",
     "text": [
      "Observed mutual info: -2.3883112706784242e-05\n",
      "Observed correlation: -0.03914918161706282\n",
      "pm10_daily_summary.csv-f0_ Temperature\n",
      "Correlation bounds: -0.10866330292120387, 0.05937130428468072\n",
      "Bootstrap 95% confidence interval for correlation: (-0.05528977419809841, -0.024862815696303654)\n"
     ]
    },
    {
     "name": "stderr",
     "output_type": "stream",
     "text": [
      "/Users/korahughes/opt/anaconda3/lib/python3.9/site-packages/sklearn/metrics/cluster/_supervised.py:65: UserWarning: Clustering metrics expects discrete values but received continuous values for label, and continuous values for target\n",
      "  warnings.warn(msg, UserWarning)\n"
     ]
    },
    {
     "name": "stdout",
     "output_type": "stream",
     "text": [
      "Observed mutual info: -0.00014289438414307352\n",
      "Observed correlation: 0.005893026407901677\n",
      "pm10_daily_summary.csv-f1_ Temperature\n",
      "Correlation bounds: -0.018429417805543195, 0.03173929084642047\n",
      "Bootstrap 95% confidence interval for correlation: (-0.01658241759994904, 0.029556074814952094)\n"
     ]
    },
    {
     "name": "stderr",
     "output_type": "stream",
     "text": [
      "/Users/korahughes/opt/anaconda3/lib/python3.9/site-packages/sklearn/metrics/cluster/_supervised.py:65: UserWarning: Clustering metrics expects discrete values but received continuous values for label, and continuous values for target\n",
      "  warnings.warn(msg, UserWarning)\n",
      "/Users/korahughes/opt/anaconda3/lib/python3.9/site-packages/sklearn/metrics/cluster/_supervised.py:65: UserWarning: Clustering metrics expects discrete values but received binary values for label, and continuous values for target\n",
      "  warnings.warn(msg, UserWarning)\n",
      "/Users/korahughes/opt/anaconda3/lib/python3.9/site-packages/sklearn/metrics/cluster/_supervised.py:65: UserWarning: Clustering metrics expects discrete values but received binary values for label, and continuous values for target\n",
      "  warnings.warn(msg, UserWarning)\n",
      " 11%|█         | 1/9 [00:12<01:40, 12.53s/it]"
     ]
    },
    {
     "name": "stdout",
     "output_type": "stream",
     "text": [
      "Observed mutual info: -0.0002314516017454152\n",
      "Observed correlation: nan\n",
      "pm10_daily_summary.csv-f2_ Temperature\n",
      "Correlation bounds: -0.21309446465008616, 1\n",
      "Bootstrap 95% confidence interval for correlation: (nan, nan)\n",
      "Observed mutual info: 2.1851045462751074e-14\n",
      "Observed correlation: nan\n",
      "pm10_daily_summary.csv-f3_ Temperature\n",
      "Correlation bounds: -0.23967798111469538, 1\n",
      "Bootstrap 95% confidence interval for correlation: (nan, nan)\n",
      "Observed mutual info: 2.1851045462751074e-14\n",
      "\n",
      "\n",
      "\n",
      "\n",
      "Looking at table wind_daily_summary.csv\n",
      "Observed correlation: nan\n",
      "wind_daily_summary.csv-o3_AQI Temperature\n",
      "Correlation bounds: nan, 1\n",
      "Bootstrap 95% confidence interval for correlation: (nan, nan)\n",
      "Observed mutual info: 0.0\n",
      "Observed correlation: 0.03358381366422536\n",
      "wind_daily_summary.csv-f0_ Temperature\n",
      "Correlation bounds: 0.02441055139450897, 0.04296432743848804\n",
      "Bootstrap 95% confidence interval for correlation: (0.014351032585254848, 0.051773930333897274)\n"
     ]
    },
    {
     "name": "stderr",
     "output_type": "stream",
     "text": [
      "/Users/korahughes/opt/anaconda3/lib/python3.9/site-packages/sklearn/metrics/cluster/_supervised.py:65: UserWarning: Clustering metrics expects discrete values but received binary values for label, and continuous values for target\n",
      "  warnings.warn(msg, UserWarning)\n",
      "/Users/korahughes/opt/anaconda3/lib/python3.9/site-packages/sklearn/metrics/cluster/_supervised.py:65: UserWarning: Clustering metrics expects discrete values but received continuous values for label, and continuous values for target\n",
      "  warnings.warn(msg, UserWarning)\n"
     ]
    },
    {
     "name": "stdout",
     "output_type": "stream",
     "text": [
      "Observed mutual info: -1.8682978758456347e-11\n",
      "Observed correlation: 0.003008321845126484\n",
      "wind_daily_summary.csv-f1_ Temperature\n",
      "Correlation bounds: -0.031124417287641513, 1\n",
      "Bootstrap 95% confidence interval for correlation: (-0.016084635380300263, 0.02427605410363684)\n"
     ]
    },
    {
     "name": "stderr",
     "output_type": "stream",
     "text": [
      "/Users/korahughes/opt/anaconda3/lib/python3.9/site-packages/sklearn/metrics/cluster/_supervised.py:65: UserWarning: Clustering metrics expects discrete values but received continuous values for label, and continuous values for target\n",
      "  warnings.warn(msg, UserWarning)\n"
     ]
    }
   ],
   "source": [
    "# define candidate tables\n",
    "candidate_paths = [file for file in os.listdir(gcdata) if \"temp\" not in file]\n",
    "t_candidates = []\n",
    "for path in tqdm(candidate_paths):\n",
    "    print(\"\\n\\nLooking at table\", path)\n",
    "    t_cand = Table(joinable, gcdata+path)\n",
    "    # get rid of target variable in candidate table\n",
    "    if target in t_cand.table.columns:\n",
    "        t_cand.table.drop([target], axis=1, inplace=True)\n",
    "    assert joinable in t_cand.table.columns, f\"{joinable=} not found in {path}\"\n",
    "    # rename columns for less confusion on join\n",
    "    renamer = dict([[col, path+'-'+col] for col in t_cand.table.columns if joinable not in col])\n",
    "    t_cand.table = t_cand.table.rename(columns=renamer)\n",
    "    \n",
    "    # use synopsys for join estimation\n",
    "    t_cand.get_sketch()  # ? sketch candidate table again\n",
    "    # TODO: check missing values in join of core with voc_daily_summary.csv (nan vals in calc mutual info)\n",
    "    t_cand.calc_corr_gain(core_syn)  # ? calculate correlation between candidate and itself\n",
    "    # ? get feature-wise sketch\n",
    "    t_cand.feature_scoring(20)\n",
    "    for feat in t_core.df_sketch:\n",
    "        if t_core.df_sketch[feat].dtype == 'object':\n",
    "            t_core.df_sketch[feat] = t_core.df_sketch[feat].astype('category')\n",
    "    for feat in t_cand.df_sketch:\n",
    "        if t_cand.df_sketch[feat].dtype == 'object':\n",
    "            t_cand.df_sketch[feat] = t_cand.df_sketch[feat].astype('category')\n",
    "    t_candidates.append(t_cand)\n",
    "    print('\\n')"
   ]
  },
  {
   "cell_type": "markdown",
   "metadata": {},
   "source": [
    "### Actual Feature Selection"
   ]
  },
  {
   "cell_type": "code",
   "execution_count": null,
   "metadata": {},
   "outputs": [],
   "source": [
    "# instantiate model environment\n",
    "model_target = 0\n",
    "max_try_num = 7\n",
    "# t_core.df_sketch.drop([target], axis=1, inplace=True)\n",
    "print(\"\\n\\nDefining Environment\")\n",
    "env = ISOFAEnvironment(t_core, t_candidates, joinable, target, max_try_num)\n",
    "\n",
    "# Parameters for the agent\n",
    "learning_rate = 0.05\n",
    "reward_decay = 0.9\n",
    "e_greedy = 1\n",
    "update_freq = 50\n",
    "mem_cap = 1000\n",
    "BDQN_batch_size = 3\n",
    "print(\"Starting Training...\")\n",
    "autodata = Autofeature_agent(env, BDQN_batch_size, learning_rate, reward_decay, e_greedy, update_freq, mem_cap,\n",
    "                                BDQN_batch_size)\n",
    "\n",
    "print(\"\\nAgent Ready!\")\n",
    "\n",
    "# Train the workload\n",
    "auto_result = autodata.train_workload()"
   ]
  },
  {
   "cell_type": "code",
   "execution_count": null,
   "metadata": {},
   "outputs": [],
   "source": [
    "# TODO: store training results here\n",
    "rmse_t = []\n"
   ]
  },
  {
   "cell_type": "markdown",
   "metadata": {},
   "source": [
    "## Visualizations"
   ]
  },
  {
   "cell_type": "code",
   "execution_count": null,
   "metadata": {},
   "outputs": [],
   "source": [
    "import plotly.express as px\n",
    "import matplotlib.pyplot as plt\n",
    "\n",
    "rmse = [[rmse_t, i+1] for i in range(len(rmse_t))]\n",
    "df = pd.Dataframe(rmse, columns=[\"RMSE\", \"Step\"])\n",
    "df"
   ]
  },
  {
   "cell_type": "code",
   "execution_count": null,
   "metadata": {},
   "outputs": [],
   "source": [
    "px.scatter(df)"
   ]
  }
 ],
 "metadata": {
  "kernelspec": {
   "display_name": "base",
   "language": "python",
   "name": "python3"
  },
  "language_info": {
   "codemirror_mode": {
    "name": "ipython",
    "version": 3
   },
   "file_extension": ".py",
   "mimetype": "text/x-python",
   "name": "python",
   "nbconvert_exporter": "python",
   "pygments_lexer": "ipython3",
   "version": "3.9.12"
  }
 },
 "nbformat": 4,
 "nbformat_minor": 2
}
