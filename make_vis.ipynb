{
 "cells": [
  {
   "cell_type": "markdown",
   "metadata": {},
   "source": [
    "# Main Visualization File\n",
    "> Most of the inital code is ported from main.py"
   ]
  },
  {
   "cell_type": "code",
   "execution_count": 11,
   "metadata": {},
   "outputs": [
    {
     "name": "stdout",
     "output_type": "stream",
     "text": [
      "Requirement already satisfied: mmh3 in /Users/korahughes/opt/anaconda3/lib/python3.9/site-packages (4.1.0)\n",
      "Requirement already satisfied: torch in /Users/korahughes/opt/anaconda3/lib/python3.9/site-packages (2.2.2)\n",
      "Requirement already satisfied: networkx in /Users/korahughes/opt/anaconda3/lib/python3.9/site-packages (from torch) (2.7.1)\n",
      "Requirement already satisfied: fsspec in /Users/korahughes/opt/anaconda3/lib/python3.9/site-packages (from torch) (2022.2.0)\n",
      "Requirement already satisfied: typing-extensions>=4.8.0 in /Users/korahughes/opt/anaconda3/lib/python3.9/site-packages (from torch) (4.11.0)\n",
      "Requirement already satisfied: sympy in /Users/korahughes/opt/anaconda3/lib/python3.9/site-packages (from torch) (1.10.1)\n",
      "Requirement already satisfied: filelock in /Users/korahughes/opt/anaconda3/lib/python3.9/site-packages (from torch) (3.6.0)\n",
      "Requirement already satisfied: jinja2 in /Users/korahughes/opt/anaconda3/lib/python3.9/site-packages (from torch) (3.1.3)\n",
      "Requirement already satisfied: MarkupSafe>=2.0 in /Users/korahughes/opt/anaconda3/lib/python3.9/site-packages (from jinja2->torch) (2.0.1)\n",
      "Requirement already satisfied: mpmath>=0.19 in /Users/korahughes/opt/anaconda3/lib/python3.9/site-packages (from sympy->torch) (1.2.1)\n"
     ]
    }
   ],
   "source": [
    "!pip3 install mmh3\n",
    "!pip3 install torch"
   ]
  },
  {
   "cell_type": "code",
   "execution_count": 12,
   "metadata": {},
   "outputs": [],
   "source": [
    "from table import Table\n",
    "from sketches import Synopsis\n",
    "import correlation\n",
    "from RL_Agent import Autofeature_agent\n",
    "from RL_Environment import ISOFAEnvironment\n",
    "import pandas as pd\n",
    "import numpy as np\n",
    "import sketches\n",
    "import os\n",
    "from tqdm import tqdm"
   ]
  },
  {
   "cell_type": "markdown",
   "metadata": {},
   "source": [
    "## Model Training"
   ]
  },
  {
   "cell_type": "code",
   "execution_count": 6,
   "metadata": {},
   "outputs": [
    {
     "name": "stdout",
     "output_type": "stream",
     "text": [
      "Sketching Core Table...\n",
      "(11959, 5)\n",
      "Observed correlation: 0.9967236563887053\n",
      "f0_ Temperature\n",
      "Correlation bounds: 0.9914217299462094, 1.0023880394688534\n",
      "Bootstrap 95% confidence interval for correlation: (0.9966099209170419, 0.9969456324960341)\n"
     ]
    },
    {
     "name": "stderr",
     "output_type": "stream",
     "text": [
      "/Users/korahughes/opt/anaconda3/lib/python3.9/site-packages/sklearn/metrics/cluster/_supervised.py:65: UserWarning: Clustering metrics expects discrete values but received continuous values for label, and continuous values for target\n",
      "  warnings.warn(msg, UserWarning)\n"
     ]
    },
    {
     "name": "stdout",
     "output_type": "stream",
     "text": [
      "Observed mutual info: 1.3934741864764607e-05\n",
      "Observed correlation: 0.46844979302250733\n",
      "f1_ Temperature\n",
      "Correlation bounds: 0.35870779209686204, 0.6862245753802713\n",
      "Bootstrap 95% confidence interval for correlation: (0.4417608372611969, 0.48294171228194777)\n"
     ]
    },
    {
     "name": "stderr",
     "output_type": "stream",
     "text": [
      "/Users/korahughes/opt/anaconda3/lib/python3.9/site-packages/sklearn/metrics/cluster/_supervised.py:65: UserWarning: Clustering metrics expects discrete values but received continuous values for label, and continuous values for target\n",
      "  warnings.warn(msg, UserWarning)\n"
     ]
    },
    {
     "name": "stdout",
     "output_type": "stream",
     "text": [
      "Observed mutual info: 1.5329966930149245e-06\n",
      "Observed correlation: -0.04337375987667828\n",
      "f2_ Temperature\n",
      "Correlation bounds: -0.0560689785493934, 1\n",
      "Bootstrap 95% confidence interval for correlation: (-0.06703062313611156, -0.019530919278972436)\n"
     ]
    },
    {
     "name": "stderr",
     "output_type": "stream",
     "text": [
      "/Users/korahughes/opt/anaconda3/lib/python3.9/site-packages/sklearn/metrics/cluster/_supervised.py:65: UserWarning: Clustering metrics expects discrete values but received continuous values for label, and continuous values for target\n",
      "  warnings.warn(msg, UserWarning)\n"
     ]
    },
    {
     "name": "stdout",
     "output_type": "stream",
     "text": [
      "Observed mutual info: 1.5582162168576519e-07\n",
      "Observed correlation: -0.04306752506070069\n",
      "f3_ Temperature\n",
      "Correlation bounds: -0.06967795385932417, 1\n",
      "Bootstrap 95% confidence interval for correlation: (-0.0660572668140623, -0.011198263063210055)\n"
     ]
    },
    {
     "name": "stderr",
     "output_type": "stream",
     "text": [
      "/Users/korahughes/opt/anaconda3/lib/python3.9/site-packages/sklearn/metrics/cluster/_supervised.py:65: UserWarning: Clustering metrics expects discrete values but received continuous values for label, and continuous values for target\n",
      "  warnings.warn(msg, UserWarning)\n"
     ]
    },
    {
     "name": "stdout",
     "output_type": "stream",
     "text": [
      "Observed mutual info: 2.2326064657877914e-07\n"
     ]
    }
   ],
   "source": [
    "gcdata = \"data/gc-data/\"  # data directory\n",
    "joinable = \"DayLoc\"  # feature that is joinable between tables\n",
    "target = \"Temperature\"\n",
    "# TODO: drop Date and Location on on the csv's\n",
    "\n",
    "# define core table\n",
    "print(\"Sketching Core Table...\")\n",
    "core_path = gcdata+\"temp.csv\"\n",
    "t_core = Table(joinable, core_path)\n",
    "\n",
    "y_feat = t_core.table[[joinable, target]]\n",
    "t_core.table.drop([target], axis=1, inplace=True)\n",
    "print(t_core.table.shape)\n",
    "\n",
    "t_core.get_sketch()\n",
    "core_syn = sketches.Synopsis(y_feat, attributes=[target], key=joinable) \n",
    "t_core.calc_corr_gain(core_syn)"
   ]
  },
  {
   "cell_type": "markdown",
   "metadata": {},
   "source": [
    "### Instantiating Candidates"
   ]
  },
  {
   "cell_type": "code",
   "execution_count": 7,
   "metadata": {},
   "outputs": [
    {
     "name": "stderr",
     "output_type": "stream",
     "text": [
      "  0%|          | 0/9 [00:00<?, ?it/s]"
     ]
    },
    {
     "name": "stdout",
     "output_type": "stream",
     "text": [
      "\n",
      "\n",
      "Looking at table pm10_daily_summary.csv\n",
      "Observed correlation: -0.04052077184093939\n",
      "pm10_daily_summary.csv-o3_AQI Temperature\n",
      "Correlation bounds: -0.11545603160451891, 0.06186103707872515\n",
      "Bootstrap 95% confidence interval for correlation: (-0.06114979995508197, -0.026866817450155563)\n"
     ]
    },
    {
     "name": "stderr",
     "output_type": "stream",
     "text": [
      "/Users/korahughes/opt/anaconda3/lib/python3.9/site-packages/sklearn/metrics/cluster/_supervised.py:65: UserWarning: Clustering metrics expects discrete values but received continuous values for label, and continuous values for target\n",
      "  warnings.warn(msg, UserWarning)\n"
     ]
    },
    {
     "name": "stdout",
     "output_type": "stream",
     "text": [
      "Observed mutual info: -2.3883112706784242e-05\n",
      "Observed correlation: -0.03914918161706282\n",
      "pm10_daily_summary.csv-f0_ Temperature\n",
      "Correlation bounds: -0.10866330292120387, 0.05937130428468072\n",
      "Bootstrap 95% confidence interval for correlation: (-0.05528977419809841, -0.024862815696303654)\n"
     ]
    },
    {
     "name": "stderr",
     "output_type": "stream",
     "text": [
      "/Users/korahughes/opt/anaconda3/lib/python3.9/site-packages/sklearn/metrics/cluster/_supervised.py:65: UserWarning: Clustering metrics expects discrete values but received continuous values for label, and continuous values for target\n",
      "  warnings.warn(msg, UserWarning)\n"
     ]
    },
    {
     "name": "stdout",
     "output_type": "stream",
     "text": [
      "Observed mutual info: -0.00014289438414307352\n",
      "Observed correlation: 0.005893026407901677\n",
      "pm10_daily_summary.csv-f1_ Temperature\n",
      "Correlation bounds: -0.018429417805543195, 0.03173929084642047\n",
      "Bootstrap 95% confidence interval for correlation: (-0.01658241759994904, 0.029556074814952094)\n"
     ]
    },
    {
     "name": "stderr",
     "output_type": "stream",
     "text": [
      "/Users/korahughes/opt/anaconda3/lib/python3.9/site-packages/sklearn/metrics/cluster/_supervised.py:65: UserWarning: Clustering metrics expects discrete values but received continuous values for label, and continuous values for target\n",
      "  warnings.warn(msg, UserWarning)\n",
      "/Users/korahughes/opt/anaconda3/lib/python3.9/site-packages/sklearn/metrics/cluster/_supervised.py:65: UserWarning: Clustering metrics expects discrete values but received binary values for label, and continuous values for target\n",
      "  warnings.warn(msg, UserWarning)\n",
      "/Users/korahughes/opt/anaconda3/lib/python3.9/site-packages/sklearn/metrics/cluster/_supervised.py:65: UserWarning: Clustering metrics expects discrete values but received binary values for label, and continuous values for target\n",
      "  warnings.warn(msg, UserWarning)\n",
      " 11%|█         | 1/9 [00:12<01:40, 12.53s/it]"
     ]
    },
    {
     "name": "stdout",
     "output_type": "stream",
     "text": [
      "Observed mutual info: -0.0002314516017454152\n",
      "Observed correlation: nan\n",
      "pm10_daily_summary.csv-f2_ Temperature\n",
      "Correlation bounds: -0.21309446465008616, 1\n",
      "Bootstrap 95% confidence interval for correlation: (nan, nan)\n",
      "Observed mutual info: 2.1851045462751074e-14\n",
      "Observed correlation: nan\n",
      "pm10_daily_summary.csv-f3_ Temperature\n",
      "Correlation bounds: -0.23967798111469538, 1\n",
      "Bootstrap 95% confidence interval for correlation: (nan, nan)\n",
      "Observed mutual info: 2.1851045462751074e-14\n",
      "\n",
      "\n",
      "\n",
      "\n",
      "Looking at table wind_daily_summary.csv\n",
      "Observed correlation: nan\n",
      "wind_daily_summary.csv-o3_AQI Temperature\n",
      "Correlation bounds: nan, 1\n",
      "Bootstrap 95% confidence interval for correlation: (nan, nan)\n",
      "Observed mutual info: 0.0\n",
      "Observed correlation: 0.03358381366422536\n",
      "wind_daily_summary.csv-f0_ Temperature\n",
      "Correlation bounds: 0.02441055139450897, 0.04296432743848804\n",
      "Bootstrap 95% confidence interval for correlation: (0.014351032585254848, 0.051773930333897274)\n"
     ]
    },
    {
     "name": "stderr",
     "output_type": "stream",
     "text": [
      "/Users/korahughes/opt/anaconda3/lib/python3.9/site-packages/sklearn/metrics/cluster/_supervised.py:65: UserWarning: Clustering metrics expects discrete values but received binary values for label, and continuous values for target\n",
      "  warnings.warn(msg, UserWarning)\n",
      "/Users/korahughes/opt/anaconda3/lib/python3.9/site-packages/sklearn/metrics/cluster/_supervised.py:65: UserWarning: Clustering metrics expects discrete values but received continuous values for label, and continuous values for target\n",
      "  warnings.warn(msg, UserWarning)\n"
     ]
    },
    {
     "name": "stdout",
     "output_type": "stream",
     "text": [
      "Observed mutual info: -1.8682978758456347e-11\n",
      "Observed correlation: 0.003008321845126484\n",
      "wind_daily_summary.csv-f1_ Temperature\n",
      "Correlation bounds: -0.031124417287641513, 1\n",
      "Bootstrap 95% confidence interval for correlation: (-0.016084635380300263, 0.02427605410363684)\n"
     ]
    },
    {
     "name": "stderr",
     "output_type": "stream",
     "text": [
      "/Users/korahughes/opt/anaconda3/lib/python3.9/site-packages/sklearn/metrics/cluster/_supervised.py:65: UserWarning: Clustering metrics expects discrete values but received continuous values for label, and continuous values for target\n",
      "  warnings.warn(msg, UserWarning)\n"
     ]
    },
    {
     "name": "stdout",
     "output_type": "stream",
     "text": [
      "Observed mutual info: 1.3314979491508711e-05\n",
      "Observed correlation: 0.021169793370624496\n",
      "wind_daily_summary.csv-f2_ Temperature\n",
      "Correlation bounds: -0.040915982082976136, 1\n",
      "Bootstrap 95% confidence interval for correlation: (-0.0019652266734028105, 0.037308272933057926)\n"
     ]
    },
    {
     "name": "stderr",
     "output_type": "stream",
     "text": [
      "/Users/korahughes/opt/anaconda3/lib/python3.9/site-packages/sklearn/metrics/cluster/_supervised.py:65: UserWarning: Clustering metrics expects discrete values but received continuous values for label, and continuous values for target\n",
      "  warnings.warn(msg, UserWarning)\n"
     ]
    },
    {
     "name": "stdout",
     "output_type": "stream",
     "text": [
      "Observed mutual info: -0.0025846572551631217\n",
      "Observed correlation: 0.020835465774366072\n",
      "wind_daily_summary.csv-f3_ Temperature\n",
      "Correlation bounds: -0.026872112473665822, 1\n",
      "Bootstrap 95% confidence interval for correlation: (0.008176620380310877, 0.04032281265950631)\n"
     ]
    },
    {
     "name": "stderr",
     "output_type": "stream",
     "text": [
      "/Users/korahughes/opt/anaconda3/lib/python3.9/site-packages/sklearn/metrics/cluster/_supervised.py:65: UserWarning: Clustering metrics expects discrete values but received continuous values for label, and continuous values for target\n",
      "  warnings.warn(msg, UserWarning)\n",
      " 22%|██▏       | 2/9 [02:03<08:12, 70.40s/it]"
     ]
    },
    {
     "name": "stdout",
     "output_type": "stream",
     "text": [
      "Observed mutual info: -0.002391730627904191\n",
      "\n",
      "\n",
      "\n",
      "\n",
      "Looking at table o3_daily_summary.csv\n",
      "Observed correlation: -0.056468744739110274\n",
      "o3_daily_summary.csv-o3_AQI Temperature\n",
      "Correlation bounds: -0.07579287533530392, -0.03368396579521509\n",
      "Bootstrap 95% confidence interval for correlation: (-0.07024471591336336, -0.044267662700648504)\n"
     ]
    },
    {
     "name": "stderr",
     "output_type": "stream",
     "text": [
      "/Users/korahughes/opt/anaconda3/lib/python3.9/site-packages/sklearn/metrics/cluster/_supervised.py:65: UserWarning: Clustering metrics expects discrete values but received continuous values for label, and continuous values for target\n",
      "  warnings.warn(msg, UserWarning)\n"
     ]
    },
    {
     "name": "stdout",
     "output_type": "stream",
     "text": [
      "Observed mutual info: 2.73706629349276e-13\n",
      "Observed correlation: -0.052784311738532035\n",
      "o3_daily_summary.csv-f0_ Temperature\n",
      "Correlation bounds: -0.32541915416931805, 1\n",
      "Bootstrap 95% confidence interval for correlation: (-0.07296113440131242, -0.03221498793402598)\n"
     ]
    },
    {
     "name": "stderr",
     "output_type": "stream",
     "text": [
      "/Users/korahughes/opt/anaconda3/lib/python3.9/site-packages/sklearn/metrics/cluster/_supervised.py:65: UserWarning: Clustering metrics expects discrete values but received continuous values for label, and continuous values for target\n",
      "  warnings.warn(msg, UserWarning)\n"
     ]
    },
    {
     "name": "stdout",
     "output_type": "stream",
     "text": [
      "Observed mutual info: -4.9198570242519565e-05\n",
      "Observed correlation: 0.009020316713505346\n",
      "o3_daily_summary.csv-f1_ Temperature\n",
      "Correlation bounds: -0.21829824670395678, 1.2302296628719918\n",
      "Bootstrap 95% confidence interval for correlation: (-0.05924779172222178, 0.08101274261819007)\n"
     ]
    },
    {
     "name": "stderr",
     "output_type": "stream",
     "text": [
      "/Users/korahughes/opt/anaconda3/lib/python3.9/site-packages/sklearn/metrics/cluster/_supervised.py:65: UserWarning: Clustering metrics expects discrete values but received continuous values for label, and continuous values for target\n",
      "  warnings.warn(msg, UserWarning)\n"
     ]
    },
    {
     "name": "stdout",
     "output_type": "stream",
     "text": [
      "Observed mutual info: -9.954573203929172e-05\n",
      "Observed correlation: 0.000769937617751846\n",
      "o3_daily_summary.csv-f2_ Temperature\n",
      "Correlation bounds: -0.2742661857401571, 1\n",
      "Bootstrap 95% confidence interval for correlation: (-0.05350085156251279, 0.029202416301526736)\n"
     ]
    },
    {
     "name": "stderr",
     "output_type": "stream",
     "text": [
      "/Users/korahughes/opt/anaconda3/lib/python3.9/site-packages/sklearn/metrics/cluster/_supervised.py:65: UserWarning: Clustering metrics expects discrete values but received continuous values for label, and continuous values for target\n",
      "  warnings.warn(msg, UserWarning)\n"
     ]
    },
    {
     "name": "stdout",
     "output_type": "stream",
     "text": [
      "Observed mutual info: -0.0014776506051843838\n",
      "Observed correlation: 0.0007768803510301071\n",
      "o3_daily_summary.csv-f3_ Temperature\n",
      "Correlation bounds: -0.11512670290723892, 0.152902423336307\n",
      "Bootstrap 95% confidence interval for correlation: (-0.02592941677838349, 0.02930370683137936)\n"
     ]
    },
    {
     "name": "stderr",
     "output_type": "stream",
     "text": [
      "/Users/korahughes/opt/anaconda3/lib/python3.9/site-packages/sklearn/metrics/cluster/_supervised.py:65: UserWarning: Clustering metrics expects discrete values but received continuous values for label, and continuous values for target\n",
      "  warnings.warn(msg, UserWarning)\n",
      " 33%|███▎      | 3/9 [02:16<04:24, 44.09s/it]"
     ]
    },
    {
     "name": "stdout",
     "output_type": "stream",
     "text": [
      "Observed mutual info: -0.0014865483988900502\n",
      "\n",
      "\n",
      "\n",
      "\n",
      "Looking at table voc_daily_summary.csv\n",
      "Observed correlation: nan\n",
      "voc_daily_summary.csv-o3_AQI Temperature\n",
      "Correlation bounds: nan, 1\n",
      "Bootstrap 95% confidence interval for correlation: (nan, nan)\n",
      "Observed mutual info: 1.5577442003468863e-14\n",
      "Observed correlation: -0.010838253110246247\n",
      "voc_daily_summary.csv-f0_ Temperature\n",
      "Correlation bounds: -0.03438713389644127, 0.034243916558375886\n",
      "Bootstrap 95% confidence interval for correlation: (-0.02343070336608131, 0.003653148013139436)\n"
     ]
    },
    {
     "name": "stderr",
     "output_type": "stream",
     "text": [
      "/Users/korahughes/opt/anaconda3/lib/python3.9/site-packages/sklearn/metrics/cluster/_supervised.py:65: UserWarning: Clustering metrics expects discrete values but received binary values for label, and continuous values for target\n",
      "  warnings.warn(msg, UserWarning)\n",
      "/Users/korahughes/opt/anaconda3/lib/python3.9/site-packages/sklearn/metrics/cluster/_supervised.py:65: UserWarning: Clustering metrics expects discrete values but received continuous values for label, and continuous values for target\n",
      "  warnings.warn(msg, UserWarning)\n"
     ]
    },
    {
     "name": "stdout",
     "output_type": "stream",
     "text": [
      "Observed mutual info: -1.9244022114719392e-05\n",
      "Observed correlation: 0.010331934197039733\n",
      "voc_daily_summary.csv-f1_ Temperature\n",
      "Correlation bounds: -0.009726473124621696, 0.031234419696338566\n",
      "Bootstrap 95% confidence interval for correlation: (-0.008039448192126607, 0.030437457420234234)\n"
     ]
    },
    {
     "name": "stderr",
     "output_type": "stream",
     "text": [
      "/Users/korahughes/opt/anaconda3/lib/python3.9/site-packages/sklearn/metrics/cluster/_supervised.py:65: UserWarning: Clustering metrics expects discrete values but received continuous values for label, and continuous values for target\n",
      "  warnings.warn(msg, UserWarning)\n"
     ]
    },
    {
     "name": "stdout",
     "output_type": "stream",
     "text": [
      "Observed mutual info: -0.00037954415285493135\n",
      "Observed correlation: 0.012799648571607317\n",
      "voc_daily_summary.csv-f2_ Temperature\n",
      "Correlation bounds: -0.0002267974541121581, 0.026188470711757648\n",
      "Bootstrap 95% confidence interval for correlation: (-0.005464677861045814, 0.03240528905830769)\n"
     ]
    },
    {
     "name": "stderr",
     "output_type": "stream",
     "text": [
      "/Users/korahughes/opt/anaconda3/lib/python3.9/site-packages/sklearn/metrics/cluster/_supervised.py:65: UserWarning: Clustering metrics expects discrete values but received continuous values for label, and continuous values for target\n",
      "  warnings.warn(msg, UserWarning)\n"
     ]
    },
    {
     "name": "stdout",
     "output_type": "stream",
     "text": [
      "Observed mutual info: -0.00019748233417321963\n",
      "Observed correlation: -0.020156587182494207\n",
      "voc_daily_summary.csv-f3_ Temperature\n",
      "Correlation bounds: -0.02895018422334143, -0.011141490555345492\n",
      "Bootstrap 95% confidence interval for correlation: (-0.044016972370957134, -0.007390180003799225)\n"
     ]
    },
    {
     "name": "stderr",
     "output_type": "stream",
     "text": [
      "/Users/korahughes/opt/anaconda3/lib/python3.9/site-packages/sklearn/metrics/cluster/_supervised.py:65: UserWarning: Clustering metrics expects discrete values but received continuous values for label, and continuous values for target\n",
      "  warnings.warn(msg, UserWarning)\n",
      " 44%|████▍     | 4/9 [02:34<02:48, 33.72s/it]"
     ]
    },
    {
     "name": "stdout",
     "output_type": "stream",
     "text": [
      "Observed mutual info: -0.0004347437796690843\n",
      "\n",
      "\n",
      "\n",
      "\n",
      "Looking at table so2_daily_summary.csv\n",
      "Observed correlation: -0.06410708887946108\n",
      "so2_daily_summary.csv-o3_AQI Temperature\n",
      "Correlation bounds: -0.07910660277637102, -0.04822221514417315\n",
      "Bootstrap 95% confidence interval for correlation: (-0.0820386972223181, -0.046016961001113466)\n"
     ]
    },
    {
     "name": "stderr",
     "output_type": "stream",
     "text": [
      "/Users/korahughes/opt/anaconda3/lib/python3.9/site-packages/sklearn/metrics/cluster/_supervised.py:65: UserWarning: Clustering metrics expects discrete values but received continuous values for label, and continuous values for target\n",
      "  warnings.warn(msg, UserWarning)\n"
     ]
    },
    {
     "name": "stdout",
     "output_type": "stream",
     "text": [
      "Observed mutual info: -0.0016385602994498725\n",
      "Observed correlation: -0.05624935793676445\n",
      "so2_daily_summary.csv-f0_ Temperature\n",
      "Correlation bounds: -0.07994931250317348, -0.030917256175858852\n",
      "Bootstrap 95% confidence interval for correlation: (-0.06878029237904801, -0.04085136447458593)\n"
     ]
    },
    {
     "name": "stderr",
     "output_type": "stream",
     "text": [
      "/Users/korahughes/opt/anaconda3/lib/python3.9/site-packages/sklearn/metrics/cluster/_supervised.py:65: UserWarning: Clustering metrics expects discrete values but received continuous values for label, and continuous values for target\n",
      "  warnings.warn(msg, UserWarning)\n"
     ]
    },
    {
     "name": "stdout",
     "output_type": "stream",
     "text": [
      "Observed mutual info: -0.0005481666215502941\n",
      "Observed correlation: -0.11394544424416524\n",
      "so2_daily_summary.csv-f1_ Temperature\n",
      "Correlation bounds: -0.2205345160918243, 0.06303304699085803\n",
      "Bootstrap 95% confidence interval for correlation: (-0.1745694620812126, -0.06148992084372222)\n"
     ]
    },
    {
     "name": "stderr",
     "output_type": "stream",
     "text": [
      "/Users/korahughes/opt/anaconda3/lib/python3.9/site-packages/sklearn/metrics/cluster/_supervised.py:65: UserWarning: Clustering metrics expects discrete values but received continuous values for label, and continuous values for target\n",
      "  warnings.warn(msg, UserWarning)\n"
     ]
    },
    {
     "name": "stdout",
     "output_type": "stream",
     "text": [
      "Observed mutual info: -0.0005142745501348692\n",
      "Observed correlation: 0.07372249819109557\n",
      "so2_daily_summary.csv-f2_ Temperature\n",
      "Correlation bounds: -0.20443820888947103, 1\n",
      "Bootstrap 95% confidence interval for correlation: (0.02911861534588367, 0.12936077801455617)\n"
     ]
    },
    {
     "name": "stderr",
     "output_type": "stream",
     "text": [
      "/Users/korahughes/opt/anaconda3/lib/python3.9/site-packages/sklearn/metrics/cluster/_supervised.py:65: UserWarning: Clustering metrics expects discrete values but received continuous values for label, and continuous values for target\n",
      "  warnings.warn(msg, UserWarning)\n"
     ]
    },
    {
     "name": "stdout",
     "output_type": "stream",
     "text": [
      "Observed mutual info: -0.0012806766029212454\n",
      "Observed correlation: 0.07935361691803404\n",
      "so2_daily_summary.csv-f3_ Temperature\n",
      "Correlation bounds: -0.07128723509002234, 0.32119054562216903\n",
      "Bootstrap 95% confidence interval for correlation: (0.04598654837406688, 0.12185528352101994)\n"
     ]
    },
    {
     "name": "stderr",
     "output_type": "stream",
     "text": [
      "/Users/korahughes/opt/anaconda3/lib/python3.9/site-packages/sklearn/metrics/cluster/_supervised.py:65: UserWarning: Clustering metrics expects discrete values but received continuous values for label, and continuous values for target\n",
      "  warnings.warn(msg, UserWarning)\n",
      "Exception ignored in: <bound method IPythonKernel._clean_thread_parent_frames of <ipykernel.ipkernel.IPythonKernel object at 0x7fc26144fa30>>\n",
      "Traceback (most recent call last):\n",
      "  File \"/Users/korahughes/opt/anaconda3/lib/python3.9/site-packages/ipykernel/ipkernel.py\", line 770, in _clean_thread_parent_frames\n",
      "    def _clean_thread_parent_frames(\n",
      "KeyboardInterrupt: \n",
      " 56%|█████▌    | 5/9 [02:48<01:46, 26.70s/it]"
     ]
    },
    {
     "name": "stdout",
     "output_type": "stream",
     "text": [
      "Observed mutual info: -0.0011329700729391927\n",
      "\n",
      "\n",
      "\n",
      "\n",
      "Looking at table pressure_daily_summary.csv\n",
      "Observed correlation: nan\n",
      "pressure_daily_summary.csv-o3_AQI Temperature\n",
      "Correlation bounds: nan, 1\n",
      "Bootstrap 95% confidence interval for correlation: (nan, nan)\n",
      "Observed mutual info: 0.0\n",
      "Observed correlation: -0.0065938970351224185\n",
      "pressure_daily_summary.csv-f0_ Temperature\n",
      "Correlation bounds: -0.018864263077793368, 0.014531379507894054\n",
      "Bootstrap 95% confidence interval for correlation: (-0.013211125211479604, 0.00211719746871057)\n"
     ]
    },
    {
     "name": "stderr",
     "output_type": "stream",
     "text": [
      "/Users/korahughes/opt/anaconda3/lib/python3.9/site-packages/sklearn/metrics/cluster/_supervised.py:65: UserWarning: Clustering metrics expects discrete values but received binary values for label, and continuous values for target\n",
      "  warnings.warn(msg, UserWarning)\n",
      "/Users/korahughes/opt/anaconda3/lib/python3.9/site-packages/sklearn/metrics/cluster/_supervised.py:65: UserWarning: Clustering metrics expects discrete values but received continuous values for label, and continuous values for target\n",
      "  warnings.warn(msg, UserWarning)\n"
     ]
    },
    {
     "name": "stdout",
     "output_type": "stream",
     "text": [
      "Observed mutual info: 2.3641769071378507e-05\n",
      "Observed correlation: -0.01923605128771531\n",
      "pressure_daily_summary.csv-f1_ Temperature\n",
      "Correlation bounds: -0.04123315802404758, 0.003882405126062972\n",
      "Bootstrap 95% confidence interval for correlation: (-0.03582463052386845, -0.005528691845512197)\n"
     ]
    },
    {
     "name": "stderr",
     "output_type": "stream",
     "text": [
      "/Users/korahughes/opt/anaconda3/lib/python3.9/site-packages/sklearn/metrics/cluster/_supervised.py:65: UserWarning: Clustering metrics expects discrete values but received continuous values for label, and continuous values for target\n",
      "  warnings.warn(msg, UserWarning)\n"
     ]
    },
    {
     "name": "stdout",
     "output_type": "stream",
     "text": [
      "Observed mutual info: 0.00015342198678107807\n",
      "Observed correlation: 0.014392513969415351\n",
      "pressure_daily_summary.csv-f2_ Temperature\n",
      "Correlation bounds: -0.11636791701036109, 1\n",
      "Bootstrap 95% confidence interval for correlation: (0.0021678474156480144, 0.028014565361878904)\n"
     ]
    },
    {
     "name": "stderr",
     "output_type": "stream",
     "text": [
      "/Users/korahughes/opt/anaconda3/lib/python3.9/site-packages/sklearn/metrics/cluster/_supervised.py:65: UserWarning: Clustering metrics expects discrete values but received continuous values for label, and continuous values for target\n",
      "  warnings.warn(msg, UserWarning)\n"
     ]
    },
    {
     "name": "stdout",
     "output_type": "stream",
     "text": [
      "Observed mutual info: 0.007550775132855188\n",
      "Observed correlation: 0.014244073817282038\n",
      "pressure_daily_summary.csv-f3_ Temperature\n",
      "Correlation bounds: -0.09787032583809592, 1\n",
      "Bootstrap 95% confidence interval for correlation: (0.0015631981737950329, 0.02652100527208539)\n"
     ]
    },
    {
     "name": "stderr",
     "output_type": "stream",
     "text": [
      "/Users/korahughes/opt/anaconda3/lib/python3.9/site-packages/sklearn/metrics/cluster/_supervised.py:65: UserWarning: Clustering metrics expects discrete values but received continuous values for label, and continuous values for target\n",
      "  warnings.warn(msg, UserWarning)\n",
      " 67%|██████▋   | 6/9 [03:10<01:15, 25.20s/it]"
     ]
    },
    {
     "name": "stdout",
     "output_type": "stream",
     "text": [
      "Observed mutual info: 0.007608755470272504\n",
      "\n",
      "\n",
      "\n",
      "\n",
      "Looking at table pm25_frm_daily_summary.csv\n",
      "Observed correlation: -0.013614382481296415\n",
      "pm25_frm_daily_summary.csv-o3_AQI Temperature\n",
      "Correlation bounds: -0.03023446143774428, 0.0038536720681605773\n",
      "Bootstrap 95% confidence interval for correlation: (-0.031132527434547547, 0.009015621766981393)\n"
     ]
    },
    {
     "name": "stderr",
     "output_type": "stream",
     "text": [
      "/Users/korahughes/opt/anaconda3/lib/python3.9/site-packages/sklearn/metrics/cluster/_supervised.py:65: UserWarning: Clustering metrics expects discrete values but received continuous values for label, and continuous values for target\n",
      "  warnings.warn(msg, UserWarning)\n"
     ]
    },
    {
     "name": "stdout",
     "output_type": "stream",
     "text": [
      "Observed mutual info: 0.0001707945069032897\n",
      "Observed correlation: -0.020770854857664924\n",
      "pm25_frm_daily_summary.csv-f0_ Temperature\n",
      "Correlation bounds: -0.04762435321839548, 0.0076798591360531234\n",
      "Bootstrap 95% confidence interval for correlation: (-0.03646562648716269, 0.00265062298519421)\n"
     ]
    },
    {
     "name": "stderr",
     "output_type": "stream",
     "text": [
      "/Users/korahughes/opt/anaconda3/lib/python3.9/site-packages/sklearn/metrics/cluster/_supervised.py:65: UserWarning: Clustering metrics expects discrete values but received continuous values for label, and continuous values for target\n",
      "  warnings.warn(msg, UserWarning)\n"
     ]
    },
    {
     "name": "stdout",
     "output_type": "stream",
     "text": [
      "Observed mutual info: 0.0001028256408294433\n",
      "Observed correlation: -0.001471537308224386\n",
      "pm25_frm_daily_summary.csv-f1_ Temperature\n",
      "Correlation bounds: -0.04291926770947991, 0.0447174282441122\n",
      "Bootstrap 95% confidence interval for correlation: (-0.021464734207469124, 0.021383658990718344)\n"
     ]
    },
    {
     "name": "stderr",
     "output_type": "stream",
     "text": [
      "/Users/korahughes/opt/anaconda3/lib/python3.9/site-packages/sklearn/metrics/cluster/_supervised.py:65: UserWarning: Clustering metrics expects discrete values but received continuous values for label, and continuous values for target\n",
      "  warnings.warn(msg, UserWarning)\n"
     ]
    },
    {
     "name": "stdout",
     "output_type": "stream",
     "text": [
      "Observed mutual info: 0.010235156796220888\n",
      "Observed correlation: 0.0011359536941679058\n",
      "pm25_frm_daily_summary.csv-f2_ Temperature\n",
      "Correlation bounds: -0.021090086512302784, 0.024395297809172028\n",
      "Bootstrap 95% confidence interval for correlation: (-0.021037882753290934, 0.029293367962550915)\n"
     ]
    },
    {
     "name": "stderr",
     "output_type": "stream",
     "text": [
      "/Users/korahughes/opt/anaconda3/lib/python3.9/site-packages/sklearn/metrics/cluster/_supervised.py:65: UserWarning: Clustering metrics expects discrete values but received continuous values for label, and continuous values for target\n",
      "  warnings.warn(msg, UserWarning)\n"
     ]
    },
    {
     "name": "stdout",
     "output_type": "stream",
     "text": [
      "Observed mutual info: 0.008393603939420402\n",
      "Observed correlation: 0.007324441220242266\n",
      "pm25_frm_daily_summary.csv-f3_ Temperature\n",
      "Correlation bounds: -0.13468473267395228, 1\n",
      "Bootstrap 95% confidence interval for correlation: (-0.02110514256811848, 0.02642181377413093)\n"
     ]
    },
    {
     "name": "stderr",
     "output_type": "stream",
     "text": [
      "/Users/korahughes/opt/anaconda3/lib/python3.9/site-packages/sklearn/metrics/cluster/_supervised.py:65: UserWarning: Clustering metrics expects discrete values but received continuous values for label, and continuous values for target\n",
      "  warnings.warn(msg, UserWarning)\n",
      " 78%|███████▊  | 7/9 [03:28<00:45, 22.97s/it]"
     ]
    },
    {
     "name": "stdout",
     "output_type": "stream",
     "text": [
      "Observed mutual info: 0.004513386350869962\n",
      "\n",
      "\n",
      "\n",
      "\n",
      "Looking at table rh_and_dp_daily_summary.csv\n",
      "Observed correlation: nan\n",
      "rh_and_dp_daily_summary.csv-o3_AQI Temperature\n",
      "Correlation bounds: nan, 1\n",
      "Bootstrap 95% confidence interval for correlation: (nan, nan)\n",
      "Observed mutual info: 0.0\n",
      "Observed correlation: 0.06520739230633721\n",
      "rh_and_dp_daily_summary.csv-f0_ Temperature\n",
      "Correlation bounds: 0.047324361675646714, 0.08399131142526603\n",
      "Bootstrap 95% confidence interval for correlation: (0.050599942504888515, 0.08525040445092597)\n"
     ]
    },
    {
     "name": "stderr",
     "output_type": "stream",
     "text": [
      "/Users/korahughes/opt/anaconda3/lib/python3.9/site-packages/sklearn/metrics/cluster/_supervised.py:65: UserWarning: Clustering metrics expects discrete values but received binary values for label, and continuous values for target\n",
      "  warnings.warn(msg, UserWarning)\n",
      "/Users/korahughes/opt/anaconda3/lib/python3.9/site-packages/sklearn/metrics/cluster/_supervised.py:65: UserWarning: Clustering metrics expects discrete values but received continuous values for label, and continuous values for target\n",
      "  warnings.warn(msg, UserWarning)\n"
     ]
    },
    {
     "name": "stdout",
     "output_type": "stream",
     "text": [
      "Observed mutual info: -0.00039721247613746076\n",
      "Observed correlation: 0.007271974598090751\n",
      "rh_and_dp_daily_summary.csv-f1_ Temperature\n",
      "Correlation bounds: -0.04975896365984436, 0.07372524018274468\n",
      "Bootstrap 95% confidence interval for correlation: (-0.014016570891512209, 0.04305323735885861)\n"
     ]
    },
    {
     "name": "stderr",
     "output_type": "stream",
     "text": [
      "/Users/korahughes/opt/anaconda3/lib/python3.9/site-packages/sklearn/metrics/cluster/_supervised.py:65: UserWarning: Clustering metrics expects discrete values but received continuous values for label, and continuous values for target\n",
      "  warnings.warn(msg, UserWarning)\n"
     ]
    },
    {
     "name": "stdout",
     "output_type": "stream",
     "text": [
      "Observed mutual info: 1.0473756353866099e-05\n",
      "Observed correlation: 0.05233068608500297\n",
      "rh_and_dp_daily_summary.csv-f2_ Temperature\n",
      "Correlation bounds: 0.01037090819357573, 0.09814197214026668\n",
      "Bootstrap 95% confidence interval for correlation: (0.04508964650910691, 0.05833935566461618)\n"
     ]
    },
    {
     "name": "stderr",
     "output_type": "stream",
     "text": [
      "/Users/korahughes/opt/anaconda3/lib/python3.9/site-packages/sklearn/metrics/cluster/_supervised.py:65: UserWarning: Clustering metrics expects discrete values but received continuous values for label, and continuous values for target\n",
      "  warnings.warn(msg, UserWarning)\n"
     ]
    },
    {
     "name": "stdout",
     "output_type": "stream",
     "text": [
      "Observed mutual info: -0.0024812598345906912\n",
      "Observed correlation: 0.03655244063536243\n",
      "rh_and_dp_daily_summary.csv-f3_ Temperature\n",
      "Correlation bounds: -0.13517539664691186, 1\n",
      "Bootstrap 95% confidence interval for correlation: (0.0023358502693944724, 0.05747217535042502)\n"
     ]
    },
    {
     "name": "stderr",
     "output_type": "stream",
     "text": [
      "/Users/korahughes/opt/anaconda3/lib/python3.9/site-packages/sklearn/metrics/cluster/_supervised.py:65: UserWarning: Clustering metrics expects discrete values but received continuous values for label, and continuous values for target\n",
      "  warnings.warn(msg, UserWarning)\n",
      " 89%|████████▉ | 8/9 [03:50<00:22, 22.51s/it]"
     ]
    },
    {
     "name": "stdout",
     "output_type": "stream",
     "text": [
      "Observed mutual info: -0.0026840273725280534\n",
      "\n",
      "\n",
      "\n",
      "\n",
      "Looking at table no2_daily_summary.csv\n",
      "Observed correlation: 0.2408333239165361\n",
      "no2_daily_summary.csv-o3_AQI Temperature\n",
      "Correlation bounds: 0.23505997003914056, 0.24675527434779648\n",
      "Bootstrap 95% confidence interval for correlation: (0.21876864591035164, 0.25754758832634433)\n"
     ]
    },
    {
     "name": "stderr",
     "output_type": "stream",
     "text": [
      "/Users/korahughes/opt/anaconda3/lib/python3.9/site-packages/sklearn/metrics/cluster/_supervised.py:65: UserWarning: Clustering metrics expects discrete values but received continuous values for label, and continuous values for target\n",
      "  warnings.warn(msg, UserWarning)\n"
     ]
    },
    {
     "name": "stdout",
     "output_type": "stream",
     "text": [
      "Observed mutual info: -5.32468792073918e-05\n",
      "Observed correlation: 0.23851923796209837\n",
      "no2_daily_summary.csv-f0_ Temperature\n",
      "Correlation bounds: 0.23305328849475535, 0.24412448466182685\n",
      "Bootstrap 95% confidence interval for correlation: (0.21997032558215746, 0.25562449446046126)\n"
     ]
    },
    {
     "name": "stderr",
     "output_type": "stream",
     "text": [
      "/Users/korahughes/opt/anaconda3/lib/python3.9/site-packages/sklearn/metrics/cluster/_supervised.py:65: UserWarning: Clustering metrics expects discrete values but received continuous values for label, and continuous values for target\n",
      "  warnings.warn(msg, UserWarning)\n"
     ]
    },
    {
     "name": "stdout",
     "output_type": "stream",
     "text": [
      "Observed mutual info: 1.8932090892928547e-05\n",
      "Observed correlation: -0.0005330554369342888\n",
      "no2_daily_summary.csv-f1_ Temperature\n",
      "Correlation bounds: -0.02023540393119542, 0.023889674289064727\n",
      "Bootstrap 95% confidence interval for correlation: (-0.019372273624826627, 0.018225835481772236)\n"
     ]
    },
    {
     "name": "stderr",
     "output_type": "stream",
     "text": [
      "/Users/korahughes/opt/anaconda3/lib/python3.9/site-packages/sklearn/metrics/cluster/_supervised.py:65: UserWarning: Clustering metrics expects discrete values but received continuous values for label, and continuous values for target\n",
      "  warnings.warn(msg, UserWarning)\n"
     ]
    },
    {
     "name": "stdout",
     "output_type": "stream",
     "text": [
      "Observed mutual info: -4.727445097823487e-06\n",
      "Observed correlation: 0.018518308778169266\n",
      "no2_daily_summary.csv-f2_ Temperature\n",
      "Correlation bounds: -0.03747019395393264, 1\n",
      "Bootstrap 95% confidence interval for correlation: (-0.010693794043153347, 0.048091637360848934)\n"
     ]
    },
    {
     "name": "stderr",
     "output_type": "stream",
     "text": [
      "/Users/korahughes/opt/anaconda3/lib/python3.9/site-packages/sklearn/metrics/cluster/_supervised.py:65: UserWarning: Clustering metrics expects discrete values but received continuous values for label, and continuous values for target\n",
      "  warnings.warn(msg, UserWarning)\n"
     ]
    },
    {
     "name": "stdout",
     "output_type": "stream",
     "text": [
      "Observed mutual info: 0.0004304778805288345\n",
      "Observed correlation: 0.017668130250040937\n",
      "no2_daily_summary.csv-f3_ Temperature\n",
      "Correlation bounds: -0.015686949104304362, 0.07565173598596169\n",
      "Bootstrap 95% confidence interval for correlation: (-0.004569694339394844, 0.05384453530566701)\n"
     ]
    },
    {
     "name": "stderr",
     "output_type": "stream",
     "text": [
      "/Users/korahughes/opt/anaconda3/lib/python3.9/site-packages/sklearn/metrics/cluster/_supervised.py:65: UserWarning: Clustering metrics expects discrete values but received continuous values for label, and continuous values for target\n",
      "  warnings.warn(msg, UserWarning)\n",
      "100%|██████████| 9/9 [05:37<00:00, 37.53s/it]"
     ]
    },
    {
     "name": "stdout",
     "output_type": "stream",
     "text": [
      "Observed mutual info: 0.00010612734488833767\n",
      "\n",
      "\n"
     ]
    },
    {
     "name": "stderr",
     "output_type": "stream",
     "text": [
      "\n"
     ]
    }
   ],
   "source": [
    "# define candidate tables\n",
    "candidate_paths = [file for file in os.listdir(gcdata) if \"temp\" not in file]\n",
    "t_candidates = []\n",
    "for path in tqdm(candidate_paths):\n",
    "    print(\"\\n\\nLooking at table\", path)\n",
    "    t_cand = Table(joinable, gcdata+path)\n",
    "    # get rid of target variable in candidate table\n",
    "    if target in t_cand.table.columns:\n",
    "        t_cand.table.drop([target], axis=1, inplace=True)\n",
    "    assert joinable in t_cand.table.columns, f\"{joinable=} not found in {path}\"\n",
    "    # rename columns for less confusion on join\n",
    "    renamer = dict([[col, path+'-'+col] for col in t_cand.table.columns if joinable not in col])\n",
    "    t_cand.table = t_cand.table.rename(columns=renamer)\n",
    "    \n",
    "    # use synopsys for join estimation\n",
    "    t_cand.get_sketch()  # ? sketch candidate table again\n",
    "    # TODO: check missing values in join of core with voc_daily_summary.csv (nan vals in calc mutual info)\n",
    "    t_cand.calc_corr_gain(core_syn)  # ? calculate correlation between candidate and itself\n",
    "    # ? get feature-wise sketch\n",
    "    t_cand.feature_scoring(20)\n",
    "    for feat in t_core.df_sketch:\n",
    "        if t_core.df_sketch[feat].dtype == 'object':\n",
    "            t_core.df_sketch[feat] = t_core.df_sketch[feat].astype('category')\n",
    "    for feat in t_cand.df_sketch:\n",
    "        if t_cand.df_sketch[feat].dtype == 'object':\n",
    "            t_cand.df_sketch[feat] = t_cand.df_sketch[feat].astype('category')\n",
    "    t_candidates.append(t_cand)\n",
    "    print('\\n')"
   ]
  },
  {
   "cell_type": "markdown",
   "metadata": {},
   "source": [
    "### Actual Feature Selection"
   ]
  },
  {
   "cell_type": "code",
   "execution_count": 13,
   "metadata": {},
   "outputs": [
    {
     "name": "stdout",
     "output_type": "stream",
     "text": [
      "\n",
      "\n",
      "Defining Environment\n",
      "<table.Table object at 0x7fc204203160>\n",
      "<table.Table object at 0x7fc1d93620d0>\n",
      "<table.Table object at 0x7fc1d9742d60>\n",
      "<table.Table object at 0x7fc1da5611c0>\n",
      "<table.Table object at 0x7fc1da56aa30>\n",
      "<table.Table object at 0x7fc1d9360910>\n",
      "<table.Table object at 0x7fc24e389a60>\n",
      "<table.Table object at 0x7fc1dbb5dee0>\n",
      "<table.Table object at 0x7fc1dbbd9280>\n"
     ]
    },
    {
     "name": "stdout",
     "output_type": "stream",
     "text": [
      "--------------------Init:--------------------\n",
      "Model R2 score: 99.81777340062351%\n",
      "Train RMSE score: 0.35508748568598825\n",
      "Model R2 score: 99.2143440951382%\n",
      "Test RMSE Score: 1.4689548539323016\n",
      "Starting Training...\n"
     ]
    },
    {
     "ename": "AttributeError",
     "evalue": "partially initialized module 'torch._dynamo' has no attribute 'external_utils' (most likely due to a circular import)",
     "output_type": "error",
     "traceback": [
      "\u001b[0;31m---------------------------------------------------------------------------\u001b[0m",
      "\u001b[0;31mAttributeError\u001b[0m                            Traceback (most recent call last)",
      "Input \u001b[0;32mIn [13]\u001b[0m, in \u001b[0;36m<cell line: 16>\u001b[0;34m()\u001b[0m\n\u001b[1;32m     14\u001b[0m BDQN_batch_size \u001b[38;5;241m=\u001b[39m \u001b[38;5;241m3\u001b[39m\n\u001b[1;32m     15\u001b[0m \u001b[38;5;28mprint\u001b[39m(\u001b[38;5;124m\"\u001b[39m\u001b[38;5;124mStarting Training...\u001b[39m\u001b[38;5;124m\"\u001b[39m)\n\u001b[0;32m---> 16\u001b[0m autodata \u001b[38;5;241m=\u001b[39m \u001b[43mAutofeature_agent\u001b[49m\u001b[43m(\u001b[49m\u001b[43menv\u001b[49m\u001b[43m,\u001b[49m\u001b[43m \u001b[49m\u001b[43mBDQN_batch_size\u001b[49m\u001b[43m,\u001b[49m\u001b[43m \u001b[49m\u001b[43mlearning_rate\u001b[49m\u001b[43m,\u001b[49m\u001b[43m \u001b[49m\u001b[43mreward_decay\u001b[49m\u001b[43m,\u001b[49m\u001b[43m \u001b[49m\u001b[43me_greedy\u001b[49m\u001b[43m,\u001b[49m\u001b[43m \u001b[49m\u001b[43mupdate_freq\u001b[49m\u001b[43m,\u001b[49m\u001b[43m \u001b[49m\u001b[43mmem_cap\u001b[49m\u001b[43m,\u001b[49m\n\u001b[1;32m     17\u001b[0m \u001b[43m                                \u001b[49m\u001b[43mBDQN_batch_size\u001b[49m\u001b[43m)\u001b[49m\n\u001b[1;32m     19\u001b[0m \u001b[38;5;28mprint\u001b[39m(\u001b[38;5;124m\"\u001b[39m\u001b[38;5;130;01m\\n\u001b[39;00m\u001b[38;5;124mAgent Ready!\u001b[39m\u001b[38;5;124m\"\u001b[39m)\n\u001b[1;32m     21\u001b[0m \u001b[38;5;66;03m# Train the workload\u001b[39;00m\n",
      "File \u001b[0;32m~/Documents/GitHub/Feature-Augmentation-with-Reinforcement-Learning/RL_Agent.py:92\u001b[0m, in \u001b[0;36mAutofeature_agent.__init__\u001b[0;34m(self, env, bdqn_csv, learning_rate, reward_decay, e_greedy, update_freq, mem_cap, BDQN_batch_size)\u001b[0m\n\u001b[1;32m     88\u001b[0m \u001b[38;5;28mself\u001b[39m\u001b[38;5;241m.\u001b[39meval_net \u001b[38;5;241m=\u001b[39m Net(\u001b[38;5;28mself\u001b[39m\u001b[38;5;241m.\u001b[39menv\u001b[38;5;241m.\u001b[39mget_state_len(), \u001b[38;5;28mself\u001b[39m\u001b[38;5;241m.\u001b[39menv\u001b[38;5;241m.\u001b[39mget_table_action_len(),\n\u001b[1;32m     89\u001b[0m                     \u001b[38;5;28mself\u001b[39m\u001b[38;5;241m.\u001b[39menv\u001b[38;5;241m.\u001b[39mget_feature_action_len())\u001b[38;5;241m.\u001b[39mto(\u001b[38;5;28mself\u001b[39m\u001b[38;5;241m.\u001b[39mdevice)\n\u001b[1;32m     90\u001b[0m \u001b[38;5;28mself\u001b[39m\u001b[38;5;241m.\u001b[39mtarget_net \u001b[38;5;241m=\u001b[39m Net(\u001b[38;5;28mself\u001b[39m\u001b[38;5;241m.\u001b[39menv\u001b[38;5;241m.\u001b[39mget_state_len(), \u001b[38;5;28mself\u001b[39m\u001b[38;5;241m.\u001b[39menv\u001b[38;5;241m.\u001b[39mget_table_action_len(),\n\u001b[1;32m     91\u001b[0m                       \u001b[38;5;28mself\u001b[39m\u001b[38;5;241m.\u001b[39menv\u001b[38;5;241m.\u001b[39mget_feature_action_len())\u001b[38;5;241m.\u001b[39mto(\u001b[38;5;28mself\u001b[39m\u001b[38;5;241m.\u001b[39mdevice)\n\u001b[0;32m---> 92\u001b[0m \u001b[38;5;28mself\u001b[39m\u001b[38;5;241m.\u001b[39moptimizer \u001b[38;5;241m=\u001b[39m \u001b[43mtorch\u001b[49m\u001b[38;5;241;43m.\u001b[39;49m\u001b[43moptim\u001b[49m\u001b[38;5;241;43m.\u001b[39;49m\u001b[43mAdam\u001b[49m\u001b[43m(\u001b[49m\u001b[38;5;28;43mself\u001b[39;49m\u001b[38;5;241;43m.\u001b[39;49m\u001b[43meval_net\u001b[49m\u001b[38;5;241;43m.\u001b[39;49m\u001b[43mparameters\u001b[49m\u001b[43m(\u001b[49m\u001b[43m)\u001b[49m\u001b[43m,\u001b[49m\u001b[43m \u001b[49m\u001b[43mlr\u001b[49m\u001b[38;5;241;43m=\u001b[39;49m\u001b[38;5;28;43mself\u001b[39;49m\u001b[38;5;241;43m.\u001b[39;49m\u001b[43mlr\u001b[49m\u001b[43m)\u001b[49m\n\u001b[1;32m     93\u001b[0m \u001b[38;5;28mself\u001b[39m\u001b[38;5;241m.\u001b[39mloss_func \u001b[38;5;241m=\u001b[39m nn\u001b[38;5;241m.\u001b[39mMSELoss()\n",
      "File \u001b[0;32m~/opt/anaconda3/lib/python3.9/site-packages/torch/optim/adam.py:45\u001b[0m, in \u001b[0;36mAdam.__init__\u001b[0;34m(self, params, lr, betas, eps, weight_decay, amsgrad, foreach, maximize, capturable, differentiable, fused)\u001b[0m\n\u001b[1;32m     39\u001b[0m     \u001b[38;5;28;01mraise\u001b[39;00m \u001b[38;5;167;01mValueError\u001b[39;00m(\u001b[38;5;124mf\u001b[39m\u001b[38;5;124m\"\u001b[39m\u001b[38;5;124mInvalid weight_decay value: \u001b[39m\u001b[38;5;132;01m{\u001b[39;00mweight_decay\u001b[38;5;132;01m}\u001b[39;00m\u001b[38;5;124m\"\u001b[39m)\n\u001b[1;32m     41\u001b[0m defaults \u001b[38;5;241m=\u001b[39m \u001b[38;5;28mdict\u001b[39m(lr\u001b[38;5;241m=\u001b[39mlr, betas\u001b[38;5;241m=\u001b[39mbetas, eps\u001b[38;5;241m=\u001b[39meps,\n\u001b[1;32m     42\u001b[0m                 weight_decay\u001b[38;5;241m=\u001b[39mweight_decay, amsgrad\u001b[38;5;241m=\u001b[39mamsgrad,\n\u001b[1;32m     43\u001b[0m                 maximize\u001b[38;5;241m=\u001b[39mmaximize, foreach\u001b[38;5;241m=\u001b[39mforeach, capturable\u001b[38;5;241m=\u001b[39mcapturable,\n\u001b[1;32m     44\u001b[0m                 differentiable\u001b[38;5;241m=\u001b[39mdifferentiable, fused\u001b[38;5;241m=\u001b[39mfused)\n\u001b[0;32m---> 45\u001b[0m \u001b[38;5;28;43msuper\u001b[39;49m\u001b[43m(\u001b[49m\u001b[43m)\u001b[49m\u001b[38;5;241;43m.\u001b[39;49m\u001b[38;5;21;43m__init__\u001b[39;49m\u001b[43m(\u001b[49m\u001b[43mparams\u001b[49m\u001b[43m,\u001b[49m\u001b[43m \u001b[49m\u001b[43mdefaults\u001b[49m\u001b[43m)\u001b[49m\n\u001b[1;32m     47\u001b[0m \u001b[38;5;28;01mif\u001b[39;00m fused:\n\u001b[1;32m     48\u001b[0m     \u001b[38;5;28;01mif\u001b[39;00m differentiable:\n",
      "File \u001b[0;32m~/opt/anaconda3/lib/python3.9/site-packages/torch/optim/optimizer.py:278\u001b[0m, in \u001b[0;36mOptimizer.__init__\u001b[0;34m(self, params, defaults)\u001b[0m\n\u001b[1;32m    275\u001b[0m     param_groups \u001b[38;5;241m=\u001b[39m [{\u001b[38;5;124m'\u001b[39m\u001b[38;5;124mparams\u001b[39m\u001b[38;5;124m'\u001b[39m: param_groups}]\n\u001b[1;32m    277\u001b[0m \u001b[38;5;28;01mfor\u001b[39;00m param_group \u001b[38;5;129;01min\u001b[39;00m param_groups:\n\u001b[0;32m--> 278\u001b[0m     \u001b[38;5;28;43mself\u001b[39;49m\u001b[38;5;241;43m.\u001b[39;49m\u001b[43madd_param_group\u001b[49m\u001b[43m(\u001b[49m\u001b[43mcast\u001b[49m\u001b[43m(\u001b[49m\u001b[38;5;28;43mdict\u001b[39;49m\u001b[43m,\u001b[49m\u001b[43m \u001b[49m\u001b[43mparam_group\u001b[49m\u001b[43m)\u001b[49m\u001b[43m)\u001b[49m\n\u001b[1;32m    280\u001b[0m \u001b[38;5;66;03m# Allows _cuda_graph_capture_health_check to rig a poor man's TORCH_WARN_ONCE in python,\u001b[39;00m\n\u001b[1;32m    281\u001b[0m \u001b[38;5;66;03m# which I don't think exists\u001b[39;00m\n\u001b[1;32m    282\u001b[0m \u001b[38;5;66;03m# https://github.com/pytorch/pytorch/issues/72948\u001b[39;00m\n\u001b[1;32m    283\u001b[0m \u001b[38;5;28mself\u001b[39m\u001b[38;5;241m.\u001b[39m_warned_capturable_if_run_uncaptured \u001b[38;5;241m=\u001b[39m \u001b[38;5;28;01mTrue\u001b[39;00m\n",
      "File \u001b[0;32m~/opt/anaconda3/lib/python3.9/site-packages/torch/_compile.py:22\u001b[0m, in \u001b[0;36m_disable_dynamo.<locals>.inner\u001b[0;34m(*args, **kwargs)\u001b[0m\n\u001b[1;32m     20\u001b[0m \u001b[38;5;129m@functools\u001b[39m\u001b[38;5;241m.\u001b[39mwraps(fn)\n\u001b[1;32m     21\u001b[0m \u001b[38;5;28;01mdef\u001b[39;00m \u001b[38;5;21minner\u001b[39m(\u001b[38;5;241m*\u001b[39margs, \u001b[38;5;241m*\u001b[39m\u001b[38;5;241m*\u001b[39mkwargs):\n\u001b[0;32m---> 22\u001b[0m     \u001b[38;5;28;01mimport\u001b[39;00m \u001b[38;5;21;01mtorch\u001b[39;00m\u001b[38;5;21;01m.\u001b[39;00m\u001b[38;5;21;01m_dynamo\u001b[39;00m\n\u001b[1;32m     24\u001b[0m     \u001b[38;5;28;01mreturn\u001b[39;00m torch\u001b[38;5;241m.\u001b[39m_dynamo\u001b[38;5;241m.\u001b[39mdisable(fn, recursive)(\u001b[38;5;241m*\u001b[39margs, \u001b[38;5;241m*\u001b[39m\u001b[38;5;241m*\u001b[39mkwargs)\n",
      "File \u001b[0;32m~/opt/anaconda3/lib/python3.9/site-packages/torch/_dynamo/__init__.py:2\u001b[0m, in \u001b[0;36m<module>\u001b[0;34m\u001b[0m\n\u001b[1;32m      1\u001b[0m \u001b[38;5;28;01mimport\u001b[39;00m \u001b[38;5;21;01mtorch\u001b[39;00m\n\u001b[0;32m----> 2\u001b[0m \u001b[38;5;28;01mfrom\u001b[39;00m \u001b[38;5;21;01m.\u001b[39;00m \u001b[38;5;28;01mimport\u001b[39;00m allowed_functions, convert_frame, eval_frame, resume_execution\n\u001b[1;32m      3\u001b[0m \u001b[38;5;28;01mfrom\u001b[39;00m \u001b[38;5;21;01m.\u001b[39;00m\u001b[38;5;21;01mbackends\u001b[39;00m\u001b[38;5;21;01m.\u001b[39;00m\u001b[38;5;21;01mregistry\u001b[39;00m \u001b[38;5;28;01mimport\u001b[39;00m list_backends, lookup_backend, register_backend\n\u001b[1;32m      4\u001b[0m \u001b[38;5;28;01mfrom\u001b[39;00m \u001b[38;5;21;01m.\u001b[39;00m\u001b[38;5;21;01mcode_context\u001b[39;00m \u001b[38;5;28;01mimport\u001b[39;00m code_context\n",
      "File \u001b[0;32m~/opt/anaconda3/lib/python3.9/site-packages/torch/_dynamo/convert_frame.py:62\u001b[0m, in \u001b[0;36m<module>\u001b[0;34m\u001b[0m\n\u001b[1;32m     56\u001b[0m \u001b[38;5;28;01mfrom\u001b[39;00m \u001b[38;5;21;01m.\u001b[39;00m\u001b[38;5;21;01mguards\u001b[39;00m \u001b[38;5;28;01mimport\u001b[39;00m (\n\u001b[1;32m     57\u001b[0m     CheckFunctionManager,\n\u001b[1;32m     58\u001b[0m     get_and_maybe_log_recompilation_reason,\n\u001b[1;32m     59\u001b[0m     GuardedCode,\n\u001b[1;32m     60\u001b[0m )\n\u001b[1;32m     61\u001b[0m \u001b[38;5;28;01mfrom\u001b[39;00m \u001b[38;5;21;01m.\u001b[39;00m\u001b[38;5;21;01mhooks\u001b[39;00m \u001b[38;5;28;01mimport\u001b[39;00m Hooks\n\u001b[0;32m---> 62\u001b[0m \u001b[38;5;28;01mfrom\u001b[39;00m \u001b[38;5;21;01m.\u001b[39;00m\u001b[38;5;21;01moutput_graph\u001b[39;00m \u001b[38;5;28;01mimport\u001b[39;00m OutputGraph\n\u001b[1;32m     63\u001b[0m \u001b[38;5;28;01mfrom\u001b[39;00m \u001b[38;5;21;01m.\u001b[39;00m\u001b[38;5;21;01mreplay_record\u001b[39;00m \u001b[38;5;28;01mimport\u001b[39;00m ExecutionRecord\n\u001b[1;32m     64\u001b[0m \u001b[38;5;28;01mfrom\u001b[39;00m \u001b[38;5;21;01m.\u001b[39;00m\u001b[38;5;21;01msymbolic_convert\u001b[39;00m \u001b[38;5;28;01mimport\u001b[39;00m InstructionTranslator, SpeculationLog\n",
      "File \u001b[0;32m~/opt/anaconda3/lib/python3.9/site-packages/torch/_dynamo/output_graph.py:39\u001b[0m, in \u001b[0;36m<module>\u001b[0;34m\u001b[0m\n\u001b[1;32m     36\u001b[0m \u001b[38;5;28;01mfrom\u001b[39;00m \u001b[38;5;21;01mtorch\u001b[39;00m\u001b[38;5;21;01m.\u001b[39;00m\u001b[38;5;21;01mutils\u001b[39;00m\u001b[38;5;21;01m.\u001b[39;00m\u001b[38;5;21;01m_sympy\u001b[39;00m\u001b[38;5;21;01m.\u001b[39;00m\u001b[38;5;21;01mreference\u001b[39;00m \u001b[38;5;28;01mimport\u001b[39;00m PythonReferenceAnalysis\n\u001b[1;32m     37\u001b[0m \u001b[38;5;28;01mfrom\u001b[39;00m \u001b[38;5;21;01mtorch\u001b[39;00m\u001b[38;5;21;01m.\u001b[39;00m\u001b[38;5;21;01mutils\u001b[39;00m\u001b[38;5;21;01m.\u001b[39;00m\u001b[38;5;21;01mweak\u001b[39;00m \u001b[38;5;28;01mimport\u001b[39;00m WeakTensorKeyDictionary\n\u001b[0;32m---> 39\u001b[0m \u001b[38;5;28;01mfrom\u001b[39;00m \u001b[38;5;21;01m.\u001b[39;00m \u001b[38;5;28;01mimport\u001b[39;00m config, logging \u001b[38;5;28;01mas\u001b[39;00m torchdynamo_logging, variables\n\u001b[1;32m     40\u001b[0m \u001b[38;5;28;01mfrom\u001b[39;00m \u001b[38;5;21;01m.\u001b[39;00m\u001b[38;5;21;01mbackends\u001b[39;00m\u001b[38;5;21;01m.\u001b[39;00m\u001b[38;5;21;01mregistry\u001b[39;00m \u001b[38;5;28;01mimport\u001b[39;00m CompiledFn, CompilerFn\n\u001b[1;32m     41\u001b[0m \u001b[38;5;28;01mfrom\u001b[39;00m \u001b[38;5;21;01m.\u001b[39;00m\u001b[38;5;21;01mbytecode_transformation\u001b[39;00m \u001b[38;5;28;01mimport\u001b[39;00m (\n\u001b[1;32m     42\u001b[0m     create_call_function,\n\u001b[1;32m     43\u001b[0m     create_instruction,\n\u001b[1;32m     44\u001b[0m     Instruction,\n\u001b[1;32m     45\u001b[0m     unique_id,\n\u001b[1;32m     46\u001b[0m )\n",
      "File \u001b[0;32m~/opt/anaconda3/lib/python3.9/site-packages/torch/_dynamo/variables/__init__.py:68\u001b[0m, in \u001b[0;36m<module>\u001b[0;34m\u001b[0m\n\u001b[1;32m     60\u001b[0m \u001b[38;5;28;01mfrom\u001b[39;00m \u001b[38;5;21;01m.\u001b[39;00m\u001b[38;5;21;01mnn_module\u001b[39;00m \u001b[38;5;28;01mimport\u001b[39;00m NNModuleVariable, UnspecializedNNModuleVariable\n\u001b[1;32m     61\u001b[0m \u001b[38;5;28;01mfrom\u001b[39;00m \u001b[38;5;21;01m.\u001b[39;00m\u001b[38;5;21;01mtensor\u001b[39;00m \u001b[38;5;28;01mimport\u001b[39;00m (\n\u001b[1;32m     62\u001b[0m     FakeItemVariable,\n\u001b[1;32m     63\u001b[0m     NumpyNdarrayVariable,\n\u001b[0;32m   (...)\u001b[0m\n\u001b[1;32m     66\u001b[0m     UnspecializedPythonVariable,\n\u001b[1;32m     67\u001b[0m )\n\u001b[0;32m---> 68\u001b[0m \u001b[38;5;28;01mfrom\u001b[39;00m \u001b[38;5;21;01m.\u001b[39;00m\u001b[38;5;21;01mtorch\u001b[39;00m \u001b[38;5;28;01mimport\u001b[39;00m (\n\u001b[1;32m     69\u001b[0m     TorchCtxManagerClassVariable,\n\u001b[1;32m     70\u001b[0m     TorchInGraphFunctionVariable,\n\u001b[1;32m     71\u001b[0m     TorchVariable,\n\u001b[1;32m     72\u001b[0m )\n\u001b[1;32m     73\u001b[0m \u001b[38;5;28;01mfrom\u001b[39;00m \u001b[38;5;21;01m.\u001b[39;00m\u001b[38;5;21;01muser_defined\u001b[39;00m \u001b[38;5;28;01mimport\u001b[39;00m UserDefinedClassVariable, UserDefinedObjectVariable\n\u001b[1;32m     75\u001b[0m __all__ \u001b[38;5;241m=\u001b[39m [\n\u001b[1;32m     76\u001b[0m     \u001b[38;5;124m\"\u001b[39m\u001b[38;5;124mAutogradFunctionContextVariable\u001b[39m\u001b[38;5;124m\"\u001b[39m,\n\u001b[1;32m     77\u001b[0m     \u001b[38;5;124m\"\u001b[39m\u001b[38;5;124mAutogradFunctionVariable\u001b[39m\u001b[38;5;124m\"\u001b[39m,\n\u001b[0;32m   (...)\u001b[0m\n\u001b[1;32m    128\u001b[0m     \u001b[38;5;124m\"\u001b[39m\u001b[38;5;124mWithExitFunctionVariable\u001b[39m\u001b[38;5;124m\"\u001b[39m,\n\u001b[1;32m    129\u001b[0m ]\n",
      "File \u001b[0;32m~/opt/anaconda3/lib/python3.9/site-packages/torch/_dynamo/variables/torch.py:95\u001b[0m, in \u001b[0;36m<module>\u001b[0;34m\u001b[0m\n\u001b[1;32m     79\u001b[0m \u001b[38;5;28;01mif\u001b[39;00m torch\u001b[38;5;241m.\u001b[39mdistributed\u001b[38;5;241m.\u001b[39mis_available():\n\u001b[1;32m     80\u001b[0m     constant_fold_functions\u001b[38;5;241m.\u001b[39mextend(\n\u001b[1;32m     81\u001b[0m         [\n\u001b[1;32m     82\u001b[0m             torch\u001b[38;5;241m.\u001b[39mdistributed\u001b[38;5;241m.\u001b[39mis_initialized,\n\u001b[0;32m   (...)\u001b[0m\n\u001b[1;32m     85\u001b[0m         ]\n\u001b[1;32m     86\u001b[0m     )\n\u001b[1;32m     89\u001b[0m tracing_state_functions \u001b[38;5;241m=\u001b[39m {\n\u001b[1;32m     90\u001b[0m     torch\u001b[38;5;241m.\u001b[39mjit\u001b[38;5;241m.\u001b[39mis_scripting: \u001b[38;5;28;01mFalse\u001b[39;00m,\n\u001b[1;32m     91\u001b[0m     torch\u001b[38;5;241m.\u001b[39mjit\u001b[38;5;241m.\u001b[39mis_tracing: \u001b[38;5;28;01mFalse\u001b[39;00m,\n\u001b[1;32m     92\u001b[0m     torch\u001b[38;5;241m.\u001b[39m_C\u001b[38;5;241m.\u001b[39m_get_tracing_state: \u001b[38;5;28;01mNone\u001b[39;00m,\n\u001b[1;32m     93\u001b[0m     torch\u001b[38;5;241m.\u001b[39mfx\u001b[38;5;241m.\u001b[39m_symbolic_trace\u001b[38;5;241m.\u001b[39mis_fx_tracing: \u001b[38;5;28;01mFalse\u001b[39;00m,\n\u001b[1;32m     94\u001b[0m     torch\u001b[38;5;241m.\u001b[39monnx\u001b[38;5;241m.\u001b[39mis_in_onnx_export: \u001b[38;5;28;01mFalse\u001b[39;00m,\n\u001b[0;32m---> 95\u001b[0m     \u001b[43mtorch\u001b[49m\u001b[38;5;241;43m.\u001b[39;49m\u001b[43m_dynamo\u001b[49m\u001b[38;5;241;43m.\u001b[39;49m\u001b[43mexternal_utils\u001b[49m\u001b[38;5;241m.\u001b[39mis_compiling: \u001b[38;5;28;01mTrue\u001b[39;00m,\n\u001b[1;32m     96\u001b[0m     torch\u001b[38;5;241m.\u001b[39m_utils\u001b[38;5;241m.\u001b[39mis_compiling: \u001b[38;5;28;01mTrue\u001b[39;00m,\n\u001b[1;32m     97\u001b[0m }\n\u001b[1;32m    100\u001b[0m \u001b[38;5;28;01mclass\u001b[39;00m \u001b[38;5;21;01mBaseTorchVariable\u001b[39;00m(VariableTracker):\n\u001b[1;32m    101\u001b[0m     \u001b[38;5;124;03m\"\"\"common base for all torch.* functions, classes, modules and other things\"\"\"\u001b[39;00m\n",
      "\u001b[0;31mAttributeError\u001b[0m: partially initialized module 'torch._dynamo' has no attribute 'external_utils' (most likely due to a circular import)"
     ]
    }
   ],
   "source": [
    "# instantiate model environment\n",
    "model_target = 0\n",
    "max_try_num = 7\n",
    "# t_core.df_sketch.drop([target], axis=1, inplace=True)\n",
    "print(\"\\n\\nDefining Environment\")\n",
    "env = ISOFAEnvironment(t_core, t_candidates, joinable, target, max_try_num)\n",
    "\n",
    "# Parameters for the agent\n",
    "learning_rate = 0.05\n",
    "reward_decay = 0.9\n",
    "e_greedy = 1\n",
    "update_freq = 50\n",
    "mem_cap = 1000\n",
    "BDQN_batch_size = 3\n",
    "print(\"Starting Training...\")\n",
    "autodata = Autofeature_agent(env, BDQN_batch_size, learning_rate, reward_decay, e_greedy, update_freq, mem_cap,\n",
    "                                BDQN_batch_size)\n",
    "\n",
    "print(\"\\nAgent Ready!\")\n",
    "\n",
    "# Train the workload\n",
    "auto_result = autodata.train_workload()"
   ]
  },
  {
   "cell_type": "markdown",
   "metadata": {},
   "source": [
    "### Storing Results"
   ]
  },
  {
   "cell_type": "code",
   "execution_count": null,
   "metadata": {},
   "outputs": [],
   "source": [
    "res = pd.DataFrame(auto_result, columns=[\"RMSE\", \"Benefit\", \"Time\", \"Epsilon\", \"Features\"])\n",
    "res"
   ]
  },
  {
   "cell_type": "markdown",
   "metadata": {},
   "source": [
    "## Visualizations"
   ]
  },
  {
   "cell_type": "code",
   "execution_count": null,
   "metadata": {},
   "outputs": [],
   "source": [
    "import plotly.express as px\n",
    "import matplotlib.pyplot as plt\n",
    "\n",
    "rmse = [[row[\"RMSE\"], i+1] for i, row in res.iterrows()]\n",
    "df = pd.Dataframe(rmse, columns=[\"RMSE\", \"Step\"])\n",
    "px.scatter(df)"
   ]
  },
  {
   "cell_type": "code",
   "execution_count": null,
   "metadata": {},
   "outputs": [],
   "source": []
  }
 ],
 "metadata": {
  "kernelspec": {
   "display_name": "base",
   "language": "python",
   "name": "python3"
  },
  "language_info": {
   "codemirror_mode": {
    "name": "ipython",
    "version": 3
   },
   "file_extension": ".py",
   "mimetype": "text/x-python",
   "name": "python",
   "nbconvert_exporter": "python",
   "pygments_lexer": "ipython3",
   "version": "3.9.12"
  }
 },
 "nbformat": 4,
 "nbformat_minor": 2
}
