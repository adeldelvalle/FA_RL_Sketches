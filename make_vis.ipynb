{
 "cells": [
  {
   "cell_type": "markdown",
   "metadata": {},
   "source": [
    "# Main Visualization File\n",
    "> Most of the inital code is ported from main.py"
   ]
  },
  {
   "cell_type": "code",
   "execution_count": 11,
   "metadata": {},
   "outputs": [
    {
     "name": "stdout",
     "output_type": "stream",
     "text": [
      "Requirement already satisfied: mmh3 in /Users/korahughes/opt/anaconda3/lib/python3.9/site-packages (4.1.0)\n",
      "Requirement already satisfied: torch in /Users/korahughes/opt/anaconda3/lib/python3.9/site-packages (2.2.2)\n",
      "Requirement already satisfied: networkx in /Users/korahughes/opt/anaconda3/lib/python3.9/site-packages (from torch) (2.7.1)\n",
      "Requirement already satisfied: fsspec in /Users/korahughes/opt/anaconda3/lib/python3.9/site-packages (from torch) (2022.2.0)\n",
      "Requirement already satisfied: typing-extensions>=4.8.0 in /Users/korahughes/opt/anaconda3/lib/python3.9/site-packages (from torch) (4.11.0)\n",
      "Requirement already satisfied: sympy in /Users/korahughes/opt/anaconda3/lib/python3.9/site-packages (from torch) (1.10.1)\n",
      "Requirement already satisfied: filelock in /Users/korahughes/opt/anaconda3/lib/python3.9/site-packages (from torch) (3.6.0)\n",
      "Requirement already satisfied: jinja2 in /Users/korahughes/opt/anaconda3/lib/python3.9/site-packages (from torch) (3.1.3)\n",
      "Requirement already satisfied: MarkupSafe>=2.0 in /Users/korahughes/opt/anaconda3/lib/python3.9/site-packages (from jinja2->torch) (2.0.1)\n",
      "Requirement already satisfied: mpmath>=0.19 in /Users/korahughes/opt/anaconda3/lib/python3.9/site-packages (from sympy->torch) (1.2.1)\n"
     ]
    }
   ],
   "source": [
    "!pip3 install mmh3\n",
    "!pip3 install torch"
   ]
  },
  {
   "cell_type": "code",
   "execution_count": 12,
   "metadata": {},
   "outputs": [],
   "source": [
    "from table import Table\n",
    "from sketches import Synopsis\n",
    "import correlation\n",
    "from RL_Agent import Autofeature_agent\n",
    "from RL_Environment import ISOFAEnvironment\n",
    "import pandas as pd\n",
    "import numpy as np\n",
    "import sketches\n",
    "import os\n",
    "from tqdm import tqdm"
   ]
  },
  {
   "cell_type": "markdown",
   "metadata": {},
   "source": [
    "## Model Training"
   ]
  },
  {
   "cell_type": "code",
   "execution_count": 6,
   "metadata": {},
   "outputs": [
    {
     "name": "stdout",
     "output_type": "stream",
     "text": [
      "Sketching Core Table...\n",
      "(11959, 5)\n",
      "Observed correlation: 0.9967236563887053\n",
      "f0_ Temperature\n",
      "Correlation bounds: 0.9914217299462094, 1.0023880394688534\n",
      "Bootstrap 95% confidence interval for correlation: (0.9966099209170419, 0.9969456324960341)\n"
     ]
    },
    {
     "name": "stderr",
     "output_type": "stream",
     "text": [
      "/Users/korahughes/opt/anaconda3/lib/python3.9/site-packages/sklearn/metrics/cluster/_supervised.py:65: UserWarning: Clustering metrics expects discrete values but received continuous values for label, and continuous values for target\n",
      "  warnings.warn(msg, UserWarning)\n"
     ]
    },
    {
     "name": "stdout",
     "output_type": "stream",
     "text": [
      "Observed mutual info: 1.3934741864764607e-05\n",
      "Observed correlation: 0.46844979302250733\n",
      "f1_ Temperature\n",
      "Correlation bounds: 0.35870779209686204, 0.6862245753802713\n",
      "Bootstrap 95% confidence interval for correlation: (0.4417608372611969, 0.48294171228194777)\n"
     ]
    },
    {
     "name": "stderr",
     "output_type": "stream",
     "text": [
      "/Users/korahughes/opt/anaconda3/lib/python3.9/site-packages/sklearn/metrics/cluster/_supervised.py:65: UserWarning: Clustering metrics expects discrete values but received continuous values for label, and continuous values for target\n",
      "  warnings.warn(msg, UserWarning)\n"
     ]
    },
    {
     "name": "stdout",
     "output_type": "stream",
     "text": [
      "Observed mutual info: 1.5329966930149245e-06\n",
      "Observed correlation: -0.04337375987667828\n",
      "f2_ Temperature\n",
      "Correlation bounds: -0.0560689785493934, 1\n",
      "Bootstrap 95% confidence interval for correlation: (-0.06703062313611156, -0.019530919278972436)\n"
     ]
    },
    {
     "name": "stderr",
     "output_type": "stream",
     "text": [
      "/Users/korahughes/opt/anaconda3/lib/python3.9/site-packages/sklearn/metrics/cluster/_supervised.py:65: UserWarning: Clustering metrics expects discrete values but received continuous values for label, and continuous values for target\n",
      "  warnings.warn(msg, UserWarning)\n"
     ]
    },
    {
     "name": "stdout",
     "output_type": "stream",
     "text": [
      "Observed mutual info: 1.5582162168576519e-07\n",
      "Observed correlation: -0.04306752506070069\n",
      "f3_ Temperature\n",
      "Correlation bounds: -0.06967795385932417, 1\n",
      "Bootstrap 95% confidence interval for correlation: (-0.0660572668140623, -0.011198263063210055)\n"
     ]
    },
    {
     "name": "stderr",
     "output_type": "stream",
     "text": [
      "/Users/korahughes/opt/anaconda3/lib/python3.9/site-packages/sklearn/metrics/cluster/_supervised.py:65: UserWarning: Clustering metrics expects discrete values but received continuous values for label, and continuous values for target\n",
      "  warnings.warn(msg, UserWarning)\n"
     ]
    },
    {
     "name": "stdout",
     "output_type": "stream",
     "text": [
      "Observed mutual info: 2.2326064657877914e-07\n"
     ]
    }
   ],
   "source": [
    "gcdata = \"data/gc-data/\"  # data directory\n",
    "joinable = \"DayLoc\"  # feature that is joinable between tables\n",
    "target = \"Temperature\"\n",
    "# TODO: drop Date and Location on on the csv's\n",
    "\n",
    "# define core table\n",
    "print(\"Sketching Core Table...\")\n",
    "core_path = gcdata+\"temp.csv\"\n",
    "t_core = Table(joinable, core_path)\n",
    "\n",
    "y_feat = t_core.table[[joinable, target]]\n",
    "t_core.table.drop([target], axis=1, inplace=True)\n",
    "print(t_core.table.shape)\n",
    "\n",
    "t_core.get_sketch()\n",
    "core_syn = sketches.Synopsis(y_feat, attributes=[target], key=joinable) \n",
    "t_core.calc_corr_gain(core_syn)"
   ]
  },
  {
   "cell_type": "markdown",
   "metadata": {},
   "source": [
    "### Instantiating Candidates"
   ]
  },
  {
   "cell_type": "code",
   "execution_count": 7,
   "metadata": {},
   "outputs": [
    {
     "name": "stderr",
     "output_type": "stream",
     "text": [
      "  0%|          | 0/9 [00:00<?, ?it/s]"
     ]
    },
    {
     "name": "stdout",
     "output_type": "stream",
     "text": [
      "\n",
      "\n",
      "Looking at table pm10_daily_summary.csv\n",
      "Observed correlation: -0.04052077184093939\n",
      "pm10_daily_summary.csv-o3_AQI Temperature\n",
      "Correlation bounds: -0.11545603160451891, 0.06186103707872515\n",
      "Bootstrap 95% confidence interval for correlation: (-0.06114979995508197, -0.026866817450155563)\n"
     ]
    },
    {
     "name": "stderr",
     "output_type": "stream",
     "text": [
      "/Users/korahughes/opt/anaconda3/lib/python3.9/site-packages/sklearn/metrics/cluster/_supervised.py:65: UserWarning: Clustering metrics expects discrete values but received continuous values for label, and continuous values for target\n",
      "  warnings.warn(msg, UserWarning)\n"
     ]
    },
    {
     "name": "stdout",
     "output_type": "stream",
     "text": [
      "Observed mutual info: -2.3883112706784242e-05\n",
      "Observed correlation: -0.03914918161706282\n",
      "pm10_daily_summary.csv-f0_ Temperature\n",
      "Correlation bounds: -0.10866330292120387, 0.05937130428468072\n",
      "Bootstrap 95% confidence interval for correlation: (-0.05528977419809841, -0.024862815696303654)\n"
     ]
    },
    {
     "name": "stderr",
     "output_type": "stream",
     "text": [
      "/Users/korahughes/opt/anaconda3/lib/python3.9/site-packages/sklearn/metrics/cluster/_supervised.py:65: UserWarning: Clustering metrics expects discrete values but received continuous values for label, and continuous values for target\n",
      "  warnings.warn(msg, UserWarning)\n"
     ]
    },
    {
     "name": "stdout",
     "output_type": "stream",
     "text": [
      "Observed mutual info: -0.00014289438414307352\n",
      "Observed correlation: 0.005893026407901677\n",
      "pm10_daily_summary.csv-f1_ Temperature\n",
      "Correlation bounds: -0.018429417805543195, 0.03173929084642047\n",
      "Bootstrap 95% confidence interval for correlation: (-0.01658241759994904, 0.029556074814952094)\n"
     ]
    },
    {
     "name": "stderr",
     "output_type": "stream",
     "text": [
      "/Users/korahughes/opt/anaconda3/lib/python3.9/site-packages/sklearn/metrics/cluster/_supervised.py:65: UserWarning: Clustering metrics expects discrete values but received continuous values for label, and continuous values for target\n",
      "  warnings.warn(msg, UserWarning)\n",
      "/Users/korahughes/opt/anaconda3/lib/python3.9/site-packages/sklearn/metrics/cluster/_supervised.py:65: UserWarning: Clustering metrics expects discrete values but received binary values for label, and continuous values for target\n",
      "  warnings.warn(msg, UserWarning)\n",
      "/Users/korahughes/opt/anaconda3/lib/python3.9/site-packages/sklearn/metrics/cluster/_supervised.py:65: UserWarning: Clustering metrics expects discrete values but received binary values for label, and continuous values for target\n",
      "  warnings.warn(msg, UserWarning)\n",
      " 11%|█         | 1/9 [00:12<01:40, 12.53s/it]"
     ]
    },
    {
     "name": "stdout",
     "output_type": "stream",
     "text": [
      "Observed mutual info: -0.0002314516017454152\n",
      "Observed correlation: nan\n",
      "pm10_daily_summary.csv-f2_ Temperature\n",
      "Correlation bounds: -0.21309446465008616, 1\n",
      "Bootstrap 95% confidence interval for correlation: (nan, nan)\n",
      "Observed mutual info: 2.1851045462751074e-14\n",
      "Observed correlation: nan\n",
      "pm10_daily_summary.csv-f3_ Temperature\n",
      "Correlation bounds: -0.23967798111469538, 1\n",
      "Bootstrap 95% confidence interval for correlation: (nan, nan)\n",
      "Observed mutual info: 2.1851045462751074e-14\n",
      "\n",
      "\n",
      "\n",
      "\n",
      "Looking at table wind_daily_summary.csv\n",
      "Observed correlation: nan\n",
      "wind_daily_summary.csv-o3_AQI Temperature\n",
      "Correlation bounds: nan, 1\n",
      "Bootstrap 95% confidence interval for correlation: (nan, nan)\n",
      "Observed mutual info: 0.0\n",
      "Observed correlation: 0.03358381366422536\n",
      "wind_daily_summary.csv-f0_ Temperature\n",
      "Correlation bounds: 0.02441055139450897, 0.04296432743848804\n",
      "Bootstrap 95% confidence interval for correlation: (0.014351032585254848, 0.051773930333897274)\n"
     ]
    },
    {
     "name": "stderr",
     "output_type": "stream",
     "text": [
      "/Users/korahughes/opt/anaconda3/lib/python3.9/site-packages/sklearn/metrics/cluster/_supervised.py:65: UserWarning: Clustering metrics expects discrete values but received binary values for label, and continuous values for target\n",
      "  warnings.warn(msg, UserWarning)\n",
      "/Users/korahughes/opt/anaconda3/lib/python3.9/site-packages/sklearn/metrics/cluster/_supervised.py:65: UserWarning: Clustering metrics expects discrete values but received continuous values for label, and continuous values for target\n",
      "  warnings.warn(msg, UserWarning)\n"
     ]
    },
    {
     "name": "stdout",
     "output_type": "stream",
     "text": [
      "Observed mutual info: -1.8682978758456347e-11\n",
      "Observed correlation: 0.003008321845126484\n",
      "wind_daily_summary.csv-f1_ Temperature\n",
      "Correlation bounds: -0.031124417287641513, 1\n",
      "Bootstrap 95% confidence interval for correlation: (-0.016084635380300263, 0.02427605410363684)\n"
     ]
    },
    {
     "name": "stderr",
     "output_type": "stream",
     "text": [
      "/Users/korahughes/opt/anaconda3/lib/python3.9/site-packages/sklearn/metrics/cluster/_supervised.py:65: UserWarning: Clustering metrics expects discrete values but received continuous values for label, and continuous values for target\n",
      "  warnings.warn(msg, UserWarning)\n"
     ]
    },
    {
     "name": "stdout",
     "output_type": "stream",
     "text": [
      "Observed mutual info: 1.3314979491508711e-05\n",
      "Observed correlation: 0.021169793370624496\n",
      "wind_daily_summary.csv-f2_ Temperature\n",
      "Correlation bounds: -0.040915982082976136, 1\n",
      "Bootstrap 95% confidence interval for correlation: (-0.0019652266734028105, 0.037308272933057926)\n"
     ]
    },
    {
     "name": "stderr",
     "output_type": "stream",
     "text": [
      "/Users/korahughes/opt/anaconda3/lib/python3.9/site-packages/sklearn/metrics/cluster/_supervised.py:65: UserWarning: Clustering metrics expects discrete values but received continuous values for label, and continuous values for target\n",
      "  warnings.warn(msg, UserWarning)\n"
     ]
    },
    {
     "name": "stdout",
     "output_type": "stream",
     "text": [
      "Observed mutual info: -0.0025846572551631217\n",
      "Observed correlation: 0.020835465774366072\n",
      "wind_daily_summary.csv-f3_ Temperature\n",
      "Correlation bounds: -0.026872112473665822, 1\n",
      "Bootstrap 95% confidence interval for correlation: (0.008176620380310877, 0.04032281265950631)\n"
     ]
    },
    {
     "name": "stderr",
     "output_type": "stream",
     "text": [
      "/Users/korahughes/opt/anaconda3/lib/python3.9/site-packages/sklearn/metrics/cluster/_supervised.py:65: UserWarning: Clustering metrics expects discrete values but received continuous values for label, and continuous values for target\n",
      "  warnings.warn(msg, UserWarning)\n",
      " 22%|██▏       | 2/9 [02:03<08:12, 70.40s/it]"
     ]
    },
    {
     "name": "stdout",
     "output_type": "stream",
     "text": [
      "Observed mutual info: -0.002391730627904191\n",
      "\n",
      "\n",
      "\n",
      "\n",
      "Looking at table o3_daily_summary.csv\n",
      "Observed correlation: -0.056468744739110274\n",
      "o3_daily_summary.csv-o3_AQI Temperature\n",
      "Correlation bounds: -0.07579287533530392, -0.03368396579521509\n",
      "Bootstrap 95% confidence interval for correlation: (-0.07024471591336336, -0.044267662700648504)\n"
     ]
    },
    {
     "name": "stderr",
     "output_type": "stream",
     "text": [
      "/Users/korahughes/opt/anaconda3/lib/python3.9/site-packages/sklearn/metrics/cluster/_supervised.py:65: UserWarning: Clustering metrics expects discrete values but received continuous values for label, and continuous values for target\n",
      "  warnings.warn(msg, UserWarning)\n"
     ]
    },
    {
     "name": "stdout",
     "output_type": "stream",
     "text": [
      "Observed mutual info: 2.73706629349276e-13\n",
      "Observed correlation: -0.052784311738532035\n",
      "o3_daily_summary.csv-f0_ Temperature\n",
      "Correlation bounds: -0.32541915416931805, 1\n",
      "Bootstrap 95% confidence interval for correlation: (-0.07296113440131242, -0.03221498793402598)\n"
     ]
    },
    {
     "name": "stderr",
     "output_type": "stream",
     "text": [
      "/Users/korahughes/opt/anaconda3/lib/python3.9/site-packages/sklearn/metrics/cluster/_supervised.py:65: UserWarning: Clustering metrics expects discrete values but received continuous values for label, and continuous values for target\n",
      "  warnings.warn(msg, UserWarning)\n"
     ]
    },
    {
     "name": "stdout",
     "output_type": "stream",
     "text": [
      "Observed mutual info: -4.9198570242519565e-05\n",
      "Observed correlation: 0.009020316713505346\n",
      "o3_daily_summary.csv-f1_ Temperature\n",
      "Correlation bounds: -0.21829824670395678, 1.2302296628719918\n",
      "Bootstrap 95% confidence interval for correlation: (-0.05924779172222178, 0.08101274261819007)\n"
     ]
    },
    {
     "name": "stderr",
     "output_type": "stream",
     "text": [
      "/Users/korahughes/opt/anaconda3/lib/python3.9/site-packages/sklearn/metrics/cluster/_supervised.py:65: UserWarning: Clustering metrics expects discrete values but received continuous values for label, and continuous values for target\n",
      "  warnings.warn(msg, UserWarning)\n"
     ]
    },
    {
     "name": "stdout",
     "output_type": "stream",
     "text": [
      "Observed mutual info: -9.954573203929172e-05\n",
      "Observed correlation: 0.000769937617751846\n",
      "o3_daily_summary.csv-f2_ Temperature\n",
      "Correlation bounds: -0.2742661857401571, 1\n",
      "Bootstrap 95% confidence interval for correlation: (-0.05350085156251279, 0.029202416301526736)\n"
     ]
    },
    {
     "name": "stderr",
     "output_type": "stream",
     "text": [
      "/Users/korahughes/opt/anaconda3/lib/python3.9/site-packages/sklearn/metrics/cluster/_supervised.py:65: UserWarning: Clustering metrics expects discrete values but received continuous values for label, and continuous values for target\n",
      "  warnings.warn(msg, UserWarning)\n"
     ]
    },
    {
     "name": "stdout",
     "output_type": "stream",
     "text": [
      "Observed mutual info: -0.0014776506051843838\n",
      "Observed correlation: 0.0007768803510301071\n",
      "o3_daily_summary.csv-f3_ Temperature\n",
      "Correlation bounds: -0.11512670290723892, 0.152902423336307\n",
      "Bootstrap 95% confidence interval for correlation: (-0.02592941677838349, 0.02930370683137936)\n"
     ]
    },
    {
     "name": "stderr",
     "output_type": "stream",
     "text": [
      "/Users/korahughes/opt/anaconda3/lib/python3.9/site-packages/sklearn/metrics/cluster/_supervised.py:65: UserWarning: Clustering metrics expects discrete values but received continuous values for label, and continuous values for target\n",
      "  warnings.warn(msg, UserWarning)\n",
      " 33%|███▎      | 3/9 [02:16<04:24, 44.09s/it]"
     ]
    },
    {
     "name": "stdout",
     "output_type": "stream",
     "text": [
      "Observed mutual info: -0.0014865483988900502\n",
      "\n",
      "\n",
      "\n",
      "\n",
      "Looking at table voc_daily_summary.csv\n",
      "Observed correlation: nan\n",
      "voc_daily_summary.csv-o3_AQI Temperature\n",
      "Correlation bounds: nan, 1\n",
      "Bootstrap 95% confidence interval for correlation: (nan, nan)\n",
      "Observed mutual info: 1.5577442003468863e-14\n",
      "Observed correlation: -0.010838253110246247\n",
      "voc_daily_summary.csv-f0_ Temperature\n",
      "Correlation bounds: -0.03438713389644127, 0.034243916558375886\n",
      "Bootstrap 95% confidence interval for correlation: (-0.02343070336608131, 0.003653148013139436)\n"
     ]
    },
    {
     "name": "stderr",
     "output_type": "stream",
     "text": [
      "/Users/korahughes/opt/anaconda3/lib/python3.9/site-packages/sklearn/metrics/cluster/_supervised.py:65: UserWarning: Clustering metrics expects discrete values but received binary values for label, and continuous values for target\n",
      "  warnings.warn(msg, UserWarning)\n",
      "/Users/korahughes/opt/anaconda3/lib/python3.9/site-packages/sklearn/metrics/cluster/_supervised.py:65: UserWarning: Clustering metrics expects discrete values but received continuous values for label, and continuous values for target\n",
      "  warnings.warn(msg, UserWarning)\n"
     ]
    },
    {
     "name": "stdout",
     "output_type": "stream",
     "text": [
      "Observed mutual info: -1.9244022114719392e-05\n",
      "Observed correlation: 0.010331934197039733\n",
      "voc_daily_summary.csv-f1_ Temperature\n",
      "Correlation bounds: -0.009726473124621696, 0.031234419696338566\n",
      "Bootstrap 95% confidence interval for correlation: (-0.008039448192126607, 0.030437457420234234)\n"
     ]
    },
    {
     "name": "stderr",
     "output_type": "stream",
     "text": [
      "/Users/korahughes/opt/anaconda3/lib/python3.9/site-packages/sklearn/metrics/cluster/_supervised.py:65: UserWarning: Clustering metrics expects discrete values but received continuous values for label, and continuous values for target\n",
      "  warnings.warn(msg, UserWarning)\n"
     ]
    },
    {
     "name": "stdout",
     "output_type": "stream",
     "text": [
      "Observed mutual info: -0.00037954415285493135\n",
      "Observed correlation: 0.012799648571607317\n",
      "voc_daily_summary.csv-f2_ Temperature\n",
      "Correlation bounds: -0.0002267974541121581, 0.026188470711757648\n",
      "Bootstrap 95% confidence interval for correlation: (-0.005464677861045814, 0.03240528905830769)\n"
     ]
    },
    {
     "name": "stderr",
     "output_type": "stream",
     "text": [
      "/Users/korahughes/opt/anaconda3/lib/python3.9/site-packages/sklearn/metrics/cluster/_supervised.py:65: UserWarning: Clustering metrics expects discrete values but received continuous values for label, and continuous values for target\n",
      "  warnings.warn(msg, UserWarning)\n"
     ]
    },
    {
     "name": "stdout",
     "output_type": "stream",
     "text": [
      "Observed mutual info: -0.00019748233417321963\n",
      "Observed correlation: -0.020156587182494207\n",
      "voc_daily_summary.csv-f3_ Temperature\n",
      "Correlation bounds: -0.02895018422334143, -0.011141490555345492\n",
      "Bootstrap 95% confidence interval for correlation: (-0.044016972370957134, -0.007390180003799225)\n"
     ]
    },
    {
     "name": "stderr",
     "output_type": "stream",
     "text": [
      "/Users/korahughes/opt/anaconda3/lib/python3.9/site-packages/sklearn/metrics/cluster/_supervised.py:65: UserWarning: Clustering metrics expects discrete values but received continuous values for label, and continuous values for target\n",
      "  warnings.warn(msg, UserWarning)\n",
      " 44%|████▍     | 4/9 [02:34<02:48, 33.72s/it]"
     ]
    },
    {
     "name": "stdout",
     "output_type": "stream",
     "text": [
      "Observed mutual info: -0.0004347437796690843\n",
      "\n",
      "\n",
      "\n",
      "\n",
      "Looking at table so2_daily_summary.csv\n",
      "Observed correlation: -0.06410708887946108\n",
      "so2_daily_summary.csv-o3_AQI Temperature\n",
      "Correlation bounds: -0.07910660277637102, -0.04822221514417315\n",
      "Bootstrap 95% confidence interval for correlation: (-0.0820386972223181, -0.046016961001113466)\n"
     ]
    },
    {
     "name": "stderr",
     "output_type": "stream",
     "text": [
      "/Users/korahughes/opt/anaconda3/lib/python3.9/site-packages/sklearn/metrics/cluster/_supervised.py:65: UserWarning: Clustering metrics expects discrete values but received continuous values for label, and continuous values for target\n",
      "  warnings.warn(msg, UserWarning)\n"
     ]
    },
    {
     "name": "stdout",
     "output_type": "stream",
     "text": [
      "Observed mutual info: -0.0016385602994498725\n",
      "Observed correlation: -0.05624935793676445\n",
      "so2_daily_summary.csv-f0_ Temperature\n",
      "Correlation bounds: -0.07994931250317348, -0.030917256175858852\n",
      "Bootstrap 95% confidence interval for correlation: (-0.06878029237904801, -0.04085136447458593)\n"
     ]
    },
    {
     "name": "stderr",
     "output_type": "stream",
     "text": [
      "/Users/korahughes/opt/anaconda3/lib/python3.9/site-packages/sklearn/metrics/cluster/_supervised.py:65: UserWarning: Clustering metrics expects discrete values but received continuous values for label, and continuous values for target\n",
      "  warnings.warn(msg, UserWarning)\n"
     ]
    },
    {
     "name": "stdout",
     "output_type": "stream",
     "text": [
      "Observed mutual info: -0.0005481666215502941\n",
      "Observed correlation: -0.11394544424416524\n",
      "so2_daily_summary.csv-f1_ Temperature\n",
      "Correlation bounds: -0.2205345160918243, 0.06303304699085803\n",
      "Bootstrap 95% confidence interval for correlation: (-0.1745694620812126, -0.06148992084372222)\n"
     ]
    },
    {
     "name": "stderr",
     "output_type": "stream",
     "text": [
      "/Users/korahughes/opt/anaconda3/lib/python3.9/site-packages/sklearn/metrics/cluster/_supervised.py:65: UserWarning: Clustering metrics expects discrete values but received continuous values for label, and continuous values for target\n",
      "  warnings.warn(msg, UserWarning)\n"
     ]
    },
    {
     "name": "stdout",
     "output_type": "stream",
     "text": [
      "Observed mutual info: -0.0005142745501348692\n",
      "Observed correlation: 0.07372249819109557\n",
      "so2_daily_summary.csv-f2_ Temperature\n",
      "Correlation bounds: -0.20443820888947103, 1\n",
      "Bootstrap 95% confidence interval for correlation: (0.02911861534588367, 0.12936077801455617)\n"
     ]
    },
    {
     "name": "stderr",
     "output_type": "stream",
     "text": [
      "/Users/korahughes/opt/anaconda3/lib/python3.9/site-packages/sklearn/metrics/cluster/_supervised.py:65: UserWarning: Clustering metrics expects discrete values but received continuous values for label, and continuous values for target\n",
      "  warnings.warn(msg, UserWarning)\n"
     ]
    },
    {
     "name": "stdout",
     "output_type": "stream",
     "text": [
      "Observed mutual info: -0.0012806766029212454\n",
      "Observed correlation: 0.07935361691803404\n",
      "so2_daily_summary.csv-f3_ Temperature\n",
      "Correlation bounds: -0.07128723509002234, 0.32119054562216903\n",
      "Bootstrap 95% confidence interval for correlation: (0.04598654837406688, 0.12185528352101994)\n"
     ]
    },
    {
     "name": "stderr",
     "output_type": "stream",
     "text": [
      "/Users/korahughes/opt/anaconda3/lib/python3.9/site-packages/sklearn/metrics/cluster/_supervised.py:65: UserWarning: Clustering metrics expects discrete values but received continuous values for label, and continuous values for target\n",
      "  warnings.warn(msg, UserWarning)\n",
      "Exception ignored in: <bound method IPythonKernel._clean_thread_parent_frames of <ipykernel.ipkernel.IPythonKernel object at 0x7fc26144fa30>>\n",
      "Traceback (most recent call last):\n",
      "  File \"/Users/korahughes/opt/anaconda3/lib/python3.9/site-packages/ipykernel/ipkernel.py\", line 770, in _clean_thread_parent_frames\n",
      "    def _clean_thread_parent_frames(\n",
      "KeyboardInterrupt: \n",
      " 56%|█████▌    | 5/9 [02:48<01:46, 26.70s/it]"
     ]
    },
    {
     "name": "stdout",
     "output_type": "stream",
     "text": [
      "Observed mutual info: -0.0011329700729391927\n",
      "\n",
      "\n",
      "\n",
      "\n",
      "Looking at table pressure_daily_summary.csv\n",
      "Observed correlation: nan\n",
      "pressure_daily_summary.csv-o3_AQI Temperature\n",
      "Correlation bounds: nan, 1\n",
      "Bootstrap 95% confidence interval for correlation: (nan, nan)\n",
      "Observed mutual info: 0.0\n",
      "Observed correlation: -0.0065938970351224185\n",
      "pressure_daily_summary.csv-f0_ Temperature\n",
      "Correlation bounds: -0.018864263077793368, 0.014531379507894054\n",
      "Bootstrap 95% confidence interval for correlation: (-0.013211125211479604, 0.00211719746871057)\n"
     ]
    },
    {
     "name": "stderr",
     "output_type": "stream",
     "text": [
      "/Users/korahughes/opt/anaconda3/lib/python3.9/site-packages/sklearn/metrics/cluster/_supervised.py:65: UserWarning: Clustering metrics expects discrete values but received binary values for label, and continuous values for target\n",
      "  warnings.warn(msg, UserWarning)\n",
      "/Users/korahughes/opt/anaconda3/lib/python3.9/site-packages/sklearn/metrics/cluster/_supervised.py:65: UserWarning: Clustering metrics expects discrete values but received continuous values for label, and continuous values for target\n",
      "  warnings.warn(msg, UserWarning)\n"
     ]
    },
    {
     "name": "stdout",
     "output_type": "stream",
     "text": [
      "Observed mutual info: 2.3641769071378507e-05\n",
      "Observed correlation: -0.01923605128771531\n",
      "pressure_daily_summary.csv-f1_ Temperature\n",
      "Correlation bounds: -0.04123315802404758, 0.003882405126062972\n",
      "Bootstrap 95% confidence interval for correlation: (-0.03582463052386845, -0.005528691845512197)\n"
     ]
    },
    {
     "name": "stderr",
     "output_type": "stream",
     "text": [
      "/Users/korahughes/opt/anaconda3/lib/python3.9/site-packages/sklearn/metrics/cluster/_supervised.py:65: UserWarning: Clustering metrics expects discrete values but received continuous values for label, and continuous values for target\n",
      "  warnings.warn(msg, UserWarning)\n"
     ]
    },
    {
     "name": "stdout",
     "output_type": "stream",
     "text": [
      "Observed mutual info: 0.00015342198678107807\n",
      "Observed correlation: 0.014392513969415351\n",
      "pressure_daily_summary.csv-f2_ Temperature\n",
      "Correlation bounds: -0.11636791701036109, 1\n",
      "Bootstrap 95% confidence interval for correlation: (0.0021678474156480144, 0.028014565361878904)\n"
     ]
    },
    {
     "name": "stderr",
     "output_type": "stream",
     "text": [
      "/Users/korahughes/opt/anaconda3/lib/python3.9/site-packages/sklearn/metrics/cluster/_supervised.py:65: UserWarning: Clustering metrics expects discrete values but received continuous values for label, and continuous values for target\n",
      "  warnings.warn(msg, UserWarning)\n"
     ]
    },
    {
     "name": "stdout",
     "output_type": "stream",
     "text": [
      "Observed mutual info: 0.007550775132855188\n",
      "Observed correlation: 0.014244073817282038\n",
      "pressure_daily_summary.csv-f3_ Temperature\n",
      "Correlation bounds: -0.09787032583809592, 1\n",
      "Bootstrap 95% confidence interval for correlation: (0.0015631981737950329, 0.02652100527208539)\n"
     ]
    },
    {
     "name": "stderr",
     "output_type": "stream",
     "text": [
      "/Users/korahughes/opt/anaconda3/lib/python3.9/site-packages/sklearn/metrics/cluster/_supervised.py:65: UserWarning: Clustering metrics expects discrete values but received continuous values for label, and continuous values for target\n",
      "  warnings.warn(msg, UserWarning)\n",
      " 67%|██████▋   | 6/9 [03:10<01:15, 25.20s/it]"
     ]
    },
    {
     "name": "stdout",
     "output_type": "stream",
     "text": [
      "Observed mutual info: 0.007608755470272504\n",
      "\n",
      "\n",
      "\n",
      "\n",
      "Looking at table pm25_frm_daily_summary.csv\n",
      "Observed correlation: -0.013614382481296415\n",
      "pm25_frm_daily_summary.csv-o3_AQI Temperature\n",
      "Correlation bounds: -0.03023446143774428, 0.0038536720681605773\n",
      "Bootstrap 95% confidence interval for correlation: (-0.031132527434547547, 0.009015621766981393)\n"
     ]
    },
    {
     "name": "stderr",
     "output_type": "stream",
     "text": [
      "/Users/korahughes/opt/anaconda3/lib/python3.9/site-packages/sklearn/metrics/cluster/_supervised.py:65: UserWarning: Clustering metrics expects discrete values but received continuous values for label, and continuous values for target\n",
      "  warnings.warn(msg, UserWarning)\n"
     ]
    },
    {
     "name": "stdout",
     "output_type": "stream",
     "text": [
      "Observed mutual info: 0.0001707945069032897\n",
      "Observed correlation: -0.020770854857664924\n",
      "pm25_frm_daily_summary.csv-f0_ Temperature\n",
      "Correlation bounds: -0.04762435321839548, 0.0076798591360531234\n",
      "Bootstrap 95% confidence interval for correlation: (-0.03646562648716269, 0.00265062298519421)\n"
     ]
    },
    {
     "name": "stderr",
     "output_type": "stream",
     "text": [
      "/Users/korahughes/opt/anaconda3/lib/python3.9/site-packages/sklearn/metrics/cluster/_supervised.py:65: UserWarning: Clustering metrics expects discrete values but received continuous values for label, and continuous values for target\n",
      "  warnings.warn(msg, UserWarning)\n"
     ]
    },
    {
     "name": "stdout",
     "output_type": "stream",
     "text": [
      "Observed mutual info: 0.0001028256408294433\n",
      "Observed correlation: -0.001471537308224386\n",
      "pm25_frm_daily_summary.csv-f1_ Temperature\n",
      "Correlation bounds: -0.04291926770947991, 0.0447174282441122\n",
      "Bootstrap 95% confidence interval for correlation: (-0.021464734207469124, 0.021383658990718344)\n"
     ]
    },
    {
     "name": "stderr",
     "output_type": "stream",
     "text": [
      "/Users/korahughes/opt/anaconda3/lib/python3.9/site-packages/sklearn/metrics/cluster/_supervised.py:65: UserWarning: Clustering metrics expects discrete values but received continuous values for label, and continuous values for target\n",
      "  warnings.warn(msg, UserWarning)\n"
     ]
    },
    {
     "name": "stdout",
     "output_type": "stream",
     "text": [
      "Observed mutual info: 0.010235156796220888\n",
      "Observed correlation: 0.0011359536941679058\n",
      "pm25_frm_daily_summary.csv-f2_ Temperature\n",
      "Correlation bounds: -0.021090086512302784, 0.024395297809172028\n",
      "Bootstrap 95% confidence interval for correlation: (-0.021037882753290934, 0.029293367962550915)\n"
     ]
    },
    {
     "name": "stderr",
     "output_type": "stream",
     "text": [
      "/Users/korahughes/opt/anaconda3/lib/python3.9/site-packages/sklearn/metrics/cluster/_supervised.py:65: UserWarning: Clustering metrics expects discrete values but received continuous values for label, and continuous values for target\n",
      "  warnings.warn(msg, UserWarning)\n"
     ]
    },
    {
     "name": "stdout",
     "output_type": "stream",
     "text": [
      "Observed mutual info: 0.008393603939420402\n",
      "Observed correlation: 0.007324441220242266\n",
      "pm25_frm_daily_summary.csv-f3_ Temperature\n",
      "Correlation bounds: -0.13468473267395228, 1\n",
      "Bootstrap 95% confidence interval for correlation: (-0.02110514256811848, 0.02642181377413093)\n"
     ]
    },
    {
     "name": "stderr",
     "output_type": "stream",
     "text": [
      "/Users/korahughes/opt/anaconda3/lib/python3.9/site-packages/sklearn/metrics/cluster/_supervised.py:65: UserWarning: Clustering metrics expects discrete values but received continuous values for label, and continuous values for target\n",
      "  warnings.warn(msg, UserWarning)\n",
      " 78%|███████▊  | 7/9 [03:28<00:45, 22.97s/it]"
     ]
    },
    {
     "name": "stdout",
     "output_type": "stream",
     "text": [
      "Observed mutual info: 0.004513386350869962\n",
      "\n",
      "\n",
      "\n",
      "\n",
      "Looking at table rh_and_dp_daily_summary.csv\n",
      "Observed correlation: nan\n",
      "rh_and_dp_daily_summary.csv-o3_AQI Temperature\n",
      "Correlation bounds: nan, 1\n",
      "Bootstrap 95% confidence interval for correlation: (nan, nan)\n",
      "Observed mutual info: 0.0\n",
      "Observed correlation: 0.06520739230633721\n",
      "rh_and_dp_daily_summary.csv-f0_ Temperature\n",
      "Correlation bounds: 0.047324361675646714, 0.08399131142526603\n",
      "Bootstrap 95% confidence interval for correlation: (0.050599942504888515, 0.08525040445092597)\n"
     ]
    },
    {
     "name": "stderr",
     "output_type": "stream",
     "text": [
      "/Users/korahughes/opt/anaconda3/lib/python3.9/site-packages/sklearn/metrics/cluster/_supervised.py:65: UserWarning: Clustering metrics expects discrete values but received binary values for label, and continuous values for target\n",
      "  warnings.warn(msg, UserWarning)\n",
      "/Users/korahughes/opt/anaconda3/lib/python3.9/site-packages/sklearn/metrics/cluster/_supervised.py:65: UserWarning: Clustering metrics expects discrete values but received continuous values for label, and continuous values for target\n",
      "  warnings.warn(msg, UserWarning)\n"
     ]
    },
    {
     "name": "stdout",
     "output_type": "stream",
     "text": [
      "Observed mutual info: -0.00039721247613746076\n",
      "Observed correlation: 0.007271974598090751\n",
      "rh_and_dp_daily_summary.csv-f1_ Temperature\n",
      "Correlation bounds: -0.04975896365984436, 0.07372524018274468\n",
      "Bootstrap 95% confidence interval for correlation: (-0.014016570891512209, 0.04305323735885861)\n"
     ]
    },
    {
     "name": "stderr",
     "output_type": "stream",
     "text": [
      "/Users/korahughes/opt/anaconda3/lib/python3.9/site-packages/sklearn/metrics/cluster/_supervised.py:65: UserWarning: Clustering metrics expects discrete values but received continuous values for label, and continuous values for target\n",
      "  warnings.warn(msg, UserWarning)\n"
     ]
    },
    {
     "name": "stdout",
     "output_type": "stream",
     "text": [
      "Observed mutual info: 1.0473756353866099e-05\n",
      "Observed correlation: 0.05233068608500297\n",
      "rh_and_dp_daily_summary.csv-f2_ Temperature\n",
      "Correlation bounds: 0.01037090819357573, 0.09814197214026668\n",
      "Bootstrap 95% confidence interval for correlation: (0.04508964650910691, 0.05833935566461618)\n"
     ]
    },
    {
     "name": "stderr",
     "output_type": "stream",
     "text": [
      "/Users/korahughes/opt/anaconda3/lib/python3.9/site-packages/sklearn/metrics/cluster/_supervised.py:65: UserWarning: Clustering metrics expects discrete values but received continuous values for label, and continuous values for target\n",
      "  warnings.warn(msg, UserWarning)\n"
     ]
    },
    {
     "name": "stdout",
     "output_type": "stream",
     "text": [
      "Observed mutual info: -0.0024812598345906912\n",
      "Observed correlation: 0.03655244063536243\n",
      "rh_and_dp_daily_summary.csv-f3_ Temperature\n",
      "Correlation bounds: -0.13517539664691186, 1\n",
      "Bootstrap 95% confidence interval for correlation: (0.0023358502693944724, 0.05747217535042502)\n"
     ]
    },
    {
     "name": "stderr",
     "output_type": "stream",
     "text": [
      "/Users/korahughes/opt/anaconda3/lib/python3.9/site-packages/sklearn/metrics/cluster/_supervised.py:65: UserWarning: Clustering metrics expects discrete values but received continuous values for label, and continuous values for target\n",
      "  warnings.warn(msg, UserWarning)\n",
      " 89%|████████▉ | 8/9 [03:50<00:22, 22.51s/it]"
     ]
    },
    {
     "name": "stdout",
     "output_type": "stream",
     "text": [
      "Observed mutual info: -0.0026840273725280534\n",
      "\n",
      "\n",
      "\n",
      "\n",
      "Looking at table no2_daily_summary.csv\n",
      "Observed correlation: 0.2408333239165361\n",
      "no2_daily_summary.csv-o3_AQI Temperature\n",
      "Correlation bounds: 0.23505997003914056, 0.24675527434779648\n",
      "Bootstrap 95% confidence interval for correlation: (0.21876864591035164, 0.25754758832634433)\n"
     ]
    },
    {
     "name": "stderr",
     "output_type": "stream",
     "text": [
      "/Users/korahughes/opt/anaconda3/lib/python3.9/site-packages/sklearn/metrics/cluster/_supervised.py:65: UserWarning: Clustering metrics expects discrete values but received continuous values for label, and continuous values for target\n",
      "  warnings.warn(msg, UserWarning)\n"
     ]
    },
    {
     "name": "stdout",
     "output_type": "stream",
     "text": [
      "Observed mutual info: -5.32468792073918e-05\n",
      "Observed correlation: 0.23851923796209837\n",
      "no2_daily_summary.csv-f0_ Temperature\n",
      "Correlation bounds: 0.23305328849475535, 0.24412448466182685\n",
      "Bootstrap 95% confidence interval for correlation: (0.21997032558215746, 0.25562449446046126)\n"
     ]
    },
    {
     "name": "stderr",
     "output_type": "stream",
     "text": [
      "/Users/korahughes/opt/anaconda3/lib/python3.9/site-packages/sklearn/metrics/cluster/_supervised.py:65: UserWarning: Clustering metrics expects discrete values but received continuous values for label, and continuous values for target\n",
      "  warnings.warn(msg, UserWarning)\n"
     ]
    },
    {
     "name": "stdout",
     "output_type": "stream",
     "text": [
      "Observed mutual info: 1.8932090892928547e-05\n",
      "Observed correlation: -0.0005330554369342888\n",
      "no2_daily_summary.csv-f1_ Temperature\n",
      "Correlation bounds: -0.02023540393119542, 0.023889674289064727\n",
      "Bootstrap 95% confidence interval for correlation: (-0.019372273624826627, 0.018225835481772236)\n"
     ]
    },
    {
     "name": "stderr",
     "output_type": "stream",
     "text": [
      "/Users/korahughes/opt/anaconda3/lib/python3.9/site-packages/sklearn/metrics/cluster/_supervised.py:65: UserWarning: Clustering metrics expects discrete values but received continuous values for label, and continuous values for target\n",
      "  warnings.warn(msg, UserWarning)\n"
     ]
    },
    {
     "name": "stdout",
     "output_type": "stream",
     "text": [
      "Observed mutual info: -4.727445097823487e-06\n",
      "Observed correlation: 0.018518308778169266\n",
      "no2_daily_summary.csv-f2_ Temperature\n",
      "Correlation bounds: -0.03747019395393264, 1\n",
      "Bootstrap 95% confidence interval for correlation: (-0.010693794043153347, 0.048091637360848934)\n"
     ]
    },
    {
     "name": "stderr",
     "output_type": "stream",
     "text": [
      "/Users/korahughes/opt/anaconda3/lib/python3.9/site-packages/sklearn/metrics/cluster/_supervised.py:65: UserWarning: Clustering metrics expects discrete values but received continuous values for label, and continuous values for target\n",
      "  warnings.warn(msg, UserWarning)\n"
     ]
    },
    {
     "name": "stdout",
     "output_type": "stream",
     "text": [
      "Observed mutual info: 0.0004304778805288345\n",
      "Observed correlation: 0.017668130250040937\n",
      "no2_daily_summary.csv-f3_ Temperature\n",
      "Correlation bounds: -0.015686949104304362, 0.07565173598596169\n",
      "Bootstrap 95% confidence interval for correlation: (-0.004569694339394844, 0.05384453530566701)\n"
     ]
    },
    {
     "name": "stderr",
     "output_type": "stream",
     "text": [
      "/Users/korahughes/opt/anaconda3/lib/python3.9/site-packages/sklearn/metrics/cluster/_supervised.py:65: UserWarning: Clustering metrics expects discrete values but received continuous values for label, and continuous values for target\n",
      "  warnings.warn(msg, UserWarning)\n",
      "100%|██████████| 9/9 [05:37<00:00, 37.53s/it]"
     ]
    },
    {
     "name": "stdout",
     "output_type": "stream",
     "text": [
      "Observed mutual info: 0.00010612734488833767\n",
      "\n",
      "\n"
     ]
    },
    {
     "name": "stderr",
     "output_type": "stream",
     "text": [
      "\n"
     ]
    }
   ],
   "source": [
    "# define candidate tables\n",
    "candidate_paths = [file for file in os.listdir(gcdata) if \"temp\" not in file]\n",
    "t_candidates = []\n",
    "for path in tqdm(candidate_paths):\n",
    "    print(\"\\n\\nLooking at table\", path)\n",
    "    t_cand = Table(joinable, gcdata+path)\n",
    "    # get rid of target variable in candidate table\n",
    "    if target in t_cand.table.columns:\n",
    "        t_cand.table.drop([target], axis=1, inplace=True)\n",
    "    assert joinable in t_cand.table.columns, f\"{joinable=} not found in {path}\"\n",
    "    # rename columns for less confusion on join\n",
    "    renamer = dict([[col, path+'-'+col] for col in t_cand.table.columns if joinable not in col])\n",
    "    t_cand.table = t_cand.table.rename(columns=renamer)\n",
    "    \n",
    "    # use synopsys for join estimation\n",
    "    t_cand.get_sketch()  # ? sketch candidate table again\n",
    "    # TODO: check missing values in join of core with voc_daily_summary.csv (nan vals in calc mutual info)\n",
    "    t_cand.calc_corr_gain(core_syn)  # ? calculate correlation between candidate and itself\n",
    "    # ? get feature-wise sketch\n",
    "    t_cand.feature_scoring(20)\n",
    "    for feat in t_core.df_sketch:\n",
    "        if t_core.df_sketch[feat].dtype == 'object':\n",
    "            t_core.df_sketch[feat] = t_core.df_sketch[feat].astype('category')\n",
    "    for feat in t_cand.df_sketch:\n",
    "        if t_cand.df_sketch[feat].dtype == 'object':\n",
    "            t_cand.df_sketch[feat] = t_cand.df_sketch[feat].astype('category')\n",
    "    t_candidates.append(t_cand)\n",
    "    print('\\n')"
   ]
  },
  {
   "cell_type": "markdown",
   "metadata": {},
   "source": [
    "### Actual Feature Selection"
   ]
  },
  {
   "cell_type": "code",
   "execution_count": 13,
   "metadata": {},
   "outputs": [
    {
     "name": "stdout",
     "output_type": "stream",
     "text": [
      "\n",
      "\n",
      "Defining Environment\n",
      "<table.Table object at 0x7fc204203160>\n",
      "<table.Table object at 0x7fc1d93620d0>\n",
      "<table.Table object at 0x7fc1d9742d60>\n",
      "<table.Table object at 0x7fc1da5611c0>\n",
      "<table.Table object at 0x7fc1da56aa30>\n",
      "<table.Table object at 0x7fc1d9360910>\n",
      "<table.Table object at 0x7fc24e389a60>\n",
      "<table.Table object at 0x7fc1dbb5dee0>\n",
      "<table.Table object at 0x7fc1dbbd9280>\n"
     ]
    },
    {
     "name": "stdout",
     "output_type": "stream",
     "text": [
      "--------------------Init:--------------------\n",
      "Model R2 score: 99.81777340062351%\n",
      "Train RMSE score: 0.35508748568598825\n",
      "Model R2 score: 99.2143440951382%\n",
      "Test RMSE Score: 1.4689548539323016\n",
      "Starting Training...\n"
     ]
    },
    {
     "ename": "AttributeError",
     "evalue": "partially initialized module 'torch._dynamo' has no attribute 'external_utils' (most likely due to a circular import)",
     "output_type": "error",
     "traceback": [
      "\u001b[0;31m---------------------------------------------------------------------------\u001b[0m",
      "\u001b[0;31mAttributeError\u001b[0m                            Traceback (most recent call last)",
      "Input \u001b[0;32mIn [13]\u001b[0m, in \u001b[0;36m<cell line: 16>\u001b[0;34m()\u001b[0m\n\u001b[1;32m     14\u001b[0m BDQN_batch_size \u001b[38;5;241m=\u001b[39m \u001b[38;5;241m3\u001b[39m\n\u001b[1;32m     15\u001b[0m \u001b[38;5;28mprint\u001b[39m(\u001b[38;5;124m\"\u001b[39m\u001b[38;5;124mStarting Training...\u001b[39m\u001b[38;5;124m\"\u001b[39m)\n\u001b[0;32m---> 16\u001b[0m autodata \u001b[38;5;241m=\u001b[39m \u001b[43mAutofeature_agent\u001b[49m\u001b[43m(\u001b[49m\u001b[43menv\u001b[49m\u001b[43m,\u001b[49m\u001b[43m \u001b[49m\u001b[43mBDQN_batch_size\u001b[49m\u001b[43m,\u001b[49m\u001b[43m \u001b[49m\u001b[43mlearning_rate\u001b[49m\u001b[43m,\u001b[49m\u001b[43m \u001b[49m\u001b[43mreward_decay\u001b[49m\u001b[43m,\u001b[49m\u001b[43m \u001b[49m\u001b[43me_greedy\u001b[49m\u001b[43m,\u001b[49m\u001b[43m \u001b[49m\u001b[43mupdate_freq\u001b[49m\u001b[43m,\u001b[49m\u001b[43m \u001b[49m\u001b[43mmem_cap\u001b[49m\u001b[43m,\u001b[49m\n\u001b[1;32m     17\u001b[0m \u001b[43m                                \u001b[49m\u001b[43mBDQN_batch_size\u001b[49m\u001b[43m)\u001b[49m\n\u001b[1;32m     19\u001b[0m \u001b[38;5;28mprint\u001b[39m(\u001b[38;5;124m\"\u001b[39m\u001b[38;5;130;01m\\n\u001b[39;00m\u001b[38;5;124mAgent Ready!\u001b[39m\u001b[38;5;124m\"\u001b[39m)\n\u001b[1;32m     21\u001b[0m \u001b[38;5;66;03m# Train the workload\u001b[39;00m\n",
      "File \u001b[0;32m~/Documents/GitHub/Feature-Augmentation-with-Reinforcement-Learning/RL_Agent.py:92\u001b[0m, in \u001b[0;36mAutofeature_agent.__init__\u001b[0;34m(self, env, bdqn_csv, learning_rate, reward_decay, e_greedy, update_freq, mem_cap, BDQN_batch_size)\u001b[0m\n\u001b[1;32m     88\u001b[0m \u001b[38;5;28mself\u001b[39m\u001b[38;5;241m.\u001b[39meval_net \u001b[38;5;241m=\u001b[39m Net(\u001b[38;5;28mself\u001b[39m\u001b[38;5;241m.\u001b[39menv\u001b[38;5;241m.\u001b[39mget_state_len(), \u001b[38;5;28mself\u001b[39m\u001b[38;5;241m.\u001b[39menv\u001b[38;5;241m.\u001b[39mget_table_action_len(),\n\u001b[1;32m     89\u001b[0m                     \u001b[38;5;28mself\u001b[39m\u001b[38;5;241m.\u001b[39menv\u001b[38;5;241m.\u001b[39mget_feature_action_len())\u001b[38;5;241m.\u001b[39mto(\u001b[38;5;28mself\u001b[39m\u001b[38;5;241m.\u001b[39mdevice)\n\u001b[1;32m     90\u001b[0m \u001b[38;5;28mself\u001b[39m\u001b[38;5;241m.\u001b[39mtarget_net \u001b[38;5;241m=\u001b[39m Net(\u001b[38;5;28mself\u001b[39m\u001b[38;5;241m.\u001b[39menv\u001b[38;5;241m.\u001b[39mget_state_len(), \u001b[38;5;28mself\u001b[39m\u001b[38;5;241m.\u001b[39menv\u001b[38;5;241m.\u001b[39mget_table_action_len(),\n\u001b[1;32m     91\u001b[0m                       \u001b[38;5;28mself\u001b[39m\u001b[38;5;241m.\u001b[39menv\u001b[38;5;241m.\u001b[39mget_feature_action_len())\u001b[38;5;241m.\u001b[39mto(\u001b[38;5;28mself\u001b[39m\u001b[38;5;241m.\u001b[39mdevice)\n\u001b[0;32m---> 92\u001b[0m \u001b[38;5;28mself\u001b[39m\u001b[38;5;241m.\u001b[39moptimizer \u001b[38;5;241m=\u001b[39m \u001b[43mtorch\u001b[49m\u001b[38;5;241;43m.\u001b[39;49m\u001b[43moptim\u001b[49m\u001b[38;5;241;43m.\u001b[39;49m\u001b[43mAdam\u001b[49m\u001b[43m(\u001b[49m\u001b[38;5;28;43mself\u001b[39;49m\u001b[38;5;241;43m.\u001b[39;49m\u001b[43meval_net\u001b[49m\u001b[38;5;241;43m.\u001b[39;49m\u001b[43mparameters\u001b[49m\u001b[43m(\u001b[49m\u001b[43m)\u001b[49m\u001b[43m,\u001b[49m\u001b[43m \u001b[49m\u001b[43mlr\u001b[49m\u001b[38;5;241;43m=\u001b[39;49m\u001b[38;5;28;43mself\u001b[39;49m\u001b[38;5;241;43m.\u001b[39;49m\u001b[43mlr\u001b[49m\u001b[43m)\u001b[49m\n\u001b[1;32m     93\u001b[0m \u001b[38;5;28mself\u001b[39m\u001b[38;5;241m.\u001b[39mloss_func \u001b[38;5;241m=\u001b[39m nn\u001b[38;5;241m.\u001b[39mMSELoss()\n",
      "File \u001b[0;32m~/opt/anaconda3/lib/python3.9/site-packages/torch/optim/adam.py:45\u001b[0m, in \u001b[0;36mAdam.__init__\u001b[0;34m(self, params, lr, betas, eps, weight_decay, amsgrad, foreach, maximize, capturable, differentiable, fused)\u001b[0m\n\u001b[1;32m     39\u001b[0m     \u001b[38;5;28;01mraise\u001b[39;00m \u001b[38;5;167;01mValueError\u001b[39;00m(\u001b[38;5;124mf\u001b[39m\u001b[38;5;124m\"\u001b[39m\u001b[38;5;124mInvalid weight_decay value: \u001b[39m\u001b[38;5;132;01m{\u001b[39;00mweight_decay\u001b[38;5;132;01m}\u001b[39;00m\u001b[38;5;124m\"\u001b[39m)\n\u001b[1;32m     41\u001b[0m defaults \u001b[38;5;241m=\u001b[39m \u001b[38;5;28mdict\u001b[39m(lr\u001b[38;5;241m=\u001b[39mlr, betas\u001b[38;5;241m=\u001b[39mbetas, eps\u001b[38;5;241m=\u001b[39meps,\n\u001b[1;32m     42\u001b[0m                 weight_decay\u001b[38;5;241m=\u001b[39mweight_decay, amsgrad\u001b[38;5;241m=\u001b[39mamsgrad,\n\u001b[1;32m     43\u001b[0m                 maximize\u001b[38;5;241m=\u001b[39mmaximize, foreach\u001b[38;5;241m=\u001b[39mforeach, capturable\u001b[38;5;241m=\u001b[39mcapturable,\n\u001b[1;32m     44\u001b[0m                 differentiable\u001b[38;5;241m=\u001b[39mdifferentiable, fused\u001b[38;5;241m=\u001b[39mfused)\n\u001b[0;32m---> 45\u001b[0m \u001b[38;5;28;43msuper\u001b[39;49m\u001b[43m(\u001b[49m\u001b[43m)\u001b[49m\u001b[38;5;241;43m.\u001b[39;49m\u001b[38;5;21;43m__init__\u001b[39;49m\u001b[43m(\u001b[49m\u001b[43mparams\u001b[49m\u001b[43m,\u001b[49m\u001b[43m \u001b[49m\u001b[43mdefaults\u001b[49m\u001b[43m)\u001b[49m\n\u001b[1;32m     47\u001b[0m \u001b[38;5;28;01mif\u001b[39;00m fused:\n\u001b[1;32m     48\u001b[0m     \u001b[38;5;28;01mif\u001b[39;00m differentiable:\n",
      "File \u001b[0;32m~/opt/anaconda3/lib/python3.9/site-packages/torch/optim/optimizer.py:278\u001b[0m, in \u001b[0;36mOptimizer.__init__\u001b[0;34m(self, params, defaults)\u001b[0m\n\u001b[1;32m    275\u001b[0m     param_groups \u001b[38;5;241m=\u001b[39m [{\u001b[38;5;124m'\u001b[39m\u001b[38;5;124mparams\u001b[39m\u001b[38;5;124m'\u001b[39m: param_groups}]\n\u001b[1;32m    277\u001b[0m \u001b[38;5;28;01mfor\u001b[39;00m param_group \u001b[38;5;129;01min\u001b[39;00m param_groups:\n\u001b[0;32m--> 278\u001b[0m     \u001b[38;5;28;43mself\u001b[39;49m\u001b[38;5;241;43m.\u001b[39;49m\u001b[43madd_param_group\u001b[49m\u001b[43m(\u001b[49m\u001b[43mcast\u001b[49m\u001b[43m(\u001b[49m\u001b[38;5;28;43mdict\u001b[39;49m\u001b[43m,\u001b[49m\u001b[43m \u001b[49m\u001b[43mparam_group\u001b[49m\u001b[43m)\u001b[49m\u001b[43m)\u001b[49m\n\u001b[1;32m    280\u001b[0m \u001b[38;5;66;03m# Allows _cuda_graph_capture_health_check to rig a poor man's TORCH_WARN_ONCE in python,\u001b[39;00m\n\u001b[1;32m    281\u001b[0m \u001b[38;5;66;03m# which I don't think exists\u001b[39;00m\n\u001b[1;32m    282\u001b[0m \u001b[38;5;66;03m# https://github.com/pytorch/pytorch/issues/72948\u001b[39;00m\n\u001b[1;32m    283\u001b[0m \u001b[38;5;28mself\u001b[39m\u001b[38;5;241m.\u001b[39m_warned_capturable_if_run_uncaptured \u001b[38;5;241m=\u001b[39m \u001b[38;5;28;01mTrue\u001b[39;00m\n",
      "File \u001b[0;32m~/opt/anaconda3/lib/python3.9/site-packages/torch/_compile.py:22\u001b[0m, in \u001b[0;36m_disable_dynamo.<locals>.inner\u001b[0;34m(*args, **kwargs)\u001b[0m\n\u001b[1;32m     20\u001b[0m \u001b[38;5;129m@functools\u001b[39m\u001b[38;5;241m.\u001b[39mwraps(fn)\n\u001b[1;32m     21\u001b[0m \u001b[38;5;28;01mdef\u001b[39;00m \u001b[38;5;21minner\u001b[39m(\u001b[38;5;241m*\u001b[39margs, \u001b[38;5;241m*\u001b[39m\u001b[38;5;241m*\u001b[39mkwargs):\n\u001b[0;32m---> 22\u001b[0m     \u001b[38;5;28;01mimport\u001b[39;00m \u001b[38;5;21;01mtorch\u001b[39;00m\u001b[38;5;21;01m.\u001b[39;00m\u001b[38;5;21;01m_dynamo\u001b[39;00m\n\u001b[1;32m     24\u001b[0m     \u001b[38;5;28;01mreturn\u001b[39;00m torch\u001b[38;5;241m.\u001b[39m_dynamo\u001b[38;5;241m.\u001b[39mdisable(fn, recursive)(\u001b[38;5;241m*\u001b[39margs, \u001b[38;5;241m*\u001b[39m\u001b[38;5;241m*\u001b[39mkwargs)\n",
      "File \u001b[0;32m~/opt/anaconda3/lib/python3.9/site-packages/torch/_dynamo/__init__.py:2\u001b[0m, in \u001b[0;36m<module>\u001b[0;34m\u001b[0m\n\u001b[1;32m      1\u001b[0m \u001b[38;5;28;01mimport\u001b[39;00m \u001b[38;5;21;01mtorch\u001b[39;00m\n\u001b[0;32m----> 2\u001b[0m \u001b[38;5;28;01mfrom\u001b[39;00m \u001b[38;5;21;01m.\u001b[39;00m \u001b[38;5;28;01mimport\u001b[39;00m allowed_functions, convert_frame, eval_frame, resume_execution\n\u001b[1;32m      3\u001b[0m \u001b[38;5;28;01mfrom\u001b[39;00m \u001b[38;5;21;01m.\u001b[39;00m\u001b[38;5;21;01mbackends\u001b[39;00m\u001b[38;5;21;01m.\u001b[39;00m\u001b[38;5;21;01mregistry\u001b[39;00m \u001b[38;5;28;01mimport\u001b[39;00m list_backends, lookup_backend, register_backend\n\u001b[1;32m      4\u001b[0m \u001b[38;5;28;01mfrom\u001b[39;00m \u001b[38;5;21;01m.\u001b[39;00m\u001b[38;5;21;01mcode_context\u001b[39;00m \u001b[38;5;28;01mimport\u001b[39;00m code_context\n",
      "File \u001b[0;32m~/opt/anaconda3/lib/python3.9/site-packages/torch/_dynamo/convert_frame.py:62\u001b[0m, in \u001b[0;36m<module>\u001b[0;34m\u001b[0m\n\u001b[1;32m     56\u001b[0m \u001b[38;5;28;01mfrom\u001b[39;00m \u001b[38;5;21;01m.\u001b[39;00m\u001b[38;5;21;01mguards\u001b[39;00m \u001b[38;5;28;01mimport\u001b[39;00m (\n\u001b[1;32m     57\u001b[0m     CheckFunctionManager,\n\u001b[1;32m     58\u001b[0m     get_and_maybe_log_recompilation_reason,\n\u001b[1;32m     59\u001b[0m     GuardedCode,\n\u001b[1;32m     60\u001b[0m )\n\u001b[1;32m     61\u001b[0m \u001b[38;5;28;01mfrom\u001b[39;00m \u001b[38;5;21;01m.\u001b[39;00m\u001b[38;5;21;01mhooks\u001b[39;00m \u001b[38;5;28;01mimport\u001b[39;00m Hooks\n\u001b[0;32m---> 62\u001b[0m \u001b[38;5;28;01mfrom\u001b[39;00m \u001b[38;5;21;01m.\u001b[39;00m\u001b[38;5;21;01moutput_graph\u001b[39;00m \u001b[38;5;28;01mimport\u001b[39;00m OutputGraph\n\u001b[1;32m     63\u001b[0m \u001b[38;5;28;01mfrom\u001b[39;00m \u001b[38;5;21;01m.\u001b[39;00m\u001b[38;5;21;01mreplay_record\u001b[39;00m \u001b[38;5;28;01mimport\u001b[39;00m ExecutionRecord\n\u001b[1;32m     64\u001b[0m \u001b[38;5;28;01mfrom\u001b[39;00m \u001b[38;5;21;01m.\u001b[39;00m\u001b[38;5;21;01msymbolic_convert\u001b[39;00m \u001b[38;5;28;01mimport\u001b[39;00m InstructionTranslator, SpeculationLog\n",
      "File \u001b[0;32m~/opt/anaconda3/lib/python3.9/site-packages/torch/_dynamo/output_graph.py:39\u001b[0m, in \u001b[0;36m<module>\u001b[0;34m\u001b[0m\n\u001b[1;32m     36\u001b[0m \u001b[38;5;28;01mfrom\u001b[39;00m \u001b[38;5;21;01mtorch\u001b[39;00m\u001b[38;5;21;01m.\u001b[39;00m\u001b[38;5;21;01mutils\u001b[39;00m\u001b[38;5;21;01m.\u001b[39;00m\u001b[38;5;21;01m_sympy\u001b[39;00m\u001b[38;5;21;01m.\u001b[39;00m\u001b[38;5;21;01mreference\u001b[39;00m \u001b[38;5;28;01mimport\u001b[39;00m PythonReferenceAnalysis\n\u001b[1;32m     37\u001b[0m \u001b[38;5;28;01mfrom\u001b[39;00m \u001b[38;5;21;01mtorch\u001b[39;00m\u001b[38;5;21;01m.\u001b[39;00m\u001b[38;5;21;01mutils\u001b[39;00m\u001b[38;5;21;01m.\u001b[39;00m\u001b[38;5;21;01mweak\u001b[39;00m \u001b[38;5;28;01mimport\u001b[39;00m WeakTensorKeyDictionary\n\u001b[0;32m---> 39\u001b[0m \u001b[38;5;28;01mfrom\u001b[39;00m \u001b[38;5;21;01m.\u001b[39;00m \u001b[38;5;28;01mimport\u001b[39;00m config, logging \u001b[38;5;28;01mas\u001b[39;00m torchdynamo_logging, variables\n\u001b[1;32m     40\u001b[0m \u001b[38;5;28;01mfrom\u001b[39;00m \u001b[38;5;21;01m.\u001b[39;00m\u001b[38;5;21;01mbackends\u001b[39;00m\u001b[38;5;21;01m.\u001b[39;00m\u001b[38;5;21;01mregistry\u001b[39;00m \u001b[38;5;28;01mimport\u001b[39;00m CompiledFn, CompilerFn\n\u001b[1;32m     41\u001b[0m \u001b[38;5;28;01mfrom\u001b[39;00m \u001b[38;5;21;01m.\u001b[39;00m\u001b[38;5;21;01mbytecode_transformation\u001b[39;00m \u001b[38;5;28;01mimport\u001b[39;00m (\n\u001b[1;32m     42\u001b[0m     create_call_function,\n\u001b[1;32m     43\u001b[0m     create_instruction,\n\u001b[1;32m     44\u001b[0m     Instruction,\n\u001b[1;32m     45\u001b[0m     unique_id,\n\u001b[1;32m     46\u001b[0m )\n",
      "File \u001b[0;32m~/opt/anaconda3/lib/python3.9/site-packages/torch/_dynamo/variables/__init__.py:68\u001b[0m, in \u001b[0;36m<module>\u001b[0;34m\u001b[0m\n\u001b[1;32m     60\u001b[0m \u001b[38;5;28;01mfrom\u001b[39;00m \u001b[38;5;21;01m.\u001b[39;00m\u001b[38;5;21;01mnn_module\u001b[39;00m \u001b[38;5;28;01mimport\u001b[39;00m NNModuleVariable, UnspecializedNNModuleVariable\n\u001b[1;32m     61\u001b[0m \u001b[38;5;28;01mfrom\u001b[39;00m \u001b[38;5;21;01m.\u001b[39;00m\u001b[38;5;21;01mtensor\u001b[39;00m \u001b[38;5;28;01mimport\u001b[39;00m (\n\u001b[1;32m     62\u001b[0m     FakeItemVariable,\n\u001b[1;32m     63\u001b[0m     NumpyNdarrayVariable,\n\u001b[0;32m   (...)\u001b[0m\n\u001b[1;32m     66\u001b[0m     UnspecializedPythonVariable,\n\u001b[1;32m     67\u001b[0m )\n\u001b[0;32m---> 68\u001b[0m \u001b[38;5;28;01mfrom\u001b[39;00m \u001b[38;5;21;01m.\u001b[39;00m\u001b[38;5;21;01mtorch\u001b[39;00m \u001b[38;5;28;01mimport\u001b[39;00m (\n\u001b[1;32m     69\u001b[0m     TorchCtxManagerClassVariable,\n\u001b[1;32m     70\u001b[0m     TorchInGraphFunctionVariable,\n\u001b[1;32m     71\u001b[0m     TorchVariable,\n\u001b[1;32m     72\u001b[0m )\n\u001b[1;32m     73\u001b[0m \u001b[38;5;28;01mfrom\u001b[39;00m \u001b[38;5;21;01m.\u001b[39;00m\u001b[38;5;21;01muser_defined\u001b[39;00m \u001b[38;5;28;01mimport\u001b[39;00m UserDefinedClassVariable, UserDefinedObjectVariable\n\u001b[1;32m     75\u001b[0m __all__ \u001b[38;5;241m=\u001b[39m [\n\u001b[1;32m     76\u001b[0m     \u001b[38;5;124m\"\u001b[39m\u001b[38;5;124mAutogradFunctionContextVariable\u001b[39m\u001b[38;5;124m\"\u001b[39m,\n\u001b[1;32m     77\u001b[0m     \u001b[38;5;124m\"\u001b[39m\u001b[38;5;124mAutogradFunctionVariable\u001b[39m\u001b[38;5;124m\"\u001b[39m,\n\u001b[0;32m   (...)\u001b[0m\n\u001b[1;32m    128\u001b[0m     \u001b[38;5;124m\"\u001b[39m\u001b[38;5;124mWithExitFunctionVariable\u001b[39m\u001b[38;5;124m\"\u001b[39m,\n\u001b[1;32m    129\u001b[0m ]\n",
      "File \u001b[0;32m~/opt/anaconda3/lib/python3.9/site-packages/torch/_dynamo/variables/torch.py:95\u001b[0m, in \u001b[0;36m<module>\u001b[0;34m\u001b[0m\n\u001b[1;32m     79\u001b[0m \u001b[38;5;28;01mif\u001b[39;00m torch\u001b[38;5;241m.\u001b[39mdistributed\u001b[38;5;241m.\u001b[39mis_available():\n\u001b[1;32m     80\u001b[0m     constant_fold_functions\u001b[38;5;241m.\u001b[39mextend(\n\u001b[1;32m     81\u001b[0m         [\n\u001b[1;32m     82\u001b[0m             torch\u001b[38;5;241m.\u001b[39mdistributed\u001b[38;5;241m.\u001b[39mis_initialized,\n\u001b[0;32m   (...)\u001b[0m\n\u001b[1;32m     85\u001b[0m         ]\n\u001b[1;32m     86\u001b[0m     )\n\u001b[1;32m     89\u001b[0m tracing_state_functions \u001b[38;5;241m=\u001b[39m {\n\u001b[1;32m     90\u001b[0m     torch\u001b[38;5;241m.\u001b[39mjit\u001b[38;5;241m.\u001b[39mis_scripting: \u001b[38;5;28;01mFalse\u001b[39;00m,\n\u001b[1;32m     91\u001b[0m     torch\u001b[38;5;241m.\u001b[39mjit\u001b[38;5;241m.\u001b[39mis_tracing: \u001b[38;5;28;01mFalse\u001b[39;00m,\n\u001b[1;32m     92\u001b[0m     torch\u001b[38;5;241m.\u001b[39m_C\u001b[38;5;241m.\u001b[39m_get_tracing_state: \u001b[38;5;28;01mNone\u001b[39;00m,\n\u001b[1;32m     93\u001b[0m     torch\u001b[38;5;241m.\u001b[39mfx\u001b[38;5;241m.\u001b[39m_symbolic_trace\u001b[38;5;241m.\u001b[39mis_fx_tracing: \u001b[38;5;28;01mFalse\u001b[39;00m,\n\u001b[1;32m     94\u001b[0m     torch\u001b[38;5;241m.\u001b[39monnx\u001b[38;5;241m.\u001b[39mis_in_onnx_export: \u001b[38;5;28;01mFalse\u001b[39;00m,\n\u001b[0;32m---> 95\u001b[0m     \u001b[43mtorch\u001b[49m\u001b[38;5;241;43m.\u001b[39;49m\u001b[43m_dynamo\u001b[49m\u001b[38;5;241;43m.\u001b[39;49m\u001b[43mexternal_utils\u001b[49m\u001b[38;5;241m.\u001b[39mis_compiling: \u001b[38;5;28;01mTrue\u001b[39;00m,\n\u001b[1;32m     96\u001b[0m     torch\u001b[38;5;241m.\u001b[39m_utils\u001b[38;5;241m.\u001b[39mis_compiling: \u001b[38;5;28;01mTrue\u001b[39;00m,\n\u001b[1;32m     97\u001b[0m }\n\u001b[1;32m    100\u001b[0m \u001b[38;5;28;01mclass\u001b[39;00m \u001b[38;5;21;01mBaseTorchVariable\u001b[39;00m(VariableTracker):\n\u001b[1;32m    101\u001b[0m     \u001b[38;5;124;03m\"\"\"common base for all torch.* functions, classes, modules and other things\"\"\"\u001b[39;00m\n",
      "\u001b[0;31mAttributeError\u001b[0m: partially initialized module 'torch._dynamo' has no attribute 'external_utils' (most likely due to a circular import)"
     ]
    }
   ],
   "source": [
    "# instantiate model environment\n",
    "model_target = 0\n",
    "max_try_num = 7\n",
    "# t_core.df_sketch.drop([target], axis=1, inplace=True)\n",
    "print(\"\\n\\nDefining Environment\")\n",
    "env = ISOFAEnvironment(t_core, t_candidates, joinable, target, max_try_num)\n",
    "\n",
    "# Parameters for the agent\n",
    "learning_rate = 0.05\n",
    "reward_decay = 0.9\n",
    "e_greedy = 1\n",
    "update_freq = 50\n",
    "mem_cap = 1000\n",
    "BDQN_batch_size = 3\n",
    "print(\"Starting Training...\")\n",
    "autodata = Autofeature_agent(env, BDQN_batch_size, learning_rate, reward_decay, e_greedy, update_freq, mem_cap,\n",
    "                                BDQN_batch_size)\n",
    "\n",
    "print(\"\\nAgent Ready!\")\n",
    "\n",
    "# Train the workload\n",
    "auto_result = autodata.train_workload()"
   ]
  },
  {
   "cell_type": "markdown",
   "metadata": {},
   "source": [
    "### Storing Results"
   ]
  },
  {
   "cell_type": "code",
   "execution_count": null,
   "metadata": {},
   "outputs": [],
   "source": [
    "res = pd.DataFrame(auto_result, columns=[\"RMSE\", \"Benefit\", \"Time\", \"Epsilon\", \"Features\"])\n",
    "res"
   ]
  },
  {
   "cell_type": "markdown",
   "metadata": {},
   "source": [
    "### Loading Additional Results"
   ]
  },
  {
   "cell_type": "code",
   "execution_count": 29,
   "metadata": {},
   "outputs": [
    {
     "name": "stdout",
     "output_type": "stream",
     "text": [
      "Index([' accuracy', 'iteration'], dtype='object')\n"
     ]
    },
    {
     "data": {
      "text/html": [
       "<div>\n",
       "<style scoped>\n",
       "    .dataframe tbody tr th:only-of-type {\n",
       "        vertical-align: middle;\n",
       "    }\n",
       "\n",
       "    .dataframe tbody tr th {\n",
       "        vertical-align: top;\n",
       "    }\n",
       "\n",
       "    .dataframe thead th {\n",
       "        text-align: right;\n",
       "    }\n",
       "</style>\n",
       "<table border=\"1\" class=\"dataframe\">\n",
       "  <thead>\n",
       "    <tr style=\"text-align: right;\">\n",
       "      <th></th>\n",
       "      <th>accuracy</th>\n",
       "      <th>iteration</th>\n",
       "    </tr>\n",
       "  </thead>\n",
       "  <tbody>\n",
       "    <tr>\n",
       "      <th>0</th>\n",
       "      <td>0.527052</td>\n",
       "      <td>1</td>\n",
       "    </tr>\n",
       "    <tr>\n",
       "      <th>1</th>\n",
       "      <td>0.862500</td>\n",
       "      <td>2</td>\n",
       "    </tr>\n",
       "    <tr>\n",
       "      <th>2</th>\n",
       "      <td>0.862500</td>\n",
       "      <td>3</td>\n",
       "    </tr>\n",
       "    <tr>\n",
       "      <th>3</th>\n",
       "      <td>0.862500</td>\n",
       "      <td>4</td>\n",
       "    </tr>\n",
       "    <tr>\n",
       "      <th>4</th>\n",
       "      <td>0.862500</td>\n",
       "      <td>5</td>\n",
       "    </tr>\n",
       "    <tr>\n",
       "      <th>5</th>\n",
       "      <td>0.861007</td>\n",
       "      <td>6</td>\n",
       "    </tr>\n",
       "    <tr>\n",
       "      <th>6</th>\n",
       "      <td>0.887500</td>\n",
       "      <td>7</td>\n",
       "    </tr>\n",
       "    <tr>\n",
       "      <th>7</th>\n",
       "      <td>0.887500</td>\n",
       "      <td>8</td>\n",
       "    </tr>\n",
       "    <tr>\n",
       "      <th>8</th>\n",
       "      <td>0.875000</td>\n",
       "      <td>9</td>\n",
       "    </tr>\n",
       "    <tr>\n",
       "      <th>9</th>\n",
       "      <td>0.875000</td>\n",
       "      <td>10</td>\n",
       "    </tr>\n",
       "    <tr>\n",
       "      <th>10</th>\n",
       "      <td>0.887500</td>\n",
       "      <td>11</td>\n",
       "    </tr>\n",
       "    <tr>\n",
       "      <th>11</th>\n",
       "      <td>0.887500</td>\n",
       "      <td>12</td>\n",
       "    </tr>\n",
       "    <tr>\n",
       "      <th>12</th>\n",
       "      <td>0.887500</td>\n",
       "      <td>13</td>\n",
       "    </tr>\n",
       "    <tr>\n",
       "      <th>13</th>\n",
       "      <td>0.887500</td>\n",
       "      <td>14</td>\n",
       "    </tr>\n",
       "    <tr>\n",
       "      <th>14</th>\n",
       "      <td>0.887500</td>\n",
       "      <td>15</td>\n",
       "    </tr>\n",
       "    <tr>\n",
       "      <th>15</th>\n",
       "      <td>0.887500</td>\n",
       "      <td>16</td>\n",
       "    </tr>\n",
       "    <tr>\n",
       "      <th>16</th>\n",
       "      <td>0.887500</td>\n",
       "      <td>17</td>\n",
       "    </tr>\n",
       "    <tr>\n",
       "      <th>17</th>\n",
       "      <td>0.887500</td>\n",
       "      <td>18</td>\n",
       "    </tr>\n",
       "    <tr>\n",
       "      <th>18</th>\n",
       "      <td>0.887500</td>\n",
       "      <td>19</td>\n",
       "    </tr>\n",
       "    <tr>\n",
       "      <th>19</th>\n",
       "      <td>0.887500</td>\n",
       "      <td>20</td>\n",
       "    </tr>\n",
       "    <tr>\n",
       "      <th>20</th>\n",
       "      <td>0.887500</td>\n",
       "      <td>21</td>\n",
       "    </tr>\n",
       "    <tr>\n",
       "      <th>21</th>\n",
       "      <td>0.887500</td>\n",
       "      <td>22</td>\n",
       "    </tr>\n",
       "    <tr>\n",
       "      <th>22</th>\n",
       "      <td>0.887500</td>\n",
       "      <td>23</td>\n",
       "    </tr>\n",
       "    <tr>\n",
       "      <th>23</th>\n",
       "      <td>0.887500</td>\n",
       "      <td>24</td>\n",
       "    </tr>\n",
       "    <tr>\n",
       "      <th>24</th>\n",
       "      <td>0.887500</td>\n",
       "      <td>25</td>\n",
       "    </tr>\n",
       "    <tr>\n",
       "      <th>25</th>\n",
       "      <td>0.887500</td>\n",
       "      <td>26</td>\n",
       "    </tr>\n",
       "    <tr>\n",
       "      <th>26</th>\n",
       "      <td>0.887500</td>\n",
       "      <td>27</td>\n",
       "    </tr>\n",
       "    <tr>\n",
       "      <th>27</th>\n",
       "      <td>0.887500</td>\n",
       "      <td>28</td>\n",
       "    </tr>\n",
       "    <tr>\n",
       "      <th>28</th>\n",
       "      <td>0.887500</td>\n",
       "      <td>29</td>\n",
       "    </tr>\n",
       "    <tr>\n",
       "      <th>29</th>\n",
       "      <td>0.887500</td>\n",
       "      <td>30</td>\n",
       "    </tr>\n",
       "    <tr>\n",
       "      <th>30</th>\n",
       "      <td>0.887500</td>\n",
       "      <td>31</td>\n",
       "    </tr>\n",
       "    <tr>\n",
       "      <th>31</th>\n",
       "      <td>0.887500</td>\n",
       "      <td>32</td>\n",
       "    </tr>\n",
       "    <tr>\n",
       "      <th>32</th>\n",
       "      <td>0.887500</td>\n",
       "      <td>33</td>\n",
       "    </tr>\n",
       "    <tr>\n",
       "      <th>33</th>\n",
       "      <td>0.887500</td>\n",
       "      <td>34</td>\n",
       "    </tr>\n",
       "    <tr>\n",
       "      <th>34</th>\n",
       "      <td>0.887500</td>\n",
       "      <td>35</td>\n",
       "    </tr>\n",
       "    <tr>\n",
       "      <th>35</th>\n",
       "      <td>0.887500</td>\n",
       "      <td>36</td>\n",
       "    </tr>\n",
       "    <tr>\n",
       "      <th>36</th>\n",
       "      <td>0.887500</td>\n",
       "      <td>37</td>\n",
       "    </tr>\n",
       "    <tr>\n",
       "      <th>37</th>\n",
       "      <td>0.887500</td>\n",
       "      <td>38</td>\n",
       "    </tr>\n",
       "    <tr>\n",
       "      <th>38</th>\n",
       "      <td>0.887500</td>\n",
       "      <td>39</td>\n",
       "    </tr>\n",
       "    <tr>\n",
       "      <th>39</th>\n",
       "      <td>0.887500</td>\n",
       "      <td>40</td>\n",
       "    </tr>\n",
       "    <tr>\n",
       "      <th>40</th>\n",
       "      <td>0.887500</td>\n",
       "      <td>41</td>\n",
       "    </tr>\n",
       "  </tbody>\n",
       "</table>\n",
       "</div>"
      ],
      "text/plain": [
       "     accuracy  iteration\n",
       "0    0.527052          1\n",
       "1    0.862500          2\n",
       "2    0.862500          3\n",
       "3    0.862500          4\n",
       "4    0.862500          5\n",
       "5    0.861007          6\n",
       "6    0.887500          7\n",
       "7    0.887500          8\n",
       "8    0.875000          9\n",
       "9    0.875000         10\n",
       "10   0.887500         11\n",
       "11   0.887500         12\n",
       "12   0.887500         13\n",
       "13   0.887500         14\n",
       "14   0.887500         15\n",
       "15   0.887500         16\n",
       "16   0.887500         17\n",
       "17   0.887500         18\n",
       "18   0.887500         19\n",
       "19   0.887500         20\n",
       "20   0.887500         21\n",
       "21   0.887500         22\n",
       "22   0.887500         23\n",
       "23   0.887500         24\n",
       "24   0.887500         25\n",
       "25   0.887500         26\n",
       "26   0.887500         27\n",
       "27   0.887500         28\n",
       "28   0.887500         29\n",
       "29   0.887500         30\n",
       "30   0.887500         31\n",
       "31   0.887500         32\n",
       "32   0.887500         33\n",
       "33   0.887500         34\n",
       "34   0.887500         35\n",
       "35   0.887500         36\n",
       "36   0.887500         37\n",
       "37   0.887500         38\n",
       "38   0.887500         39\n",
       "39   0.887500         40\n",
       "40   0.887500         41"
      ]
     },
     "execution_count": 29,
     "metadata": {},
     "output_type": "execute_result"
    }
   ],
   "source": [
    "data_df = pd.read_csv(\"information_rl.csv\").drop(\"iteration\", axis=1)\n",
    "data_df[\"iteration\"] = [i+1 for i in range(len(data_df.index))]\n",
    "print(data_df.columns)\n",
    "data_df"
   ]
  },
  {
   "cell_type": "code",
   "execution_count": 32,
   "metadata": {},
   "outputs": [
    {
     "name": "stdout",
     "output_type": "stream",
     "text": [
      "Index(['rmse', 'benefit', 'time', 'epsilon', 'feats', 'iteration'], dtype='object')\n"
     ]
    },
    {
     "data": {
      "text/html": [
       "<div>\n",
       "<style scoped>\n",
       "    .dataframe tbody tr th:only-of-type {\n",
       "        vertical-align: middle;\n",
       "    }\n",
       "\n",
       "    .dataframe tbody tr th {\n",
       "        vertical-align: top;\n",
       "    }\n",
       "\n",
       "    .dataframe thead th {\n",
       "        text-align: right;\n",
       "    }\n",
       "</style>\n",
       "<table border=\"1\" class=\"dataframe\">\n",
       "  <thead>\n",
       "    <tr style=\"text-align: right;\">\n",
       "      <th></th>\n",
       "      <th>rmse</th>\n",
       "      <th>benefit</th>\n",
       "      <th>time</th>\n",
       "      <th>epsilon</th>\n",
       "      <th>feats</th>\n",
       "      <th>iteration</th>\n",
       "    </tr>\n",
       "  </thead>\n",
       "  <tbody>\n",
       "    <tr>\n",
       "      <th>0</th>\n",
       "      <td>1.398555</td>\n",
       "      <td>0.070399</td>\n",
       "      <td>4.261874</td>\n",
       "      <td>1.000000</td>\n",
       "      <td>['f0_', 'f1_', 'f2_', 'f3_', 'DayLoc', 'Temperature', 'no2_daily_summary.csv-f0_', 'no2_daily_summary.csv-f2_', 'rh_and_dp_daily_summary.csv-o3_AQI']</td>\n",
       "      <td>1</td>\n",
       "    </tr>\n",
       "    <tr>\n",
       "      <th>1</th>\n",
       "      <td>1.448778</td>\n",
       "      <td>0.020177</td>\n",
       "      <td>8.794105</td>\n",
       "      <td>1.000000</td>\n",
       "      <td>['f0_', 'f1_', 'f2_', 'f3_', 'DayLoc', 'Temperature', 'voc_daily_summary.csv-f0_', 'o3_daily_summary.csv-f2_', 'o3_daily_summary.csv-f1_', 'wind_daily_summary.csv-o3_AQI']</td>\n",
       "      <td>2</td>\n",
       "    </tr>\n",
       "    <tr>\n",
       "      <th>2</th>\n",
       "      <td>1.435599</td>\n",
       "      <td>0.033355</td>\n",
       "      <td>13.604540</td>\n",
       "      <td>0.857696</td>\n",
       "      <td>['f0_', 'f1_', 'f2_', 'f3_', 'DayLoc', 'Temperature', 'so2_daily_summary.csv-f0_', 'so2_daily_summary.csv-o3_AQI', 'pm10_daily_summary.csv-o3_AQI', 'so2_daily_summary.csv-f1_']</td>\n",
       "      <td>3</td>\n",
       "    </tr>\n",
       "    <tr>\n",
       "      <th>3</th>\n",
       "      <td>1.368567</td>\n",
       "      <td>0.100388</td>\n",
       "      <td>20.222984</td>\n",
       "      <td>0.735642</td>\n",
       "      <td>['f0_', 'f1_', 'f2_', 'f3_', 'DayLoc', 'Temperature', 'so2_daily_summary.csv-f2_', 'wind_daily_summary.csv-f0_', 'wind_daily_summary.csv-f2_', 'wind_daily_summary.csv-f1_', 'so2_daily_summary.csv-f0_']</td>\n",
       "      <td>4</td>\n",
       "    </tr>\n",
       "    <tr>\n",
       "      <th>4</th>\n",
       "      <td>1.420885</td>\n",
       "      <td>0.048070</td>\n",
       "      <td>27.719471</td>\n",
       "      <td>0.630957</td>\n",
       "      <td>['f0_', 'f1_', 'f2_', 'f3_', 'DayLoc', 'Temperature', 'no2_daily_summary.csv-f1_', 'no2_daily_summary.csv-f0_']</td>\n",
       "      <td>5</td>\n",
       "    </tr>\n",
       "    <tr>\n",
       "      <th>5</th>\n",
       "      <td>1.432176</td>\n",
       "      <td>0.036779</td>\n",
       "      <td>37.270393</td>\n",
       "      <td>0.541170</td>\n",
       "      <td>['f0_', 'f1_', 'f2_', 'f3_', 'DayLoc', 'Temperature', 'wind_daily_summary.csv-f0_', 'wind_daily_summary.csv-o3_AQI']</td>\n",
       "      <td>6</td>\n",
       "    </tr>\n",
       "    <tr>\n",
       "      <th>6</th>\n",
       "      <td>1.433461</td>\n",
       "      <td>0.035494</td>\n",
       "      <td>45.983776</td>\n",
       "      <td>0.464159</td>\n",
       "      <td>['f0_', 'f1_', 'f2_', 'f3_', 'DayLoc', 'Temperature', 'so2_daily_summary.csv-f1_', 'pm10_daily_summary.csv-f2_', 'o3_daily_summary.csv-f1_', 'voc_daily_summary.csv-f1_']</td>\n",
       "      <td>7</td>\n",
       "    </tr>\n",
       "    <tr>\n",
       "      <th>7</th>\n",
       "      <td>1.455624</td>\n",
       "      <td>0.013331</td>\n",
       "      <td>57.543370</td>\n",
       "      <td>0.398107</td>\n",
       "      <td>['f0_', 'f1_', 'f2_', 'f3_', 'DayLoc', 'Temperature', 'pressure_daily_summary.csv-o3_AQI', 'pressure_daily_summary.csv-f3_', 'no2_daily_summary.csv-f3_']</td>\n",
       "      <td>8</td>\n",
       "    </tr>\n",
       "    <tr>\n",
       "      <th>8</th>\n",
       "      <td>1.383738</td>\n",
       "      <td>0.085217</td>\n",
       "      <td>65.884053</td>\n",
       "      <td>0.341455</td>\n",
       "      <td>['f0_', 'f1_', 'f2_', 'f3_', 'DayLoc', 'Temperature', 'rh_and_dp_daily_summary.csv-f1_', 'o3_daily_summary.csv-f2_', 'rh_and_dp_daily_summary.csv-f3_']</td>\n",
       "      <td>9</td>\n",
       "    </tr>\n",
       "    <tr>\n",
       "      <th>9</th>\n",
       "      <td>1.401079</td>\n",
       "      <td>0.067875</td>\n",
       "      <td>75.175600</td>\n",
       "      <td>0.292864</td>\n",
       "      <td>['f0_', 'f1_', 'f2_', 'f3_', 'DayLoc', 'Temperature', 'wind_daily_summary.csv-f2_', 'voc_daily_summary.csv-f0_', 'so2_daily_summary.csv-f0_', 'wind_daily_summary.csv-f1_']</td>\n",
       "      <td>10</td>\n",
       "    </tr>\n",
       "    <tr>\n",
       "      <th>10</th>\n",
       "      <td>1.450281</td>\n",
       "      <td>0.018674</td>\n",
       "      <td>85.489043</td>\n",
       "      <td>0.251189</td>\n",
       "      <td>['f0_', 'f1_', 'f2_', 'f3_', 'DayLoc', 'Temperature', 'wind_daily_summary.csv-o3_AQI', 'voc_daily_summary.csv-f1_', 'pressure_daily_summary.csv-o3_AQI']</td>\n",
       "      <td>11</td>\n",
       "    </tr>\n",
       "    <tr>\n",
       "      <th>11</th>\n",
       "      <td>1.458187</td>\n",
       "      <td>0.010768</td>\n",
       "      <td>95.142447</td>\n",
       "      <td>0.215443</td>\n",
       "      <td>['f0_', 'f1_', 'f2_', 'f3_', 'DayLoc', 'Temperature', 'rh_and_dp_daily_summary.csv-f2_', 'pm25_frm_daily_summary.csv-o3_AQI', 'wind_daily_summary.csv-f1_']</td>\n",
       "      <td>12</td>\n",
       "    </tr>\n",
       "    <tr>\n",
       "      <th>12</th>\n",
       "      <td>1.379713</td>\n",
       "      <td>0.089242</td>\n",
       "      <td>105.462153</td>\n",
       "      <td>0.184785</td>\n",
       "      <td>['f0_', 'f1_', 'f2_', 'f3_', 'DayLoc', 'Temperature', 'no2_daily_summary.csv-f0_', 'voc_daily_summary.csv-f2_', 'voc_daily_summary.csv-o3_AQI', 'so2_daily_summary.csv-f1_']</td>\n",
       "      <td>13</td>\n",
       "    </tr>\n",
       "    <tr>\n",
       "      <th>13</th>\n",
       "      <td>1.448359</td>\n",
       "      <td>0.020596</td>\n",
       "      <td>114.286000</td>\n",
       "      <td>0.158489</td>\n",
       "      <td>['f0_', 'f1_', 'f2_', 'f3_', 'DayLoc', 'Temperature', 'rh_and_dp_daily_summary.csv-f3_', 'o3_daily_summary.csv-f2_', 'o3_daily_summary.csv-f0_', 'o3_daily_summary.csv-o3_AQI']</td>\n",
       "      <td>14</td>\n",
       "    </tr>\n",
       "    <tr>\n",
       "      <th>14</th>\n",
       "      <td>1.388220</td>\n",
       "      <td>0.080735</td>\n",
       "      <td>121.356593</td>\n",
       "      <td>0.135936</td>\n",
       "      <td>['f0_', 'f1_', 'f2_', 'f3_', 'DayLoc', 'Temperature', 'rh_and_dp_daily_summary.csv-f2_', 'wind_daily_summary.csv-f2_', 'wind_daily_summary.csv-f0_', 'wind_daily_summary.csv-f1_', 'rh_and_dp_daily_summary.csv-f3_']</td>\n",
       "      <td>15</td>\n",
       "    </tr>\n",
       "    <tr>\n",
       "      <th>15</th>\n",
       "      <td>1.403559</td>\n",
       "      <td>0.065396</td>\n",
       "      <td>127.726124</td>\n",
       "      <td>0.116591</td>\n",
       "      <td>['f0_', 'f1_', 'f2_', 'f3_', 'DayLoc', 'Temperature', 'voc_daily_summary.csv-o3_AQI', 'pm10_daily_summary.csv-f2_', 'pm10_daily_summary.csv-f3_', 'pm25_frm_daily_summary.csv-f1_']</td>\n",
       "      <td>16</td>\n",
       "    </tr>\n",
       "    <tr>\n",
       "      <th>16</th>\n",
       "      <td>1.381387</td>\n",
       "      <td>0.087568</td>\n",
       "      <td>133.820709</td>\n",
       "      <td>0.100000</td>\n",
       "      <td>['f0_', 'f1_', 'f2_', 'f3_', 'DayLoc', 'Temperature', 'pm25_frm_daily_summary.csv-o3_AQI', 'pm25_frm_daily_summary.csv-f3_', 'pm25_frm_daily_summary.csv-f0_']</td>\n",
       "      <td>17</td>\n",
       "    </tr>\n",
       "    <tr>\n",
       "      <th>17</th>\n",
       "      <td>1.401354</td>\n",
       "      <td>0.067601</td>\n",
       "      <td>142.330542</td>\n",
       "      <td>0.085770</td>\n",
       "      <td>['f0_', 'f1_', 'f2_', 'f3_', 'DayLoc', 'Temperature', 'wind_daily_summary.csv-f3_', 'pm10_daily_summary.csv-f3_', 'pressure_daily_summary.csv-o3_AQI']</td>\n",
       "      <td>18</td>\n",
       "    </tr>\n",
       "    <tr>\n",
       "      <th>18</th>\n",
       "      <td>1.372010</td>\n",
       "      <td>0.096944</td>\n",
       "      <td>150.690935</td>\n",
       "      <td>0.073564</td>\n",
       "      <td>['f0_', 'f1_', 'f2_', 'f3_', 'DayLoc', 'Temperature', 'rh_and_dp_daily_summary.csv-o3_AQI', 'rh_and_dp_daily_summary.csv-f1_', 'rh_and_dp_daily_summary.csv-f0_']</td>\n",
       "      <td>19</td>\n",
       "    </tr>\n",
       "    <tr>\n",
       "      <th>19</th>\n",
       "      <td>1.438412</td>\n",
       "      <td>0.030543</td>\n",
       "      <td>159.680590</td>\n",
       "      <td>0.063096</td>\n",
       "      <td>['f0_', 'f1_', 'f2_', 'f3_', 'DayLoc', 'Temperature', 'so2_daily_summary.csv-f1_', 'wind_daily_summary.csv-o3_AQI', 'wind_daily_summary.csv-f2_', 'so2_daily_summary.csv-o3_AQI', 'so2_daily_summary.csv-f0_']</td>\n",
       "      <td>20</td>\n",
       "    </tr>\n",
       "    <tr>\n",
       "      <th>20</th>\n",
       "      <td>1.410678</td>\n",
       "      <td>0.058277</td>\n",
       "      <td>167.330068</td>\n",
       "      <td>0.054117</td>\n",
       "      <td>['f0_', 'f1_', 'f2_', 'f3_', 'DayLoc', 'Temperature', 'o3_daily_summary.csv-f0_', 'o3_daily_summary.csv-o3_AQI', 'o3_daily_summary.csv-f3_', 'so2_daily_summary.csv-f2_', 'wind_daily_summary.csv-o3_AQI']</td>\n",
       "      <td>21</td>\n",
       "    </tr>\n",
       "    <tr>\n",
       "      <th>21</th>\n",
       "      <td>1.437363</td>\n",
       "      <td>0.031592</td>\n",
       "      <td>174.579565</td>\n",
       "      <td>0.046416</td>\n",
       "      <td>['f0_', 'f1_', 'f2_', 'f3_', 'DayLoc', 'Temperature', 'o3_daily_summary.csv-f2_', 'voc_daily_summary.csv-f3_', 'pressure_daily_summary.csv-f0_']</td>\n",
       "      <td>22</td>\n",
       "    </tr>\n",
       "    <tr>\n",
       "      <th>22</th>\n",
       "      <td>1.376863</td>\n",
       "      <td>0.092092</td>\n",
       "      <td>180.833738</td>\n",
       "      <td>0.039811</td>\n",
       "      <td>['f0_', 'f1_', 'f2_', 'f3_', 'DayLoc', 'Temperature', 'rh_and_dp_daily_summary.csv-f3_', 'rh_and_dp_daily_summary.csv-f2_', 'pm10_daily_summary.csv-f2_']</td>\n",
       "      <td>23</td>\n",
       "    </tr>\n",
       "    <tr>\n",
       "      <th>23</th>\n",
       "      <td>1.455471</td>\n",
       "      <td>0.013483</td>\n",
       "      <td>187.948951</td>\n",
       "      <td>0.034145</td>\n",
       "      <td>['f0_', 'f1_', 'f2_', 'f3_', 'DayLoc', 'Temperature', 'voc_daily_summary.csv-f0_', 'o3_daily_summary.csv-f1_', 'voc_daily_summary.csv-f1_', 'o3_daily_summary.csv-f3_', 'so2_daily_summary.csv-f0_']</td>\n",
       "      <td>24</td>\n",
       "    </tr>\n",
       "    <tr>\n",
       "      <th>24</th>\n",
       "      <td>1.420326</td>\n",
       "      <td>0.048629</td>\n",
       "      <td>198.949300</td>\n",
       "      <td>0.029286</td>\n",
       "      <td>['f0_', 'f1_', 'f2_', 'f3_', 'DayLoc', 'Temperature', 'pm10_daily_summary.csv-f0_', 'pm10_daily_summary.csv-f3_', 'pm25_frm_daily_summary.csv-f1_', 'rh_and_dp_daily_summary.csv-f0_', 'rh_and_dp_daily_summary.csv-f3_']</td>\n",
       "      <td>25</td>\n",
       "    </tr>\n",
       "    <tr>\n",
       "      <th>25</th>\n",
       "      <td>1.370125</td>\n",
       "      <td>0.098830</td>\n",
       "      <td>208.429979</td>\n",
       "      <td>0.025119</td>\n",
       "      <td>['f0_', 'f1_', 'f2_', 'f3_', 'DayLoc', 'Temperature', 'so2_daily_summary.csv-f1_', 'rh_and_dp_daily_summary.csv-f2_', 'so2_daily_summary.csv-f3_', 'rh_and_dp_daily_summary.csv-f1_', 'rh_and_dp_daily_summary.csv-o3_AQI']</td>\n",
       "      <td>26</td>\n",
       "    </tr>\n",
       "    <tr>\n",
       "      <th>26</th>\n",
       "      <td>1.395347</td>\n",
       "      <td>0.073607</td>\n",
       "      <td>215.986659</td>\n",
       "      <td>0.021544</td>\n",
       "      <td>['f0_', 'f1_', 'f2_', 'f3_', 'DayLoc', 'Temperature', 'rh_and_dp_daily_summary.csv-o3_AQI', 'rh_and_dp_daily_summary.csv-f3_', 'voc_daily_summary.csv-o3_AQI', 'so2_daily_summary.csv-f2_']</td>\n",
       "      <td>27</td>\n",
       "    </tr>\n",
       "    <tr>\n",
       "      <th>27</th>\n",
       "      <td>1.445789</td>\n",
       "      <td>0.023166</td>\n",
       "      <td>223.182334</td>\n",
       "      <td>0.018478</td>\n",
       "      <td>['f0_', 'f1_', 'f2_', 'f3_', 'DayLoc', 'Temperature', 'so2_daily_summary.csv-f0_', 'so2_daily_summary.csv-o3_AQI', 'no2_daily_summary.csv-f3_']</td>\n",
       "      <td>28</td>\n",
       "    </tr>\n",
       "    <tr>\n",
       "      <th>28</th>\n",
       "      <td>1.428846</td>\n",
       "      <td>0.040109</td>\n",
       "      <td>229.172547</td>\n",
       "      <td>0.015849</td>\n",
       "      <td>['f0_', 'f1_', 'f2_', 'f3_', 'DayLoc', 'Temperature', 'wind_daily_summary.csv-f1_', 'voc_daily_summary.csv-f3_', 'wind_daily_summary.csv-o3_AQI']</td>\n",
       "      <td>29</td>\n",
       "    </tr>\n",
       "    <tr>\n",
       "      <th>29</th>\n",
       "      <td>1.421587</td>\n",
       "      <td>0.047368</td>\n",
       "      <td>236.667197</td>\n",
       "      <td>0.013594</td>\n",
       "      <td>['f0_', 'f1_', 'f2_', 'f3_', 'DayLoc', 'Temperature', 'pm25_frm_daily_summary.csv-f3_', 'pm25_frm_daily_summary.csv-f1_', 'pm10_daily_summary.csv-o3_AQI', 'wind_daily_summary.csv-f0_']</td>\n",
       "      <td>30</td>\n",
       "    </tr>\n",
       "    <tr>\n",
       "      <th>30</th>\n",
       "      <td>1.444370</td>\n",
       "      <td>0.024584</td>\n",
       "      <td>244.850434</td>\n",
       "      <td>0.011659</td>\n",
       "      <td>['f0_', 'f1_', 'f2_', 'f3_', 'DayLoc', 'Temperature', 'so2_daily_summary.csv-o3_AQI', 'wind_daily_summary.csv-f3_', 'voc_daily_summary.csv-f2_']</td>\n",
       "      <td>31</td>\n",
       "    </tr>\n",
       "    <tr>\n",
       "      <th>31</th>\n",
       "      <td>1.428483</td>\n",
       "      <td>0.040472</td>\n",
       "      <td>253.459018</td>\n",
       "      <td>0.010000</td>\n",
       "      <td>['f0_', 'f1_', 'f2_', 'f3_', 'DayLoc', 'Temperature', 'pm10_daily_summary.csv-f1_', 'pm10_daily_summary.csv-f3_', 'pm10_daily_summary.csv-f0_', 'so2_daily_summary.csv-f2_']</td>\n",
       "      <td>32</td>\n",
       "    </tr>\n",
       "    <tr>\n",
       "      <th>32</th>\n",
       "      <td>1.417651</td>\n",
       "      <td>0.051304</td>\n",
       "      <td>268.752852</td>\n",
       "      <td>0.008577</td>\n",
       "      <td>['f0_', 'f1_', 'f2_', 'f3_', 'DayLoc', 'Temperature', 'no2_daily_summary.csv-f2_', 'no2_daily_summary.csv-o3_AQI', 'voc_daily_summary.csv-o3_AQI']</td>\n",
       "      <td>33</td>\n",
       "    </tr>\n",
       "    <tr>\n",
       "      <th>33</th>\n",
       "      <td>1.422425</td>\n",
       "      <td>0.046530</td>\n",
       "      <td>276.718787</td>\n",
       "      <td>0.007356</td>\n",
       "      <td>['f0_', 'f1_', 'f2_', 'f3_', 'DayLoc', 'Temperature', 'no2_daily_summary.csv-f1_', 'pressure_daily_summary.csv-f3_', 'o3_daily_summary.csv-f1_', 'pm10_daily_summary.csv-f0_']</td>\n",
       "      <td>34</td>\n",
       "    </tr>\n",
       "    <tr>\n",
       "      <th>34</th>\n",
       "      <td>1.426616</td>\n",
       "      <td>0.042338</td>\n",
       "      <td>283.277197</td>\n",
       "      <td>0.006310</td>\n",
       "      <td>['f0_', 'f1_', 'f2_', 'f3_', 'DayLoc', 'Temperature', 'no2_daily_summary.csv-o3_AQI', 'no2_daily_summary.csv-f0_', 'so2_daily_summary.csv-o3_AQI']</td>\n",
       "      <td>35</td>\n",
       "    </tr>\n",
       "    <tr>\n",
       "      <th>35</th>\n",
       "      <td>1.412464</td>\n",
       "      <td>0.056491</td>\n",
       "      <td>290.245652</td>\n",
       "      <td>0.005412</td>\n",
       "      <td>['f0_', 'f1_', 'f2_', 'f3_', 'DayLoc', 'Temperature', 'rh_and_dp_daily_summary.csv-f1_', 'rh_and_dp_daily_summary.csv-f2_', 'rh_and_dp_daily_summary.csv-o3_AQI', 'pressure_daily_summary.csv-f0_']</td>\n",
       "      <td>36</td>\n",
       "    </tr>\n",
       "    <tr>\n",
       "      <th>36</th>\n",
       "      <td>1.462738</td>\n",
       "      <td>0.006217</td>\n",
       "      <td>300.166936</td>\n",
       "      <td>0.004642</td>\n",
       "      <td>['f0_', 'f1_', 'f2_', 'f3_', 'DayLoc', 'Temperature', 'pressure_daily_summary.csv-f3_', 'pressure_daily_summary.csv-f2_', 'wind_daily_summary.csv-f0_', 'pressure_daily_summary.csv-o3_AQI']</td>\n",
       "      <td>37</td>\n",
       "    </tr>\n",
       "    <tr>\n",
       "      <th>37</th>\n",
       "      <td>1.362401</td>\n",
       "      <td>0.106554</td>\n",
       "      <td>307.102012</td>\n",
       "      <td>0.003981</td>\n",
       "      <td>['f0_', 'f1_', 'f2_', 'f3_', 'DayLoc', 'Temperature', 'no2_daily_summary.csv-o3_AQI', 'no2_daily_summary.csv-f1_', 'wind_daily_summary.csv-f0_', 'no2_daily_summary.csv-f0_', 'o3_daily_summary.csv-f0_']</td>\n",
       "      <td>38</td>\n",
       "    </tr>\n",
       "    <tr>\n",
       "      <th>38</th>\n",
       "      <td>1.400222</td>\n",
       "      <td>0.068733</td>\n",
       "      <td>313.427584</td>\n",
       "      <td>0.003415</td>\n",
       "      <td>['f0_', 'f1_', 'f2_', 'f3_', 'DayLoc', 'Temperature', 'voc_daily_summary.csv-f0_', 'voc_daily_summary.csv-o3_AQI', 'so2_daily_summary.csv-f3_', 'pressure_daily_summary.csv-f1_']</td>\n",
       "      <td>39</td>\n",
       "    </tr>\n",
       "    <tr>\n",
       "      <th>39</th>\n",
       "      <td>1.411910</td>\n",
       "      <td>0.057045</td>\n",
       "      <td>323.062451</td>\n",
       "      <td>0.002929</td>\n",
       "      <td>['f0_', 'f1_', 'f2_', 'f3_', 'DayLoc', 'Temperature', 'pm10_daily_summary.csv-f2_', 'wind_daily_summary.csv-f2_', 'rh_and_dp_daily_summary.csv-f0_']</td>\n",
       "      <td>40</td>\n",
       "    </tr>\n",
       "    <tr>\n",
       "      <th>40</th>\n",
       "      <td>1.408154</td>\n",
       "      <td>0.060801</td>\n",
       "      <td>329.159544</td>\n",
       "      <td>0.002512</td>\n",
       "      <td>['f0_', 'f1_', 'f2_', 'f3_', 'DayLoc', 'Temperature', 'pm25_frm_daily_summary.csv-f3_', 'pm10_daily_summary.csv-f2_', 'pm10_daily_summary.csv-f3_', 'so2_daily_summary.csv-f2_', 'pm10_daily_summary.csv-o3_AQI']</td>\n",
       "      <td>41</td>\n",
       "    </tr>\n",
       "    <tr>\n",
       "      <th>41</th>\n",
       "      <td>1.424476</td>\n",
       "      <td>0.044479</td>\n",
       "      <td>337.859557</td>\n",
       "      <td>0.002154</td>\n",
       "      <td>['f0_', 'f1_', 'f2_', 'f3_', 'DayLoc', 'Temperature', 'pressure_daily_summary.csv-f0_', 'pressure_daily_summary.csv-f3_', 'pm25_frm_daily_summary.csv-f1_']</td>\n",
       "      <td>42</td>\n",
       "    </tr>\n",
       "    <tr>\n",
       "      <th>42</th>\n",
       "      <td>1.423975</td>\n",
       "      <td>0.044980</td>\n",
       "      <td>344.696716</td>\n",
       "      <td>0.001848</td>\n",
       "      <td>['f0_', 'f1_', 'f2_', 'f3_', 'DayLoc', 'Temperature', 'pm25_frm_daily_summary.csv-f3_', 'o3_daily_summary.csv-f1_', 'pm25_frm_daily_summary.csv-f2_', 'o3_daily_summary.csv-o3_AQI', 'o3_daily_summary.csv-f3_']</td>\n",
       "      <td>43</td>\n",
       "    </tr>\n",
       "    <tr>\n",
       "      <th>43</th>\n",
       "      <td>1.422479</td>\n",
       "      <td>0.046476</td>\n",
       "      <td>350.257190</td>\n",
       "      <td>0.001585</td>\n",
       "      <td>['f0_', 'f1_', 'f2_', 'f3_', 'DayLoc', 'Temperature', 'o3_daily_summary.csv-o3_AQI', 'pressure_daily_summary.csv-f2_', 'rh_and_dp_daily_summary.csv-f3_', 'pressure_daily_summary.csv-f1_']</td>\n",
       "      <td>44</td>\n",
       "    </tr>\n",
       "    <tr>\n",
       "      <th>44</th>\n",
       "      <td>1.427498</td>\n",
       "      <td>0.041456</td>\n",
       "      <td>355.857480</td>\n",
       "      <td>0.001359</td>\n",
       "      <td>['f0_', 'f1_', 'f2_', 'f3_', 'DayLoc', 'Temperature', 'pressure_daily_summary.csv-f1_', 'pressure_daily_summary.csv-f0_', 'pm25_frm_daily_summary.csv-o3_AQI', 'pressure_daily_summary.csv-f2_']</td>\n",
       "      <td>45</td>\n",
       "    </tr>\n",
       "  </tbody>\n",
       "</table>\n",
       "</div>"
      ],
      "text/plain": [
       "        rmse   benefit        time   epsilon  \\\n",
       "0   1.398555  0.070399    4.261874  1.000000   \n",
       "1   1.448778  0.020177    8.794105  1.000000   \n",
       "2   1.435599  0.033355   13.604540  0.857696   \n",
       "3   1.368567  0.100388   20.222984  0.735642   \n",
       "4   1.420885  0.048070   27.719471  0.630957   \n",
       "5   1.432176  0.036779   37.270393  0.541170   \n",
       "6   1.433461  0.035494   45.983776  0.464159   \n",
       "7   1.455624  0.013331   57.543370  0.398107   \n",
       "8   1.383738  0.085217   65.884053  0.341455   \n",
       "9   1.401079  0.067875   75.175600  0.292864   \n",
       "10  1.450281  0.018674   85.489043  0.251189   \n",
       "11  1.458187  0.010768   95.142447  0.215443   \n",
       "12  1.379713  0.089242  105.462153  0.184785   \n",
       "13  1.448359  0.020596  114.286000  0.158489   \n",
       "14  1.388220  0.080735  121.356593  0.135936   \n",
       "15  1.403559  0.065396  127.726124  0.116591   \n",
       "16  1.381387  0.087568  133.820709  0.100000   \n",
       "17  1.401354  0.067601  142.330542  0.085770   \n",
       "18  1.372010  0.096944  150.690935  0.073564   \n",
       "19  1.438412  0.030543  159.680590  0.063096   \n",
       "20  1.410678  0.058277  167.330068  0.054117   \n",
       "21  1.437363  0.031592  174.579565  0.046416   \n",
       "22  1.376863  0.092092  180.833738  0.039811   \n",
       "23  1.455471  0.013483  187.948951  0.034145   \n",
       "24  1.420326  0.048629  198.949300  0.029286   \n",
       "25  1.370125  0.098830  208.429979  0.025119   \n",
       "26  1.395347  0.073607  215.986659  0.021544   \n",
       "27  1.445789  0.023166  223.182334  0.018478   \n",
       "28  1.428846  0.040109  229.172547  0.015849   \n",
       "29  1.421587  0.047368  236.667197  0.013594   \n",
       "30  1.444370  0.024584  244.850434  0.011659   \n",
       "31  1.428483  0.040472  253.459018  0.010000   \n",
       "32  1.417651  0.051304  268.752852  0.008577   \n",
       "33  1.422425  0.046530  276.718787  0.007356   \n",
       "34  1.426616  0.042338  283.277197  0.006310   \n",
       "35  1.412464  0.056491  290.245652  0.005412   \n",
       "36  1.462738  0.006217  300.166936  0.004642   \n",
       "37  1.362401  0.106554  307.102012  0.003981   \n",
       "38  1.400222  0.068733  313.427584  0.003415   \n",
       "39  1.411910  0.057045  323.062451  0.002929   \n",
       "40  1.408154  0.060801  329.159544  0.002512   \n",
       "41  1.424476  0.044479  337.859557  0.002154   \n",
       "42  1.423975  0.044980  344.696716  0.001848   \n",
       "43  1.422479  0.046476  350.257190  0.001585   \n",
       "44  1.427498  0.041456  355.857480  0.001359   \n",
       "\n",
       "                                                                                                                                                                                                                          feats  \\\n",
       "0                                                                         ['f0_', 'f1_', 'f2_', 'f3_', 'DayLoc', 'Temperature', 'no2_daily_summary.csv-f0_', 'no2_daily_summary.csv-f2_', 'rh_and_dp_daily_summary.csv-o3_AQI']   \n",
       "1                                                   ['f0_', 'f1_', 'f2_', 'f3_', 'DayLoc', 'Temperature', 'voc_daily_summary.csv-f0_', 'o3_daily_summary.csv-f2_', 'o3_daily_summary.csv-f1_', 'wind_daily_summary.csv-o3_AQI']   \n",
       "2                                              ['f0_', 'f1_', 'f2_', 'f3_', 'DayLoc', 'Temperature', 'so2_daily_summary.csv-f0_', 'so2_daily_summary.csv-o3_AQI', 'pm10_daily_summary.csv-o3_AQI', 'so2_daily_summary.csv-f1_']   \n",
       "3                     ['f0_', 'f1_', 'f2_', 'f3_', 'DayLoc', 'Temperature', 'so2_daily_summary.csv-f2_', 'wind_daily_summary.csv-f0_', 'wind_daily_summary.csv-f2_', 'wind_daily_summary.csv-f1_', 'so2_daily_summary.csv-f0_']   \n",
       "4                                                                                                               ['f0_', 'f1_', 'f2_', 'f3_', 'DayLoc', 'Temperature', 'no2_daily_summary.csv-f1_', 'no2_daily_summary.csv-f0_']   \n",
       "5                                                                                                          ['f0_', 'f1_', 'f2_', 'f3_', 'DayLoc', 'Temperature', 'wind_daily_summary.csv-f0_', 'wind_daily_summary.csv-o3_AQI']   \n",
       "6                                                     ['f0_', 'f1_', 'f2_', 'f3_', 'DayLoc', 'Temperature', 'so2_daily_summary.csv-f1_', 'pm10_daily_summary.csv-f2_', 'o3_daily_summary.csv-f1_', 'voc_daily_summary.csv-f1_']   \n",
       "7                                                                     ['f0_', 'f1_', 'f2_', 'f3_', 'DayLoc', 'Temperature', 'pressure_daily_summary.csv-o3_AQI', 'pressure_daily_summary.csv-f3_', 'no2_daily_summary.csv-f3_']   \n",
       "8                                                                       ['f0_', 'f1_', 'f2_', 'f3_', 'DayLoc', 'Temperature', 'rh_and_dp_daily_summary.csv-f1_', 'o3_daily_summary.csv-f2_', 'rh_and_dp_daily_summary.csv-f3_']   \n",
       "9                                                   ['f0_', 'f1_', 'f2_', 'f3_', 'DayLoc', 'Temperature', 'wind_daily_summary.csv-f2_', 'voc_daily_summary.csv-f0_', 'so2_daily_summary.csv-f0_', 'wind_daily_summary.csv-f1_']   \n",
       "10                                                                     ['f0_', 'f1_', 'f2_', 'f3_', 'DayLoc', 'Temperature', 'wind_daily_summary.csv-o3_AQI', 'voc_daily_summary.csv-f1_', 'pressure_daily_summary.csv-o3_AQI']   \n",
       "11                                                                  ['f0_', 'f1_', 'f2_', 'f3_', 'DayLoc', 'Temperature', 'rh_and_dp_daily_summary.csv-f2_', 'pm25_frm_daily_summary.csv-o3_AQI', 'wind_daily_summary.csv-f1_']   \n",
       "12                                                 ['f0_', 'f1_', 'f2_', 'f3_', 'DayLoc', 'Temperature', 'no2_daily_summary.csv-f0_', 'voc_daily_summary.csv-f2_', 'voc_daily_summary.csv-o3_AQI', 'so2_daily_summary.csv-f1_']   \n",
       "13                                              ['f0_', 'f1_', 'f2_', 'f3_', 'DayLoc', 'Temperature', 'rh_and_dp_daily_summary.csv-f3_', 'o3_daily_summary.csv-f2_', 'o3_daily_summary.csv-f0_', 'o3_daily_summary.csv-o3_AQI']   \n",
       "14        ['f0_', 'f1_', 'f2_', 'f3_', 'DayLoc', 'Temperature', 'rh_and_dp_daily_summary.csv-f2_', 'wind_daily_summary.csv-f2_', 'wind_daily_summary.csv-f0_', 'wind_daily_summary.csv-f1_', 'rh_and_dp_daily_summary.csv-f3_']   \n",
       "15                                          ['f0_', 'f1_', 'f2_', 'f3_', 'DayLoc', 'Temperature', 'voc_daily_summary.csv-o3_AQI', 'pm10_daily_summary.csv-f2_', 'pm10_daily_summary.csv-f3_', 'pm25_frm_daily_summary.csv-f1_']   \n",
       "16                                                               ['f0_', 'f1_', 'f2_', 'f3_', 'DayLoc', 'Temperature', 'pm25_frm_daily_summary.csv-o3_AQI', 'pm25_frm_daily_summary.csv-f3_', 'pm25_frm_daily_summary.csv-f0_']   \n",
       "17                                                                       ['f0_', 'f1_', 'f2_', 'f3_', 'DayLoc', 'Temperature', 'wind_daily_summary.csv-f3_', 'pm10_daily_summary.csv-f3_', 'pressure_daily_summary.csv-o3_AQI']   \n",
       "18                                                            ['f0_', 'f1_', 'f2_', 'f3_', 'DayLoc', 'Temperature', 'rh_and_dp_daily_summary.csv-o3_AQI', 'rh_and_dp_daily_summary.csv-f1_', 'rh_and_dp_daily_summary.csv-f0_']   \n",
       "19               ['f0_', 'f1_', 'f2_', 'f3_', 'DayLoc', 'Temperature', 'so2_daily_summary.csv-f1_', 'wind_daily_summary.csv-o3_AQI', 'wind_daily_summary.csv-f2_', 'so2_daily_summary.csv-o3_AQI', 'so2_daily_summary.csv-f0_']   \n",
       "20                   ['f0_', 'f1_', 'f2_', 'f3_', 'DayLoc', 'Temperature', 'o3_daily_summary.csv-f0_', 'o3_daily_summary.csv-o3_AQI', 'o3_daily_summary.csv-f3_', 'so2_daily_summary.csv-f2_', 'wind_daily_summary.csv-o3_AQI']   \n",
       "21                                                                             ['f0_', 'f1_', 'f2_', 'f3_', 'DayLoc', 'Temperature', 'o3_daily_summary.csv-f2_', 'voc_daily_summary.csv-f3_', 'pressure_daily_summary.csv-f0_']   \n",
       "22                                                                    ['f0_', 'f1_', 'f2_', 'f3_', 'DayLoc', 'Temperature', 'rh_and_dp_daily_summary.csv-f3_', 'rh_and_dp_daily_summary.csv-f2_', 'pm10_daily_summary.csv-f2_']   \n",
       "23                         ['f0_', 'f1_', 'f2_', 'f3_', 'DayLoc', 'Temperature', 'voc_daily_summary.csv-f0_', 'o3_daily_summary.csv-f1_', 'voc_daily_summary.csv-f1_', 'o3_daily_summary.csv-f3_', 'so2_daily_summary.csv-f0_']   \n",
       "24    ['f0_', 'f1_', 'f2_', 'f3_', 'DayLoc', 'Temperature', 'pm10_daily_summary.csv-f0_', 'pm10_daily_summary.csv-f3_', 'pm25_frm_daily_summary.csv-f1_', 'rh_and_dp_daily_summary.csv-f0_', 'rh_and_dp_daily_summary.csv-f3_']   \n",
       "25  ['f0_', 'f1_', 'f2_', 'f3_', 'DayLoc', 'Temperature', 'so2_daily_summary.csv-f1_', 'rh_and_dp_daily_summary.csv-f2_', 'so2_daily_summary.csv-f3_', 'rh_and_dp_daily_summary.csv-f1_', 'rh_and_dp_daily_summary.csv-o3_AQI']   \n",
       "26                                  ['f0_', 'f1_', 'f2_', 'f3_', 'DayLoc', 'Temperature', 'rh_and_dp_daily_summary.csv-o3_AQI', 'rh_and_dp_daily_summary.csv-f3_', 'voc_daily_summary.csv-o3_AQI', 'so2_daily_summary.csv-f2_']   \n",
       "27                                                                              ['f0_', 'f1_', 'f2_', 'f3_', 'DayLoc', 'Temperature', 'so2_daily_summary.csv-f0_', 'so2_daily_summary.csv-o3_AQI', 'no2_daily_summary.csv-f3_']   \n",
       "28                                                                            ['f0_', 'f1_', 'f2_', 'f3_', 'DayLoc', 'Temperature', 'wind_daily_summary.csv-f1_', 'voc_daily_summary.csv-f3_', 'wind_daily_summary.csv-o3_AQI']   \n",
       "29                                     ['f0_', 'f1_', 'f2_', 'f3_', 'DayLoc', 'Temperature', 'pm25_frm_daily_summary.csv-f3_', 'pm25_frm_daily_summary.csv-f1_', 'pm10_daily_summary.csv-o3_AQI', 'wind_daily_summary.csv-f0_']   \n",
       "30                                                                             ['f0_', 'f1_', 'f2_', 'f3_', 'DayLoc', 'Temperature', 'so2_daily_summary.csv-o3_AQI', 'wind_daily_summary.csv-f3_', 'voc_daily_summary.csv-f2_']   \n",
       "31                                                 ['f0_', 'f1_', 'f2_', 'f3_', 'DayLoc', 'Temperature', 'pm10_daily_summary.csv-f1_', 'pm10_daily_summary.csv-f3_', 'pm10_daily_summary.csv-f0_', 'so2_daily_summary.csv-f2_']   \n",
       "32                                                                           ['f0_', 'f1_', 'f2_', 'f3_', 'DayLoc', 'Temperature', 'no2_daily_summary.csv-f2_', 'no2_daily_summary.csv-o3_AQI', 'voc_daily_summary.csv-o3_AQI']   \n",
       "33                                               ['f0_', 'f1_', 'f2_', 'f3_', 'DayLoc', 'Temperature', 'no2_daily_summary.csv-f1_', 'pressure_daily_summary.csv-f3_', 'o3_daily_summary.csv-f1_', 'pm10_daily_summary.csv-f0_']   \n",
       "34                                                                           ['f0_', 'f1_', 'f2_', 'f3_', 'DayLoc', 'Temperature', 'no2_daily_summary.csv-o3_AQI', 'no2_daily_summary.csv-f0_', 'so2_daily_summary.csv-o3_AQI']   \n",
       "35                          ['f0_', 'f1_', 'f2_', 'f3_', 'DayLoc', 'Temperature', 'rh_and_dp_daily_summary.csv-f1_', 'rh_and_dp_daily_summary.csv-f2_', 'rh_and_dp_daily_summary.csv-o3_AQI', 'pressure_daily_summary.csv-f0_']   \n",
       "36                                 ['f0_', 'f1_', 'f2_', 'f3_', 'DayLoc', 'Temperature', 'pressure_daily_summary.csv-f3_', 'pressure_daily_summary.csv-f2_', 'wind_daily_summary.csv-f0_', 'pressure_daily_summary.csv-o3_AQI']   \n",
       "37                    ['f0_', 'f1_', 'f2_', 'f3_', 'DayLoc', 'Temperature', 'no2_daily_summary.csv-o3_AQI', 'no2_daily_summary.csv-f1_', 'wind_daily_summary.csv-f0_', 'no2_daily_summary.csv-f0_', 'o3_daily_summary.csv-f0_']   \n",
       "38                                            ['f0_', 'f1_', 'f2_', 'f3_', 'DayLoc', 'Temperature', 'voc_daily_summary.csv-f0_', 'voc_daily_summary.csv-o3_AQI', 'so2_daily_summary.csv-f3_', 'pressure_daily_summary.csv-f1_']   \n",
       "39                                                                         ['f0_', 'f1_', 'f2_', 'f3_', 'DayLoc', 'Temperature', 'pm10_daily_summary.csv-f2_', 'wind_daily_summary.csv-f2_', 'rh_and_dp_daily_summary.csv-f0_']   \n",
       "40            ['f0_', 'f1_', 'f2_', 'f3_', 'DayLoc', 'Temperature', 'pm25_frm_daily_summary.csv-f3_', 'pm10_daily_summary.csv-f2_', 'pm10_daily_summary.csv-f3_', 'so2_daily_summary.csv-f2_', 'pm10_daily_summary.csv-o3_AQI']   \n",
       "41                                                                  ['f0_', 'f1_', 'f2_', 'f3_', 'DayLoc', 'Temperature', 'pressure_daily_summary.csv-f0_', 'pressure_daily_summary.csv-f3_', 'pm25_frm_daily_summary.csv-f1_']   \n",
       "42             ['f0_', 'f1_', 'f2_', 'f3_', 'DayLoc', 'Temperature', 'pm25_frm_daily_summary.csv-f3_', 'o3_daily_summary.csv-f1_', 'pm25_frm_daily_summary.csv-f2_', 'o3_daily_summary.csv-o3_AQI', 'o3_daily_summary.csv-f3_']   \n",
       "43                                  ['f0_', 'f1_', 'f2_', 'f3_', 'DayLoc', 'Temperature', 'o3_daily_summary.csv-o3_AQI', 'pressure_daily_summary.csv-f2_', 'rh_and_dp_daily_summary.csv-f3_', 'pressure_daily_summary.csv-f1_']   \n",
       "44                             ['f0_', 'f1_', 'f2_', 'f3_', 'DayLoc', 'Temperature', 'pressure_daily_summary.csv-f1_', 'pressure_daily_summary.csv-f0_', 'pm25_frm_daily_summary.csv-o3_AQI', 'pressure_daily_summary.csv-f2_']   \n",
       "\n",
       "    iteration  \n",
       "0           1  \n",
       "1           2  \n",
       "2           3  \n",
       "3           4  \n",
       "4           5  \n",
       "5           6  \n",
       "6           7  \n",
       "7           8  \n",
       "8           9  \n",
       "9          10  \n",
       "10         11  \n",
       "11         12  \n",
       "12         13  \n",
       "13         14  \n",
       "14         15  \n",
       "15         16  \n",
       "16         17  \n",
       "17         18  \n",
       "18         19  \n",
       "19         20  \n",
       "20         21  \n",
       "21         22  \n",
       "22         23  \n",
       "23         24  \n",
       "24         25  \n",
       "25         26  \n",
       "26         27  \n",
       "27         28  \n",
       "28         29  \n",
       "29         30  \n",
       "30         31  \n",
       "31         32  \n",
       "32         33  \n",
       "33         34  \n",
       "34         35  \n",
       "35         36  \n",
       "36         37  \n",
       "37         38  \n",
       "38         39  \n",
       "39         40  \n",
       "40         41  \n",
       "41         42  \n",
       "42         43  \n",
       "43         44  \n",
       "44         45  "
      ]
     },
     "execution_count": 32,
     "metadata": {},
     "output_type": "execute_result"
    }
   ],
   "source": [
    "df2 = pd.read_csv(\"results.csv\").iloc[:, 1:]\n",
    "df2[\"iteration\"] = [i+1 for i in range(len(df2.index))]\n",
    "print(df2.columns)\n",
    "df2"
   ]
  },
  {
   "cell_type": "markdown",
   "metadata": {},
   "source": [
    "## Visualizations"
   ]
  },
  {
   "cell_type": "code",
   "execution_count": 30,
   "metadata": {},
   "outputs": [
    {
     "data": {
      "application/vnd.plotly.v1+json": {
       "config": {
        "plotlyServerURL": "https://plot.ly"
       },
       "data": [
        {
         "hovertemplate": "iteration=%{x}<br> accuracy=%{y}<extra></extra>",
         "legendgroup": "",
         "marker": {
          "color": "#636efa",
          "symbol": "circle"
         },
         "mode": "markers",
         "name": "",
         "orientation": "v",
         "showlegend": false,
         "type": "scatter",
         "x": [
          1,
          2,
          3,
          4,
          5,
          6,
          7,
          8,
          9,
          10,
          11,
          12,
          13,
          14,
          15,
          16,
          17,
          18,
          19,
          20,
          21,
          22,
          23,
          24,
          25,
          26,
          27,
          28,
          29,
          30,
          31,
          32,
          33,
          34,
          35,
          36,
          37,
          38,
          39,
          40,
          41
         ],
         "xaxis": "x",
         "y": [
          0.5270522388059701,
          0.8625,
          0.8625,
          0.8625,
          0.8625,
          0.8610074626865671,
          0.8875,
          0.8875,
          0.875,
          0.875,
          0.8875,
          0.8875,
          0.8875,
          0.8875,
          0.8875,
          0.8875,
          0.8875,
          0.8875,
          0.8875,
          0.8875,
          0.8875,
          0.8875,
          0.8875,
          0.8875,
          0.8875,
          0.8875,
          0.8875,
          0.8875,
          0.8875,
          0.8875,
          0.8875,
          0.8875,
          0.8875,
          0.8875,
          0.8875,
          0.8875,
          0.8875,
          0.8875,
          0.8875,
          0.8875,
          0.8875
         ],
         "yaxis": "y"
        }
       ],
       "layout": {
        "legend": {
         "tracegroupgap": 0
        },
        "margin": {
         "t": 60
        },
        "template": {
         "data": {
          "bar": [
           {
            "error_x": {
             "color": "#2a3f5f"
            },
            "error_y": {
             "color": "#2a3f5f"
            },
            "marker": {
             "line": {
              "color": "#E5ECF6",
              "width": 0.5
             },
             "pattern": {
              "fillmode": "overlay",
              "size": 10,
              "solidity": 0.2
             }
            },
            "type": "bar"
           }
          ],
          "barpolar": [
           {
            "marker": {
             "line": {
              "color": "#E5ECF6",
              "width": 0.5
             },
             "pattern": {
              "fillmode": "overlay",
              "size": 10,
              "solidity": 0.2
             }
            },
            "type": "barpolar"
           }
          ],
          "carpet": [
           {
            "aaxis": {
             "endlinecolor": "#2a3f5f",
             "gridcolor": "white",
             "linecolor": "white",
             "minorgridcolor": "white",
             "startlinecolor": "#2a3f5f"
            },
            "baxis": {
             "endlinecolor": "#2a3f5f",
             "gridcolor": "white",
             "linecolor": "white",
             "minorgridcolor": "white",
             "startlinecolor": "#2a3f5f"
            },
            "type": "carpet"
           }
          ],
          "choropleth": [
           {
            "colorbar": {
             "outlinewidth": 0,
             "ticks": ""
            },
            "type": "choropleth"
           }
          ],
          "contour": [
           {
            "colorbar": {
             "outlinewidth": 0,
             "ticks": ""
            },
            "colorscale": [
             [
              0,
              "#0d0887"
             ],
             [
              0.1111111111111111,
              "#46039f"
             ],
             [
              0.2222222222222222,
              "#7201a8"
             ],
             [
              0.3333333333333333,
              "#9c179e"
             ],
             [
              0.4444444444444444,
              "#bd3786"
             ],
             [
              0.5555555555555556,
              "#d8576b"
             ],
             [
              0.6666666666666666,
              "#ed7953"
             ],
             [
              0.7777777777777778,
              "#fb9f3a"
             ],
             [
              0.8888888888888888,
              "#fdca26"
             ],
             [
              1,
              "#f0f921"
             ]
            ],
            "type": "contour"
           }
          ],
          "contourcarpet": [
           {
            "colorbar": {
             "outlinewidth": 0,
             "ticks": ""
            },
            "type": "contourcarpet"
           }
          ],
          "heatmap": [
           {
            "colorbar": {
             "outlinewidth": 0,
             "ticks": ""
            },
            "colorscale": [
             [
              0,
              "#0d0887"
             ],
             [
              0.1111111111111111,
              "#46039f"
             ],
             [
              0.2222222222222222,
              "#7201a8"
             ],
             [
              0.3333333333333333,
              "#9c179e"
             ],
             [
              0.4444444444444444,
              "#bd3786"
             ],
             [
              0.5555555555555556,
              "#d8576b"
             ],
             [
              0.6666666666666666,
              "#ed7953"
             ],
             [
              0.7777777777777778,
              "#fb9f3a"
             ],
             [
              0.8888888888888888,
              "#fdca26"
             ],
             [
              1,
              "#f0f921"
             ]
            ],
            "type": "heatmap"
           }
          ],
          "heatmapgl": [
           {
            "colorbar": {
             "outlinewidth": 0,
             "ticks": ""
            },
            "colorscale": [
             [
              0,
              "#0d0887"
             ],
             [
              0.1111111111111111,
              "#46039f"
             ],
             [
              0.2222222222222222,
              "#7201a8"
             ],
             [
              0.3333333333333333,
              "#9c179e"
             ],
             [
              0.4444444444444444,
              "#bd3786"
             ],
             [
              0.5555555555555556,
              "#d8576b"
             ],
             [
              0.6666666666666666,
              "#ed7953"
             ],
             [
              0.7777777777777778,
              "#fb9f3a"
             ],
             [
              0.8888888888888888,
              "#fdca26"
             ],
             [
              1,
              "#f0f921"
             ]
            ],
            "type": "heatmapgl"
           }
          ],
          "histogram": [
           {
            "marker": {
             "pattern": {
              "fillmode": "overlay",
              "size": 10,
              "solidity": 0.2
             }
            },
            "type": "histogram"
           }
          ],
          "histogram2d": [
           {
            "colorbar": {
             "outlinewidth": 0,
             "ticks": ""
            },
            "colorscale": [
             [
              0,
              "#0d0887"
             ],
             [
              0.1111111111111111,
              "#46039f"
             ],
             [
              0.2222222222222222,
              "#7201a8"
             ],
             [
              0.3333333333333333,
              "#9c179e"
             ],
             [
              0.4444444444444444,
              "#bd3786"
             ],
             [
              0.5555555555555556,
              "#d8576b"
             ],
             [
              0.6666666666666666,
              "#ed7953"
             ],
             [
              0.7777777777777778,
              "#fb9f3a"
             ],
             [
              0.8888888888888888,
              "#fdca26"
             ],
             [
              1,
              "#f0f921"
             ]
            ],
            "type": "histogram2d"
           }
          ],
          "histogram2dcontour": [
           {
            "colorbar": {
             "outlinewidth": 0,
             "ticks": ""
            },
            "colorscale": [
             [
              0,
              "#0d0887"
             ],
             [
              0.1111111111111111,
              "#46039f"
             ],
             [
              0.2222222222222222,
              "#7201a8"
             ],
             [
              0.3333333333333333,
              "#9c179e"
             ],
             [
              0.4444444444444444,
              "#bd3786"
             ],
             [
              0.5555555555555556,
              "#d8576b"
             ],
             [
              0.6666666666666666,
              "#ed7953"
             ],
             [
              0.7777777777777778,
              "#fb9f3a"
             ],
             [
              0.8888888888888888,
              "#fdca26"
             ],
             [
              1,
              "#f0f921"
             ]
            ],
            "type": "histogram2dcontour"
           }
          ],
          "mesh3d": [
           {
            "colorbar": {
             "outlinewidth": 0,
             "ticks": ""
            },
            "type": "mesh3d"
           }
          ],
          "parcoords": [
           {
            "line": {
             "colorbar": {
              "outlinewidth": 0,
              "ticks": ""
             }
            },
            "type": "parcoords"
           }
          ],
          "pie": [
           {
            "automargin": true,
            "type": "pie"
           }
          ],
          "scatter": [
           {
            "marker": {
             "colorbar": {
              "outlinewidth": 0,
              "ticks": ""
             }
            },
            "type": "scatter"
           }
          ],
          "scatter3d": [
           {
            "line": {
             "colorbar": {
              "outlinewidth": 0,
              "ticks": ""
             }
            },
            "marker": {
             "colorbar": {
              "outlinewidth": 0,
              "ticks": ""
             }
            },
            "type": "scatter3d"
           }
          ],
          "scattercarpet": [
           {
            "marker": {
             "colorbar": {
              "outlinewidth": 0,
              "ticks": ""
             }
            },
            "type": "scattercarpet"
           }
          ],
          "scattergeo": [
           {
            "marker": {
             "colorbar": {
              "outlinewidth": 0,
              "ticks": ""
             }
            },
            "type": "scattergeo"
           }
          ],
          "scattergl": [
           {
            "marker": {
             "colorbar": {
              "outlinewidth": 0,
              "ticks": ""
             }
            },
            "type": "scattergl"
           }
          ],
          "scattermapbox": [
           {
            "marker": {
             "colorbar": {
              "outlinewidth": 0,
              "ticks": ""
             }
            },
            "type": "scattermapbox"
           }
          ],
          "scatterpolar": [
           {
            "marker": {
             "colorbar": {
              "outlinewidth": 0,
              "ticks": ""
             }
            },
            "type": "scatterpolar"
           }
          ],
          "scatterpolargl": [
           {
            "marker": {
             "colorbar": {
              "outlinewidth": 0,
              "ticks": ""
             }
            },
            "type": "scatterpolargl"
           }
          ],
          "scatterternary": [
           {
            "marker": {
             "colorbar": {
              "outlinewidth": 0,
              "ticks": ""
             }
            },
            "type": "scatterternary"
           }
          ],
          "surface": [
           {
            "colorbar": {
             "outlinewidth": 0,
             "ticks": ""
            },
            "colorscale": [
             [
              0,
              "#0d0887"
             ],
             [
              0.1111111111111111,
              "#46039f"
             ],
             [
              0.2222222222222222,
              "#7201a8"
             ],
             [
              0.3333333333333333,
              "#9c179e"
             ],
             [
              0.4444444444444444,
              "#bd3786"
             ],
             [
              0.5555555555555556,
              "#d8576b"
             ],
             [
              0.6666666666666666,
              "#ed7953"
             ],
             [
              0.7777777777777778,
              "#fb9f3a"
             ],
             [
              0.8888888888888888,
              "#fdca26"
             ],
             [
              1,
              "#f0f921"
             ]
            ],
            "type": "surface"
           }
          ],
          "table": [
           {
            "cells": {
             "fill": {
              "color": "#EBF0F8"
             },
             "line": {
              "color": "white"
             }
            },
            "header": {
             "fill": {
              "color": "#C8D4E3"
             },
             "line": {
              "color": "white"
             }
            },
            "type": "table"
           }
          ]
         },
         "layout": {
          "annotationdefaults": {
           "arrowcolor": "#2a3f5f",
           "arrowhead": 0,
           "arrowwidth": 1
          },
          "autotypenumbers": "strict",
          "coloraxis": {
           "colorbar": {
            "outlinewidth": 0,
            "ticks": ""
           }
          },
          "colorscale": {
           "diverging": [
            [
             0,
             "#8e0152"
            ],
            [
             0.1,
             "#c51b7d"
            ],
            [
             0.2,
             "#de77ae"
            ],
            [
             0.3,
             "#f1b6da"
            ],
            [
             0.4,
             "#fde0ef"
            ],
            [
             0.5,
             "#f7f7f7"
            ],
            [
             0.6,
             "#e6f5d0"
            ],
            [
             0.7,
             "#b8e186"
            ],
            [
             0.8,
             "#7fbc41"
            ],
            [
             0.9,
             "#4d9221"
            ],
            [
             1,
             "#276419"
            ]
           ],
           "sequential": [
            [
             0,
             "#0d0887"
            ],
            [
             0.1111111111111111,
             "#46039f"
            ],
            [
             0.2222222222222222,
             "#7201a8"
            ],
            [
             0.3333333333333333,
             "#9c179e"
            ],
            [
             0.4444444444444444,
             "#bd3786"
            ],
            [
             0.5555555555555556,
             "#d8576b"
            ],
            [
             0.6666666666666666,
             "#ed7953"
            ],
            [
             0.7777777777777778,
             "#fb9f3a"
            ],
            [
             0.8888888888888888,
             "#fdca26"
            ],
            [
             1,
             "#f0f921"
            ]
           ],
           "sequentialminus": [
            [
             0,
             "#0d0887"
            ],
            [
             0.1111111111111111,
             "#46039f"
            ],
            [
             0.2222222222222222,
             "#7201a8"
            ],
            [
             0.3333333333333333,
             "#9c179e"
            ],
            [
             0.4444444444444444,
             "#bd3786"
            ],
            [
             0.5555555555555556,
             "#d8576b"
            ],
            [
             0.6666666666666666,
             "#ed7953"
            ],
            [
             0.7777777777777778,
             "#fb9f3a"
            ],
            [
             0.8888888888888888,
             "#fdca26"
            ],
            [
             1,
             "#f0f921"
            ]
           ]
          },
          "colorway": [
           "#636efa",
           "#EF553B",
           "#00cc96",
           "#ab63fa",
           "#FFA15A",
           "#19d3f3",
           "#FF6692",
           "#B6E880",
           "#FF97FF",
           "#FECB52"
          ],
          "font": {
           "color": "#2a3f5f"
          },
          "geo": {
           "bgcolor": "white",
           "lakecolor": "white",
           "landcolor": "#E5ECF6",
           "showlakes": true,
           "showland": true,
           "subunitcolor": "white"
          },
          "hoverlabel": {
           "align": "left"
          },
          "hovermode": "closest",
          "mapbox": {
           "style": "light"
          },
          "paper_bgcolor": "white",
          "plot_bgcolor": "#E5ECF6",
          "polar": {
           "angularaxis": {
            "gridcolor": "white",
            "linecolor": "white",
            "ticks": ""
           },
           "bgcolor": "#E5ECF6",
           "radialaxis": {
            "gridcolor": "white",
            "linecolor": "white",
            "ticks": ""
           }
          },
          "scene": {
           "xaxis": {
            "backgroundcolor": "#E5ECF6",
            "gridcolor": "white",
            "gridwidth": 2,
            "linecolor": "white",
            "showbackground": true,
            "ticks": "",
            "zerolinecolor": "white"
           },
           "yaxis": {
            "backgroundcolor": "#E5ECF6",
            "gridcolor": "white",
            "gridwidth": 2,
            "linecolor": "white",
            "showbackground": true,
            "ticks": "",
            "zerolinecolor": "white"
           },
           "zaxis": {
            "backgroundcolor": "#E5ECF6",
            "gridcolor": "white",
            "gridwidth": 2,
            "linecolor": "white",
            "showbackground": true,
            "ticks": "",
            "zerolinecolor": "white"
           }
          },
          "shapedefaults": {
           "line": {
            "color": "#2a3f5f"
           }
          },
          "ternary": {
           "aaxis": {
            "gridcolor": "white",
            "linecolor": "white",
            "ticks": ""
           },
           "baxis": {
            "gridcolor": "white",
            "linecolor": "white",
            "ticks": ""
           },
           "bgcolor": "#E5ECF6",
           "caxis": {
            "gridcolor": "white",
            "linecolor": "white",
            "ticks": ""
           }
          },
          "title": {
           "x": 0.05
          },
          "xaxis": {
           "automargin": true,
           "gridcolor": "white",
           "linecolor": "white",
           "ticks": "",
           "title": {
            "standoff": 15
           },
           "zerolinecolor": "white",
           "zerolinewidth": 2
          },
          "yaxis": {
           "automargin": true,
           "gridcolor": "white",
           "linecolor": "white",
           "ticks": "",
           "title": {
            "standoff": 15
           },
           "zerolinecolor": "white",
           "zerolinewidth": 2
          }
         }
        },
        "xaxis": {
         "anchor": "y",
         "domain": [
          0,
          1
         ],
         "title": {
          "text": "iteration"
         }
        },
        "yaxis": {
         "anchor": "x",
         "domain": [
          0,
          1
         ],
         "title": {
          "text": " accuracy"
         }
        }
       }
      }
     },
     "metadata": {},
     "output_type": "display_data"
    }
   ],
   "source": [
    "import plotly.express as px\n",
    "import matplotlib.pyplot as plt\n",
    "\n",
    "# rmse = [[row[\"accuracy\"], i+1] for i, row in data_df.iterrows()]\n",
    "# df = pd.Dataframe(data_df)\n",
    "px.scatter(data_df, x=\"iteration\", y=\" accuracy\")"
   ]
  },
  {
   "cell_type": "code",
   "execution_count": 36,
   "metadata": {},
   "outputs": [
    {
     "data": {
      "application/vnd.plotly.v1+json": {
       "config": {
        "plotlyServerURL": "https://plot.ly"
       },
       "data": [
        {
         "hovertemplate": "time=%{x}<br>epsilon=%{y}<extra></extra>",
         "legendgroup": "",
         "marker": {
          "color": "#636efa",
          "symbol": "circle"
         },
         "mode": "markers",
         "name": "",
         "orientation": "v",
         "showlegend": false,
         "type": "scatter",
         "x": [
          4.261873960494995,
          8.794105052947998,
          13.60453987121582,
          20.22298383712769,
          27.719471216201782,
          37.27039313316345,
          45.9837760925293,
          57.54337000846863,
          65.88405299186707,
          75.17560005187988,
          85.48904299736023,
          95.1424469947815,
          105.46215295791626,
          114.28600001335144,
          121.35659289360046,
          127.72612404823305,
          133.82070922851562,
          142.33054208755493,
          150.6909351348877,
          159.68059015274048,
          167.3300678730011,
          174.57956504821777,
          180.8337380886078,
          187.94895100593567,
          198.94930005073547,
          208.4299788475037,
          215.9866590499878,
          223.18233394622803,
          229.1725471019745,
          236.66719698905945,
          244.8504340648651,
          253.45901799201965,
          268.7528519630432,
          276.71878695487976,
          283.27719712257385,
          290.2456519603729,
          300.1669361591339,
          307.1020119190216,
          313.4275839328766,
          323.0624508857727,
          329.15954399108887,
          337.85955715179443,
          344.6967160701752,
          350.25718998909,
          355.8574800491333
         ],
         "xaxis": "x",
         "y": [
          1,
          1,
          0.8576958985908941,
          0.7356422544596414,
          0.6309573444801932,
          0.5411695265464637,
          0.4641588833612779,
          0.3981071705534972,
          0.3414548873833601,
          0.2928644564625237,
          0.251188643150958,
          0.2154434690031884,
          0.1847849797422291,
          0.1584893192461113,
          0.1359356390878525,
          0.1165914401179831,
          0.1,
          0.0857695898590894,
          0.0735642254459641,
          0.0630957344480193,
          0.0541169526546463,
          0.0464158883361277,
          0.0398107170553497,
          0.034145488738336,
          0.0292864456462523,
          0.0251188643150958,
          0.0215443469003188,
          0.0184784979742229,
          0.0158489319246111,
          0.0135935639087852,
          0.0116591440117983,
          0.01,
          0.0085769589859089,
          0.0073564225445964,
          0.0063095734448019,
          0.0054116952654646,
          0.0046415888336127,
          0.0039810717055349,
          0.0034145488738336,
          0.0029286445646252,
          0.0025118864315095,
          0.0021544346900318,
          0.0018478497974222,
          0.0015848931924611,
          0.0013593563908785
         ],
         "yaxis": "y"
        }
       ],
       "layout": {
        "legend": {
         "tracegroupgap": 0
        },
        "margin": {
         "t": 60
        },
        "template": {
         "data": {
          "bar": [
           {
            "error_x": {
             "color": "#2a3f5f"
            },
            "error_y": {
             "color": "#2a3f5f"
            },
            "marker": {
             "line": {
              "color": "#E5ECF6",
              "width": 0.5
             },
             "pattern": {
              "fillmode": "overlay",
              "size": 10,
              "solidity": 0.2
             }
            },
            "type": "bar"
           }
          ],
          "barpolar": [
           {
            "marker": {
             "line": {
              "color": "#E5ECF6",
              "width": 0.5
             },
             "pattern": {
              "fillmode": "overlay",
              "size": 10,
              "solidity": 0.2
             }
            },
            "type": "barpolar"
           }
          ],
          "carpet": [
           {
            "aaxis": {
             "endlinecolor": "#2a3f5f",
             "gridcolor": "white",
             "linecolor": "white",
             "minorgridcolor": "white",
             "startlinecolor": "#2a3f5f"
            },
            "baxis": {
             "endlinecolor": "#2a3f5f",
             "gridcolor": "white",
             "linecolor": "white",
             "minorgridcolor": "white",
             "startlinecolor": "#2a3f5f"
            },
            "type": "carpet"
           }
          ],
          "choropleth": [
           {
            "colorbar": {
             "outlinewidth": 0,
             "ticks": ""
            },
            "type": "choropleth"
           }
          ],
          "contour": [
           {
            "colorbar": {
             "outlinewidth": 0,
             "ticks": ""
            },
            "colorscale": [
             [
              0,
              "#0d0887"
             ],
             [
              0.1111111111111111,
              "#46039f"
             ],
             [
              0.2222222222222222,
              "#7201a8"
             ],
             [
              0.3333333333333333,
              "#9c179e"
             ],
             [
              0.4444444444444444,
              "#bd3786"
             ],
             [
              0.5555555555555556,
              "#d8576b"
             ],
             [
              0.6666666666666666,
              "#ed7953"
             ],
             [
              0.7777777777777778,
              "#fb9f3a"
             ],
             [
              0.8888888888888888,
              "#fdca26"
             ],
             [
              1,
              "#f0f921"
             ]
            ],
            "type": "contour"
           }
          ],
          "contourcarpet": [
           {
            "colorbar": {
             "outlinewidth": 0,
             "ticks": ""
            },
            "type": "contourcarpet"
           }
          ],
          "heatmap": [
           {
            "colorbar": {
             "outlinewidth": 0,
             "ticks": ""
            },
            "colorscale": [
             [
              0,
              "#0d0887"
             ],
             [
              0.1111111111111111,
              "#46039f"
             ],
             [
              0.2222222222222222,
              "#7201a8"
             ],
             [
              0.3333333333333333,
              "#9c179e"
             ],
             [
              0.4444444444444444,
              "#bd3786"
             ],
             [
              0.5555555555555556,
              "#d8576b"
             ],
             [
              0.6666666666666666,
              "#ed7953"
             ],
             [
              0.7777777777777778,
              "#fb9f3a"
             ],
             [
              0.8888888888888888,
              "#fdca26"
             ],
             [
              1,
              "#f0f921"
             ]
            ],
            "type": "heatmap"
           }
          ],
          "heatmapgl": [
           {
            "colorbar": {
             "outlinewidth": 0,
             "ticks": ""
            },
            "colorscale": [
             [
              0,
              "#0d0887"
             ],
             [
              0.1111111111111111,
              "#46039f"
             ],
             [
              0.2222222222222222,
              "#7201a8"
             ],
             [
              0.3333333333333333,
              "#9c179e"
             ],
             [
              0.4444444444444444,
              "#bd3786"
             ],
             [
              0.5555555555555556,
              "#d8576b"
             ],
             [
              0.6666666666666666,
              "#ed7953"
             ],
             [
              0.7777777777777778,
              "#fb9f3a"
             ],
             [
              0.8888888888888888,
              "#fdca26"
             ],
             [
              1,
              "#f0f921"
             ]
            ],
            "type": "heatmapgl"
           }
          ],
          "histogram": [
           {
            "marker": {
             "pattern": {
              "fillmode": "overlay",
              "size": 10,
              "solidity": 0.2
             }
            },
            "type": "histogram"
           }
          ],
          "histogram2d": [
           {
            "colorbar": {
             "outlinewidth": 0,
             "ticks": ""
            },
            "colorscale": [
             [
              0,
              "#0d0887"
             ],
             [
              0.1111111111111111,
              "#46039f"
             ],
             [
              0.2222222222222222,
              "#7201a8"
             ],
             [
              0.3333333333333333,
              "#9c179e"
             ],
             [
              0.4444444444444444,
              "#bd3786"
             ],
             [
              0.5555555555555556,
              "#d8576b"
             ],
             [
              0.6666666666666666,
              "#ed7953"
             ],
             [
              0.7777777777777778,
              "#fb9f3a"
             ],
             [
              0.8888888888888888,
              "#fdca26"
             ],
             [
              1,
              "#f0f921"
             ]
            ],
            "type": "histogram2d"
           }
          ],
          "histogram2dcontour": [
           {
            "colorbar": {
             "outlinewidth": 0,
             "ticks": ""
            },
            "colorscale": [
             [
              0,
              "#0d0887"
             ],
             [
              0.1111111111111111,
              "#46039f"
             ],
             [
              0.2222222222222222,
              "#7201a8"
             ],
             [
              0.3333333333333333,
              "#9c179e"
             ],
             [
              0.4444444444444444,
              "#bd3786"
             ],
             [
              0.5555555555555556,
              "#d8576b"
             ],
             [
              0.6666666666666666,
              "#ed7953"
             ],
             [
              0.7777777777777778,
              "#fb9f3a"
             ],
             [
              0.8888888888888888,
              "#fdca26"
             ],
             [
              1,
              "#f0f921"
             ]
            ],
            "type": "histogram2dcontour"
           }
          ],
          "mesh3d": [
           {
            "colorbar": {
             "outlinewidth": 0,
             "ticks": ""
            },
            "type": "mesh3d"
           }
          ],
          "parcoords": [
           {
            "line": {
             "colorbar": {
              "outlinewidth": 0,
              "ticks": ""
             }
            },
            "type": "parcoords"
           }
          ],
          "pie": [
           {
            "automargin": true,
            "type": "pie"
           }
          ],
          "scatter": [
           {
            "marker": {
             "colorbar": {
              "outlinewidth": 0,
              "ticks": ""
             }
            },
            "type": "scatter"
           }
          ],
          "scatter3d": [
           {
            "line": {
             "colorbar": {
              "outlinewidth": 0,
              "ticks": ""
             }
            },
            "marker": {
             "colorbar": {
              "outlinewidth": 0,
              "ticks": ""
             }
            },
            "type": "scatter3d"
           }
          ],
          "scattercarpet": [
           {
            "marker": {
             "colorbar": {
              "outlinewidth": 0,
              "ticks": ""
             }
            },
            "type": "scattercarpet"
           }
          ],
          "scattergeo": [
           {
            "marker": {
             "colorbar": {
              "outlinewidth": 0,
              "ticks": ""
             }
            },
            "type": "scattergeo"
           }
          ],
          "scattergl": [
           {
            "marker": {
             "colorbar": {
              "outlinewidth": 0,
              "ticks": ""
             }
            },
            "type": "scattergl"
           }
          ],
          "scattermapbox": [
           {
            "marker": {
             "colorbar": {
              "outlinewidth": 0,
              "ticks": ""
             }
            },
            "type": "scattermapbox"
           }
          ],
          "scatterpolar": [
           {
            "marker": {
             "colorbar": {
              "outlinewidth": 0,
              "ticks": ""
             }
            },
            "type": "scatterpolar"
           }
          ],
          "scatterpolargl": [
           {
            "marker": {
             "colorbar": {
              "outlinewidth": 0,
              "ticks": ""
             }
            },
            "type": "scatterpolargl"
           }
          ],
          "scatterternary": [
           {
            "marker": {
             "colorbar": {
              "outlinewidth": 0,
              "ticks": ""
             }
            },
            "type": "scatterternary"
           }
          ],
          "surface": [
           {
            "colorbar": {
             "outlinewidth": 0,
             "ticks": ""
            },
            "colorscale": [
             [
              0,
              "#0d0887"
             ],
             [
              0.1111111111111111,
              "#46039f"
             ],
             [
              0.2222222222222222,
              "#7201a8"
             ],
             [
              0.3333333333333333,
              "#9c179e"
             ],
             [
              0.4444444444444444,
              "#bd3786"
             ],
             [
              0.5555555555555556,
              "#d8576b"
             ],
             [
              0.6666666666666666,
              "#ed7953"
             ],
             [
              0.7777777777777778,
              "#fb9f3a"
             ],
             [
              0.8888888888888888,
              "#fdca26"
             ],
             [
              1,
              "#f0f921"
             ]
            ],
            "type": "surface"
           }
          ],
          "table": [
           {
            "cells": {
             "fill": {
              "color": "#EBF0F8"
             },
             "line": {
              "color": "white"
             }
            },
            "header": {
             "fill": {
              "color": "#C8D4E3"
             },
             "line": {
              "color": "white"
             }
            },
            "type": "table"
           }
          ]
         },
         "layout": {
          "annotationdefaults": {
           "arrowcolor": "#2a3f5f",
           "arrowhead": 0,
           "arrowwidth": 1
          },
          "autotypenumbers": "strict",
          "coloraxis": {
           "colorbar": {
            "outlinewidth": 0,
            "ticks": ""
           }
          },
          "colorscale": {
           "diverging": [
            [
             0,
             "#8e0152"
            ],
            [
             0.1,
             "#c51b7d"
            ],
            [
             0.2,
             "#de77ae"
            ],
            [
             0.3,
             "#f1b6da"
            ],
            [
             0.4,
             "#fde0ef"
            ],
            [
             0.5,
             "#f7f7f7"
            ],
            [
             0.6,
             "#e6f5d0"
            ],
            [
             0.7,
             "#b8e186"
            ],
            [
             0.8,
             "#7fbc41"
            ],
            [
             0.9,
             "#4d9221"
            ],
            [
             1,
             "#276419"
            ]
           ],
           "sequential": [
            [
             0,
             "#0d0887"
            ],
            [
             0.1111111111111111,
             "#46039f"
            ],
            [
             0.2222222222222222,
             "#7201a8"
            ],
            [
             0.3333333333333333,
             "#9c179e"
            ],
            [
             0.4444444444444444,
             "#bd3786"
            ],
            [
             0.5555555555555556,
             "#d8576b"
            ],
            [
             0.6666666666666666,
             "#ed7953"
            ],
            [
             0.7777777777777778,
             "#fb9f3a"
            ],
            [
             0.8888888888888888,
             "#fdca26"
            ],
            [
             1,
             "#f0f921"
            ]
           ],
           "sequentialminus": [
            [
             0,
             "#0d0887"
            ],
            [
             0.1111111111111111,
             "#46039f"
            ],
            [
             0.2222222222222222,
             "#7201a8"
            ],
            [
             0.3333333333333333,
             "#9c179e"
            ],
            [
             0.4444444444444444,
             "#bd3786"
            ],
            [
             0.5555555555555556,
             "#d8576b"
            ],
            [
             0.6666666666666666,
             "#ed7953"
            ],
            [
             0.7777777777777778,
             "#fb9f3a"
            ],
            [
             0.8888888888888888,
             "#fdca26"
            ],
            [
             1,
             "#f0f921"
            ]
           ]
          },
          "colorway": [
           "#636efa",
           "#EF553B",
           "#00cc96",
           "#ab63fa",
           "#FFA15A",
           "#19d3f3",
           "#FF6692",
           "#B6E880",
           "#FF97FF",
           "#FECB52"
          ],
          "font": {
           "color": "#2a3f5f"
          },
          "geo": {
           "bgcolor": "white",
           "lakecolor": "white",
           "landcolor": "#E5ECF6",
           "showlakes": true,
           "showland": true,
           "subunitcolor": "white"
          },
          "hoverlabel": {
           "align": "left"
          },
          "hovermode": "closest",
          "mapbox": {
           "style": "light"
          },
          "paper_bgcolor": "white",
          "plot_bgcolor": "#E5ECF6",
          "polar": {
           "angularaxis": {
            "gridcolor": "white",
            "linecolor": "white",
            "ticks": ""
           },
           "bgcolor": "#E5ECF6",
           "radialaxis": {
            "gridcolor": "white",
            "linecolor": "white",
            "ticks": ""
           }
          },
          "scene": {
           "xaxis": {
            "backgroundcolor": "#E5ECF6",
            "gridcolor": "white",
            "gridwidth": 2,
            "linecolor": "white",
            "showbackground": true,
            "ticks": "",
            "zerolinecolor": "white"
           },
           "yaxis": {
            "backgroundcolor": "#E5ECF6",
            "gridcolor": "white",
            "gridwidth": 2,
            "linecolor": "white",
            "showbackground": true,
            "ticks": "",
            "zerolinecolor": "white"
           },
           "zaxis": {
            "backgroundcolor": "#E5ECF6",
            "gridcolor": "white",
            "gridwidth": 2,
            "linecolor": "white",
            "showbackground": true,
            "ticks": "",
            "zerolinecolor": "white"
           }
          },
          "shapedefaults": {
           "line": {
            "color": "#2a3f5f"
           }
          },
          "ternary": {
           "aaxis": {
            "gridcolor": "white",
            "linecolor": "white",
            "ticks": ""
           },
           "baxis": {
            "gridcolor": "white",
            "linecolor": "white",
            "ticks": ""
           },
           "bgcolor": "#E5ECF6",
           "caxis": {
            "gridcolor": "white",
            "linecolor": "white",
            "ticks": ""
           }
          },
          "title": {
           "x": 0.05
          },
          "xaxis": {
           "automargin": true,
           "gridcolor": "white",
           "linecolor": "white",
           "ticks": "",
           "title": {
            "standoff": 15
           },
           "zerolinecolor": "white",
           "zerolinewidth": 2
          },
          "yaxis": {
           "automargin": true,
           "gridcolor": "white",
           "linecolor": "white",
           "ticks": "",
           "title": {
            "standoff": 15
           },
           "zerolinecolor": "white",
           "zerolinewidth": 2
          }
         }
        },
        "xaxis": {
         "anchor": "y",
         "domain": [
          0,
          1
         ],
         "title": {
          "text": "time"
         }
        },
        "yaxis": {
         "anchor": "x",
         "domain": [
          0,
          1
         ],
         "title": {
          "text": "epsilon"
         }
        }
       }
      }
     },
     "metadata": {},
     "output_type": "display_data"
    }
   ],
   "source": [
    "px.scatter(df2, x=\"time\", y=\"epsilon\")"
   ]
  },
  {
   "cell_type": "code",
   "execution_count": null,
   "metadata": {},
   "outputs": [],
   "source": []
  }
 ],
 "metadata": {
  "kernelspec": {
   "display_name": "base",
   "language": "python",
   "name": "python3"
  },
  "language_info": {
   "codemirror_mode": {
    "name": "ipython",
    "version": 3
   },
   "file_extension": ".py",
   "mimetype": "text/x-python",
   "name": "python",
   "nbconvert_exporter": "python",
   "pygments_lexer": "ipython3",
   "version": "3.9.12"
  }
 },
 "nbformat": 4,
 "nbformat_minor": 2
}
